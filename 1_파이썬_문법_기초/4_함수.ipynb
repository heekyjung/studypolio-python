{
 "cells": [
  {
   "cell_type": "markdown",
   "metadata": {},
   "source": [
    "# 함수\n",
    "1. [함수란?](#1)\n",
    "2. [파이썬 함수의 구조](#2)\n",
    "3. [매개변수, 전달인자](#3)\n",
    "4. [함수의 필요성](#4)\n",
    "5. [사용자 정의 함수](#5)\n",
    "6. [내장 함수(built-in functions)](#6)\n",
    "\n",
    "## 1. 함수란?<a name='#1'></a>\n",
    "특정 동작을 손쉽게 재사용할 수 있도록 구성한 코드 형태"
   ]
  },
  {
   "cell_type": "code",
   "execution_count": 1,
   "metadata": {},
   "outputs": [],
   "source": [
    "def detect_10_or_11(number):\n",
    "    if number == 10:\n",
    "        print('number는 10이다.')\n",
    "    elif number == 11:\n",
    "        print('number는 10은 아니지만 11이다.')\n",
    "    else:\n",
    "        print('number는 10도 11도 아니다.')"
   ]
  },
  {
   "cell_type": "markdown",
   "metadata": {},
   "source": [
    "함수의 호출은 `함수명(매개변수 혹은 전달인자)` 형식으로 한다."
   ]
  },
  {
   "cell_type": "code",
   "execution_count": 2,
   "metadata": {},
   "outputs": [
    {
     "name": "stdout",
     "output_type": "stream",
     "text": [
      "number는 10이다.\n"
     ]
    }
   ],
   "source": [
    "detect_10_or_11(10)"
   ]
  },
  {
   "cell_type": "code",
   "execution_count": 3,
   "metadata": {},
   "outputs": [
    {
     "name": "stdout",
     "output_type": "stream",
     "text": [
      "number는 10은 아니지만 11이다.\n"
     ]
    }
   ],
   "source": [
    "detect_10_or_11(11)"
   ]
  },
  {
   "cell_type": "code",
   "execution_count": 4,
   "metadata": {},
   "outputs": [
    {
     "name": "stdout",
     "output_type": "stream",
     "text": [
      "number는 10도 11도 아니다.\n"
     ]
    }
   ],
   "source": [
    "detect_10_or_11(12)"
   ]
  },
  {
   "cell_type": "markdown",
   "metadata": {},
   "source": [
    "---\n",
    "## 2. 파이썬 함수의 구조<a name = '2'></a>\n",
    "```python\n",
    "def 함수명(매개변수 혹은 전달인자):\n",
    "    실행할 명령어1\n",
    "    실행할 명령어2\n",
    "    ...\n",
    "    return 명령값\n",
    "```\n",
    "- `def`: 파이썬에서 함수임을 나타내는 예약어\n",
    "- `return 리턴값` 부분은 있어도 되고 없어도 됨\n",
    "\n",
    "---\n",
    "## 3. 매개변수(Parameter), 전달인자(Argument)<a name = '3'></a>\n",
    "- <b>매개변수</b>: 입력값을 표현하는 변수로써 함수내에서 해당 변수명으로 사용됨\n",
    "- <b>전달인자</b>: 함수에게 전달해주는 인자"
   ]
  },
  {
   "cell_type": "code",
   "execution_count": 5,
   "metadata": {},
   "outputs": [],
   "source": [
    "def hello(name): # name이 매개변수\n",
    "    print('Hello, %s' % name) # name이 매개변수"
   ]
  },
  {
   "cell_type": "code",
   "execution_count": 6,
   "metadata": {},
   "outputs": [
    {
     "name": "stdout",
     "output_type": "stream",
     "text": [
      "Hello, Ethan\n"
     ]
    }
   ],
   "source": [
    "hello('Ethan') # 'Ethan'이 전달인자"
   ]
  },
  {
   "cell_type": "markdown",
   "metadata": {},
   "source": [
    "---\n",
    "## 4. 함수의 필요성<a name='4'></a>\n",
    "- 같은 기능을 하는 코드는 재사용하는게 훨씬 효율적\n",
    "- 함수 형태로 여러 기능을 나누어 놓아 해당 함수들을 조합하여 복잡한 기능을 체계적으로 구현할 수 있음\n",
    "- 여러 기능을 나누어 두었으므로 특정 기능에 문제가 생겼을 시 해당 함수만 수정하면 됨 (= 유지보수가 수월함)\n",
    "\n",
    "---\n",
    "## 5. 사용자 정의 함수<a name='5'></a>\n",
    "말 그대로 프로그램을 작성하는 사람이 마음대로 작성하여 정의한 함수<br>\n",
    "(ex. 위에서 정의한 detect_10_or_11()가 사용자 정의 함수)\n",
    "\n",
    "---\n",
    "## 6. 내장 함수(built-in functions)<a name='6'></a>\n",
    "- Don’t reinvent the wheel.\n",
    "- 이미 있는 것을 다시 만드는데 시간을 낭비하지 말라!\n",
    "- 우리는 이미 자연스럽게 파이썬 내장 함수를 사용하고 있음\n",
    "![내장 함수](https://i.stack.imgur.com/LxITc.png)"
   ]
  }
 ],
 "metadata": {
  "kernelspec": {
   "display_name": "Python 3",
   "language": "python",
   "name": "python3"
  },
  "language_info": {
   "codemirror_mode": {
    "name": "ipython",
    "version": 3
   },
   "file_extension": ".py",
   "mimetype": "text/x-python",
   "name": "python",
   "nbconvert_exporter": "python",
   "pygments_lexer": "ipython3",
   "version": "3.8.3"
  }
 },
 "nbformat": 4,
 "nbformat_minor": 4
}
