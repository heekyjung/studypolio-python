{
 "cells": [
  {
   "cell_type": "markdown",
   "metadata": {},
   "source": [
    "# 파이썬 프로그래밍의 기본 구조\n",
    "1. [연산자](#1)\n",
    " 1. [관계 연산자](#1-1)\n",
    " 2. [논리 연산자](#1-2)\n",
    "2. [조건문](#2)\n",
    "3. [반복문](#3)\n",
    " 1. [for문과 range() 함수](#3-1)\n",
    " 2. [while문](#3-2)\n",
    " 3. [반복문 제어](#3-3)\n",
    "4. [플로우차트](#4)\n",
    "\n",
    "---\n",
    "## 1. 연산자<a name='1'></a>\n",
    "### A. 관계 연산자<a name='1-1'></a>\n",
    "<b>`==`</b>: 두 연산자가 같으면 True"
   ]
  },
  {
   "cell_type": "code",
   "execution_count": 1,
   "metadata": {},
   "outputs": [
    {
     "data": {
      "text/plain": [
       "True"
      ]
     },
     "execution_count": 1,
     "metadata": {},
     "output_type": "execute_result"
    }
   ],
   "source": [
    "10 == 10"
   ]
  },
  {
   "cell_type": "markdown",
   "metadata": {},
   "source": [
    "<b>`!=`</b>: 두 연산자가 다르면 True"
   ]
  },
  {
   "cell_type": "code",
   "execution_count": 2,
   "metadata": {},
   "outputs": [
    {
     "data": {
      "text/plain": [
       "True"
      ]
     },
     "execution_count": 2,
     "metadata": {},
     "output_type": "execute_result"
    }
   ],
   "source": [
    "9 != 10"
   ]
  },
  {
   "cell_type": "markdown",
   "metadata": {},
   "source": [
    "<b>`<`</b>: 왼쪽 연산자가 작으면 True"
   ]
  },
  {
   "cell_type": "code",
   "execution_count": 3,
   "metadata": {},
   "outputs": [
    {
     "data": {
      "text/plain": [
       "True"
      ]
     },
     "execution_count": 3,
     "metadata": {},
     "output_type": "execute_result"
    }
   ],
   "source": [
    "9 < 10"
   ]
  },
  {
   "cell_type": "markdown",
   "metadata": {},
   "source": [
    "<b>`>`</b>: 왼쪽 연산자가 크면 True"
   ]
  },
  {
   "cell_type": "code",
   "execution_count": 4,
   "metadata": {},
   "outputs": [
    {
     "data": {
      "text/plain": [
       "True"
      ]
     },
     "execution_count": 4,
     "metadata": {},
     "output_type": "execute_result"
    }
   ],
   "source": [
    "10 > 9"
   ]
  },
  {
   "cell_type": "markdown",
   "metadata": {},
   "source": [
    "<b>`<=`</b>: 왼쪽 연산자가 작거나 같으면 True"
   ]
  },
  {
   "cell_type": "code",
   "execution_count": 5,
   "metadata": {},
   "outputs": [
    {
     "data": {
      "text/plain": [
       "True"
      ]
     },
     "execution_count": 5,
     "metadata": {},
     "output_type": "execute_result"
    }
   ],
   "source": [
    "9 <= 9"
   ]
  },
  {
   "cell_type": "markdown",
   "metadata": {},
   "source": [
    "<b>`>=`</b>: 왼쪽 연산자가 크거나 같으면 True"
   ]
  },
  {
   "cell_type": "code",
   "execution_count": 6,
   "metadata": {},
   "outputs": [
    {
     "data": {
      "text/plain": [
       "True"
      ]
     },
     "execution_count": 6,
     "metadata": {},
     "output_type": "execute_result"
    }
   ],
   "source": [
    "9 >= 9"
   ]
  },
  {
   "cell_type": "markdown",
   "metadata": {},
   "source": [
    "### B. 논리 연산자<a name = '1-2'></a>\n",
    "<b>`and`</b> : 둘 다 참(True)일 때 True"
   ]
  },
  {
   "cell_type": "code",
   "execution_count": 7,
   "metadata": {},
   "outputs": [
    {
     "data": {
      "text/plain": [
       "True"
      ]
     },
     "execution_count": 7,
     "metadata": {},
     "output_type": "execute_result"
    }
   ],
   "source": [
    "True and True"
   ]
  },
  {
   "cell_type": "code",
   "execution_count": 8,
   "metadata": {},
   "outputs": [
    {
     "data": {
      "text/plain": [
       "False"
      ]
     },
     "execution_count": 8,
     "metadata": {},
     "output_type": "execute_result"
    }
   ],
   "source": [
    "True and False"
   ]
  },
  {
   "cell_type": "markdown",
   "metadata": {},
   "source": [
    "<b>`or`</b>: 둘 다 참(True)이거나 둘 중 하나가 참(True)일 때 True"
   ]
  },
  {
   "cell_type": "code",
   "execution_count": 9,
   "metadata": {
    "scrolled": true
   },
   "outputs": [
    {
     "data": {
      "text/plain": [
       "True"
      ]
     },
     "execution_count": 9,
     "metadata": {},
     "output_type": "execute_result"
    }
   ],
   "source": [
    "False or True"
   ]
  },
  {
   "cell_type": "markdown",
   "metadata": {},
   "source": [
    "<b>`not`</b>: True는 False로, False는 True로 변경"
   ]
  },
  {
   "cell_type": "code",
   "execution_count": 10,
   "metadata": {},
   "outputs": [
    {
     "data": {
      "text/plain": [
       "False"
      ]
     },
     "execution_count": 10,
     "metadata": {},
     "output_type": "execute_result"
    }
   ],
   "source": [
    "not True"
   ]
  },
  {
   "cell_type": "code",
   "execution_count": 11,
   "metadata": {},
   "outputs": [
    {
     "data": {
      "text/plain": [
       "True"
      ]
     },
     "execution_count": 11,
     "metadata": {},
     "output_type": "execute_result"
    }
   ],
   "source": [
    "not False"
   ]
  },
  {
   "cell_type": "markdown",
   "metadata": {},
   "source": [
    "---\n",
    "## 2. 조건문<a name ='2'></a>\n",
    "- `if` : if 뒤의 조건이 참(True)이면 if문의 영역을 실행, 아니면 무시\n",
    "- `elif` : elif보다 위의 if나 elif의 조건에 해당하지 않는 다른 조건이 참이면 해당 영역을 실행, 아니면 무시\n",
    "- `else` : else 위의 모든 조건들에 해당하지 않는 상태"
   ]
  },
  {
   "cell_type": "code",
   "execution_count": 12,
   "metadata": {},
   "outputs": [
    {
     "name": "stdout",
     "output_type": "stream",
     "text": [
      "a는 10이다.\n"
     ]
    }
   ],
   "source": [
    "a = 10\n",
    "if a == 10:\n",
    "    print('a는 10이다.')\n",
    "elif a == 11:\n",
    "    print('a는 10은 아니지만 11이다.')\n",
    "else:\n",
    "    print('a는 10도 11도 아니다.')"
   ]
  },
  {
   "cell_type": "code",
   "execution_count": 13,
   "metadata": {},
   "outputs": [
    {
     "name": "stdout",
     "output_type": "stream",
     "text": [
      "a는 10은 아니지만 11이다.\n"
     ]
    }
   ],
   "source": [
    "a = 11\n",
    "if a == 10:\n",
    "    print('a는 10이다.')\n",
    "elif a == 11:\n",
    "    print('a는 10은 아니지만 11이다.')\n",
    "else:\n",
    "    print('a는 10도 11도 아니다.')"
   ]
  },
  {
   "cell_type": "code",
   "execution_count": 14,
   "metadata": {},
   "outputs": [
    {
     "name": "stdout",
     "output_type": "stream",
     "text": [
      "a는 10도 11도 아니다.\n"
     ]
    }
   ],
   "source": [
    "a = 12\n",
    "if a == 10:\n",
    "    print('a는 10이다.')\n",
    "elif a == 11:\n",
    "    print('a는 10은 아니지만 11이다.')\n",
    "else:\n",
    "    print('a는 10도 11도 아니다.')"
   ]
  },
  {
   "cell_type": "markdown",
   "metadata": {},
   "source": [
    "---\n",
    "## 3. 반복문<a name='3'></a>\n",
    "### A. for문<a name='3-1'></a>\n",
    "for 문의 조건에 맞게 반복 실행\n",
    "```python\n",
    "for 변수 in 리스트 혹은 튜플, 문자열:\n",
    "    실행할 코드\n",
    "```"
   ]
  },
  {
   "cell_type": "code",
   "execution_count": 15,
   "metadata": {},
   "outputs": [
    {
     "name": "stdout",
     "output_type": "stream",
     "text": [
      "90점에 대한 합격여부 판단\n",
      "합격\n",
      "------------------------------\n",
      "100점에 대한 합격여부 판단\n",
      "합격\n",
      "------------------------------\n",
      "50점에 대한 합격여부 판단\n",
      "불합격\n",
      "------------------------------\n",
      "25점에 대한 합격여부 판단\n",
      "불합격\n",
      "------------------------------\n",
      "70점에 대한 합격여부 판단\n",
      "합격\n",
      "------------------------------\n",
      "60점에 대한 합격여부 판단\n",
      "불합격\n",
      "------------------------------\n",
      "65점에 대한 합격여부 판단\n",
      "불합격\n",
      "------------------------------\n"
     ]
    }
   ],
   "source": [
    "scores = [90, 100, 50, 25, 70, 60, 65]\n",
    "for score in scores:\n",
    "    print('%d점에 대한 합격여부 판단' % score)\n",
    "    if score >= 70:\n",
    "        print('합격')\n",
    "    else:\n",
    "        print('불합격')\n",
    "    print('-'*30)"
   ]
  },
  {
   "cell_type": "markdown",
   "metadata": {},
   "source": [
    "### A-1. `range()` 함수\n",
    "- for 문과 함께 많이 사용됨\n",
    "- 필요한 범위의 숫자를 만들어내는 함수"
   ]
  },
  {
   "cell_type": "code",
   "execution_count": 16,
   "metadata": {},
   "outputs": [
    {
     "name": "stdout",
     "output_type": "stream",
     "text": [
      "0\n",
      "1\n",
      "2\n",
      "3\n",
      "4\n"
     ]
    }
   ],
   "source": [
    "for i in range(5):\n",
    "    print(i)"
   ]
  },
  {
   "cell_type": "code",
   "execution_count": 17,
   "metadata": {},
   "outputs": [
    {
     "name": "stdout",
     "output_type": "stream",
     "text": [
      "1\n",
      "2\n",
      "3\n",
      "4\n",
      "5\n",
      "6\n",
      "7\n",
      "8\n",
      "9\n"
     ]
    }
   ],
   "source": [
    "for i in range(1, 10):\n",
    "    print(i)"
   ]
  },
  {
   "cell_type": "code",
   "execution_count": 18,
   "metadata": {},
   "outputs": [
    {
     "name": "stdout",
     "output_type": "stream",
     "text": [
      "1\n",
      "3\n",
      "5\n",
      "7\n",
      "9\n"
     ]
    }
   ],
   "source": [
    "for i in range(1, 10, 2):\n",
    "    print(i)"
   ]
  },
  {
   "cell_type": "code",
   "execution_count": 19,
   "metadata": {},
   "outputs": [
    {
     "name": "stdout",
     "output_type": "stream",
     "text": [
      "10\n",
      "8\n",
      "6\n",
      "4\n",
      "2\n"
     ]
    }
   ],
   "source": [
    "for i in range(10, 1, -2):\n",
    "    print(i)"
   ]
  },
  {
   "cell_type": "markdown",
   "metadata": {},
   "source": [
    "### B. while문<a name='3-2'></a>\n",
    "while 문의 조건이 참(True)인 동안 반복 실행\n",
    "```python\n",
    "while 조건문:\n",
    "    실행할 코드\n",
    "```"
   ]
  },
  {
   "cell_type": "code",
   "execution_count": 20,
   "metadata": {},
   "outputs": [
    {
     "name": "stdout",
     "output_type": "stream",
     "text": [
      "Count: 1\n",
      "Count: 2\n",
      "Count: 3\n",
      "Count: 4\n",
      "Count: 5\n",
      "Count: 6\n",
      "Count: 7\n",
      "Count: 8\n",
      "Count: 9\n"
     ]
    }
   ],
   "source": [
    "count = 1\n",
    "while count < 10:\n",
    "    print(\"Count: %d\" % count)\n",
    "    count += 1"
   ]
  },
  {
   "cell_type": "markdown",
   "metadata": {},
   "source": [
    "while 문은 조건이 항상 참이 되는 상황이 되면 무한루프에 빠져버리기 때문에, while루프 안에서 조건을 잘 변경시켜주어야 함\n",
    "- REPL상에서 무한루프에 빠지면 `ctrl + C`를 클릭하여 빠져나올 수 있음\n",
    "\n",
    "### C. 반복문 제어<a name='3-3'></a>\n",
    "<b>`break`</b>: 중간에 반복문 빠져나오기"
   ]
  },
  {
   "cell_type": "code",
   "execution_count": 21,
   "metadata": {},
   "outputs": [
    {
     "name": "stdout",
     "output_type": "stream",
     "text": [
      "1\n",
      "1\n",
      "2\n",
      "2\n",
      "3\n"
     ]
    }
   ],
   "source": [
    "for i in range(1, 5):\n",
    "    print(i)\n",
    "    if i == 3:\n",
    "        break\n",
    "    print(i)"
   ]
  },
  {
   "cell_type": "markdown",
   "metadata": {},
   "source": [
    "<b>`continue`</b>: 해당 순차 건너뛰기"
   ]
  },
  {
   "cell_type": "code",
   "execution_count": 22,
   "metadata": {},
   "outputs": [
    {
     "name": "stdout",
     "output_type": "stream",
     "text": [
      "1\n",
      "1\n",
      "2\n",
      "2\n",
      "3\n",
      "4\n",
      "4\n"
     ]
    }
   ],
   "source": [
    "for i in range(1, 5):\n",
    "    print(i)\n",
    "    if i == 3:\n",
    "        continue\n",
    "    print(i)"
   ]
  },
  {
   "cell_type": "markdown",
   "metadata": {},
   "source": [
    "---\n",
    "## 4. 플로우차트<a name='4'></a>\n",
    "- <b>순서도(flowchart)</b>: 다이어그램의 종류 중 하나로 여러 종류의 상자와 이를 이어주는 화살표를 이용해 명령의 순서를 보여주는 알고리즘 혹은 프로세스\n",
    "![순서도](https://lh3.googleusercontent.com/proxy/Ze_RHmY1nBVsLM1Kb7ocAarBxydsklIPOeMe-IP3_qsYB3FPPp1EPB9GwaKJPKLuleb3zQYY1oHgz9Ngx7e6xy_VBs5GPDZWuO50HpcHzcE)\n",
    "- 결국 프로그래밍은 연산자/조건문/반복문 등으로 이와 같은 알고리즘 혹은 프로세스를 구현하는 것"
   ]
  }
 ],
 "metadata": {
  "kernelspec": {
   "display_name": "Python 3",
   "language": "python",
   "name": "python3"
  },
  "language_info": {
   "codemirror_mode": {
    "name": "ipython",
    "version": 3
   },
   "file_extension": ".py",
   "mimetype": "text/x-python",
   "name": "python",
   "nbconvert_exporter": "python",
   "pygments_lexer": "ipython3",
   "version": "3.8.3"
  }
 },
 "nbformat": 4,
 "nbformat_minor": 4
}
