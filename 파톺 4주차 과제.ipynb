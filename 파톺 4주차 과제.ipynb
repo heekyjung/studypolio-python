{
 "cells": [
  {
   "cell_type": "markdown",
   "metadata": {},
   "source": [
    "# Python 라이브러리를 이용한 Timetable 만들기"
   ]
  },
  {
   "cell_type": "markdown",
   "metadata": {},
   "source": [
    "아래의 코드를 보고 빈칸 6개와 질문 2개에 대해 답을 찾아주세요.\n",
    "<Br>코드 내의 빈칸의 알맞은 파이썬 코드를 넣어보고 예시와 동일한 출력값이 나오는지 확인해보세요.\n",
    "<Br>여러분의 파이썬 톺아보기를 응원합니다!"
   ]
  },
  {
   "cell_type": "code",
   "execution_count": 1,
   "metadata": {},
   "outputs": [],
   "source": [
    "from datetime import datetime, timedelta"
   ]
  },
  {
   "cell_type": "code",
   "execution_count": 2,
   "metadata": {},
   "outputs": [],
   "source": [
    "time_now = datetime(2020, 10, 17, 10, 15, 0)"
   ]
  },
  {
   "cell_type": "markdown",
   "metadata": {},
   "source": [
    "## 빈칸 1"
   ]
  },
  {
   "cell_type": "code",
   "execution_count": 3,
   "metadata": {
    "scrolled": true
   },
   "outputs": [
    {
     "name": "stdout",
     "output_type": "stream",
     "text": [
      "수업 시작은 Am 10:15 입니다\n"
     ]
    }
   ],
   "source": [
    "am_pm = ''\n",
    "if time_now.hour < 12: ### 빈칸 1 : if 조건문\n",
    "    am_pm = \"Am\"\n",
    "else:\n",
    "    \"Pm\"\n",
    "hour_12 = str(time_now.hour - 12 if time_now.hour > 12 else time_now.hour)\n",
    "print(\"수업 시작은 \" + am_pm + \" \" + hour_12 + \":\" + str(time_now.minute) + \" 입니다\")"
   ]
  },
  {
   "cell_type": "markdown",
   "metadata": {},
   "source": [
    "## 빈칸 2"
   ]
  },
  {
   "cell_type": "code",
   "execution_count": 4,
   "metadata": {},
   "outputs": [],
   "source": [
    "next_start_time = time_now\n",
    "next_end_time = time_now + timedelta(minutes=50) ### 빈칸 2: timedelta 괄호 내 코드 빈칸\n",
    "period = 1"
   ]
  },
  {
   "cell_type": "markdown",
   "metadata": {},
   "source": [
    "## 빈칸 3~6"
   ]
  },
  {
   "cell_type": "code",
   "execution_count": 5,
   "metadata": {},
   "outputs": [
    {
     "name": "stdout",
     "output_type": "stream",
     "text": [
      "---------------\n",
      "Period 1   | 10:15 ~ 11:5\n",
      "Break Time | 11:5 ~ 11:20\n",
      "---------------\n",
      "Period 2   | 11:20 ~ 12:10\n",
      "---------------\n",
      "Lunch Time | 12:10 ~ 1:40\n",
      "---------------\n",
      "Period 3   | 1:40 ~ 2:30\n",
      "Break Time | 2:30 ~ 2:45\n",
      "---------------\n",
      "Period 4   | 2:45 ~ 3:35\n",
      "Break Time | 3:35 ~ 3:50\n",
      "---------------\n",
      "Period 5   | 3:50 ~ 4:40\n"
     ]
    }
   ],
   "source": [
    "for i in range(1, 10):\n",
    "    i_start_hour = str(next_start_time.hour - 12 if next_start_time.hour > 12 else next_start_time.hour)\n",
    "    i_start_minute = str(next_start_time.minute)\n",
    "\n",
    "    i_end_hour = str(next_end_time.hour - 12 if next_end_time.hour > 12 else next_end_time.hour)\n",
    "    i_end_minute = str(next_end_time.minute)\n",
    "\n",
    "    # print\n",
    "    if i % 2 == 0: ## 질문 1. 이 조건문은 무엇을 의미할까요 ??\n",
    "        if i == 4: ## 빈칸 3. if 조건문 채우기\n",
    "            print(\"-\" * 15)\n",
    "            print(\"Lunch Time | \" + i_start_hour + \":\" + i_start_minute + \" ~ \" + i_end_hour + \":\" + i_end_minute)\n",
    "        else:\n",
    "            print(\"Break Time | \" + i_start_hour + \":\" + i_start_minute + \" ~ \" + i_end_hour + \":\" + i_end_minute)\n",
    "    else:\n",
    "        print(\"-\" * 15)\n",
    "        print(\"Period \" + str(period) + \"   | \" + i_start_hour + \":\" + i_start_minute + \" ~ \" + i_end_hour + \":\" + i_end_minute)\n",
    "        period += 1\n",
    "\n",
    "    # time_calculate\n",
    "    next_start_time = next_end_time\n",
    "    if i % 2 == 0:\n",
    "        next_end_time += timedelta(minutes=50) ##빈칸 4. +=?\n",
    "    else:\n",
    "        if i == 3: ## 질문 2. 이 조건문은 무엇을 의미할까요 ??\n",
    "            next_end_time += timedelta(minutes=90) ##빈칸 5. +=?\n",
    "        else:\n",
    "            next_end_time += timedelta(minutes=15) ##빈칸 6. +=?"
   ]
  },
  {
   "cell_type": "markdown",
   "metadata": {},
   "source": [
    "## Q.서술형 문제"
   ]
  },
  {
   "cell_type": "markdown",
   "metadata": {},
   "source": [
    "1. 코드를 보고 질문 1번의 답변을 써 주세요 : 수업 시간이 아닌 시간(홀수는 수업 시간, 짝수는 쉬는/점심 시간)"
   ]
  },
  {
   "cell_type": "markdown",
   "metadata": {},
   "source": [
    "2. 코드를 보고 질문 2번의 답변을 써 주세요 : 점심 시간 직전 수업 시간"
   ]
  },
  {
   "cell_type": "markdown",
   "metadata": {},
   "source": [
    "## Q+.선택 문제 : 위 문제를 모두 푸셨다면, 코드를 본인의 방식으로 수정해보세요!\n",
    "* 수업시간에 배운 것을 활용해도 좋고,\n",
    "* 긴 코드를 짧은 코드로 바꾸어보어도 좋고,\n",
    "* 변수를 더 직관적으로 바꾸어봐도 좋아요!\n",
    " <br><tab>   ex) 수정 전 print('———————') -> 수정 후 print('*' * 15)"
   ]
  },
  {
   "cell_type": "code",
   "execution_count": 6,
   "metadata": {},
   "outputs": [],
   "source": [
    "now = datetime(2020, 10, 17, 10, 15, 0)\n",
    "finish = datetime(2020, 10, 17, 17, 0, 0)\n",
    "lunch = datetime(2020, 10, 12, 0, 0)"
   ]
  },
  {
   "cell_type": "code",
   "execution_count": 7,
   "metadata": {},
   "outputs": [
    {
     "name": "stdout",
     "output_type": "stream",
     "text": [
      "수업 시작은 Am 10:15 입니다\n"
     ]
    }
   ],
   "source": [
    "am_pm = ''\n",
    "if now.hour < 12:\n",
    "    am_pm = \"Am\"\n",
    "else:\n",
    "    \"Pm\"\n",
    "hour_12 = str(now.hour - 12 if now.hour > 12 else now.hour)\n",
    "print(\"수업 시작은 \" + am_pm + \" \" + hour_12 + \":\" + str(now.minute) + \" 입니다\")"
   ]
  },
  {
   "cell_type": "code",
   "execution_count": 8,
   "metadata": {},
   "outputs": [],
   "source": [
    "next_start = now\n",
    "next_end = now + timedelta(minutes=50)\n",
    "period = 1"
   ]
  },
  {
   "cell_type": "markdown",
   "metadata": {},
   "source": [
    "아래는 삽질 및 실패의 과정입니다."
   ]
  },
  {
   "cell_type": "code",
   "execution_count": 9,
   "metadata": {},
   "outputs": [
    {
     "data": {
      "text/plain": [
       "'\\nwhile finish.hour <= 17:\\n    start_hour = str(next_start.hour - 12 if next_start.hour > 12 else next_start.hour)\\n    start_minute = str(next_start.minute)\\n    \\n    end_hour = str(next_end.hour - 12 if next_end.hour > 12 else next_end.hour)\\n    end_minute = str(next_end.minute)\\n\\n    print(\"-\"*15)\\n    print(\"Period \" + str(period) + \"   | \" + start_hour + \":\" + start_minute + \" ~ \" + end_hour + \":\" + end_minute)\\n    if now.hour == lunch.hour:\\n        print(\"-\"*15)\\n        print(\"Lunch Time | \" + start_hour + \":\" + start_minute + \" ~ \" + end_hour + \":\" + end_minute)\\n        continue\\n    else:\\n        print(\"Break Time | \" + start_hour + \":\" + start_minute + \" ~ \" + end_hour + \":\" + end_minute)\\n        continue\\n    \\n    period += 1\\n    \\n    # time_calculate\\n    next_start = next_end\\n    if next_start.hour + 50 < finish.hour:\\n        \\n        next_end_time += timedelta(minutes=50)\\n        continue\\n    else:\\n        if i == 3:\\n            next_end_time += timedelta(minutes=90)\\n            continue\\n        else:\\n            next_end_time += timedelta(minutes=15)\\n            break\\n'"
      ]
     },
     "execution_count": 9,
     "metadata": {},
     "output_type": "execute_result"
    }
   ],
   "source": [
    "'''\n",
    "while finish.hour <= 17:\n",
    "    start_hour = str(next_start.hour - 12 if next_start.hour > 12 else next_start.hour)\n",
    "    start_minute = str(next_start.minute)\n",
    "    \n",
    "    end_hour = str(next_end.hour - 12 if next_end.hour > 12 else next_end.hour)\n",
    "    end_minute = str(next_end.minute)\n",
    "\n",
    "    print(\"-\"*15)\n",
    "    print(\"Period \" + str(period) + \"   | \" + start_hour + \":\" + start_minute + \" ~ \" + end_hour + \":\" + end_minute)\n",
    "    if now.hour == lunch.hour:\n",
    "        print(\"-\"*15)\n",
    "        print(\"Lunch Time | \" + start_hour + \":\" + start_minute + \" ~ \" + end_hour + \":\" + end_minute)\n",
    "        continue\n",
    "    else:\n",
    "        print(\"Break Time | \" + start_hour + \":\" + start_minute + \" ~ \" + end_hour + \":\" + end_minute)\n",
    "        continue\n",
    "    \n",
    "    period += 1\n",
    "    \n",
    "    # time_calculate\n",
    "    next_start = next_end\n",
    "    if next_start.hour + 50 < finish.hour:\n",
    "        \n",
    "        next_end_time += timedelta(minutes=50)\n",
    "        continue\n",
    "    else:\n",
    "        if i == 3:\n",
    "            next_end_time += timedelta(minutes=90)\n",
    "            continue\n",
    "        else:\n",
    "            next_end_time += timedelta(minutes=15)\n",
    "            break\n",
    "'''"
   ]
  }
 ],
 "metadata": {
  "kernelspec": {
   "display_name": "Python 3",
   "language": "python",
   "name": "python3"
  },
  "language_info": {
   "codemirror_mode": {
    "name": "ipython",
    "version": 3
   },
   "file_extension": ".py",
   "mimetype": "text/x-python",
   "name": "python",
   "nbconvert_exporter": "python",
   "pygments_lexer": "ipython3",
   "version": "3.8.3"
  }
 },
 "nbformat": 4,
 "nbformat_minor": 4
}
