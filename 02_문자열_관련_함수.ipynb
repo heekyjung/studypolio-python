{
 "cells": [
  {
   "cell_type": "markdown",
   "metadata": {},
   "source": [
    "# 문자열(String) 관련 함수\n",
    "1. [문자열 합치기](#1)\n",
    "2. [문자열 반복](#2)\n",
    "3. [문자열 바꾸기 (Replace)](#3)\n",
    "4. [문자열 나누기 (Split)](#4)\n",
    "5. [공백 지우기](#5)\n",
    "6. [대문자/소문자로 바꾸기](#6)\n",
    "7. [문자열 포맷팅(String formatting)](#7)\n",
    " 1. [The string format() method](#7-1)\n",
    " 2. [f-strings](#7-2)\n",
    "8. [복습: 문자열 나누고, 한번에 공백을 제거하여, 모두 대문자로 바꾸기](#8)\n",
    "\n",
    "|기능|함수|\n",
    "|:---:|:---:|\n",
    "|문자열 합치기|`+`|\n",
    "|문자열 반복|`*`|\n",
    "|문자열 바꾸기|`.replace()`|\n",
    "|문자열 나누기|`.split()`|\n",
    "|공백 지우기|`.strip() / .lstrip() / .rstrip()`|\n",
    "|대문자/소문자로 바꾸기|`.upper() / .lower()`|\n",
    "|문자열 포맷팅|`{:.2f} / {:04d}`|"
   ]
  },
  {
   "cell_type": "markdown",
   "metadata": {},
   "source": [
    "---\n",
    "## 1. 문자열 합치기<a name=\"1\"></a>"
   ]
  },
  {
   "cell_type": "code",
   "execution_count": 1,
   "metadata": {},
   "outputs": [
    {
     "name": "stdout",
     "output_type": "stream",
     "text": [
      "HelloWorld\n"
     ]
    }
   ],
   "source": [
    "a = \"Hello\"\n",
    "b = \"World\"\n",
    "c = a + b\n",
    "print(c)"
   ]
  },
  {
   "cell_type": "markdown",
   "metadata": {},
   "source": [
    "---\n",
    "## 2. 문자열 반복<a name=\"2\"></a>"
   ]
  },
  {
   "cell_type": "code",
   "execution_count": 2,
   "metadata": {},
   "outputs": [
    {
     "name": "stdout",
     "output_type": "stream",
     "text": [
      "HelloHelloHello\n"
     ]
    }
   ],
   "source": [
    "a = \"Hello\"\n",
    "b = a*3\n",
    "print(b)"
   ]
  },
  {
   "cell_type": "code",
   "execution_count": 3,
   "metadata": {},
   "outputs": [
    {
     "name": "stdout",
     "output_type": "stream",
     "text": [
      "--------------------------------------------------\n"
     ]
    }
   ],
   "source": [
    "print(\"-\"*50)"
   ]
  },
  {
   "cell_type": "markdown",
   "metadata": {},
   "source": [
    "---\n",
    "## 3. 문자열 바꾸기 (Replace)<a name=\"3\"></a>"
   ]
  },
  {
   "cell_type": "code",
   "execution_count": 4,
   "metadata": {},
   "outputs": [
    {
     "data": {
      "text/plain": [
       "'Hello Ethan!'"
      ]
     },
     "execution_count": 4,
     "metadata": {},
     "output_type": "execute_result"
    }
   ],
   "source": [
    "a = \"Hello World!\"\n",
    "a.replace(\"World\", \"Ethan\")"
   ]
  },
  {
   "cell_type": "code",
   "execution_count": 5,
   "metadata": {},
   "outputs": [
    {
     "name": "stdout",
     "output_type": "stream",
     "text": [
      "Hello World!\n"
     ]
    }
   ],
   "source": [
    "print(a)"
   ]
  },
  {
   "cell_type": "code",
   "execution_count": 6,
   "metadata": {},
   "outputs": [
    {
     "data": {
      "text/plain": [
       "140732525496240"
      ]
     },
     "execution_count": 6,
     "metadata": {},
     "output_type": "execute_result"
    }
   ],
   "source": [
    "a = \"Hello World\"\n",
    "id(a)"
   ]
  },
  {
   "cell_type": "code",
   "execution_count": 7,
   "metadata": {},
   "outputs": [
    {
     "data": {
      "text/plain": [
       "140732525558256"
      ]
     },
     "execution_count": 7,
     "metadata": {},
     "output_type": "execute_result"
    }
   ],
   "source": [
    "id(a.replace(\"World\", \"Ethan\"))"
   ]
  },
  {
   "cell_type": "markdown",
   "metadata": {},
   "source": [
    "<b>Why?</b> → `replace` 함수를 쓰면, 새로운 공간에 합쳐진 문자열을 만들어넣기 때문!"
   ]
  },
  {
   "cell_type": "markdown",
   "metadata": {},
   "source": [
    "---\n",
    "## 4. 문자열 나누기 (Split)<a name=\"4\"></a>"
   ]
  },
  {
   "cell_type": "code",
   "execution_count": 8,
   "metadata": {},
   "outputs": [
    {
     "data": {
      "text/plain": [
       "['Apple', ' Banana', ' Cake', ' Donut']"
      ]
     },
     "execution_count": 8,
     "metadata": {},
     "output_type": "execute_result"
    }
   ],
   "source": [
    "a = \"Apple, Banana, Cake, Donut\"\n",
    "a.split(\",\")"
   ]
  },
  {
   "cell_type": "code",
   "execution_count": 9,
   "metadata": {},
   "outputs": [
    {
     "name": "stdout",
     "output_type": "stream",
     "text": [
      "Apple, Banana, Cake, Donut\n"
     ]
    }
   ],
   "source": [
    "print(a)"
   ]
  },
  {
   "cell_type": "code",
   "execution_count": 10,
   "metadata": {},
   "outputs": [
    {
     "data": {
      "text/plain": [
       "['Apple', ' Banana', ' Cake', ' Donut']"
      ]
     },
     "execution_count": 10,
     "metadata": {},
     "output_type": "execute_result"
    }
   ],
   "source": [
    "a = \"Apple, Banana, Cake, Donut\"\n",
    "b = a.split(\",\")\n",
    "b"
   ]
  },
  {
   "cell_type": "code",
   "execution_count": 11,
   "metadata": {},
   "outputs": [
    {
     "data": {
      "text/plain": [
       "'Apple'"
      ]
     },
     "execution_count": 11,
     "metadata": {},
     "output_type": "execute_result"
    }
   ],
   "source": [
    "b[0]"
   ]
  },
  {
   "cell_type": "code",
   "execution_count": 12,
   "metadata": {},
   "outputs": [
    {
     "data": {
      "text/plain": [
       "' Banana'"
      ]
     },
     "execution_count": 12,
     "metadata": {},
     "output_type": "execute_result"
    }
   ],
   "source": [
    "b[1]"
   ]
  },
  {
   "cell_type": "code",
   "execution_count": 13,
   "metadata": {},
   "outputs": [
    {
     "data": {
      "text/plain": [
       "' Cake'"
      ]
     },
     "execution_count": 13,
     "metadata": {},
     "output_type": "execute_result"
    }
   ],
   "source": [
    "b[2]"
   ]
  },
  {
   "cell_type": "markdown",
   "metadata": {},
   "source": [
    "Banana, Cake, Donut 앞에 한 칸씩 공백이 생김<br>\n",
    "⇣\n",
    "\n",
    "---\n",
    "## 5. 공백 지우기<a name=\"5\"></a>\n",
    "### (1) 문자열 양쪽의 공백 지우기"
   ]
  },
  {
   "cell_type": "code",
   "execution_count": 14,
   "metadata": {},
   "outputs": [
    {
     "name": "stdout",
     "output_type": "stream",
     "text": [
      " Banana\n",
      "Banana\n"
     ]
    }
   ],
   "source": [
    "a = \" Banana\"\n",
    "print(a)\n",
    "a = a.strip()\n",
    "print(a)"
   ]
  },
  {
   "cell_type": "markdown",
   "metadata": {},
   "source": [
    "### (2) 문자열 왼쪽 혹은 오른쪽 공백 지우기"
   ]
  },
  {
   "cell_type": "code",
   "execution_count": 15,
   "metadata": {},
   "outputs": [
    {
     "data": {
      "text/plain": [
       "'Banana '"
      ]
     },
     "execution_count": 15,
     "metadata": {},
     "output_type": "execute_result"
    }
   ],
   "source": [
    "a = \" Banana \"\n",
    "a.lstrip()"
   ]
  },
  {
   "cell_type": "code",
   "execution_count": 16,
   "metadata": {},
   "outputs": [
    {
     "data": {
      "text/plain": [
       "' Banana'"
      ]
     },
     "execution_count": 16,
     "metadata": {},
     "output_type": "execute_result"
    }
   ],
   "source": [
    "a.rstrip()"
   ]
  },
  {
   "cell_type": "markdown",
   "metadata": {},
   "source": [
    "### (3) 리스트 형태로 나누어진 모든 문자열에서 공백 지우기\n",
    "- `strip()`은 리스트가 아니라 문자열에서 사용 가능\n",
    "- 그러므로 `strip()`으로 한 번에 공백을 지울 수 없음\n",
    "- 아래와 같이 하면 에러 발생\n",
    "```python\n",
    "a = ['Apple', 'Banana', 'Cake', 'Donut']\n",
    "b.strip()\n",
    "```\n",
    "\n",
    "#### For loop(반복문)을 이용해서 문자열을 하나씩 바꿔 한 번에 리스트로 만들면 된다!"
   ]
  },
  {
   "cell_type": "code",
   "execution_count": 17,
   "metadata": {},
   "outputs": [
    {
     "name": "stdout",
     "output_type": "stream",
     "text": [
      "['Apple', ' Banana', ' Cake', ' Donut']\n"
     ]
    },
    {
     "data": {
      "text/plain": [
       "['Apple', 'Banana', 'Cake', 'Donut']"
      ]
     },
     "execution_count": 17,
     "metadata": {},
     "output_type": "execute_result"
    }
   ],
   "source": [
    "a = \"Apple, Banana, Cake, Donut\"\n",
    "b = a.split(\",\")\n",
    "print(b)\n",
    "\n",
    "[c.strip() for c in b]"
   ]
  },
  {
   "cell_type": "code",
   "execution_count": 18,
   "metadata": {},
   "outputs": [
    {
     "data": {
      "text/plain": [
       "['Apple', 'Banana', 'Cake', 'Donut']"
      ]
     },
     "execution_count": 18,
     "metadata": {},
     "output_type": "execute_result"
    }
   ],
   "source": [
    "c = [c.strip() for c in b]\n",
    "c"
   ]
  },
  {
   "cell_type": "markdown",
   "metadata": {},
   "source": [
    "---\n",
    "## 6. 대문자/소문자로 바꾸기<a name=\"6\"></a>\n",
    "### (1) 대문자로 바꾸기 - `upper()`"
   ]
  },
  {
   "cell_type": "code",
   "execution_count": 19,
   "metadata": {},
   "outputs": [
    {
     "data": {
      "text/plain": [
       "'APPLE'"
      ]
     },
     "execution_count": 19,
     "metadata": {},
     "output_type": "execute_result"
    }
   ],
   "source": [
    "a = \"apple\"\n",
    "a.upper()"
   ]
  },
  {
   "cell_type": "markdown",
   "metadata": {},
   "source": [
    "### (2) 소문자로 바꾸기 - `lower()`"
   ]
  },
  {
   "cell_type": "code",
   "execution_count": 20,
   "metadata": {},
   "outputs": [
    {
     "data": {
      "text/plain": [
       "'apple'"
      ]
     },
     "execution_count": 20,
     "metadata": {},
     "output_type": "execute_result"
    }
   ],
   "source": [
    "a = \"APPLE\"\n",
    "a.lower()"
   ]
  },
  {
   "cell_type": "markdown",
   "metadata": {},
   "source": [
    "---\n",
    "### 7-0. `print()` 함수에 문자열과 변수를 `,`로 구분하여 실행하면, 문자열과 변수를 같이 출력"
   ]
  },
  {
   "cell_type": "code",
   "execution_count": 21,
   "metadata": {},
   "outputs": [
    {
     "name": "stdout",
     "output_type": "stream",
     "text": [
      "Hello Ethan\n"
     ]
    }
   ],
   "source": [
    "name = \"Ethan\"\n",
    "print(\"Hello\", name)"
   ]
  },
  {
   "cell_type": "markdown",
   "metadata": {},
   "source": [
    "## 7. 문자열 포맷팅(String formatting)<a name=\"7\"></a>\n",
    "### A. The string `format()` method (`\"{}\".format()` 형태)<a name=\"7-1\"></a>\n",
    "일반적으로 사용할 때, 어떤 타입이 오던 `{}`만으로도 표기할 수 있다."
   ]
  },
  {
   "cell_type": "code",
   "execution_count": 22,
   "metadata": {},
   "outputs": [
    {
     "name": "stdout",
     "output_type": "stream",
     "text": [
      "Apple and 10\n",
      "Apple and 10\n"
     ]
    }
   ],
   "source": [
    "# Old\n",
    "print(\"%s and %d\" % (\"Apple\", 10))\n",
    "\n",
    "# New\n",
    "print(\"{} and {}\".format(\"Apple\", 10))"
   ]
  },
  {
   "cell_type": "markdown",
   "metadata": {},
   "source": [
    "#### 소수점 자리수를 지정하기"
   ]
  },
  {
   "cell_type": "code",
   "execution_count": 23,
   "metadata": {
    "scrolled": true
   },
   "outputs": [
    {
     "name": "stdout",
     "output_type": "stream",
     "text": [
      "1.3333333333333333\n",
      "1.33\n",
      "0012\n"
     ]
    }
   ],
   "source": [
    "print(\"{}\".format(4/3))\n",
    "print(\"{:.2f}\".format(4/3))\n",
    "\n",
    "print(\"{:04d}\".format(12))"
   ]
  },
  {
   "cell_type": "markdown",
   "metadata": {},
   "source": [
    "#### 정리"
   ]
  },
  {
   "cell_type": "code",
   "execution_count": 24,
   "metadata": {},
   "outputs": [
    {
     "name": "stdout",
     "output_type": "stream",
     "text": [
      "Hello Ethan\n",
      "------------------------------\n",
      "0001\n",
      "0012\n",
      "0123\n",
      "------------------------------\n",
      "3.14\n"
     ]
    }
   ],
   "source": [
    "print(\"Hello {}\".format(\"Ethan\"))\n",
    "print(\"-\"*30)\n",
    "print(\"{:04d}\".format(1))\n",
    "print(\"{:04d}\".format(12))\n",
    "print(\"{:04d}\".format(123))\n",
    "print(\"-\"*30)\n",
    "print(\"{:.2f}\".format(3.14159265359))"
   ]
  },
  {
   "cell_type": "markdown",
   "metadata": {},
   "source": [
    "### B. f-strings<a name=\"7-2\"></a>"
   ]
  },
  {
   "cell_type": "code",
   "execution_count": 25,
   "metadata": {
    "scrolled": true
   },
   "outputs": [
    {
     "name": "stdout",
     "output_type": "stream",
     "text": [
      "Hello Ethan\n",
      "------------------------------\n",
      "0001\n",
      "0012\n",
      "0123\n",
      "------------------------------\n",
      "3.14\n"
     ]
    }
   ],
   "source": [
    "print(f\"Hello {'Ethan'}\")\n",
    "print(\"-\"*30)\n",
    "print(f\"{1:04d}\")\n",
    "print(f\"{12:04d}\")\n",
    "print(f\"{123:04d}\")\n",
    "print(\"-\"*30)\n",
    "print(f\"{3.14159265359:.2f}\")"
   ]
  },
  {
   "cell_type": "markdown",
   "metadata": {},
   "source": [
    "---\n",
    "## 8. 복습: 문자열 나누고, 한번에 공백을 제거하여, 모두 대문자로 바꾸기<a name=\"8\"></a>"
   ]
  },
  {
   "cell_type": "code",
   "execution_count": 26,
   "metadata": {},
   "outputs": [
    {
     "name": "stdout",
     "output_type": "stream",
     "text": [
      "Split result:  ['Apple', ' Banana', ' Cake', ' Donut']\n",
      "Strip result:  ['Apple', 'Banana', 'Cake', 'Donut']\n",
      "Strip & Upper result:  ['APPLE', 'BANANA', 'CAKE', 'DONUT']\n"
     ]
    }
   ],
   "source": [
    "a = \"Apple, Banana, Cake, Donut\"\n",
    "b = a.split(\",\")\n",
    "print(\"Split result: \", b)\n",
    "c = [c.strip() for c in b] # 문자열 양쪽 공백을 제거한 문자열 리턴\n",
    "print(\"Strip result: \", c)\n",
    "c = [c.strip().upper() for c in b] # 공백이 제거된 문자열에 다시 upper() 함수 사용\n",
    "print(\"Strip & Upper result: \", c)"
   ]
  }
 ],
 "metadata": {
  "kernelspec": {
   "display_name": "Python 3",
   "language": "python",
   "name": "python3"
  },
  "language_info": {
   "codemirror_mode": {
    "name": "ipython",
    "version": 3
   },
   "file_extension": ".py",
   "mimetype": "text/x-python",
   "name": "python",
   "nbconvert_exporter": "python",
   "pygments_lexer": "ipython3",
   "version": "3.8.3"
  }
 },
 "nbformat": 4,
 "nbformat_minor": 4
}
