{
 "cells": [
  {
   "cell_type": "code",
   "execution_count": 1,
   "metadata": {},
   "outputs": [
    {
     "name": "stdout",
     "output_type": "stream",
     "text": [
      "--------------------------------------------------\n",
      "86.0\n"
     ]
    }
   ],
   "source": [
    "# 섭씨 온도를 화씨 온도로 변환하는 함수\n",
    "def convert_temp(c):\n",
    "    return (c * 9/5) + 32\n",
    "\n",
    "convert_temp(30)\n",
    "print('-' * 50)\n",
    "print(convert_temp(30))"
   ]
  },
  {
   "cell_type": "code",
   "execution_count": 2,
   "metadata": {},
   "outputs": [
    {
     "name": "stdout",
     "output_type": "stream",
     "text": [
      "--------------------------------------------------\n",
      "(8, 15)\n"
     ]
    }
   ],
   "source": [
    "# 두 수를 더하는 함수\n",
    "def add(a, b):\n",
    "    return a + b\n",
    "\n",
    "# 두 수를 곱하는 함수\n",
    "def mul(a, b):\n",
    "    return a * b\n",
    "\n",
    "# 두 수를 더한 값과 곱한 값을 같이 리턴하는 함수\n",
    "def add_and_mul(a, b):\n",
    "    return add(a, b), mul(a, b)\n",
    "\n",
    "print('-'*50)\n",
    "print(add_and_mul(3, 5))"
   ]
  },
  {
   "cell_type": "code",
   "execution_count": 3,
   "metadata": {},
   "outputs": [
    {
     "name": "stdout",
     "output_type": "stream",
     "text": [
      "--------------------------------------------------\n",
      "(3, 0)\n"
     ]
    }
   ],
   "source": [
    "def add_and_mul(a, b=0):\n",
    "    return add(a, b), mul(a, b)\n",
    "\n",
    "print('-'*50)\n",
    "print(add_and_mul(3))"
   ]
  },
  {
   "cell_type": "code",
   "execution_count": 4,
   "metadata": {},
   "outputs": [
    {
     "name": "stdout",
     "output_type": "stream",
     "text": [
      "[1, 2, 3, 4]\n"
     ]
    }
   ],
   "source": [
    "a = [1, 2, 3]\n",
    "a.append(4)\n",
    "print(a)"
   ]
  },
  {
   "cell_type": "code",
   "execution_count": 5,
   "metadata": {},
   "outputs": [
    {
     "name": "stdout",
     "output_type": "stream",
     "text": [
      "[1, 0, 2, 3]\n"
     ]
    }
   ],
   "source": [
    "a = [1, 2, 3]\n",
    "a.insert(1, 0)\n",
    "print(a)"
   ]
  },
  {
   "cell_type": "code",
   "execution_count": 6,
   "metadata": {},
   "outputs": [
    {
     "name": "stdout",
     "output_type": "stream",
     "text": [
      "오름차순 정렬: [1, 2, 3, 4, 5, 6]\n",
      "------------------------------\n",
      "내림차순 정렬: [6, 5, 4, 3, 2, 1]\n"
     ]
    }
   ],
   "source": [
    "a = [1, 4, 2, 6, 5, 3]\n",
    "a.sort()\n",
    "print(f'오름차순 정렬: {a}')\n",
    "print('-'*30)\n",
    "a.sort(reverse=True)\n",
    "print(f'내림차순 정렬: {a}')"
   ]
  },
  {
   "cell_type": "code",
   "execution_count": 7,
   "metadata": {},
   "outputs": [
    {
     "name": "stdout",
     "output_type": "stream",
     "text": [
      "[1, 2, 3]\n",
      "[1, 2]\n",
      "[1]\n",
      "[]\n"
     ]
    }
   ],
   "source": [
    "a = []\n",
    "a.append(1)\n",
    "a.append(2)\n",
    "a.append(3)\n",
    "print(a)\n",
    "a.pop()\n",
    "print(a)\n",
    "a.pop()\n",
    "print(a)\n",
    "a.pop()\n",
    "print(a)"
   ]
  },
  {
   "cell_type": "code",
   "execution_count": 9,
   "metadata": {},
   "outputs": [
    {
     "name": "stdout",
     "output_type": "stream",
     "text": [
      "deque([1, 2, 3])\n",
      "------------------------------\n",
      "deque([1])\n",
      "deque([1, 2])\n",
      "deque([1, 2, 3])\n",
      "deque([2, 3])\n",
      "deque([3])\n",
      "deque([])\n"
     ]
    }
   ],
   "source": [
    "from collections import deque\n",
    "queue = deque([1, 2, 3])\n",
    "print(queue)\n",
    "print('-'*30)\n",
    "queue = deque([])\n",
    "queue.append(1)\n",
    "print(queue)\n",
    "queue.append(2)\n",
    "print(queue)\n",
    "queue.append(3)\n",
    "print(queue)\n",
    "\n",
    "queue.popleft()\n",
    "print(queue)\n",
    "queue.popleft()\n",
    "print(queue)\n",
    "queue.popleft()\n",
    "print(queue)"
   ]
  },
  {
   "cell_type": "code",
   "execution_count": 10,
   "metadata": {},
   "outputs": [
    {
     "name": "stdout",
     "output_type": "stream",
     "text": [
      "01033334444\n",
      "{'ethan': '01033334444'}\n"
     ]
    }
   ],
   "source": [
    "tel = {'ethan': '01011112222', 'ethan': '01033334444'}\n",
    "print(tel['ethan'])\n",
    "print(tel)"
   ]
  },
  {
   "cell_type": "code",
   "execution_count": 11,
   "metadata": {},
   "outputs": [
    {
     "name": "stdout",
     "output_type": "stream",
     "text": [
      "dict_keys(['ethan', 'guido', 'chaser'])\n"
     ]
    }
   ],
   "source": [
    "tel = {'ethan': '1234', 'guido': '1111', 'chaser': '4885'}\n",
    "print(tel.keys())"
   ]
  },
  {
   "cell_type": "code",
   "execution_count": 12,
   "metadata": {},
   "outputs": [
    {
     "name": "stdout",
     "output_type": "stream",
     "text": [
      "1111\n"
     ]
    }
   ],
   "source": [
    "tel = {'ethan': 1234, 'guido': 1111, 'chaser': 4885}\n",
    "print(tel['guido'])"
   ]
  },
  {
   "cell_type": "code",
   "execution_count": 13,
   "metadata": {},
   "outputs": [
    {
     "ename": "SyntaxError",
     "evalue": "leading zeros in decimal integer literals are not permitted; use an 0o prefix for octal integers (<ipython-input-13-05ecfa01a5db>, line 1)",
     "output_type": "error",
     "traceback": [
      "\u001b[0;36m  File \u001b[0;32m\"<ipython-input-13-05ecfa01a5db>\"\u001b[0;36m, line \u001b[0;32m1\u001b[0m\n\u001b[0;31m    tel = {'ethan': 010}\u001b[0m\n\u001b[0m                      ^\u001b[0m\n\u001b[0;31mSyntaxError\u001b[0m\u001b[0;31m:\u001b[0m leading zeros in decimal integer literals are not permitted; use an 0o prefix for octal integers\n"
     ]
    }
   ],
   "source": [
    "tel = {'ethan': 010}"
   ]
  },
  {
   "cell_type": "code",
   "execution_count": 14,
   "metadata": {},
   "outputs": [
    {
     "ename": "SyntaxError",
     "evalue": "invalid syntax (<ipython-input-14-797471aa0af1>, line 1)",
     "output_type": "error",
     "traceback": [
      "\u001b[0;36m  File \u001b[0;32m\"<ipython-input-14-797471aa0af1>\"\u001b[0;36m, line \u001b[0;32m1\u001b[0m\n\u001b[0;31m    tel = {'ethan': 1011112222.d2}\u001b[0m\n\u001b[0m                               ^\u001b[0m\n\u001b[0;31mSyntaxError\u001b[0m\u001b[0;31m:\u001b[0m invalid syntax\n"
     ]
    }
   ],
   "source": [
    "tel = {'ethan': 1011112222.d2}"
   ]
  },
  {
   "cell_type": "code",
   "execution_count": 15,
   "metadata": {},
   "outputs": [
    {
     "name": "stdout",
     "output_type": "stream",
     "text": [
      "dict_keys(['ethan', 'guido', 'chaser'])\n",
      "------------------------------\n",
      "ethan\n",
      "guido\n",
      "chaser\n"
     ]
    }
   ],
   "source": [
    "tel = {'ethan': '1234', 'guido': '1111', 'chaser': '4885'}\n",
    "print(tel.keys())\n",
    "print('-'*30)\n",
    "keys = tel.keys()\n",
    "for key in keys:\n",
    "    print(key)"
   ]
  },
  {
   "cell_type": "code",
   "execution_count": 16,
   "metadata": {},
   "outputs": [
    {
     "name": "stdout",
     "output_type": "stream",
     "text": [
      "dict_keys(['ethan', 'guido', 'chaser'])\n"
     ]
    }
   ],
   "source": [
    "print(keys)"
   ]
  },
  {
   "cell_type": "code",
   "execution_count": 17,
   "metadata": {},
   "outputs": [
    {
     "name": "stdout",
     "output_type": "stream",
     "text": [
      "['ethan', 'guido', 'chaser']\n"
     ]
    }
   ],
   "source": [
    "keys = list(keys)\n",
    "print(keys)"
   ]
  },
  {
   "cell_type": "code",
   "execution_count": 18,
   "metadata": {},
   "outputs": [
    {
     "name": "stdout",
     "output_type": "stream",
     "text": [
      "{1, 2}\n",
      "[1, 2]\n"
     ]
    }
   ],
   "source": [
    "a = [1, 2, 2, 2, 2, 2, 2, 2]\n",
    "a = set(a)\n",
    "print(a)\n",
    "a = list(a)\n",
    "print(a)"
   ]
  },
  {
   "cell_type": "code",
   "execution_count": 6,
   "metadata": {},
   "outputs": [
    {
     "name": "stdout",
     "output_type": "stream",
     "text": [
      "Hello Ethan\n",
      "------------------------------\n",
      "0001\n",
      "0012\n",
      "0123\n",
      "------------------------------\n",
      "3.14\n"
     ]
    }
   ],
   "source": [
    "print('Hello {}'.format('Ethan'))\n",
    "print('-'*30)\n",
    "print('{:04d}'.format(1))\n",
    "print('{:04d}'.format(12))\n",
    "print('{:04d}'.format(123))\n",
    "print('-'*30)\n",
    "print('{:.2f}'.format(3.14159265359))"
   ]
  },
  {
   "cell_type": "code",
   "execution_count": 7,
   "metadata": {},
   "outputs": [
    {
     "name": "stdout",
     "output_type": "stream",
     "text": [
      "Hello Ethan\n",
      "------------------------------\n",
      "0001\n",
      "0012\n",
      "0123\n",
      "------------------------------\n",
      "3.14\n"
     ]
    }
   ],
   "source": [
    "print(f'Hello {\"Ethan\"}')\n",
    "print('-'*30)\n",
    "print(f'{1:04d}')\n",
    "print(f'{12:04d}')\n",
    "print(f'{123:04d}')\n",
    "print('-'*30)\n",
    "print(f'{3.14159265359:.2f}')"
   ]
  },
  {
   "cell_type": "code",
   "execution_count": 11,
   "metadata": {},
   "outputs": [
    {
     "name": "stdout",
     "output_type": "stream",
     "text": [
      "Split result:  ['Apple', ' Banana', ' Cake', ' Donut']\n",
      "Split result:  ['Apple', 'Banana', 'Cake', 'Donut']\n",
      "Split result:  ['Apple', 'Banana', 'Cake', 'Donut']\n",
      "Split & Upper result:  ['APPLE', 'BANANA', 'CAKE', 'DONUT']\n"
     ]
    }
   ],
   "source": [
    "a = \"Apple, Banana, Cake, Donut\"\n",
    "b = a.split(\",\")\n",
    "print('Split result: ', b)\n",
    "c = [c.strip() for c in b]\n",
    "print('Split result: ', c)\n",
    "c = [shala.strip() for shala in b]\n",
    "print('Split result: ', c)\n",
    "c = [c.strip().upper() for c in b]\n",
    "print('Split & Upper result: ', c)"
   ]
  },
  {
   "cell_type": "code",
   "execution_count": 2,
   "metadata": {},
   "outputs": [
    {
     "name": "stdout",
     "output_type": "stream",
     "text": [
      "['3rd', 'apple', 'banana']\n",
      "['3', 'apple']\n"
     ]
    }
   ],
   "source": [
    "a = ['apple', 'banana', '3rd']\n",
    "a.sort()\n",
    "print(a)#스트링끼리는 sort가 되는데\n",
    "b = ['apple', '3'] #이렇게 타입 섞여있으면 sort가 안 된다.\n",
    "b.sort()\n",
    "print(b)"
   ]
  },
  {
   "cell_type": "code",
   "execution_count": 2,
   "metadata": {},
   "outputs": [
    {
     "name": "stdout",
     "output_type": "stream",
     "text": [
      "{1, 2, 3}\n",
      "{2, 3, 4}\n"
     ]
    }
   ],
   "source": [
    "a = {1, 2, 3, 1}\n",
    "print(a)\n",
    "b = {2, 3, 4}\n",
    "print(b)"
   ]
  },
  {
   "cell_type": "code",
   "execution_count": 5,
   "metadata": {},
   "outputs": [
    {
     "name": "stdout",
     "output_type": "stream",
     "text": [
      "Jack's bmi = 27.68\n",
      "John's bmi = 24.69\n"
     ]
    }
   ],
   "source": [
    "def calc_bmi(height, weight):\n",
    "    # 키는 입력받을 때 cm단위로 입력받지만, 계산을 위해 m단위로 변경해줌\n",
    "    height = height * 0.01\n",
    "    return weight / (height**2)\n",
    "\n",
    "person_1_name = 'Jack'\n",
    "person_1_height = 170\n",
    "person_1_weight = 80\n",
    "\n",
    "person_2_name = 'John'\n",
    "person_2_height = 180\n",
    "person_2_weight = 80\n",
    "\n",
    "person_1_bmi = calc_bmi(person_1_height, person_1_weight)\n",
    "person_2_bmi = calc_bmi(person_2_height, person_2_weight)\n",
    "\n",
    "print(\"{}'s bmi = {:.2f}\".format(person_1_name, person_1_bmi))\n",
    "print(\"{}'s bmi = {:.2f}\".format(person_2_name, person_2_bmi))"
   ]
  },
  {
   "cell_type": "code",
   "execution_count": 9,
   "metadata": {},
   "outputs": [
    {
     "name": "stdout",
     "output_type": "stream",
     "text": [
      "Jack's bmi = 27.68\n",
      "John's bmi = 24.69\n"
     ]
    }
   ],
   "source": [
    "class Person:\n",
    "    def __init__(self, name1, height1, weight1):\n",
    "        self.name = name1\n",
    "        self.height = height1\n",
    "        self.weight = weight1\n",
    "    \n",
    "    def bmi(self):\n",
    "        # 키는 입력받을 때 cm단위로 입력받지만, 계산을 위해 m단위로 변경해줌\n",
    "        height = self.height * 0.01\n",
    "        return self.weight / (height ** 2)\n",
    "    \n",
    "    def print_bmi(self):\n",
    "        print(\"{}'s bmi = {:.2f}\".format(self.name, self.bmi()))\n",
    "\n",
    "\n",
    "person_1 = Person('Jack', 170, 80)\n",
    "person_2 = Person('John', 180, 80)\n",
    "\n",
    "person_1.print_bmi()\n",
    "person_2.print_bmi()"
   ]
  },
  {
   "cell_type": "code",
   "execution_count": 12,
   "metadata": {},
   "outputs": [
    {
     "name": "stdout",
     "output_type": "stream",
     "text": [
      "Jack's bmi = 27.68\n",
      "John's bmi = 24.69\n"
     ]
    }
   ],
   "source": [
    "class Person:\n",
    "    def __init__(self, name1, height1, weight1):\n",
    "        self.name = name1\n",
    "        self.height = height1\n",
    "        self.weight = weight1\n",
    "    \n",
    "    def bmi(self):\n",
    "        # 키는 입력받을 때 cm단위로 입력받지만, 계산을 위해 m단위로 변경해줌\n",
    "        height = self.height * 0.01\n",
    "        return self.weight / (height ** 2)\n",
    "    \n",
    "    def print_bmi(self):\n",
    "        print(\"{}'s bmi = {:.2f}\".format(self.name, self.bmi()))\n",
    "\n",
    "\n",
    "person_1 = Person('Jack', 170, 80)\n",
    "person_2 = Person('John', 180, 80)\n",
    "\n",
    "person_1.print_bmi()\n",
    "person_2.print_bmi()"
   ]
  },
  {
   "cell_type": "code",
   "execution_count": 29,
   "metadata": {},
   "outputs": [
    {
     "name": "stdout",
     "output_type": "stream",
     "text": [
      "메서드 <__main__.klass object at 0x7f94a362b640>\n"
     ]
    }
   ],
   "source": [
    "class Klass:\n",
    "    def mhe(self):\n",
    "        print('메서드', self)\n",
    "        \n",
    "klass().mhe()"
   ]
  },
  {
   "cell_type": "code",
   "execution_count": 24,
   "metadata": {},
   "outputs": [
    {
     "name": "stdout",
     "output_type": "stream",
     "text": [
      "저의 이름은 천지이고, 28살 남자입니다.\n",
      "저의 이름은 로지이고, 25살 여자입니다.\n",
      "저의 이름은 태민이고, 28살 남자입니다.\n",
      "저의 이름은 준호이고, 31살 남자입니다.\n"
     ]
    }
   ],
   "source": [
    "class Person:\n",
    "    def __init__(self, a, b, c):\n",
    "        self.name = a\n",
    "        self.age = b\n",
    "        self.sex = c\n",
    "    \n",
    "    def intro(self):\n",
    "        print('저의 이름은 {}이고, {:2d}살 {}입니다.'.format(self.name, self.age, self.sex))\n",
    "\n",
    "p1 = Person('천지', 28, '남자')\n",
    "p2 = Person('로지', 25, '여자')\n",
    "p3 = Person('태민', 28, '남자')\n",
    "p4 = Person('준호', 31, '남자')\n",
    "\n",
    "p1.intro()\n",
    "p2.intro()\n",
    "p3.intro()\n",
    "p4.intro()"
   ]
  },
  {
   "cell_type": "code",
   "execution_count": 26,
   "metadata": {},
   "outputs": [
    {
     "name": "stdout",
     "output_type": "stream",
     "text": [
      "흰밥에 고사리, 계란, 시금치를 섞어 만든 비빔밥이 완성되었습니다!\n"
     ]
    }
   ],
   "source": [
    "class BibimBob:\n",
    "    def __init__(self, rice, j1, j2, j3):\n",
    "        self.rice = rice\n",
    "        self.j1 = j1\n",
    "        self.j2 = j2\n",
    "        self.j3 = j3\n",
    "    def print_all_j(self):\n",
    "        print(f'밥은 {self.rice}!')\n",
    "        print(f'재료1은 {self.j1}!')\n",
    "        print(f'재료2은 {self.j1}!')\n",
    "        print(f'재료3은 {self.j1}!')\n",
    "    def mix(self):\n",
    "        print(f'{self.rice}에 {self.j1}, {self.j2}, {self.j3}를 섞어 만든 비빔밥이 완성되었습니다!')\n",
    "    \n",
    "\n",
    "B = BibimBob('흰밥', '고사리', '계란', '시금치')\n",
    "B.mix()"
   ]
  },
  {
   "cell_type": "code",
   "execution_count": 28,
   "metadata": {},
   "outputs": [
    {
     "name": "stdout",
     "output_type": "stream",
     "text": [
      "출석체크한 사람들 => ['로지', '형식', '시완', '광희']\n"
     ]
    }
   ],
   "source": [
    "class Chulseok:\n",
    "    def __init__(self, saramdul):\n",
    "        self.saramdul = saramdul\n",
    "    def print_saramdul(self):\n",
    "        print(f'출석체크한 사람들 => {self.saramdul}')\n",
    "    \n",
    "c = Chulseok(['로지', '형식', '시완', '광희'])\n",
    "c.print_saramdul()"
   ]
  },
  {
   "cell_type": "code",
   "execution_count": 30,
   "metadata": {},
   "outputs": [
    {
     "name": "stdout",
     "output_type": "stream",
     "text": [
      "30은 15과(와) 2를 곱한 값입니다!\n"
     ]
    }
   ],
   "source": [
    "class multiple:\n",
    "    def __init__(self, n1, n2):\n",
    "        self.n1 = n1\n",
    "        self.n2 = n2\n",
    "    \n",
    "    def mul(self):\n",
    "        return self.n1 * self.n2\n",
    "    \n",
    "    def print_mul(self):\n",
    "        print(f'{self.mul()}은 {self.n1}과(와) {self.n2}를 곱한 값입니다!')\n",
    "\n",
    "a = multiple(15, 2)\n",
    "a.print_mul()"
   ]
  },
  {
   "cell_type": "code",
   "execution_count": 33,
   "metadata": {},
   "outputs": [
    {
     "name": "stdout",
     "output_type": "stream",
     "text": [
      "15은 15과(와) 1를 곱한 값입니다!\n",
      "30은 15과(와) 2를 곱한 값입니다!\n",
      "45은 15과(와) 3를 곱한 값입니다!\n",
      "60은 15과(와) 4를 곱한 값입니다!\n",
      "75은 15과(와) 5를 곱한 값입니다!\n",
      "90은 15과(와) 6를 곱한 값입니다!\n",
      "105은 15과(와) 7를 곱한 값입니다!\n",
      "120은 15과(와) 8를 곱한 값입니다!\n"
     ]
    }
   ],
   "source": [
    "for i in range(1, 9):\n",
    "    m = multiple(15, i)\n",
    "    m.print_mul()"
   ]
  },
  {
   "cell_type": "code",
   "execution_count": 36,
   "metadata": {},
   "outputs": [],
   "source": [
    "class Multiple: \n",
    "    def mul(self, n1, n2):\n",
    "        print(f'{n1*n2} = {n1} * {n2}')\n",
    "        "
   ]
  },
  {
   "cell_type": "code",
   "execution_count": 37,
   "metadata": {},
   "outputs": [
    {
     "name": "stdout",
     "output_type": "stream",
     "text": [
      "30 = 15 * 2\n"
     ]
    }
   ],
   "source": [
    "m = Multiple()\n",
    "m.mul(15, 2)"
   ]
  },
  {
   "cell_type": "code",
   "execution_count": 38,
   "metadata": {},
   "outputs": [
    {
     "name": "stdout",
     "output_type": "stream",
     "text": [
      "15 = 15 * 1\n",
      "30 = 15 * 2\n",
      "45 = 15 * 3\n"
     ]
    }
   ],
   "source": [
    "for i in range(1, 4):\n",
    "    m.mul(15, i)"
   ]
  },
  {
   "cell_type": "code",
   "execution_count": 4,
   "metadata": {},
   "outputs": [],
   "source": [
    "import requests\n",
    "from bs4 import BeautifulSoup as bs"
   ]
  },
  {
   "cell_type": "code",
   "execution_count": 2,
   "metadata": {},
   "outputs": [
    {
     "name": "stdout",
     "output_type": "stream",
     "text": [
      "b'<!doctype html>\\n<html lang=\"ko\"> \\n <head data-cloud-area=\"head\"> \\n  <meta charset=\"utf-8\"> \\n  <meta http-equiv=\"X-UA-Compatible\" content=\"IE=edge\"> \\n  <style>\\n             @import url(\\'//t1.daumcdn.net/harmony_static/cloud/page/0c3961ace6f472d6e26855ad7974b4176e3f857f.css\\');\\n            @import url(\\'//t1.daumcdn.net/harmony_static/cloud/2020/09/17/components.21fc0700278d03c33a95.css\\')\\n        </style> \\n  <meta name=\"robots\" content=\"noindex\"> \\n  <meta property=\"mccp:docId\" content=\"AlpqqLPoP8\"> \\n  <meta property=\"og:site_name\" content=\"\\xeb\\x8b\\xa4\\xec\\x9d\\x8c \\xeb\\x89\\xb4\\xec\\x8a\\xa4\" data-cloud=\"pc_html_head_meta\"> \\n  <meta property=\"og:title\" content=\"13\\xec\\x9d\\xbc\\xeb\\xb6\\x80\\xed\\x84\\xb0 \\xeb\\xa7\\x88\\xec\\x8a\\xa4\\xed\\x81\\xac \\xec\\xb0\\xa9\\xec\\x9a\\xa9 \\xec\\x9d\\x98\\xeb\\xac\\xb4\\xed\\x99\\x94..\\xed\\x95\\x9c \\xeb\\x8b\\xac \\xea\\xb3\\x84\\xeb\\x8f\\x84 \\xed\\x9b\\x84 \\xea\\xb3\\xbc\\xed\\x83\\x9c\\xeb\\xa3\\x8c 10\\xeb\\xa7\\x8c \\xec\\x9b\\x90\" data-cloud=\"pc_html_head_meta\"> \\n  <meta property=\"og:regDate\" content=\"20201004215700\" data-cloud=\"pc_html_head_meta\"> \\n  <meta property=\"og:description\" content=\"\\xec\\x98\\xa4\\xeb\\x8a\\x94 13\\xec\\x9d\\xbc\\xeb\\xb6\\x80\\xed\\x84\\xb0 \\xeb\\xa7\\x88\\xec\\x8a\\xa4\\xed\\x81\\xac \\xec\\xb0\\xa9\\xec\\x9a\\xa9\\xec\\x9d\\xb4 \\xec\\x9d\\x98\\xeb\\xac\\xb4\\xed\\x99\\x94\\xeb\\x90\\xa9\\xeb\\x8b\\x88\\xeb\\x8b\\xa4. \\xec\\xa0\\x95\\xeb\\xb6\\x80\\xeb\\x8a\\x94 \\xed\\x95\\x9c \\xeb\\x8b\\xac \\xea\\xb3\\x84\\xeb\\x8f\\x84 \\xea\\xb8\\xb0\\xea\\xb0\\x84\\xec\\x9d\\x84 \\xeb\\x91\\x94 \\xeb\\x92\\xa4 \\xeb\\x8b\\xa4\\xec\\x9d\\x8c \\xeb\\x8b\\xac 13\\xec\\x9d\\xbc\\xeb\\xb6\\x80\\xed\\x84\\xb0\\xeb\\x8a\\x94 \\xec\\x9c\\x84\\xeb\\xb0\\x98 \\xed\\x96\\x89\\xec\\x9c\\x84 \\xeb\\x8b\\xa8\\xec\\x86\\x8d\\xec\\x97\\x90 \\xeb\\x82\\x98\\xec\\x84\\x9c \\xec\\xb5\\x9c\\xea\\xb3\\xa0 10\\xeb\\xa7\\x8c \\xec\\x9b\\x90\\xec\\x9d\\x98 \\xea\\xb3\\xbc\\xed\\x83\\x9c\\xeb\\xa3\\x8c\\xeb\\xa5\\xbc \\xeb\\xb6\\x80\\xea\\xb3\\xbc\\xed\\x95\\xa0 \\xeb\\xb0\\xa9\\xec\\xb9\\xa8\\xec\\x9e\\x85\\xeb\\x8b\\x88\\xeb\\x8b\\xa4. \\xec\\xa4\\x91\\xec\\x95\\x99\\xec\\x9e\\xac\\xeb\\x82\\x9c\\xec\\x95\\x88\\xec\\xa0\\x84\\xeb\\x8c\\x80\\xec\\xb1\\x85\\xeb\\xb3\\xb8\\xeb\\xb6\\x80\\xeb\\x8a\\x94 \\xec\\x98\\xa4\\xeb\\x8a\\x98 \\xeb\\xb8\\x8c\\xeb\\xa6\\xac\\xed\\x95\\x91\\xec\\x9d\\x84 \\xed\\x86\\xb5\\xed\\x95\\xb4 \\xec\\x9d\\xb4\\xea\\xb0\\x99\\xec\\x9d\\xb4 \\xeb\\xb0\\x9d\\xed\\x9e\\x88\\xea\\xb3\\xa0 \\xea\\xb5\\xad\\xeb\\xaf\\xbc\\xec\\x9d\\x98 \\xeb\\x8f\\x99\\xec\\xb0\\xb8\\xec\\x9d\\x84 \\xeb\\x8b\\xb9\\xeb\\xb6\\x80\\xed\\x96\\x88\\xec\\x8a\\xb5\\xeb\\x8b\\x88\\xeb\\x8b\\xa4. \\xec\\xa4\\x91\\xeb\\x8c\\x80\\xeb\\xb3\\xb8\\xec\\x97\\x90 \\xeb\\x94\\xb0\\xeb\\xa5\\xb4\\xeb\\xa9\\xb4 \\xeb\\xa7\\x88\\xec\\x8a\\xa4\\xed\\x81\\xac \\xec\\xb0\\xa9\\xec\\x9a\\xa9\\xec\\x9d\\x84 \\xec\\x9d\\x98\\xeb\\xac\\xb4\\xed\\x99\\x94\\xed\\x95\\x98\\xeb\\x8a\\x94 \\xed\\x96\\x89\\xec\\xa0\\x95\\xeb\\xaa\\x85\\xeb\\xa0\\xb9\\xec\\x9d\\x80 \\xea\\xb1\\xb0\\xeb\\xa6\\xac\\xeb\\x91\\x90\\xea\\xb8\\xb0 \\xeb\\x8b\\xa8\\xea\\xb3\\x84\\xec\\x99\\x80 \\xec\\x8b\\x9c\\xec\\x84\\xa4 \\xec\\x9c\\x84\\xed\\x97\\x98\\xeb\\x8f\\x84\\xec\\x97\\x90 \\xeb\\x94\\xb0\\xeb\\x9d\\xbc \\xeb\\x8b\\xa4\\xeb\\xa5\\xb4\\xea\\xb2\\x8c \\xec\\xa0\\x81\\xec\\x9a\\xa9\" data-cloud=\"pc_html_head_meta\"> \\n  <meta property=\"og:image\" content=\"https://img1.daumcdn.net/thumb/S1200x630/?fname=https://t1.daumcdn.net/news/202010/04/YTN/20201004215808712mdqs.jpg\" data-cloud=\"pc_html_head_meta\"> \\n  <meta property=\"og:image:width\" content=\"1200\" data-cloud=\"pc_html_head_meta\"> \\n  <meta property=\"og:image:height\" content=\"630\" data-cloud=\"pc_html_head_meta\"> \\n  <meta property=\"og:type\" content=\"article\" data-cloud=\"pc_html_head_meta\"> \\n  <meta property=\"og:url\" content=\"https://news.v.daum.net/v/20201004215700006\" data-cloud=\"pc_html_head_meta\"> \\n  <meta property=\"al:android:url\" content=\"daumapps://web?url=https%3A%2F%2Fnews.v.daum.net/v/20201004215700006\" data-cloud=\"pc_html_head_meta\"> \\n  <meta property=\"al:android:package\" content=\"net.daum.android.daum\" data-cloud=\"pc_html_head_meta\"> \\n  <meta property=\"al:android:app_name\" content=\"\\xeb\\x8b\\xa4\\xec\\x9d\\x8c\\xec\\x95\\xb1\" data-cloud=\"pc_html_head_meta\"> \\n  <meta property=\"al:ios:url\" content=\"daumapps://web?url=https%3A%2F%2Fnews.v.daum.net/v/20201004215700006\" data-cloud=\"pc_html_head_meta\"> \\n  <meta property=\"al:ios:app_store_id\" content=\"365494029\" data-cloud=\"pc_html_head_meta\"> \\n  <meta property=\"al:ios:app_name\" content=\"\\xeb\\x8b\\xa4\\xec\\x9d\\x8c\\xec\\x95\\xb1\" data-cloud=\"pc_html_head_meta\"> \\n  <meta property=\"twitter:image\" content=\"https://img1.daumcdn.net/thumb/S1200x630/?fname=https://t1.daumcdn.net/news/202010/04/YTN/20201004215808712mdqs.jpg\" data-cloud=\"pc_html_head_meta\"> \\n  <meta property=\"twitter:card\" content=\"summary_large_image\" data-cloud=\"pc_html_head_meta\"> \\n  <meta property=\"twitter:app:url:googleplay\" content=\"daumapps://web?url=https%3A%2F%2Fnews.v.daum.net/v/20201004215700006\" data-cloud=\"pc_html_head_meta\"> \\n  <meta property=\"twitter:app:id:googleplay\" content=\"net.daum.android.daum\" data-cloud=\"pc_html_head_meta\"> \\n  <meta property=\"twitter:app:name:googleplay\" content=\"\\xeb\\x8b\\xa4\\xec\\x9d\\x8c\\xec\\x95\\xb1\" data-cloud=\"pc_html_head_meta\"> \\n  <meta property=\"twitter:app:country\" content=\"KR\" data-cloud=\"pc_html_head_meta\"> \\n  <meta property=\"twitter:app:url:iphone\" content=\"daumapps://web?url=https%3A%2F%2Fnews.v.daum.net/v/20201004215700006\" data-cloud=\"pc_html_head_meta\"> \\n  <meta property=\"twitter:app:id:iphone\" content=\"365494029\" data-cloud=\"pc_html_head_meta\"> \\n  <meta property=\"twitter:app:name:iphone\" content=\"\\xeb\\x8b\\xa4\\xec\\x9d\\x8c\\xec\\x95\\xb1\" data-cloud=\"pc_html_head_meta\"> \\n  <meta property=\"twitter:app:url:ipad\" content=\"daumapps://web?url=https%3A%2F%2Fnews.v.daum.net/v/20201004215700006\" data-cloud=\"pc_html_head_meta\"> \\n  <meta property=\"twitter:app:id:ipad\" content=\"365494029\" data-cloud=\"pc_html_head_meta\"> \\n  <meta property=\"twitter:app:name:ipad\" content=\"\\xeb\\x8b\\xa4\\xec\\x9d\\x8c\\xec\\x95\\xb1\" data-cloud=\"pc_html_head_meta\"> \\n  <meta property=\"dg:uoc:svc\" content=\"news\" data-cloud=\"pc_html_head_meta\"> \\n  <meta property=\"dg:uoc:uid\" content=\"AlpqqLPoP8\" data-cloud=\"pc_html_head_meta\"> \\n  <meta property=\"dg:uoc:sc\" content=\"article\" data-cloud=\"pc_html_head_meta\"> \\n  <meta property=\"dg:uoc:pcUrl\" content=\"https://news.v.daum.net/v/20201004215700006\" data-cloud=\"pc_html_head_meta\"> \\n  <meta property=\"dg:uoc:mUrl\" content=\"https://news.v.daum.net/v/20201004215700006?f=m\" data-cloud=\"pc_html_head_meta\"> \\n  <meta name=\"svcdomain\" content=\"news.daum.net\" data-cloud=\"pc_html_head_meta\"> \\n  <meta property=\"article:published_time\" content=\"20201004215700\" data-cloud=\"pc_html_head_meta\"> \\n  <meta property=\"article:modified_time\" content=\"20201004215808\" data-cloud=\"pc_html_head_meta\"> \\n  <meta name=\"plink\" content=\"https://news.v.daum.net/v/20201004215700006\" data-cloud=\"pc_html_head_meta\"> \\n  <meta property=\"article:txid\" content=\"https://news.v.daum.net/v/20201004215700006\" data-cloud=\"pc_html_head_meta\"> \\n  <meta name=\"article:media_name\" content=\"YTN\" data-cloud=\"pc_html_head_meta\"> \\n  <meta name=\"article:service_name\" content=\"\\xeb\\x8b\\xa4\\xec\\x9d\\x8c \\xeb\\x89\\xb4\\xec\\x8a\\xa4\" data-cloud=\"pc_html_head_meta\"> \\n  <meta property=\"article:mobile_url\" content=\"https://news.v.daum.net/v/20201004215700006?f=m\" data-cloud=\"pc_html_head_meta\"> \\n  <meta property=\"article:mobile_view_url\" content=\"https://news.v.daum.net/v/20201004215700006?f=m\" data-cloud=\"pc_html_head_meta\"> \\n  <meta property=\"article:pc_url\" content=\"https://news.v.daum.net/v/20201004215700006\" data-cloud=\"pc_html_head_meta\"> \\n  <meta property=\"article:pc_view_url\" content=\"https://news.v.daum.net/v/20201004215700006\" data-cloud=\"pc_html_head_meta\"> \\n  <meta property=\"article:talk_channel_view_url\" content=\"https://v.kakao.com/v/20201004215700006\" data-cloud=\"pc_html_head_meta\"> \\n  <meta property=\"article:pc_service_home\" content=\"http://media.daum.net/\" data-cloud=\"pc_html_head_meta\"> \\n  <meta property=\"article:mobile_service_home\" content=\"http://m.media.daum.net/\" data-cloud=\"pc_html_head_meta\"> \\n  <meta name=\"referrer\" content=\"always\"> \\n  <title>13\\xec\\x9d\\xbc\\xeb\\xb6\\x80\\xed\\x84\\xb0 \\xeb\\xa7\\x88\\xec\\x8a\\xa4\\xed\\x81\\xac \\xec\\xb0\\xa9\\xec\\x9a\\xa9 \\xec\\x9d\\x98\\xeb\\xac\\xb4\\xed\\x99\\x94..\\xed\\x95\\x9c \\xeb\\x8b\\xac \\xea\\xb3\\x84\\xeb\\x8f\\x84 \\xed\\x9b\\x84 \\xea\\xb3\\xbc\\xed\\x83\\x9c\\xeb\\xa3\\x8c 10\\xeb\\xa7\\x8c \\xec\\x9b\\x90</title> \\n  <link rel=\"shortcut icon\" href=\"//m2.daumcdn.net/img-media/2010ci/Daum_favicon.ico\"> \\n </head> \\n <body class=\"\">      \\n  <div id=\"kakaoIndex\"> <a href=\"#kakaoBody\">\\xeb\\xb3\\xb8\\xeb\\xac\\xb8 \\xeb\\xb0\\x94\\xeb\\xa1\\x9c\\xea\\xb0\\x80\\xea\\xb8\\xb0</a> <a href=\"#kakaoGnb\">\\xeb\\xa9\\x94\\xeb\\x89\\xb4 \\xeb\\xb0\\x94\\xeb\\xa1\\x9c\\xea\\xb0\\x80\\xea\\xb8\\xb0</a> \\n  </div> \\n  <div id=\"kakaoWrap\" class=\"newsview_media\"> \\n   <div id=\"kakaoHead\" role=\"banner\" data-cloud-area=\"header\"> \\n    <div class=\"head_media\" data-cloud=\"pc_news_header_gnb\"> \\n     <h1> <a href=\"https://www.daum.net\" class=\"link_daum\"> <img src=\"//t1.daumcdn.net/media/news/news2016/retina/logo_daum.jpg\" width=\"45\" height=\"19\" class=\"thumb_g\" alt=\"Daum\"> </a> <a href=\"https://news.daum.net\" id=\"kakaoServiceLogo\"><span class=\"ir_wa\">\\xeb\\x89\\xb4\\xec\\x8a\\xa4</span></a> </h1> <strong class=\"screen_out\">\\xea\\xb4\\x80\\xeb\\xa0\\xa8\\xec\\x84\\x9c\\xeb\\xb9\\x84\\xec\\x8a\\xa4</strong> \\n     <ul id=\"kakaoRelServices\"> \\n      <li><a href=\"https://entertain.daum.net/\" class=\"link_services link_services1\"><span class=\"ir_wa\">\\xec\\x97\\xb0\\xec\\x98\\x88</span></a></li> \\n      <li><a href=\"https://sports.daum.net/\" class=\"link_services link_services2\"><span class=\"ir_wa\">\\xec\\x8a\\xa4\\xed\\x8f\\xac\\xec\\xb8\\xa0</span></a></li> \\n     </ul> \\n     <h2 class=\"screen_out\">\\xea\\xb2\\x80\\xec\\x83\\x89</h2> \\n     <div class=\"search_news\" id=\"search_news\"> \\n      <form id=\"kakaoSearch\" name=\"kakaoSearch\" action=\"https://search.daum.net/search\" method=\"get\"> \\n       <fieldset class=\"fld_inside\"> <legend class=\"screen_out\">\\xea\\xb2\\x80\\xec\\x83\\x89\\xec\\x96\\xb4 \\xec\\x9e\\x85\\xeb\\xa0\\xa5\\xed\\x8f\\xbc</legend> \\n        <div class=\"box_searchbar\"> <label for=\"qVal\" class=\"lab_search\">\\xed\\x86\\xb5\\xed\\x95\\xa9\\xea\\xb2\\x80\\xec\\x83\\x89</label> \\n         <input type=\"hidden\" name=\"nil_profile\" value=\"search\"> \\n         <input type=\"hidden\" name=\"nil_src\" value=\"media\"> \\n         <input type=\"hidden\" name=\"DA\" value=\"23A\"> \\n         <input type=\"hidden\" name=\"rtmaxcoll\" value=\"NNS\"> \\n         <input type=\"text\" class=\"tf_keyword\" id=\"qVal\" name=\"q\" value=\"\" title=\"\\xea\\xb2\\x80\\xec\\x83\\x89\\xec\\x96\\xb4 \\xec\\x9e\\x85\\xeb\\xa0\\xa5\" autocomplete=\"off\" spellcheck=\"false\"> <button id=\"kakaoBtnSearch\" class=\"btn_search\" type=\"submit\"><span class=\"ir_wa\">\\xea\\xb2\\x80\\xec\\x83\\x89</span></button> \\n        </div> \\n       </fieldset> \\n       <div id=\"wrap_suggestBox\" class=\"wrap_suggestBox\"> \\n        <div id=\"suggestBox\" class=\"suggestBox box_sub\"> \\n         <div class=\"baseBox bg\" style=\"display: none\"></div> \\n        </div> \\n       </div> \\n      </form> \\n     </div> \\n    </div> \\n    <div id=\"kakaoGnb\" role=\"navigation\" data-cloud=\"pc_news_header_gnb\"> \\n     <div class=\"inner_gnb\"> \\n      <h2 class=\"screen_out\">\\xeb\\x89\\xb4\\xec\\x8a\\xa4 \\xeb\\xa9\\x94\\xec\\x9d\\xb8\\xeb\\xa9\\x94\\xeb\\x89\\xb4</h2> \\n      <ul class=\"gnb_comm\" data-category=\"society\"> \\n       <li class=\"home\"><a href=\"//news.daum.net/\" class=\"link_gnb link_gnb1\"><span class=\"ir_wa\">\\xed\\x99\\x88</span><span class=\"bar_gnb\"><span class=\"inner_bar\"></span></span></a></li> \\n       <li class=\"society\"><a href=\"//news.daum.net/society/\" class=\"link_gnb link_gnb2\"><span class=\"ir_wa\">\\xec\\x82\\xac\\xed\\x9a\\x8c</span><span class=\"bar_gnb\"><span class=\"inner_bar\"></span></span></a></li> \\n       <li class=\"politics\"><a href=\"//news.daum.net/politics/\" class=\"link_gnb link_gnb3\"><span class=\"ir_wa\">\\xec\\xa0\\x95\\xec\\xb9\\x98</span><span class=\"bar_gnb\"><span class=\"inner_bar\"></span></span></a></li> \\n       <li class=\"economic\"><a href=\"//news.daum.net/economic/\" class=\"link_gnb link_gnb4\"><span class=\"ir_wa\">\\xea\\xb2\\xbd\\xec\\xa0\\x9c</span><span class=\"bar_gnb\"><span class=\"inner_bar\"></span></span></a></li> \\n       <li class=\"foreign\"><a href=\"//news.daum.net/foreign/\" class=\"link_gnb link_gnb5\"><span class=\"ir_wa\">\\xea\\xb5\\xad\\xec\\xa0\\x9c</span><span class=\"bar_gnb\"><span class=\"inner_bar\"></span></span></a></li> \\n       <li class=\"culture\"><a href=\"//news.daum.net/culture/\" class=\"link_gnb link_gnb6\"><span class=\"ir_wa\">\\xeb\\xac\\xb8\\xed\\x99\\x94</span><span class=\"bar_gnb\"><span class=\"inner_bar\"></span></span></a></li> \\n       <li class=\"digital\"><a href=\"//news.daum.net/digital/\" class=\"link_gnb link_gnb7\"><span class=\"ir_wa\">IT</span><span class=\"bar_gnb\"><span class=\"inner_bar\"></span></span></a></li> \\n       <li class=\"popular\"><a href=\"//news.daum.net/ranking/popular\" class=\"link_gnb link_gnb8\"><span class=\"ir_wa\">\\xeb\\x9e\\xad\\xed\\x82\\xb9</span><span class=\"bar_gnb\"><span class=\"inner_bar\"></span></span></a></li> \\n       <li class=\"series editorial\"><a href=\"//news.daum.net/series\" class=\"link_gnb link_gnb9\"><span class=\"ir_wa\">\\xec\\x97\\xb0\\xec\\x9e\\xac</span><span class=\"bar_gnb\"><span class=\"inner_bar\"></span></span></a></li> \\n       <li class=\"photo\"><a href=\"//news.daum.net/photo\" class=\"link_gnb link_gnb10\"><span class=\"ir_wa\">\\xed\\x8f\\xac\\xed\\x86\\xa0</span><span class=\"bar_gnb\"><span class=\"inner_bar\"></span></span></a></li> \\n       <li class=\"tv\"><a href=\"//news.daum.net/tv\" class=\"link_gnb link_gnb11\"><span class=\"ir_wa\">TV</span><span class=\"bar_gnb\"><span class=\"inner_bar\"></span></span></a></li> \\n      </ul> \\n      <div class=\"gnb_etc\"> \\n       <ul class=\"gnb_with\"> \\n        <li><a href=\"//news.daum.net/1boon\" class=\"link_gnb link_gnb1\"><span class=\"ir_wa\">1boon</span></a></li> \\n        <li><a href=\"//gallery.v.daum.net/p/home\" class=\"link_gnb link_gnb2\"><span class=\"ir_wa\">\\xea\\xb0\\xa4\\xeb\\x9f\\xac\\xeb\\xa6\\xac</span><span class=\"bar_gnb\"><span class=\"inner_bar\"></span></span></a></li> \\n       </ul>  \\n       <div class=\"gnb_weather\"> <strong class=\"screen_out\">\\xeb\\x82\\xa0\\xec\\x94\\xa8 \\xec\\xa0\\x95\\xeb\\xb3\\xb4</strong> \\n        <div id=\"gnb_weather\"> \\n         <ul class=\"list_weather\" data-nightyn=\"N\"></ul> \\n        </div> \\n       </div> \\n      </div> \\n     </div> \\n    </div> \\n    <div id=\"barProgress\" class=\"bar_progress\" data-cloud=\"pc_news_header_gnb\"></div>          \\n   </div> \\n   <div id=\"dummyKakaoGnb\" style=\"height:137px; display:none;\"></div> \\n   <hr class=\"hide\"> \\n   <div id=\"kakaoContent\" class=\"cont_view\" role=\"main\"> \\n    <h2 id=\"kakaoBody\" class=\"screen_out\">\\xec\\x82\\xac\\xed\\x9a\\x8c</h2> \\n    <div id=\"cSub\" data-cloud-area=\"title\"> \\n     <div class=\"head_view\" data-cloud=\"pc_article_title\"> <em class=\"info_cp\"> <a href=\"http://www.ytn.co.kr\" class=\"link_cp\" target=\"_blank\"> <img src=\"https://t1.daumcdn.net/media/news/2020/cp/cp_ytn.gif\" class=\"thumb_g\" alt=\"YTN\"> </a> </em> \\n      <h3 class=\"tit_view\" data-translation=\"true\">13\\xec\\x9d\\xbc\\xeb\\xb6\\x80\\xed\\x84\\xb0 \\xeb\\xa7\\x88\\xec\\x8a\\xa4\\xed\\x81\\xac \\xec\\xb0\\xa9\\xec\\x9a\\xa9 \\xec\\x9d\\x98\\xeb\\xac\\xb4\\xed\\x99\\x94..\\xed\\x95\\x9c \\xeb\\x8b\\xac \\xea\\xb3\\x84\\xeb\\x8f\\x84 \\xed\\x9b\\x84 \\xea\\xb3\\xbc\\xed\\x83\\x9c\\xeb\\xa3\\x8c 10\\xeb\\xa7\\x8c \\xec\\x9b\\x90</h3> <span class=\"info_view\"> <span class=\"txt_info\">\\xea\\xb9\\x80\\xec\\x9e\\xa5\\xed\\x95\\x98</span> <span class=\"txt_info\">\\xec\\x9e\\x85\\xeb\\xa0\\xa5 <span class=\"num_date\">2020.10.04. 21:57</span></span> <span class=\"txt_info\">\\xec\\x88\\x98\\xec\\xa0\\x95 <span class=\"num_date\">2020.10.04. 21:58</span></span> <button id=\"alexCounter\" class=\"emph_g2 link_cmt\">\\xeb\\x8c\\x93\\xea\\xb8\\x80 <span class=\"alex-count-area\">0</span>\\xea\\xb0\\x9c</button> </span> \\n      <div class=\"util_view\">  \\n       <div class=\"btn_util util_summary\"> <button type=\"button\" class=\"btn_summary\" aria-expanded=\"false\"><span class=\"ico_newsview\">\\xec\\x9e\\x90\\xeb\\x8f\\x99\\xec\\x9a\\x94\\xec\\x95\\xbd</span></button> \\n        <div class=\"wrap_setlayer\"> \\n         <div class=\"layer_util layer_summary\"> \\n          <p>\\xec\\x98\\xa4\\xeb\\x8a\\x94 13\\xec\\x9d\\xbc\\xeb\\xb6\\x80\\xed\\x84\\xb0 \\xeb\\xa7\\x88\\xec\\x8a\\xa4\\xed\\x81\\xac \\xec\\xb0\\xa9\\xec\\x9a\\xa9\\xec\\x9d\\xb4 \\xec\\x9d\\x98\\xeb\\xac\\xb4\\xed\\x99\\x94\\xeb\\x90\\xa9\\xeb\\x8b\\x88\\xeb\\x8b\\xa4.</p>\\n          <p>\\xec\\xa0\\x95\\xeb\\xb6\\x80\\xeb\\x8a\\x94 \\xed\\x95\\x9c \\xeb\\x8b\\xac \\xea\\xb3\\x84\\xeb\\x8f\\x84 \\xea\\xb8\\xb0\\xea\\xb0\\x84\\xec\\x9d\\x84 \\xeb\\x91\\x94 \\xeb\\x92\\xa4 \\xeb\\x8b\\xa4\\xec\\x9d\\x8c \\xeb\\x8b\\xac 13\\xec\\x9d\\xbc\\xeb\\xb6\\x80\\xed\\x84\\xb0\\xeb\\x8a\\x94 \\xec\\x9c\\x84\\xeb\\xb0\\x98 \\xed\\x96\\x89\\xec\\x9c\\x84 \\xeb\\x8b\\xa8\\xec\\x86\\x8d\\xec\\x97\\x90 \\xeb\\x82\\x98\\xec\\x84\\x9c \\xec\\xb5\\x9c\\xea\\xb3\\xa0 10\\xeb\\xa7\\x8c \\xec\\x9b\\x90\\xec\\x9d\\x98 \\xea\\xb3\\xbc\\xed\\x83\\x9c\\xeb\\xa3\\x8c\\xeb\\xa5\\xbc \\xeb\\xb6\\x80\\xea\\xb3\\xbc\\xed\\x95\\xa0 \\xeb\\xb0\\xa9\\xec\\xb9\\xa8\\xec\\x9e\\x85\\xeb\\x8b\\x88\\xeb\\x8b\\xa4.</p>\\n          <p>\\xec\\x84\\xb8\\xeb\\xa9\\xb4, \\xec\\x9d\\x8c\\xec\\x8b\\x9d\\xec\\x84\\xad\\xec\\xb7\\xa8, \\xec\\x9d\\x98\\xeb\\xa3\\x8c\\xed\\x96\\x89\\xec\\x9c\\x84, \\xec\\x88\\x98\\xec\\x98\\x81\\xec\\x9e\\xa5\\xc2\\xb7\\xeb\\xaa\\xa9\\xec\\x9a\\x95\\xed\\x83\\x95 \\xeb\\x93\\xb1\\xec\\x97\\x90 \\xec\\x9e\\x88\\xec\\x9d\\x84 \\xeb\\x95\\x8c, \\xea\\xb3\\xb5\\xec\\x97\\xb0 \\xeb\\x93\\xb1 \\xec\\x96\\xbc\\xea\\xb5\\xb4\\xec\\x9d\\xb4 \\xeb\\xb3\\xb4\\xec\\x97\\xac\\xec\\x95\\xbc \\xed\\x95\\x98\\xeb\\x8a\\x94 \\xeb\\xb6\\x88\\xea\\xb0\\x80\\xed\\x94\\xbc\\xed\\x95\\x9c \\xec\\x83\\x81\\xed\\x99\\xa9\\xeb\\x8f\\x84 \\xea\\xb3\\xbc\\xed\\x83\\x9c\\xeb\\xa3\\x8c \\xeb\\xb6\\x80\\xea\\xb3\\xbc \\xec\\x98\\x88\\xec\\x99\\xb8\\xea\\xb0\\x80 \\xeb\\x90\\xa9\\xeb\\x8b\\x88\\xeb\\x8b\\xa4.</p>\\n          <p>\\xec\\xa0\\x95\\xeb\\xb6\\x80\\xeb\\x8a\\x94 11\\xec\\x9b\\x94 12\\xec\\x9d\\xbc\\xea\\xb9\\x8c\\xec\\xa7\\x80 30\\xec\\x9d\\xbc\\xea\\xb0\\x84 \\xea\\xb3\\x84\\xeb\\x8f\\x84 \\xea\\xb8\\xb0\\xea\\xb0\\x84\\xec\\x9d\\x84 \\xeb\\x91\\x94 \\xeb\\x92\\xa4 11\\xec\\x9b\\x94 13\\xec\\x9d\\xbc\\xeb\\xb6\\x80\\xed\\x84\\xb0 \\xec\\xa0\\x81\\xeb\\xb0\\x9c\\xeb\\x90\\x98\\xeb\\x8a\\x94 \\xec\\x9c\\x84\\xeb\\xb0\\x98 \\xed\\x96\\x89\\xec\\x9c\\x84\\xeb\\x8a\\x94 10\\xeb\\xa7\\x8c \\xec\\x9b\\x90 \\xec\\x9d\\xb4\\xed\\x95\\x98\\xec\\x9d\\x98 \\xea\\xb3\\xbc\\xed\\x83\\x9c\\xeb\\xa3\\x8c\\xeb\\xa5\\xbc \\xeb\\xb6\\x80\\xea\\xb3\\xbc\\xed\\x95\\xa0 \\xea\\xb3\\x84\\xed\\x9a\\x8d\\xec\\x9e\\x85\\xeb\\x8b\\x88\\xeb\\x8b\\xa4.</p> <span class=\"info_summary\"><span class=\"ico_newsview\"></span>\\xea\\xb8\\xb0\\xec\\x82\\xac \\xec\\xa0\\x9c\\xeb\\xaa\\xa9\\xea\\xb3\\xbc \\xec\\xa3\\xbc\\xec\\x9a\\x94 \\xeb\\xac\\xb8\\xec\\x9e\\xa5\\xec\\x9d\\x84 \\xea\\xb8\\xb0\\xeb\\xb0\\x98\\xec\\x9c\\xbc\\xeb\\xa1\\x9c \\xec\\x9e\\x90\\xeb\\x8f\\x99\\xec\\x9a\\x94\\xec\\x95\\xbd\\xed\\x95\\x9c \\xea\\xb2\\xb0\\xea\\xb3\\xbc\\xec\\x9e\\x85\\xeb\\x8b\\x88\\xeb\\x8b\\xa4. \\xec\\xa0\\x84\\xec\\xb2\\xb4 \\xeb\\xa7\\xa5\\xeb\\x9d\\xbd\\xec\\x9d\\x84 \\xec\\x9d\\xb4\\xed\\x95\\xb4\\xed\\x95\\x98\\xea\\xb8\\xb0 \\xec\\x9c\\x84\\xed\\x95\\xb4\\xec\\x84\\x9c\\xeb\\x8a\\x94 \\xeb\\xb3\\xb8\\xeb\\xac\\xb8 \\xeb\\xb3\\xb4\\xea\\xb8\\xb0\\xeb\\xa5\\xbc \\xea\\xb6\\x8c\\xec\\x9e\\xa5\\xed\\x95\\xa9\\xeb\\x8b\\x88\\xeb\\x8b\\xa4.</span> \\n         </div> \\n        </div> \\n       </div>  \\n       <div class=\"btn_util tts_btn\"> <button type=\"button\" class=\"btn_set btn_tts\" aria-expanded=\"false\"> <span class=\"ico_newsview ico_speak\">\\xec\\x9d\\x8c\\xec\\x84\\xb1 \\xea\\xb8\\xb0\\xec\\x82\\xac \\xeb\\x93\\xa3\\xea\\xb8\\xb0</span> </button> \\n        <div class=\"wrap_setlayer\"> \\n         <div class=\"layer_util layer_set layer_tts\"> <strong class=\"screen_out\">\\xec\\x9d\\x8c\\xec\\x84\\xb1 \\xea\\xb8\\xb0\\xec\\x82\\xac \\xec\\x98\\xb5\\xec\\x85\\x98 \\xec\\xa1\\xb0\\xec\\xa0\\x88 \\xeb\\xa0\\x88\\xec\\x9d\\xb4\\xec\\x96\\xb4</strong> \\n          <ul class=\"list_set list_tts\"> \\n           <li> <input type=\"radio\" id=\"ttsGenderMale\" name=\"ttsGender\" class=\"screen_out\" value=\"Male\"> <label class=\"lab_set\" for=\"ttsGenderMale\"><span class=\"ico_newsview\"></span>\\xeb\\x82\\xa8\\xec\\x84\\xb1</label> </li> \\n           <li> <input type=\"radio\" id=\"ttsGenderFemale\" name=\"ttsGender\" class=\"screen_out\" value=\"Female\"> <label class=\"lab_set\" for=\"ttsGenderFemale\"><span class=\"ico_newsview\"></span>\\xec\\x97\\xac\\xec\\x84\\xb1</label> </li> \\n          </ul> \\n          <ul class=\"list_set list_tts list_ttsspeed\"> \\n           <li> <input type=\"radio\" id=\"ttsSpeedSlow\" name=\"ttsSpeed\" class=\"screen_out\" value=\"slow\"> <label class=\"lab_set\" for=\"ttsSpeedSlow\"><span class=\"ico_newsview\"></span>\\xeb\\x8a\\x90\\xeb\\xa6\\xbc</label> </li> \\n           <li> <input type=\"radio\" id=\"ttsSpeedNormal\" name=\"ttsSpeed\" class=\"screen_out\" value=\"normal\"> <label class=\"lab_set\" for=\"ttsSpeedNormal\"><span class=\"ico_newsview\"></span>\\xeb\\xb3\\xb4\\xed\\x86\\xb5</label> </li> \\n           <li> <input type=\"radio\" id=\"ttsSpeedFast\" name=\"ttsSpeed\" class=\"screen_out\" value=\"fast\"> <label class=\"lab_set\" for=\"ttsSpeedFast\"><span class=\"ico_newsview\"></span>\\xeb\\xb9\\xa0\\xeb\\xa6\\x84</label> </li> \\n          </ul> \\n         </div> \\n        </div> \\n        <audio style=\"display:none\" preload=\"none\" id=\"ttsPlayer\"></audio> \\n       </div>  \\n       <div class=\"btn_util translate_btn\"> <button type=\"button\" class=\"btn_set btn_translate #util #translate #set\" aria-expanded=\"false\"><span class=\"ico_newsview\">\\xeb\\xb2\\x88\\xec\\x97\\xad \\xec\\x84\\xa4\\xec\\xa0\\x95</span></button> \\n        <div class=\"wrap_translatelayer\"> \\n         <div class=\"layer_util layer_translate\"> <strong class=\"tit_translate\">\\xeb\\xb2\\x88\\xec\\x97\\xad<span class=\"ico_newsview\">beta</span> </strong> \\n          <p class=\"desc_translate txt_newsview\">Translated by <a href=\"https://kakao.ai/\" target=\"_blank\" class=\"link_kakaoi #util #translate #kakaoi_link\">kakao i</a></p> <strong class=\"screen_out\">\\xeb\\xb2\\x88\\xec\\x97\\xad\\xed\\x95\\xa0 \\xec\\x96\\xb8\\xec\\x96\\xb4 \\xec\\x84\\xa0\\xed\\x83\\x9d</strong> \\n          <ul class=\"list_lang\"> \\n           <li> <button class=\"btn_lang btn_en #util #translate #lang_en\" name=\"en\"> <span class=\"ico_newsview ico_flag\"></span> <strong class=\"ico_newsview tit_lang\">English</strong> </button> </li> \\n           <li> <button type=\"button\" class=\"btn_lang btn_ch #util #translate #lang_cn\" name=\"cn\"> <span class=\"ico_newsview ico_flag\"></span> <strong class=\"ico_newsview tit_lang\">\\xe7\\xae\\x80\\xe4\\xbd\\x93\\xe4\\xb8\\xad\\xe6\\x96\\x87</strong> </button> </li> \\n           <li> <button type=\"button\" class=\"btn_lang btn_jp #util #translate #lang_jp\" name=\"jp\"> <span class=\"ico_newsview ico_flag\"></span> <strong class=\"ico_newsview tit_lang\">\\xe6\\x97\\xa5\\xe6\\x9c\\xac\\xe8\\xaa\\x9e</strong> </button> </li> \\n           <li> <button type=\"button\" class=\"btn_lang btn_ind #util #translate #lang_id\" name=\"id\"> <span class=\"ico_newsview ico_flag\"></span> <strong class=\"ico_newsview tit_lang\">Bahasa Indonesia</strong> </button> </li> \\n           <li> <button type=\"button\" class=\"btn_lang btn_viet #util #translate #lang_vi\" name=\"vi\"> <span class=\"ico_newsview ico_flag\"></span> <strong class=\"ico_newsview tit_lang\">ti\\xe1\\xba\\xbfng Vi\\xe1\\xbb\\x87t</strong> </button> </li> \\n           <li> <button type=\"button\" class=\"btn_lang btn_ko #util #translate #lang_kr\" name=\"kr\"> <span class=\"ico_newsview ico_flag\"></span> <strong class=\"ico_newsview tit_lang\">\\xed\\x95\\x9c\\xea\\xb5\\xad\\xec\\x96\\xb4</strong> </button> </li> \\n          </ul> \\n         </div> \\n        </div> \\n       </div>  \\n       <div class=\"btn_util share_btn\"> <button id=\"rSocialShareButton\" class=\"btn_set btn_share\" aria-expanded=\"false\"> <span class=\"ico_newsview\">\\xea\\xb3\\xb5\\xec\\x9c\\xa0</span> </button> \\n        <div id=\"rSocialShareLayerContainer\"></div>  \\n       </div>  \\n       <div class=\"font_btn btn_util\"> <button type=\"button\" class=\"btn_set btn_font\" aria-expanded=\"false\"> <span class=\"ico_newsview ico_font\">\\xea\\xb8\\x80\\xec\\x94\\xa8\\xed\\x81\\xac\\xea\\xb8\\xb0 \\xec\\xa1\\xb0\\xec\\xa0\\x88\\xed\\x95\\x98\\xea\\xb8\\xb0</span> </button> \\n        <div class=\"wrap_setlayer\"> \\n         <div class=\"layer_util layer_set layer_font\"> <strong class=\"screen_out\">\\xea\\xb8\\x80\\xec\\x9e\\x90 \\xed\\x81\\xac\\xea\\xb8\\xb0 \\xec\\xa1\\xb0\\xec\\xa0\\x88 \\xeb\\xa0\\x88\\xec\\x9d\\xb4\\xec\\x96\\xb4</strong> \\n          <ul class=\"list_set list_font\"> \\n           <li> <input type=\"radio\" id=\"inpFont17\" name=\"inpFont\" class=\"screen_out\" value=\"17\"> <label class=\"lab_set lab_size0\" for=\"inpFont17\"> <span class=\"ico_newsview\"></span> <span aria-hidden=\"true\">\\xea\\xb0\\x80\\xeb\\x82\\x98\\xeb\\x8b\\xa4\\xeb\\x9d\\xbc\\xeb\\xa7\\x88\\xeb\\xb0\\x94\\xec\\x82\\xac</span> <span class=\"screen_out\">\\xeb\\xa7\\xa4\\xec\\x9a\\xb0 \\xec\\x9e\\x91\\xec\\x9d\\x80 \\xed\\x8f\\xb0\\xed\\x8a\\xb8</span> </label> </li> \\n           <li> <input type=\"radio\" id=\"inpFont18\" name=\"inpFont\" class=\"screen_out\" value=\"18\"> <label class=\"lab_set lab_size1\" for=\"inpFont18\"> <span class=\"ico_newsview\"></span> <span aria-hidden=\"true\">\\xea\\xb0\\x80\\xeb\\x82\\x98\\xeb\\x8b\\xa4\\xeb\\x9d\\xbc\\xeb\\xa7\\x88\\xeb\\xb0\\x94\\xec\\x82\\xac</span> <span class=\"screen_out\">\\xec\\x9e\\x91\\xec\\x9d\\x80 \\xed\\x8f\\xb0\\xed\\x8a\\xb8</span> </label> </li> \\n           <li> <input type=\"radio\" id=\"inpFont19\" name=\"inpFont\" class=\"screen_out\" value=\"19\"> <label class=\"lab_set lab_size2\" for=\"inpFont19\"> <span class=\"ico_newsview\"></span> <span aria-hidden=\"true\">\\xea\\xb0\\x80\\xeb\\x82\\x98\\xeb\\x8b\\xa4\\xeb\\x9d\\xbc\\xeb\\xa7\\x88\\xeb\\xb0\\x94\\xec\\x82\\xac</span> <span class=\"screen_out\">\\xeb\\xb3\\xb4\\xed\\x86\\xb5 \\xed\\x8f\\xb0\\xed\\x8a\\xb8</span> </label> </li> \\n           <li> <input type=\"radio\" id=\"inpFont20\" name=\"inpFont\" class=\"screen_out\" value=\"20\"> <label class=\"lab_set lab_size3\" for=\"inpFont20\"> <span class=\"ico_newsview\"></span> <span aria-hidden=\"true\">\\xea\\xb0\\x80\\xeb\\x82\\x98\\xeb\\x8b\\xa4\\xeb\\x9d\\xbc\\xeb\\xa7\\x88\\xeb\\xb0\\x94\\xec\\x82\\xac</span> <span class=\"screen_out\">\\xed\\x81\\xb0 \\xed\\x8f\\xb0\\xed\\x8a\\xb8</span> </label> </li> \\n           <li> <input type=\"radio\" id=\"inpFont21\" name=\"inpFont\" class=\"screen_out\" value=\"21\"> <label class=\"lab_set lab_size4\" for=\"inpFont21\"> <span class=\"ico_newsview\"></span> <span aria-hidden=\"true\">\\xea\\xb0\\x80\\xeb\\x82\\x98\\xeb\\x8b\\xa4\\xeb\\x9d\\xbc\\xeb\\xa7\\x88\\xeb\\xb0\\x94\\xec\\x82\\xac</span> <span class=\"screen_out\">\\xeb\\xa7\\xa4\\xec\\x9a\\xb0 \\xed\\x81\\xb0 \\xed\\x8f\\xb0\\xed\\x8a\\xb8</span> </label> </li> \\n          </ul> \\n         </div> \\n        </div> \\n       </div>  \\n       <div class=\"btn_util\"> <button type=\"button\" class=\"btn_print\"><span class=\"ico_newsview\">\\xec\\x9d\\xb8\\xec\\x87\\x84\\xed\\x95\\x98\\xea\\xb8\\xb0 \\xec\\x83\\x88\\xec\\xb0\\xbd\\xec\\x97\\xb4\\xeb\\xa6\\xbc</span></button> \\n       </div> \\n      </div> \\n     </div>               \\n    </div> \\n    <div id=\"cMain\"> \\n     <div id=\"mArticle\"> \\n      <div data-cloud-area=\"article\">   \\n       <div id=\"translateNotice\" class=\"status_view\" style=\"display:none;\" data-cloud=\"pc_article_body\"> <span class=\"notice_lang notice_lang_en\" style=\"display:none;\">The copyright belongs to the original writer of the content, and there may be errors in machine translation results.</span> <span class=\"notice_lang notice_lang_cn\" style=\"display:none;\">\\xe7\\x89\\x88\\xe6\\x9d\\x83\\xe5\\xbd\\x92\\xe5\\x86\\x85\\xe5\\xae\\xb9\\xe5\\x8e\\x9f\\xe4\\xbd\\x9c\\xe8\\x80\\x85\\xe6\\x89\\x80\\xe6\\x9c\\x89\\xe3\\x80\\x82\\xe6\\x9c\\xba\\xe5\\x99\\xa8\\xe7\\xbf\\xbb\\xe8\\xaf\\x91\\xe7\\xbb\\x93\\xe6\\x9e\\x9c\\xe5\\x8f\\xaf\\xe8\\x83\\xbd\\xe5\\xad\\x98\\xe5\\x9c\\xa8\\xe9\\x94\\x99\\xe8\\xaf\\xaf\\xe3\\x80\\x82</span> <span class=\"notice_lang notice_lang_jp\" style=\"display:none;\">\\xe5\\x8e\\x9f\\xe6\\x96\\x87\\xe3\\x81\\xae\\xe8\\x91\\x97\\xe4\\xbd\\x9c\\xe6\\xa8\\xa9\\xe3\\x81\\xaf\\xe5\\x8e\\x9f\\xe8\\x91\\x97\\xe8\\x91\\x97\\xe4\\xbd\\x9c\\xe8\\x80\\x85\\xe3\\x81\\xab\\xe3\\x81\\x82\\xe3\\x82\\x8a\\xe3\\x80\\x81\\xe6\\xa9\\x9f\\xe6\\xa2\\xb0\\xe7\\xbf\\xbb\\xe8\\xa8\\xb3\\xe3\\x81\\xae\\xe7\\xb5\\x90\\xe6\\x9e\\x9c\\xe3\\x81\\xab\\xe3\\x82\\xa8\\xe3\\x83\\xa9\\xe3\\x83\\xbc\\xe3\\x81\\x8c\\xe5\\x90\\xab\\xe3\\x81\\xbe\\xe3\\x82\\x8c\\xe3\\x82\\x8b\\xe3\\x81\\x93\\xe3\\x81\\xa8\\xe3\\x81\\x8c\\xe3\\x81\\x82\\xe3\\x82\\x8a\\xe3\\x81\\xbe\\xe3\\x81\\x99\\xe3\\x80\\x82</span> <span class=\"notice_lang notice_lang_id\" style=\"display:none;\">Hak cipta milik penulis asli dari konten, dan mungkin ditemukan kesalahan dalam hasil terjemahan mesin.</span> <span class=\"notice_lang notice_lang_vi\" style=\"display:none;\">B\\xe1\\xba\\xa3n quy\\xe1\\xbb\\x81n thu\\xe1\\xbb\\x99c v\\xe1\\xbb\\x81 t\\xc3\\xa1c gi\\xe1\\xba\\xa3 g\\xe1\\xbb\\x91c c\\xe1\\xbb\\xa7a n\\xe1\\xbb\\x99i dung v\\xc3\\xa0 c\\xc3\\xb3 th\\xe1\\xbb\\x83 c\\xc3\\xb3 l\\xe1\\xbb\\x97i trong k\\xe1\\xba\\xbft qu\\xe1\\xba\\xa3 d\\xe1\\xbb\\x8bch b\\xe1\\xba\\xb1ng m\\xc3\\xa1y.</span> \\n       </div>  \\n       <div class=\"news_view\" style=\"font-size:17px\" data-cloud=\"pc_article_body\"> \\n        <div id=\"harmonyContainer\" class=\"article_view\" data-translation-body=\"true\"> \\n         <section dmcf-sid=\"Ar9cTnWOB7\">\\n          <figure class=\"figure_frm origin_fig\" dmcf-pid=\"ATZq9Ccp8A\" dmcf-ptype=\"figure\">\\n           <p class=\"link_figure\"><img class=\"thumb_g_article\" data-org-src=\"https://t1.daumcdn.net/news/202010/04/YTN/20201004215808712mdqs.jpg\" data-org-width=\"1280\" dmcf-mid=\"ApOemxpnTx\" dmcf-mtype=\"image\" height=\"auto\" src=\"https://img1.daumcdn.net/thumb/R658x0.q70/?fname=https://t1.daumcdn.net/news/202010/04/YTN/20201004215808712mdqs.jpg\" width=\"658\"></p>\\n          </figure>\\n          <p dmcf-pid=\"A1y9MVrxj2\" dmcf-ptype=\"general\">\\xec\\x98\\xa4\\xeb\\x8a\\x94 13\\xec\\x9d\\xbc\\xeb\\xb6\\x80\\xed\\x84\\xb0 \\xeb\\xa7\\x88\\xec\\x8a\\xa4\\xed\\x81\\xac \\xec\\xb0\\xa9\\xec\\x9a\\xa9\\xec\\x9d\\xb4 \\xec\\x9d\\x98\\xeb\\xac\\xb4\\xed\\x99\\x94\\xeb\\x90\\xa9\\xeb\\x8b\\x88\\xeb\\x8b\\xa4. </p>\\n          <p dmcf-pid=\"AKbTDJJyKs\" dmcf-ptype=\"general\">\\xec\\xa0\\x95\\xeb\\xb6\\x80\\xeb\\x8a\\x94 \\xed\\x95\\x9c \\xeb\\x8b\\xac \\xea\\xb3\\x84\\xeb\\x8f\\x84 \\xea\\xb8\\xb0\\xea\\xb0\\x84\\xec\\x9d\\x84 \\xeb\\x91\\x94 \\xeb\\x92\\xa4 \\xeb\\x8b\\xa4\\xec\\x9d\\x8c \\xeb\\x8b\\xac 13\\xec\\x9d\\xbc\\xeb\\xb6\\x80\\xed\\x84\\xb0\\xeb\\x8a\\x94 \\xec\\x9c\\x84\\xeb\\xb0\\x98 \\xed\\x96\\x89\\xec\\x9c\\x84 \\xeb\\x8b\\xa8\\xec\\x86\\x8d\\xec\\x97\\x90 \\xeb\\x82\\x98\\xec\\x84\\x9c \\xec\\xb5\\x9c\\xea\\xb3\\xa0 10\\xeb\\xa7\\x8c \\xec\\x9b\\x90\\xec\\x9d\\x98 \\xea\\xb3\\xbc\\xed\\x83\\x9c\\xeb\\xa3\\x8c\\xeb\\xa5\\xbc \\xeb\\xb6\\x80\\xea\\xb3\\xbc\\xed\\x95\\xa0 \\xeb\\xb0\\xa9\\xec\\xb9\\xa8\\xec\\x9e\\x85\\xeb\\x8b\\x88\\xeb\\x8b\\xa4. </p>\\n          <p dmcf-pid=\"AuGsnA7s8k\" dmcf-ptype=\"general\">\\xec\\xa4\\x91\\xec\\x95\\x99\\xec\\x9e\\xac\\xeb\\x82\\x9c\\xec\\x95\\x88\\xec\\xa0\\x84\\xeb\\x8c\\x80\\xec\\xb1\\x85\\xeb\\xb3\\xb8\\xeb\\xb6\\x80\\xeb\\x8a\\x94 \\xec\\x98\\xa4\\xeb\\x8a\\x98 \\xeb\\xb8\\x8c\\xeb\\xa6\\xac\\xed\\x95\\x91\\xec\\x9d\\x84 \\xed\\x86\\xb5\\xed\\x95\\xb4 \\xec\\x9d\\xb4\\xea\\xb0\\x99\\xec\\x9d\\xb4 \\xeb\\xb0\\x9d\\xed\\x9e\\x88\\xea\\xb3\\xa0 \\xea\\xb5\\xad\\xeb\\xaf\\xbc\\xec\\x9d\\x98 \\xeb\\x8f\\x99\\xec\\xb0\\xb8\\xec\\x9d\\x84 \\xeb\\x8b\\xb9\\xeb\\xb6\\x80\\xed\\x96\\x88\\xec\\x8a\\xb5\\xeb\\x8b\\x88\\xeb\\x8b\\xa4. </p>\\n          <p dmcf-pid=\"A9znQ2F79a\" dmcf-ptype=\"general\">\\xec\\xa4\\x91\\xeb\\x8c\\x80\\xeb\\xb3\\xb8\\xec\\x97\\x90 \\xeb\\x94\\xb0\\xeb\\xa5\\xb4\\xeb\\xa9\\xb4 \\xeb\\xa7\\x88\\xec\\x8a\\xa4\\xed\\x81\\xac \\xec\\xb0\\xa9\\xec\\x9a\\xa9\\xec\\x9d\\x84 \\xec\\x9d\\x98\\xeb\\xac\\xb4\\xed\\x99\\x94\\xed\\x95\\x98\\xeb\\x8a\\x94 \\xed\\x96\\x89\\xec\\xa0\\x95\\xeb\\xaa\\x85\\xeb\\xa0\\xb9\\xec\\x9d\\x80 \\xea\\xb1\\xb0\\xeb\\xa6\\xac\\xeb\\x91\\x90\\xea\\xb8\\xb0 \\xeb\\x8b\\xa8\\xea\\xb3\\x84\\xec\\x99\\x80 \\xec\\x8b\\x9c\\xec\\x84\\xa4 \\xec\\x9c\\x84\\xed\\x97\\x98\\xeb\\x8f\\x84\\xec\\x97\\x90 \\xeb\\x94\\xb0\\xeb\\x9d\\xbc \\xeb\\x8b\\xa4\\xeb\\xa5\\xb4\\xea\\xb2\\x8c \\xec\\xa0\\x81\\xec\\x9a\\xa9\\xeb\\x90\\x98\\xeb\\x8a\\x94\\xeb\\x8d\\xb0 \\xeb\\x8c\\x80\\xec\\xa4\\x91\\xea\\xb5\\x90\\xed\\x86\\xb5, \\xec\\xa7\\x91\\xed\\x9a\\x8c \\xec\\x8b\\x9c\\xec\\x9c\\x84\\xec\\x9e\\xa5, \\xec\\x9d\\x98\\xeb\\xa3\\x8c\\xea\\xb8\\xb0\\xea\\xb4\\x80, \\xec\\x9a\\x94\\xec\\x96\\x91\\xec\\x8b\\x9c\\xec\\x84\\xa4, \\xec\\xa3\\xbc\\xec\\x95\\xbc\\xea\\xb0\\x84 \\xeb\\xb3\\xb4\\xed\\x98\\xb8\\xec\\x8b\\x9c\\xec\\x84\\xa4\\xec\\x9d\\x98 \\xea\\xb2\\xbd\\xec\\x9a\\xb0 \\xea\\xb1\\xb0\\xeb\\xa6\\xac\\xeb\\x91\\x90\\xea\\xb8\\xb0\\xec\\x99\\x80 \\xeb\\xac\\xb4\\xea\\xb4\\x80\\xed\\x95\\x98\\xea\\xb2\\x8c \\xed\\x95\\xad\\xec\\x83\\x81 \\xec\\x8b\\x9c\\xed\\x96\\x89\\xeb\\x90\\xa9\\xeb\\x8b\\x88\\xeb\\x8b\\xa4. </p>\\n          <p dmcf-pid=\"AJgGq4k7kq\" dmcf-ptype=\"general\">\\xeb\\x8b\\xa4\\xec\\xa4\\x91\\xec\\x9d\\xb4\\xec\\x9a\\xa9\\xec\\x8b\\x9c\\xec\\x84\\xa4\\xec\\x9d\\x80 \\xec\\x82\\xac\\xed\\x9a\\x8c\\xec\\xa0\\x81 \\xea\\xb1\\xb0\\xeb\\xa6\\xac\\xeb\\x91\\x90\\xea\\xb8\\xb0 \\xeb\\x8b\\xa8\\xea\\xb3\\x84\\xeb\\xb3\\x84\\xeb\\xa1\\x9c \\xec\\xa7\\x91\\xed\\x95\\xa9\\xec\\x9d\\xb4 \\xec\\xa0\\x9c\\xed\\x95\\x9c\\xeb\\x90\\x98\\xeb\\x8a\\x94 \\xec\\x8b\\x9c\\xec\\x84\\xa4 \\xec\\x82\\xac\\xec\\x97\\x85\\xec\\xa3\\xbc, \\xec\\xa2\\x85\\xec\\x82\\xac\\xec\\x9e\\x90, \\xec\\x9d\\xb4\\xec\\x9a\\xa9\\xec\\x9e\\x90\\xeb\\xa5\\xbc \\xeb\\x8c\\x80\\xec\\x83\\x81\\xec\\x9c\\xbc\\xeb\\xa1\\x9c \\xeb\\x8b\\xa8\\xea\\xb3\\x84\\xec\\xa0\\x81\\xec\\x9c\\xbc\\xeb\\xa1\\x9c \\xec\\xa0\\x81\\xec\\x9a\\xa9\\xeb\\x90\\xa9\\xeb\\x8b\\x88\\xeb\\x8b\\xa4. </p>\\n          <p dmcf-pid=\"AsHNxTwnXN\" dmcf-ptype=\"general\">\\xec\\xb0\\xa9\\xec\\x9a\\xa9\\xec\\x9d\\xb4 \\xec\\x9d\\xb8\\xec\\xa0\\x95\\xeb\\x90\\x98\\xeb\\x8a\\x94 \\xeb\\xa7\\x88\\xec\\x8a\\xa4\\xed\\x81\\xac\\xeb\\x8a\\x94 KF94, KF80, \\xeb\\xb9\\x84\\xeb\\xa7\\x90 \\xec\\xb0\\xa8\\xeb\\x8b\\xa8 \\xeb\\xa7\\x88\\xec\\x8a\\xa4\\xed\\x81\\xac, \\xec\\x88\\x98\\xec\\x88\\xa0\\xec\\x9a\\xa9 \\xeb\\xa7\\x88\\xec\\x8a\\xa4\\xed\\x81\\xac, \\xec\\xb2\\x9c \\xeb\\xa7\\x88\\xec\\x8a\\xa4\\xed\\x81\\xac, \\xec\\x9d\\xbc\\xed\\x9a\\x8c\\xec\\x9a\\xa9 \\xeb\\xa7\\x88\\xec\\x8a\\xa4\\xed\\x81\\xac \\xeb\\x93\\xb1\\xec\\x9d\\xb4\\xea\\xb3\\xa0 \\xeb\\xa7\\x9d\\xec\\x82\\xac\\xed\\x98\\x95\\xec\\x9d\\xb4\\xeb\\x82\\x98 \\xeb\\xb0\\xb8\\xeb\\xb8\\x8c\\xed\\x98\\x95 \\xeb\\xa7\\x88\\xec\\x8a\\xa4\\xed\\x81\\xac, \\xec\\x8a\\xa4\\xec\\xb9\\xb4\\xed\\x94\\x84 \\xeb\\x93\\xb1 \\xec\\x98\\xb7\\xea\\xb0\\x80\\xec\\xa7\\x80\\xeb\\xa1\\x9c \\xec\\x96\\xbc\\xea\\xb5\\xb4\\xec\\x9d\\x84 \\xea\\xb0\\x80\\xeb\\xa6\\xac\\xeb\\x8a\\x94 \\xea\\xb1\\xb4 \\xec\\x9d\\xb8\\xec\\xa0\\x95\\xeb\\x90\\x98\\xec\\xa7\\x80 \\xec\\x95\\x8a\\xec\\x8a\\xb5\\xeb\\x8b\\x88\\xeb\\x8b\\xa4. </p>\\n          <p dmcf-pid=\"ASJe6ELWCo\" dmcf-ptype=\"general\">\\xed\\x97\\x88\\xec\\x9a\\xa9\\xeb\\x90\\x9c \\xeb\\xa7\\x88\\xec\\x8a\\xa4\\xed\\x81\\xac\\xeb\\xa5\\xbc \\xec\\x8d\\xbc\\xeb\\x8b\\xa4 \\xed\\x95\\xb4\\xeb\\x8f\\x84 \\xec\\x9e\\x85\\xea\\xb3\\xbc \\xec\\xbd\\x94\\xeb\\xa5\\xbc \\xec\\x99\\x84\\xec\\xa0\\x84\\xed\\x9e\\x88 \\xea\\xb0\\x80\\xeb\\xa6\\xac\\xec\\xa7\\x80 \\xec\\x95\\x8a\\xec\\x9c\\xbc\\xeb\\xa9\\xb4 \\xea\\xb3\\xbc\\xed\\x83\\x9c\\xeb\\xa3\\x8c\\xea\\xb0\\x80 \\xeb\\xb6\\x80\\xea\\xb3\\xbc\\xeb\\x90\\xa0 \\xec\\x88\\x98 \\xec\\x9e\\x88\\xec\\x8a\\xb5\\xeb\\x8b\\x88\\xeb\\x8b\\xa4. </p>\\n          <p dmcf-pid=\"ABim0BHtYt\" dmcf-ptype=\"general\">\\xeb\\x8b\\xa4\\xeb\\xa7\\x8c \\xeb\\xa7\\x8c 14\\xec\\x84\\xb8 \\xeb\\xaf\\xb8\\xeb\\xa7\\x8c\\xea\\xb3\\xbc \\xeb\\xa7\\x88\\xec\\x8a\\xa4\\xed\\x81\\xac \\xec\\xb0\\xa9\\xec\\x9a\\xa9\\xec\\x9d\\xb4 \\xec\\x96\\xb4\\xeb\\xa0\\xa4\\xec\\x9a\\xb4 \\xec\\x82\\xac\\xeb\\x9e\\x8c\\xec\\x9d\\x80 \\xeb\\xb6\\x80\\xea\\xb3\\xbc \\xeb\\x8c\\x80\\xec\\x83\\x81\\xec\\x97\\x90\\xec\\x84\\x9c \\xec\\xa0\\x9c\\xec\\x99\\xb8\\xeb\\x90\\xa9\\xeb\\x8b\\x88\\xeb\\x8b\\xa4. </p>\\n          <p dmcf-pid=\"AB9utNMWkO\" dmcf-ptype=\"general\">\\xec\\x84\\xb8\\xeb\\xa9\\xb4, \\xec\\x9d\\x8c\\xec\\x8b\\x9d\\xec\\x84\\xad\\xec\\xb7\\xa8, \\xec\\x9d\\x98\\xeb\\xa3\\x8c\\xed\\x96\\x89\\xec\\x9c\\x84, \\xec\\x88\\x98\\xec\\x98\\x81\\xec\\x9e\\xa5\\xc2\\xb7\\xeb\\xaa\\xa9\\xec\\x9a\\x95\\xed\\x83\\x95 \\xeb\\x93\\xb1\\xec\\x97\\x90 \\xec\\x9e\\x88\\xec\\x9d\\x84 \\xeb\\x95\\x8c, \\xea\\xb3\\xb5\\xec\\x97\\xb0 \\xeb\\x93\\xb1 \\xec\\x96\\xbc\\xea\\xb5\\xb4\\xec\\x9d\\xb4 \\xeb\\xb3\\xb4\\xec\\x97\\xac\\xec\\x95\\xbc \\xed\\x95\\x98\\xeb\\x8a\\x94 \\xeb\\xb6\\x88\\xea\\xb0\\x80\\xed\\x94\\xbc\\xed\\x95\\x9c \\xec\\x83\\x81\\xed\\x99\\xa9\\xeb\\x8f\\x84 \\xea\\xb3\\xbc\\xed\\x83\\x9c\\xeb\\xa3\\x8c \\xeb\\xb6\\x80\\xea\\xb3\\xbc \\xec\\x98\\x88\\xec\\x99\\xb8\\xea\\xb0\\x80 \\xeb\\x90\\xa9\\xeb\\x8b\\x88\\xeb\\x8b\\xa4. </p>\\n          <p dmcf-pid=\"Af11ZuHjik\" dmcf-ptype=\"general\">\\xec\\xa0\\x95\\xeb\\xb6\\x80\\xeb\\x8a\\x94 11\\xec\\x9b\\x94 12\\xec\\x9d\\xbc\\xea\\xb9\\x8c\\xec\\xa7\\x80 30\\xec\\x9d\\xbc\\xea\\xb0\\x84 \\xea\\xb3\\x84\\xeb\\x8f\\x84 \\xea\\xb8\\xb0\\xea\\xb0\\x84\\xec\\x9d\\x84 \\xeb\\x91\\x94 \\xeb\\x92\\xa4 11\\xec\\x9b\\x94 13\\xec\\x9d\\xbc\\xeb\\xb6\\x80\\xed\\x84\\xb0 \\xec\\xa0\\x81\\xeb\\xb0\\x9c\\xeb\\x90\\x98\\xeb\\x8a\\x94 \\xec\\x9c\\x84\\xeb\\xb0\\x98 \\xed\\x96\\x89\\xec\\x9c\\x84\\xeb\\x8a\\x94 10\\xeb\\xa7\\x8c \\xec\\x9b\\x90 \\xec\\x9d\\xb4\\xed\\x95\\x98\\xec\\x9d\\x98 \\xea\\xb3\\xbc\\xed\\x83\\x9c\\xeb\\xa3\\x8c\\xeb\\xa5\\xbc \\xeb\\xb6\\x80\\xea\\xb3\\xbc\\xed\\x95\\xa0 \\xea\\xb3\\x84\\xed\\x9a\\x8d\\xec\\x9e\\x85\\xeb\\x8b\\x88\\xeb\\x8b\\xa4. </p>\\n          <p dmcf-pid=\"Aky81eZJM5\" dmcf-ptype=\"general\">\\xe2\\x80\\xbb \\'\\xeb\\x8b\\xb9\\xec\\x8b\\xa0\\xec\\x9d\\x98 \\xec\\xa0\\x9c\\xeb\\xb3\\xb4\\xea\\xb0\\x80 \\xeb\\x89\\xb4\\xec\\x8a\\xa4\\xea\\xb0\\x80 \\xeb\\x90\\xa9\\xeb\\x8b\\x88\\xeb\\x8b\\xa4\\' YTN\\xec\\x9d\\x80 \\xec\\x97\\xac\\xeb\\x9f\\xac\\xeb\\xb6\\x84\\xec\\x9d\\x98 \\xec\\x86\\x8c\\xec\\xa4\\x91\\xed\\x95\\x9c \\xec\\xa0\\x9c\\xeb\\xb3\\xb4\\xeb\\xa5\\xbc \\xea\\xb8\\xb0\\xeb\\x8b\\xa4\\xeb\\xa6\\xbd\\xeb\\x8b\\x88\\xeb\\x8b\\xa4. </p>\\n          <p dmcf-pid=\"AztPxFIjC0\" dmcf-ptype=\"general\">[\\xec\\xb9\\xb4\\xec\\xb9\\xb4\\xec\\x98\\xa4\\xed\\x86\\xa1] YTN\\xec\\x9d\\x84 \\xea\\xb2\\x80\\xec\\x83\\x89\\xed\\x95\\xb4 \\xec\\xb1\\x84\\xeb\\x84\\x90 \\xec\\xb6\\x94\\xea\\xb0\\x80 [\\xec\\xa0\\x84\\xed\\x99\\x94] 02-398-8585 [\\xeb\\xa9\\x94\\xec\\x9d\\xbc] social@ytn.co.kr [\\xec\\x98\\xa8\\xeb\\x9d\\xbc\\xec\\x9d\\xb8 \\xec\\xa0\\x9c\\xeb\\xb3\\xb4] www.ytn.co.kr</p>\\n         </section> \\n        </div> \\n       </div>  \\n      </div> \\n      <div class=\"foot_view\" data-cloud-area=\"addition\"> \\n       <div class=\"copyright_view\" data-cloud=\"pc_like_and_copylight\"> <span class=\"txt_copyright\">\\xec\\xa0\\x80\\xec\\x9e\\x91\\xea\\xb6\\x8c\\xec\\x9e\\x90(c) YTN &amp; YTN plus. \\xeb\\xac\\xb4\\xeb\\x8b\\xa8 \\xec\\xa0\\x84\\xec\\x9e\\xac-\\xec\\x9e\\xac\\xeb\\xb0\\xb0\\xed\\x8f\\xac \\xea\\xb8\\x88\\xec\\xa7\\x80</span> \\n        <div class=\"btn_empathy\" id=\"likeButton\"> \\n         <div class=\"empathy empathy_pc\" id=\"empathy_pc\"> \\n          <div class=\"inner_empathy uoc-icon\"> <a href=\"#none\" class=\"img_empathy btn_empathy uoc-button\"> <span class=\"img_empathy ico_heart\"></span> <span class=\"txt_empathy uoc-text\" style=\"display:inline-block\">\\xea\\xb3\\xb5\\xea\\xb0\\x90</span> <span class=\"num_empathy uoc-count\" style=\"display: none;\"></span> <span class=\"access_text screen_out\">\\xea\\xb3\\xb5\\xea\\xb0\\x90\\xed\\x95\\x98\\xea\\xb8\\xb0</span> </a> <a href=\"http://like.daum.net/best/daily\" target=\"_top\" class=\"img_empathy link_empathy uoc-best-button\">\\xeb\\xb2\\xa0\\xec\\x8a\\xa4\\xed\\x8a\\xb8\\xea\\xb3\\xb5\\xea\\xb0\\x90 &gt;</a> \\n          </div> \\n         </div> \\n        </div> \\n       </div>  \\n       <div class=\"cp_view\" data-cloud=\"pc_related_news\"> <strong class=\"tit_cp\">YTN \\xec\\xa3\\xbc\\xec\\x9a\\x94 \\xeb\\x89\\xb4\\xec\\x8a\\xa4<span class=\"info_cp\">\\xed\\x95\\xb4\\xeb\\x8b\\xb9 \\xec\\x96\\xb8\\xeb\\xa1\\xa0\\xec\\x82\\xac\\xeb\\xa1\\x9c \\xec\\x97\\xb0\\xea\\xb2\\xb0\\xeb\\x90\\xa9\\xeb\\x8b\\x88\\xeb\\x8b\\xa4.</span></strong> \\n        <ul class=\"list_relate\"> \\n         <li><a href=\"https://www.ytn.co.kr/_ln/0101_202010041655184185\" title=\"\\xed\\x8f\\xbc\\xed\\x8e\\x98\\xec\\x9d\\xb4\\xec\\x98\\xa4 \\xeb\\xb0\\xa9\\xed\\x95\\x9c \\xec\\x97\\xb0\\xea\\xb8\\xb0...\\xec\\x9d\\xbc\\xeb\\xb3\\xb8 \\'\\xec\\xbf\\xbc\\xeb\\x93\\x9c\\' \\xed\\x9a\\x8c\\xec\\x9d\\x98\\xec\\x97\\x94 \\xec\\x98\\x88\\xec\\xa0\\x95\\xeb\\x8c\\x80\\xeb\\xa1\\x9c \\xec\\xb0\\xb8\\xec\\x84\\x9d\" class=\"link_txt\" target=\"_blank\" data-type=\"related\">\\xed\\x8f\\xbc\\xed\\x8e\\x98\\xec\\x9d\\xb4\\xec\\x98\\xa4 \\xeb\\xb0\\xa9\\xed\\x95\\x9c \\xec\\x97\\xb0\\xea\\xb8\\xb0...\\xec\\x9d\\xbc\\xeb\\xb3\\xb8 \\'\\xec\\xbf\\xbc\\xeb\\x93\\x9c\\' \\xed\\x9a\\x8c\\xec\\x9d\\x98\\xec\\x97\\x94 \\xec\\x98\\x88\\xec\\xa0\\x95\\xeb\\x8c\\x80\\xeb\\xa1\\x9c \\xec\\xb0\\xb8\\xec\\x84\\x9d</a></li> \\n         <li><a href=\"https://www.ytn.co.kr/_ln/0103_202010041635058443\" title=\"\\xec\\x95\\xa1\\xec\\x83\\x81\\xed\\x98\\x95 \\xec\\xa0\\x84\\xec\\x9e\\x90\\xeb\\x8b\\xb4\\xeb\\xb0\\xb0 \\xeb\\x8f\\x85\\xec\\x84\\xb1, \\xec\\x84\\xb8\\xed\\x8f\\xac\\xc2\\xb7\\xeb\\x8f\\x99\\xeb\\xac\\xbc\\xed\\x9d\\xa1\\xec\\x9e\\x85 \\xec\\x8b\\x9c\\xed\\x97\\x98\\xec\\x97\\x90\\xec\\x84\\x9c\\xeb\\x8f\\x84 \\xed\\x99\\x95\\xec\\x9d\\xb8\" class=\"link_txt\" target=\"_blank\" data-type=\"related\">\\xec\\x95\\xa1\\xec\\x83\\x81\\xed\\x98\\x95 \\xec\\xa0\\x84\\xec\\x9e\\x90\\xeb\\x8b\\xb4\\xeb\\xb0\\xb0 \\xeb\\x8f\\x85\\xec\\x84\\xb1, \\xec\\x84\\xb8\\xed\\x8f\\xac\\xc2\\xb7\\xeb\\x8f\\x99\\xeb\\xac\\xbc\\xed\\x9d\\xa1\\xec\\x9e\\x85 \\xec\\x8b\\x9c\\xed\\x97\\x98\\xec\\x97\\x90\\xec\\x84\\x9c\\xeb\\x8f\\x84 \\xed\\x99\\x95\\xec\\x9d\\xb8</a></li> \\n         <li><a href=\"https://www.ytn.co.kr/_ln/0103_202010032159119540\" title=\"\\xeb\\xb3\\xb4\\xec\\x88\\x98 \\xeb\\x8b\\xa8\\xec\\xb2\\xb4\\xeb\\x93\\xa4, \\xec\\xa0\\x95\\xeb\\xb6\\x80 \\xea\\xb7\\x9c\\xed\\x83\\x84 \\xec\\x8b\\x9c\\xec\\x9c\\x84...\\xed\\x81\\xb0 \\xec\\xb6\\xa9\\xeb\\x8f\\x8c \\xec\\x97\\x86\\xec\\x97\\x88\\xeb\\x8b\\xa4\" class=\"link_txt\" target=\"_blank\" data-type=\"related\">\\xeb\\xb3\\xb4\\xec\\x88\\x98 \\xeb\\x8b\\xa8\\xec\\xb2\\xb4\\xeb\\x93\\xa4, \\xec\\xa0\\x95\\xeb\\xb6\\x80 \\xea\\xb7\\x9c\\xed\\x83\\x84 \\xec\\x8b\\x9c\\xec\\x9c\\x84...\\xed\\x81\\xb0 \\xec\\xb6\\xa9\\xeb\\x8f\\x8c \\xec\\x97\\x86\\xec\\x97\\x88\\xeb\\x8b\\xa4</a></li> \\n         <li><a href=\"https://www.ytn.co.kr/_ln/0104_202010041301141741\" title=\"&quot;\\xe4\\xb8\\xad \\xec\\xa0\\x84\\xed\\x88\\xac\\xea\\xb8\\xb0 200\\xec\\xb4\\x88\\xeb\\xa9\\xb4 \\xed\\x83\\x80\\xec\\x9d\\xb4\\xec\\x99\\x84\\xec\\x97\\x90...1996\\xeb\\x85\\x84 \\xec\\x9d\\xb4\\xed\\x9b\\x84 \\xec\\xb5\\x9c\\xeb\\x8c\\x80 \\xea\\xb5\\xb0\\xec\\x82\\xac\\xec\\xa0\\x81 \\xec\\x9c\\x84\\xea\\xb8\\xb0 \\xec\\xa7\\x81\\xeb\\xa9\\xb4&quot;\" class=\"link_txt\" target=\"_blank\" data-type=\"related\">\"\\xe4\\xb8\\xad \\xec\\xa0\\x84\\xed\\x88\\xac\\xea\\xb8\\xb0 200\\xec\\xb4\\x88\\xeb\\xa9\\xb4 \\xed\\x83\\x80\\xec\\x9d\\xb4\\xec\\x99\\x84\\xec\\x97\\x90...1996\\xeb\\x85\\x84 \\xec\\x9d\\xb4\\xed\\x9b\\x84 \\xec\\xb5\\x9c\\xeb\\x8c\\x80 \\xea\\xb5\\xb0\\xec\\x82\\xac\\xec\\xa0\\x81 \\xec\\x9c\\x84\\xea\\xb8\\xb0 \\xec\\xa7\\x81\\xeb\\xa9\\xb4\"</a></li> \\n         <li><a href=\"https://www.ytn.co.kr/_ln/0104_202010041445013205\" title=\"\\xeb\\x9d\\xbc\\xec\\x9d\\xb4\\xeb\\xb8\\x8c \\xeb\\xb0\\xa9\\xec\\x86\\xa1 \\xec\\xa4\\x91 \\xec\\xa0\\x84\\xeb\\x82\\xa8\\xed\\x8e\\xb8\\xec\\x9d\\xb4 \\xeb\\xb6\\x99\\xec\\x9d\\xb8 \\xeb\\xb6\\x88\\xec\\x97\\x90...\\xe4\\xb8\\xad \\xec\\x97\\xac\\xec\\x84\\xb1 \\xec\\x82\\xac\\xeb\\xa7\\x9d\" class=\"link_txt\" target=\"_blank\" data-type=\"related\">\\xeb\\x9d\\xbc\\xec\\x9d\\xb4\\xeb\\xb8\\x8c \\xeb\\xb0\\xa9\\xec\\x86\\xa1 \\xec\\xa4\\x91 \\xec\\xa0\\x84\\xeb\\x82\\xa8\\xed\\x8e\\xb8\\xec\\x9d\\xb4 \\xeb\\xb6\\x99\\xec\\x9d\\xb8 \\xeb\\xb6\\x88\\xec\\x97\\x90...\\xe4\\xb8\\xad \\xec\\x97\\xac\\xec\\x84\\xb1 \\xec\\x82\\xac\\xeb\\xa7\\x9d</a></li> \\n         <li><a href=\"https://www.ytn.co.kr/_ln/0101_202010170053332471\" title=\"\\'\\xea\\xb9\\x80\\xec\\xa0\\x95\\xec\\x9d\\x80 \\xec\\x9d\\x98\\xec\\xa0\\x84\\' \\xea\\xbf\\xb0\\xec\\xb0\\xac \\xed\\x98\\x84\\xec\\x86\\xa1\\xec\\x9b\\x94...\\xea\\xb9\\x80\\xec\\x97\\xac\\xec\\xa0\\x95 \\xec\\x97\\xad\\xed\\x95\\xa0 \\xeb\\xac\\xbc\\xeb\\x9f\\xac\\xec\\xa4\\xac\\xeb\\x82\\x98\" class=\"link_txt\" target=\"_blank\" data-type=\"rss\">\\'\\xea\\xb9\\x80\\xec\\xa0\\x95\\xec\\x9d\\x80 \\xec\\x9d\\x98\\xec\\xa0\\x84\\' \\xea\\xbf\\xb0\\xec\\xb0\\xac \\xed\\x98\\x84\\xec\\x86\\xa1\\xec\\x9b\\x94...\\xea\\xb9\\x80\\xec\\x97\\xac\\xec\\xa0\\x95 \\xec\\x97\\xad\\xed\\x95\\xa0 \\xeb\\xac\\xbc\\xeb\\x9f\\xac\\xec\\xa4\\xac\\xeb\\x82\\x98</a></li> \\n         <li><a href=\"https://www.ytn.co.kr/_ln/0104_202010170702242643\" title=\"[\\xec\\x86\\x8d\\xeb\\xb3\\xb4] \\xe6\\x97\\xa5\\xec\\x8a\\xa4\\xea\\xb0\\x80, \\'A\\xea\\xb8\\x89\\xec\\xa0\\x84\\xeb\\xb2\\x94 \\xeb\\xb4\\x89\\xec\\x95\\x88\\' \\xec\\x95\\xbc\\xec\\x8a\\xa4\\xec\\xbf\\xa0\\xeb\\x8b\\x88\\xec\\x8b\\xa0\\xec\\x82\\xac \\xea\\xb0\\x80\\xec\\x9d\\x84\\xec\\xa0\\x9c\\xec\\x82\\xac \\xea\\xb3\\xb5\\xeb\\xac\\xbc \\xeb\\xb0\\x94\\xec\\xb3\\x90\" class=\"link_txt\" target=\"_blank\" data-type=\"rss\">[\\xec\\x86\\x8d\\xeb\\xb3\\xb4] \\xe6\\x97\\xa5\\xec\\x8a\\xa4\\xea\\xb0\\x80, \\'A\\xea\\xb8\\x89\\xec\\xa0\\x84\\xeb\\xb2\\x94 \\xeb\\xb4\\x89\\xec\\x95\\x88\\' \\xec\\x95\\xbc\\xec\\x8a\\xa4\\xec\\xbf\\xa0\\xeb\\x8b\\x88\\xec\\x8b\\xa0\\xec\\x82\\xac \\xea\\xb0\\x80\\xec\\x9d\\x84\\xec\\xa0\\x9c\\xec\\x82\\xac \\xea\\xb3\\xb5\\xeb\\xac\\xbc \\xeb\\xb0\\x94\\xec\\xb3\\x90</a></li> \\n         <li><a href=\"https://www.ytn.co.kr/_ln/0102_202010170625407309\" title=\"[\\xed\\x8c\\xa9\\xed\\x8a\\xb8\\xec\\x99\\x80\\xec\\x9d\\xb4] \\xed\\x95\\x9c\\xea\\xb5\\xad\\xec\\x97\\x90\\xec\\x84\\x9c \\xeb\\x96\\xbc\\xeb\\x8f\\x88 \\xeb\\xb2\\x8c\\xea\\xb3\\xa0 \\xed\\x95\\x9c\\xea\\xb5\\xad\\xec\\x97\\x90\\xeb\\x8a\\x94 \\xec\\x84\\xb8\\xea\\xb8\\x88 0\\xec\\x9b\\x90?\" class=\"link_txt\" target=\"_blank\" data-type=\"rss\">[\\xed\\x8c\\xa9\\xed\\x8a\\xb8\\xec\\x99\\x80\\xec\\x9d\\xb4] \\xed\\x95\\x9c\\xea\\xb5\\xad\\xec\\x97\\x90\\xec\\x84\\x9c \\xeb\\x96\\xbc\\xeb\\x8f\\x88 \\xeb\\xb2\\x8c\\xea\\xb3\\xa0 \\xed\\x95\\x9c\\xea\\xb5\\xad\\xec\\x97\\x90\\xeb\\x8a\\x94 \\xec\\x84\\xb8\\xea\\xb8\\x88 0\\xec\\x9b\\x90?</a></li> \\n         <li><a href=\"https://www.ytn.co.kr/_ln/0104_202010170815310380\" title=\"\\xec\\x84\\x9c\\xec\\x95\\x84\\xed\\x94\\x84\\xeb\\xa6\\xac\\xec\\xb9\\xb4 \\xed\\x94\\xbc\\xeb\\x9e\\x8d \\xed\\x95\\x9c\\xea\\xb5\\xad\\xec\\x9d\\xb8 \\xec\\x84\\xa0\\xec\\x9b\\x90 2\\xeb\\xaa\\x85, 50\\xec\\x9d\\xbc \\xeb\\xa7\\x8c\\xec\\x97\\x90 \\xec\\x84\\x9d\\xeb\\xb0\\xa9\" class=\"link_txt\" target=\"_blank\" data-type=\"rss\">\\xec\\x84\\x9c\\xec\\x95\\x84\\xed\\x94\\x84\\xeb\\xa6\\xac\\xec\\xb9\\xb4 \\xed\\x94\\xbc\\xeb\\x9e\\x8d \\xed\\x95\\x9c\\xea\\xb5\\xad\\xec\\x9d\\xb8 \\xec\\x84\\xa0\\xec\\x9b\\x90 2\\xeb\\xaa\\x85, 50\\xec\\x9d\\xbc \\xeb\\xa7\\x8c\\xec\\x97\\x90 \\xec\\x84\\x9d\\xeb\\xb0\\xa9</a></li> \\n        </ul> \\n       </div> \\n       <div id=\"alex-scroll-area\" data-cloud=\"pc_article_bottom_ad\"></div> \\n       <ins class=\"kakao_ad_area recomm_ad\" style=\"display:block; width: 658px; text-decoration: none; min-width: 658px;\" data-ad-unit=\"DAN-1jezdswwiit7q\" data-ad-width=\"658\" data-ad-height=\"90\" data-ad-onfail=\"cmRenderFailCallBack\" data-cloud=\"pc_article_bottom_ad\"> </ins>  \\n       <div class=\"cmt_news cmt_view\" data-cloud=\"pc_comment\"> \\n        <div id=\"newsviewNotice\" class=\"news_notice\"></div>  \\n        <div id=\"alex-area\" class=\"alex-area\" data-base-url=\"//comment.daum.net\" data-post-id=\"@20201004215700006\" data-client-id=\"26BXAvKny5WF5Z09lr5k77Y8\" data-kakao-appkey=\"9076ba452fea1a434141d6b6a2c11a3c\" data-initial-limit=\"3\" data-page-limit=\"10\" data-sort=\"P\" data-use-my=\"true\" data-max-length=\"300\" data-use-reply=\"true\" data-use-official=\"true\" data-use-emoticon=\"true\" data-use-social-share=\"true\" data-use-attachment=\"false\" data-is-mobile=\"false\" data-show-mask-alert=\"true\" data-use-live-comment-mode=\"notify\" data-use-fold=\"true\" data-use-skin=\"newsView\"> \\n        </div>   \\n       </div> \\n      </div> \\n     </div> \\n     <div id=\"mAside\" data-cloud-area=\"aside\"> \\n      <ins style=\"display:block;width:250px;height:250px;\" class=\"kakao_ad_area aside_g aside_ad\" data-ad-unit=\"05d24\" data-ad-type=\"D\" data-ad-width=\"250\" data-ad-height=\"250\" data-cloud=\"pc_aside_top_ad\"> </ins> \\n      <div class=\"aside_g aside_popular hide\" data-cloud=\"pc_popular_news\"> \\n       <h3 class=\"txt_newsview\">\\xeb\\xa7\\x8e\\xec\\x9d\\xb4\\xeb\\xb3\\xb8 \\xeb\\x89\\xb4\\xec\\x8a\\xa4</h3> \\n       <ul class=\"tab_aside tab_media\"> \\n        <li class=\"on\"> <a href=\"#none\" class=\"link_tab link_tab2\">\\xeb\\x89\\xb4\\xec\\x8a\\xa4</a> </li> \\n        <li class=\"\"> <a href=\"#none\" class=\"link_tab link_tab3\">\\xec\\x97\\xb0\\xec\\x98\\x88</a> </li> \\n        <li class=\"\"> <a href=\"#none\" class=\"link_tab link_tab4\">\\xec\\x8a\\xa4\\xed\\x8f\\xac\\xec\\xb8\\xa0</a> </li> \\n       </ul> \\n      </div>  \\n      <div class=\"aside_g aside_phototv hide\" data-cloud=\"pc_news_photo_tv\"> \\n       <h3 class=\"txt_newsview\">\\xed\\x8f\\xac\\xed\\x86\\xa0&amp;TV</h3> \\n       <div class=\"cont_aside\"> \\n        <ul class=\"list_phototv\"></ul> \\n       </div> \\n      </div>  \\n      <ins style=\"display:block;width:250px;height:250px;\" class=\"kakao_ad_area aside_g aside_ad\" data-ad-unit=\"0QH44\" data-ad-type=\"D\" data-ad-width=\"250\" data-ad-height=\"250\" data-cloud=\"pc_aside_bottom_ad\"> </ins> \\n     </div> \\n    </div> \\n    <div id=\"cEtc\"> \\n     <div class=\"realtime_view\"> \\n      <div class=\"inner_realtime\"> \\n       <div data-cloud-area=\"etc\"> \\n        <div data-cloud=\"pc_realtime_news\" data-cloud-key=\"TOROS_NEWS_PC\" data-cloud-ui=\"RealTimeNews\">  \\n        </div> \\n       </div> \\n       <div class=\"realtime_aside\" id=\"realtime_aside\" data-cloud-area=\"etc-aside\"> \\n        <div id=\"daum-sfocus-root\" class=\"shopad_news aside_g aside_shopping\" data-cloud=\"pc_shopping_ad\"></div>   \\n       </div> \\n      </div> \\n     </div> \\n     <div data-cloud-area=\"etc-addition\"> \\n     </div> \\n    </div> \\n   </div> \\n   <hr class=\"hide\"> \\n   <div class=\"footer_comm\" id=\"kakaoFoot\" role=\"contentinfo\" data-cloud-area=\"footer\"> \\n    <div class=\"inner_foot\" data-cloud=\"pc_news_footer\"> \\n     <div class=\"direct_link\"> \\n      <h2 class=\"tit_direct\">\\xeb\\xb0\\x94\\xeb\\xa1\\x9c\\xea\\xb0\\x80\\xea\\xb8\\xb0</h2> \\n      <div class=\"item_bundle\"> <a class=\"link_txt\" href=\"https://news.daum.net/\">\\xeb\\x89\\xb4\\xec\\x8a\\xa4\\xed\\x99\\x88</a> <a class=\"link_txt\" href=\"https://news.daum.net/society/\">\\xec\\x82\\xac\\xed\\x9a\\x8c</a> <a class=\"link_txt\" href=\"https://news.daum.net/politics/\">\\xec\\xa0\\x95\\xec\\xb9\\x98</a> <a class=\"link_txt\" href=\"https://news.daum.net/economic/\">\\xea\\xb2\\xbd\\xec\\xa0\\x9c</a> <a class=\"link_txt\" href=\"https://news.daum.net/foreign/\">\\xea\\xb5\\xad\\xec\\xa0\\x9c</a> <a class=\"link_txt\" href=\"https://news.daum.net/culture/\">\\xeb\\xac\\xb8\\xed\\x99\\x94</a> <a class=\"link_txt\" href=\"https://news.daum.net/digital/\">IT</a> <a class=\"link_txt\" href=\"https://news.daum.net/photo/\">\\xed\\x8f\\xac\\xed\\x86\\xa0</a> <a class=\"link_txt\" href=\"http://news.daum.net/tv/\">TV</a> \\n      </div> \\n      <div class=\"item_bundle\"> <a class=\"link_txt\" href=\"https://news.daum.net/cp\">\\xec\\x96\\xb8\\xeb\\xa1\\xa0\\xec\\x82\\xac\\xeb\\xb3\\x84 \\xeb\\x89\\xb4\\xec\\x8a\\xa4</a> \\n      </div> \\n      <div class=\"item_bundle\"> <a class=\"link_txt\" href=\"https://news.daum.net/newsbox\">\\xeb\\xb0\\xb0\\xec\\x97\\xb4\\xec\\x9d\\xb4\\xeb\\xa0\\xa5</a> \\n      </div> \\n      <div class=\"item_bundle\"> <a class=\"link_txt\" href=\"https://news.daum.net/breakingnews\">\\xec\\xa0\\x84\\xec\\xb2\\xb4\\xeb\\x89\\xb4\\xec\\x8a\\xa4</a> <a class=\"link_txt\" href=\"https://news.daum.net/ranking/popular\">\\xeb\\x9e\\xad\\xed\\x82\\xb9</a> <a class=\"link_txt\" href=\"https://news.daum.net/series\">\\xec\\x97\\xb0\\xec\\x9e\\xac</a> <a class=\"link_txt\" href=\"https://news.daum.net/1boon\">1boon</a> \\n      </div> <button class=\"btn_fold\" type=\"button\"><span class=\"ico_news\">\\xeb\\xb0\\x94\\xeb\\xa1\\x9c\\xea\\xb0\\x80\\xea\\xb8\\xb0 \\xeb\\xa7\\x81\\xed\\x81\\xac \\xeb\\x8d\\x94\\xeb\\xb3\\xb4\\xea\\xb8\\xb0/\\xec\\xa0\\x91\\xea\\xb8\\xb0</span></button> \\n     </div> \\n     <h2 class=\"screen_out\">\\xec\\x84\\x9c\\xeb\\xb9\\x84\\xec\\x8a\\xa4 \\xec\\x9d\\xb4\\xec\\x9a\\xa9\\xec\\xa0\\x95\\xeb\\xb3\\xb4</h2> \\n     <div class=\"footer_link\"> <a class=\"link_info\" href=\"https://news.daum.net/info/intro\">\\xeb\\x8b\\xa4\\xec\\x9d\\x8c\\xeb\\x89\\xb4\\xec\\x8a\\xa4 \\xec\\x86\\x8c\\xea\\xb0\\x9c</a> <span class=\"txt_dot\"> \\xe3\\x83\\xbb </span> <a class=\"link_info\" href=\"https://news.daum.net/notice\">\\xea\\xb3\\xb5\\xec\\xa7\\x80\\xec\\x82\\xac\\xed\\x95\\xad</a> <span class=\"txt_dot\"> \\xe3\\x83\\xbb </span> <a class=\"link_info\" href=\"https://news.daum.net/info/bbsrule\">\\xea\\xb2\\x8c\\xec\\x8b\\x9c\\xeb\\xac\\xbc \\xec\\x9a\\xb4\\xec\\x98\\x81\\xec\\x9b\\x90\\xec\\xb9\\x99</a> <span class=\"txt_dot\"> \\xe3\\x83\\xbb </span> <a class=\"link_info\" href=\"http://policy.daum.net/info/info\">\\xec\\x84\\x9c\\xeb\\xb9\\x84\\xec\\x8a\\xa4 \\xec\\x95\\xbd\\xea\\xb4\\x80/\\xec\\xa0\\x95\\xec\\xb1\\x85</a> <span class=\"txt_dot\"> \\xe3\\x83\\xbb </span> <a class=\"link_info\" href=\"https://with.kakao.com/media\">\\xeb\\x89\\xb4\\xec\\x8a\\xa4\\xec\\xa0\\x9c\\xed\\x9c\\xb4</a> <span class=\"txt_dot\"> \\xe3\\x83\\xbb </span> <a class=\"link_info\" href=\"https://business.kakao.com/\">\\xeb\\xb9\\x84\\xec\\xa6\\x88\\xeb\\x8b\\x88\\xec\\x8a\\xa4</a> <span class=\"txt_dot\"> \\xe3\\x83\\xbb </span> <a class=\"link_info\" href=\"https://cs.daum.net/redbell/top.html\">\\xea\\xb6\\x8c\\xeb\\xa6\\xac\\xec\\xb9\\xa8\\xed\\x95\\xb4\\xec\\x8b\\xa0\\xea\\xb3\\xa0</a> <span class=\"txt_dot\"> \\xe3\\x83\\xbb </span> <a class=\"link_info\" href=\"https://cs.daum.net/faq/63.html\">\\xeb\\x8b\\xa4\\xec\\x9d\\x8c\\xeb\\x89\\xb4\\xec\\x8a\\xa4 \\xea\\xb3\\xa0\\xea\\xb0\\x9d\\xec\\x84\\xbc\\xed\\x84\\xb0</a> \\n     </div> \\n     <div class=\"footer_link\"> <a class=\"link_info\" href=\"https://news.daum.net/info/newscenter24\">24\\xec\\x8b\\x9c\\xea\\xb0\\x84 \\xeb\\x89\\xb4\\xec\\x8a\\xa4\\xec\\x84\\xbc\\xed\\x84\\xb0</a> <span class=\"txt_dot\"> \\xe3\\x83\\xbb </span> <a class=\"link_info\" href=\"https://news.daum.net/info/edit\">\\xec\\x84\\x9c\\xeb\\xb9\\x84\\xec\\x8a\\xa4\\xec\\x9b\\x90\\xec\\xb9\\x99</a> <span class=\"txt_dot\"> \\xe3\\x83\\xbb </span> <a class=\"link_info\" href=\"https://news.daum.net/info/correct\">\\xeb\\xb0\\x94\\xeb\\xa1\\x9c\\xec\\x9e\\xa1\\xec\\x8a\\xb5\\xeb\\x8b\\x88\\xeb\\x8b\\xa4</a> <span class=\"txt_dot\"> \\xe3\\x83\\xbb </span> <span class=\"link_info\">\\xea\\xb8\\xb0\\xec\\x82\\xac\\xeb\\xb0\\xb0\\xec\\x97\\xb4\\xec\\xb1\\x85\\xec\\x9e\\x84\\xec\\x9e\\x90 : \\xec\\x86\\x90\\xec\\xa0\\x95\\xec\\x95\\x84</span> <span class=\"txt_dot\"> \\xe3\\x83\\xbb </span> <span class=\"link_info\">\\xec\\xb2\\xad\\xec\\x86\\x8c\\xeb\\x85\\x84\\xeb\\xb3\\xb4\\xed\\x98\\xb8\\xec\\xb1\\x85\\xec\\x9e\\x84\\xec\\x9e\\x90 : \\xec\\x9d\\xb4\\xec\\xa4\\x80\\xeb\\xaa\\xa9</span> \\n     </div> \\n     <div class=\"info_copyright\"> <strong class=\"info_warn\">\\xec\\x9c\\x84 \\xeb\\x82\\xb4\\xec\\x9a\\xa9\\xec\\x97\\x90 \\xeb\\x8c\\x80\\xed\\x95\\x9c \\xec\\xa0\\x80\\xec\\x9e\\x91\\xea\\xb6\\x8c \\xeb\\xb0\\x8f \\xeb\\xb2\\x95\\xec\\xa0\\x81 \\xec\\xb1\\x85\\xec\\x9e\\x84\\xec\\x9d\\x80 \\xec\\x9e\\x90\\xeb\\xa3\\x8c\\xec\\xa0\\x9c\\xea\\xb3\\xb5\\xec\\x82\\xac \\xeb\\x98\\x90\\xeb\\x8a\\x94 <br>\\xea\\xb8\\x80\\xec\\x93\\xb4\\xec\\x9d\\xb4\\xec\\x97\\x90 \\xec\\x9e\\x88\\xec\\x9c\\xbc\\xeb\\xa9\\xb0, Kakao\\xec\\x9d\\x98 \\xec\\x9e\\x85\\xec\\x9e\\xa5\\xea\\xb3\\xbc \\xeb\\x8b\\xa4\\xeb\\xa5\\xbc \\xec\\x88\\x98 \\xec\\x9e\\x88\\xec\\x8a\\xb5\\xeb\\x8b\\x88\\xeb\\x8b\\xa4.</strong> <small class=\"txt_copyright\">Copyright \\xc2\\xa9 <strong class=\"txt_kakao\"><a href=\"http://www.kakaocorp.com/\" class=\"link_kakao\">Kakao Corp.</a></strong> All rights reserved.</small> \\n     </div> \\n    </div>   \\n   </div> \\n   <div id=\"wrapMinidaum\"></div> <samp data-cloud-area=\"util\">           </samp> \\n  </div>  \\n  <script src=\"//t1.daumcdn.net/harmony_static/cloud/2020/09/17/vendor.5f3285ceedc6f1b7143b.js\"></script>\\n  <script src=\"//t1.daumcdn.net/harmony_static/cloud/2020/09/17/common.02e51d37fbd4eb973bb8.js\"></script>\\n  <script src=\"//t1.daumcdn.net/harmony_static/cloud/2020/09/17/components.21fc0700278d03c33a95.js\"></script>\\n  <script src=\"//t1.daumcdn.net/kas/static/ba.min.js\"></script>\\n  <script src=\"//m1.daumcdn.net/svc/original/U03/cssjs/userAgent/userAgent-1.0.12.min.js\"></script>\\n  <script>\"use strict\"; function _instanceof(left, right) { if (right != null && typeof Symbol !== \"undefined\" && right[Symbol.hasInstance]) { return !!right[Symbol.hasInstance](left); } else { return left instanceof right; } } function _classCallCheck(instance, Constructor) { if (!_instanceof(instance, Constructor)) { throw new TypeError(\"Cannot call a class as a function\"); } } function _defineProperties(target, props) { for (var i = 0; i < props.length; i++) { var descriptor = props[i]; descriptor.enumerable = descriptor.enumerable || false; descriptor.configurable = true; if (\"value\" in descriptor) descriptor.writable = true; Object.defineProperty(target, descriptor.key, descriptor); } } function _createClass(Constructor, protoProps, staticProps) { if (protoProps) _defineProperties(Constructor.prototype, protoProps); if (staticProps) _defineProperties(Constructor, staticProps); return Constructor; } (function () { var weatherLayer = document.querySelector(\\'.gnb_weather\\'); var weatherList = weatherLayer.querySelector(\\'ul\\'); var weatherApiUrl = \"\".concat(Conf.api.hadesRest, \"/pc_weather\"); axios.get(weatherApiUrl).then(function (res) { var _res$data$body$data = res.data.body.data, isNightIconYn = _res$data$body$data.isNightIconYn, weatherData = _res$data$body$data.weatherData; weatherList.dataset.nightyn = isNightIconYn; weatherList.innerHTML = weatherData.map(function (_ref) { var weatherIconCode = _ref.weatherIconCode, specialRegionName = _ref.specialRegionName, temperature = _ref.temperature; return \"\\\\n <li>\\\\n <a href=\\\\\"http://search.daum.net/search?nil_suggest=btn&amp;w=tot&amp;DA=SBC&amp;q=\".concat(specialRegionName, \"%20\\\\uB0A0\\\\uC528\\\\\" class=\\\\\"link_cont\\\\\">\\\\n <span class=\\\\\"ico_weather ico_weather\").concat(weatherIconCode, \"\\\\\">\").concat(specialRegionName, \"</span> \\\\n <span class=\\\\\"txt_weather\\\\\">\").concat(specialRegionName, \"\\\\n <span class=\\\\\"num_heat\\\\\">\").concat(temperature, \"</span> \\\\n <span class=\\\\\"txt_heat\\\\\">\\\\u2103</span>\\\\n </span>\\\\n </a>\\\\n </li>\\\\n \"); }).join(\\'\\'); var newsTicker = new NewsTicker(weatherList); }).catch(function (error) { removeWeatherLayer(); }); var NewsTicker = /*#__PURE__*/ function () { function NewsTicker(list) { _classCallCheck(this, NewsTicker); this.PAUSE_TIME = 4000; this.TRANSITION_TIME = 500; this.list = list; this.frameId = null; this.pause = this.pause.bind(this); this.start = this.start.bind(this); this.moveUp = this.moveUp.bind(this); this.init(); this.start(); this.list.style.marginTop = \\'0px\\'; } _createClass(NewsTicker, [{ key: \"start\", value: function start() { this.frameId = setInterval(this.moveUp, this.PAUSE_TIME); } }, { key: \"pause\", value: function pause() { clearInterval(this.frameId); } }, { key: \"moveUp\", value: function moveUp() { var list = this.list; var clone = list.firstElementChild.cloneNode(true); list.classList.add(\\'slidein\\'); list.style.marginTop = \\'-30px\\'; setTimeout(function () { list.classList.remove(\\'slidein\\'); list.style.marginTop = \\'0px\\'; list.removeChild(list.firstElementChild); list.appendChild(clone); }, this.TRANSITION_TIME); } }, { key: \"init\", value: function init() { var list = this.list; list.addEventListener(\\'mouseenter\\', this.pause); list.addEventListener(\\'mouseleave\\', this.start); } }]); return NewsTicker; }(); function removeWeatherLayer() { weatherLayer.parentNode.removeChild(weatherLayer); } })();</script>\\n  <script>\"use strict\"; (function () { var serviceParams = \\'\\'; var categoryName = serviceParams.indexOf(\\'tv_news\\') > -1 ? \\'tv\\' : \\'society\\'; var gnb = document.querySelector(\\'.gnb_comm\\'); var currentCategory = categoryName && gnb.querySelector(\".\".concat(categoryName)); currentCategory && currentCategory.setAttribute(\\'class\\', \"\".concat(categoryName, \" on\")); })();</script>\\n  <script src=\"https://t1.daumcdn.net/cssjs/jquery/jquery-1.9.0.min.js\"></script>\\n  <script src=\"https://search1.daumcdn.net/search/suggest_pc/suggest-1.2.16.min.js\"></script>\\n  <script>\"use strict\"; (function ($) { var SUGGEST_APP_KEY = \\'d7022f6ca2a04430ce1b97b922da58e8\\'; var searchLayer = document.getElementById(\\'search_news\\'); var suggestInstance = new suggest.Suggest(document.getElementById(\"search_news\"), { inputEl: \\'qVal\\', suggestBoxEl: \\'suggestBox\\', autoFocus: \\'NORMAL\\', suggestLimit: 10, isReverse: false, searchURL: \\'https://search.daum.net/search\\', APIServer: { host: \\'//dapi.kakao.com/suggest/v2/pc.json\\', apiType: suggest.Suggest.APITYPE.DAPISUGGEST, appkey: SUGGEST_APP_KEY, queries: { \\'mod\\': \\'json\\', \\'code\\': \\'utf_in_out\\' } } }); /* \\xec\\xb6\\x94\\xec\\xb2\\x9c \\xea\\xb2\\x80\\xec\\x83\\x89\\xec\\x96\\xb4 \\xeb\\xa7\\x88\\xec\\x9a\\xb0\\xec\\x8a\\xa4 \\xed\\x81\\xb4\\xeb\\xa6\\xad\\xec\\x8b\\x9c \\xea\\xb2\\x80\\xec\\x83\\x89\\xec\\x9c\\xbc\\xeb\\xa1\\x9c \\xeb\\xb3\\xb4\\xeb\\x82\\xb8\\xeb\\x8b\\xa4. */ suggestInstance.on(\\'click-item\\', function () { var kakaoSearch = document.getElementById(\\'kakaoSearch\\'); kakaoSearch.querySelector(\"input[name=\\'DA\\']\").value = \\'23B\\'; kakaoSearch.submit(); }); var queryInput = document.getElementById(\\'qVal\\'); if (queryInput.addEventListener) { queryInput.addEventListener(\\'focus\\', function (event) { event && event.preventDefault(); if (queryInput.value.length >= 0) { queryInput.parentNode.classList.add(\\'search_on\\'); } }); queryInput.addEventListener(\\'blur\\', function (event) { event && event.preventDefault(); if (queryInput.value.length === 0) { queryInput.parentNode.classList.remove(\\'search_on\\'); } }); } else { /* ie */ queryInput.attachEvent(\\'onfocus\\', function (event) { event && (event.preventDefault ? event.preventDefault() : event.returnValue = false); if (queryInput.value.length >= 0) { queryInput.parentNode.setAttribute(\\'class\\', \\'box_searchbar search_on\\'); } }); queryInput.attachEvent(\\'onblur\\', function (event) { event && (event.preventDefault ? event.preventDefault() : event.returnValue = false); if (queryInput.value.length === 0) { queryInput.parentNode.setAttribute(\\'class\\', \\'box_searchbar\\'); } }); } })(jQuery);</script>\\n  <script src=\"//t1.daumcdn.net/daumtop_deco/socialshare/socialshare_nocss_pc-2.3.1.js\"></script>\\n  <script>\"use strict\"; (function () { var paragraphs = document.body.querySelectorAll(\".layer_summary p\"); var summaryLayer = document.body.querySelector(\\'.util_summary\\'); var summaryButton = summaryLayer.querySelector(\\'.btn_summary\\'); var summaryLayerStatus = false; function showLayer() { summaryLayer.classList.add(\\'layer_open\\'); summaryButton.setAttribute(\\'aria-expanded\\', true); window.addEventListener(\\'click\\', checkLayer); } function hideLayer() { summaryLayerStatus = false; summaryLayer.classList.remove(\\'layer_open\\'); summaryButton.setAttribute(\\'aria-expanded\\', false); } function checkLayer(e) { if (summaryButton === e.target || summaryButton.children[0] === e.target) return false; hideLayer(); window.removeEventListener(\\'click\\', checkLayer); } paragraphs.forEach(function (p) { return p.classList.add(\"desc_news\"); }); summaryButton.addEventListener(\\'click\\', function (e) { summaryLayerStatus = !summaryLayerStatus; summaryLayerStatus ? showLayer() : hideLayer(); }); summaryLayer.addEventListener(\\'focusin\\', function (e) { showLayer(); }); summaryLayer.addEventListener(\\'focusout\\', function (e) { hideLayer(); }); })();</script>\\n  <script>\"use strict\"; function _slicedToArray(arr, i) { return _arrayWithHoles(arr) || _iterableToArrayLimit(arr, i) || _nonIterableRest(); } function _nonIterableRest() { throw new TypeError(\"Invalid attempt to destructure non-iterable instance\"); } function _iterableToArrayLimit(arr, i) { if (!(Symbol.iterator in Object(arr) || Object.prototype.toString.call(arr) === \"[object Arguments]\")) { return; } var _arr = []; var _n = true; var _d = false; var _e = undefined; try { for (var _i = arr[Symbol.iterator](), _s; !(_n = (_s = _i.next()).done); _n = true) { _arr.push(_s.value); if (i && _arr.length === i) break; } } catch (err) { _d = true; _e = err; } finally { try { if (!_n && _i[\"return\"] != null) _i[\"return\"](); } finally { if (_d) throw _e; } } return _arr; } function _arrayWithHoles(arr) { if (Array.isArray(arr)) return arr; } (function () { var ttsPlayerSrcMap = { slow_Male: \"http://k-v1.kakaocdn.net/dn/k6QUJ/btqJ92MZ5VZ/Y2vMjufUmeR9OMWXIivld1/original.m4a\", normal_Male: \"http://k-v1.kakaocdn.net/dn/g4oab/btqJ6dhdKXn/HmncZKznmSxaKZSLMIIcXk/original.m4a\", fast_Male: \"http://k-v1.kakaocdn.net/dn/g0zoL/btqJ8fZ99sB/v8S4Gnu4dRv6BZ0u2RCb70/original.m4a\", slow_Female: \"http://k-v1.kakaocdn.net/dn/dVK1tk/btqJZmsZeqi/PqK5NJE0Tmt5kpuiDNGzOk/original.m4a\", normal_Female: \"http://k-v1.kakaocdn.net/dn/rDlN1/btqJ3h5u5Hq/CwE7rYuCplj8FrjT4iq8f0/original.m4a\", fast_Female: \"http://k-v1.kakaocdn.net/dn/eEemsA/btqJ0n6aqXL/fMnk6XidZgZqJ86QDMNkv0/original.m4a\" }; var TTS_COOKIE_NAME = \\'VIEW_TTS\\'; var $elements = document.body.querySelector(\\'.tts_btn\\'); var ttsPlayer = $elements.querySelector(\\'#ttsPlayer\\'); function ttsOptionsSourceKey() { var checkedSpeed = $elements.querySelector(\\'input[name=ttsSpeed]:checked\\').value; var checkedGender = $elements.querySelector(\\'input[name=ttsGender]:checked\\').value; return \"\".concat(checkedSpeed, \"_\").concat(checkedGender); } function ttsPlayerSrcSet() { var key = ttsOptionsSourceKey(); ttsPlayer.setAttribute(\\'src\\', ttsPlayerSrcMap[key]); Cookies.set(TTS_COOKIE_NAME, \\'\\', { expires: -1 }); Cookies.set(TTS_COOKIE_NAME, key, { domain: \\'.v.daum.net\\', expires: new Date(new Date() * 1 + 365 * 864e+5) }); } var textLayer = $elements.querySelector(\\'.ico_speak\\'); function ttsPlayerControl(control) { if (control == \"playOptions\") { ttsPlayerSrcSet(); ttsPlayer.load(); ttsPlayer.play(); textLayer.textContent = \\'\\xec\\x9d\\x8c\\xec\\x84\\xb1 \\xea\\xb8\\xb0\\xec\\x82\\xac \\xec\\xa0\\x95\\xec\\xa7\\x80\\'; } else if (control == \"play\") { ttsPlayer.load(); ttsPlayer.play(); textLayer.textContent = \\'\\xec\\x9d\\x8c\\xec\\x84\\xb1 \\xea\\xb8\\xb0\\xec\\x82\\xac \\xec\\xa0\\x95\\xec\\xa7\\x80\\'; } else { ttsPlayer[control](); textLayer.textContent = \\'\\xec\\x9d\\x8c\\xec\\x84\\xb1 \\xea\\xb8\\xb0\\xec\\x82\\xac \\xeb\\x93\\xa3\\xea\\xb8\\xb0\\'; } } var btnTtsLayer = $elements; var btnTtsClick = $elements.querySelector(\\'.btn_tts\\'); var ttsInputs = $elements.querySelectorAll(\\'.list_tts input\\'); var subLayer = $elements.querySelector(\\'.wrap_setlayer\\'); accessibleLayer({ layer: btnTtsLayer, btn: btnTtsClick, inputs: ttsInputs }); function accessibleLayer(options) { var layer = options.layer, btn = options.btn, inputs = options.inputs; var tid; var isMouseOn = false; function showLayer() { clearTimeout(tid); layer.classList.add(\\'layer_open\\'); btn.setAttribute(\\'aria-expanded\\', true); } function hideLayer() { layer.classList.remove(\\'layer_open\\'); btn.setAttribute(\\'aria-expanded\\', false); } function delayHideLayer() { tid = setTimeout(hideLayer, 1); } function checkMouseAndHideLayer() { if (!isMouseOn) delayHideLayer(); } layer.addEventListener(\\'mouseover\\', function () { isMouseOn = true; showLayer(); }); layer.addEventListener(\\'mouseleave\\', function () { isMouseOn = false; hideLayer(); }); btn.addEventListener(\\'focus\\', showLayer); btn.addEventListener(\\'blur\\', checkMouseAndHideLayer); inputs.forEach(function (input) { input.addEventListener(\\'focus\\', showLayer); input.addEventListener(\\'blur\\', checkMouseAndHideLayer); }); } accessibleInput({ options: $elements.querySelectorAll(\\'.ico_newsview\\'), inputs: ttsInputs }); function accessibleInput(opt) { var options = opt.options, inputs = opt.inputs; options.forEach(function (option) { option.addEventListener(\\'mouseover\\', function (event) { this.classList.add(\\'ico_focused\\'); }); option.addEventListener(\\'mouseleave\\', function (event) { this.classList.remove(\\'ico_focused\\'); }); }); inputs.forEach(function (input) { input.addEventListener(\\'focus\\', function () { this.nextElementSibling.querySelector(\\'span\\').classList.add(\\'ico_focused\\'); }); input.addEventListener(\\'blur\\', function () { this.nextElementSibling.querySelector(\\'span\\').classList.remove(\\'ico_focused\\'); }); }); } btnTtsClick.addEventListener(\\'click\\', function (event) { btnTtsLayer.classList.toggle(\\'on\\'); if (btnTtsLayer.classList.contains(\\'on\\')) { ttsPlayerControl(\\'play\\'); } else { ttsPlayerControl(\\'pause\\'); } }); ttsPlayer.addEventListener(\"ended\", function (event) { btnTtsLayer.classList.remove(\\'on\\'); }); ttsInputs.forEach(function (input) { input.addEventListener(\\'change\\', function (event) { btnTtsLayer.classList.add(\\'on\\'); ttsPlayerControl(\\'playOptions\\'); }); }); var ttsCookieValue = Cookies.get(TTS_COOKIE_NAME); if (typeof ttsCookieValue == \"undefined\" || ttsCookieValue.includes(\"undefined\")) { subLayer.querySelector(\\'#ttsGenderMale\\').checked = true; subLayer.querySelector(\\'#ttsSpeedNormal\\').checked = true; } else { var _ttsCookieValue$split = ttsCookieValue.split(\\'_\\'), _ttsCookieValue$split2 = _slicedToArray(_ttsCookieValue$split, 2), speed = _ttsCookieValue$split2[0], gender = _ttsCookieValue$split2[1]; speed = \\'ttsSpeed\\' + speed.charAt(0).toUpperCase() + speed.slice(1); gender = \\'ttsGender\\' + gender; subLayer.querySelector(\\'#\\' + gender).checked = true; subLayer.querySelector(\\'#\\' + speed).checked = true; } btnTtsClick.className = \"btn_set btn_tts #util #tts #p_\" + ttsOptionsSourceKey(); ttsPlayerSrcSet(); })();</script>\\n  <script>\"use strict\"; (function () { var translatingLayers = document.createElement(\\'DIV\\'); translatingLayers.innerHTML = \"\\\\n <div id=\\\\\"translatingLayer\\\\\" class=\\\\\"translate_layer\\\\\">\\\\n <div class=\\\\\"inner_translate_layer\\\\\">\\\\n <div class=\\\\\"layer_body\\\\\">\\\\n <strong class=\\\\\"tit_translate\\\\\">\\\\n \\\\uBC88\\\\uC5ED\\\\uC911 <span class=\\\\\"eng_tit\\\\\">Now in translation</span>\\\\n </strong>\\\\n </div>\\\\n </div>\\\\n </div>\\\\n\\\\n <div id=\\\\\"translateErrorLayer\\\\\" class=\\\\\"translate_layer\\\\\">\\\\n <div class=\\\\\"inner_translate_layer inner_error_layer\\\\\">\\\\n <div class=\\\\\"layer_body\\\\\">\\\\n <span class=\\\\\"ico_newsview ico_error\\\\\"></span>\\\\n <strong class=\\\\\"tit_translate\\\\\">\\\\n \\\\uC7A0\\\\uC2DC \\\\uD6C4 \\\\uB2E4\\\\uC2DC \\\\uC2DC\\\\uB3C4\\\\uD574 \\\\uC8FC\\\\uC138\\\\uC694 <span class=\\\\\"eng_tit\\\\\">Please try again in a moment</span>\\\\n </strong>\\\\n </div>\\\\n </div>\\\\n </div>\\\\n \"; document.body.querySelector(\"#kakaoWrap\").appendChild(translatingLayers); })();</script>\\n  <script>\"use strict\"; function _toConsumableArray(arr) { return _arrayWithoutHoles(arr) || _iterableToArray(arr) || _nonIterableSpread(); } function _nonIterableSpread() { throw new TypeError(\"Invalid attempt to spread non-iterable instance\"); } function _iterableToArray(iter) { if (Symbol.iterator in Object(iter) || Object.prototype.toString.call(iter) === \"[object Arguments]\") return Array.from(iter); } function _arrayWithoutHoles(arr) { if (Array.isArray(arr)) { for (var i = 0, arr2 = new Array(arr.length); i < arr.length; i++) { arr2[i] = arr[i]; } return arr2; } } var dmcfLanguage = \\'ko\\'; (function () { var $elements = document.body.querySelector(\\'.translate_btn\\'); var translateButtonLayer = $elements; var translateButton = $elements.querySelector(\\'.btn_translate\\'); var translateKakaoILink = $elements.querySelector(\\'.link_kakaoi\\'); var translateLanguageButtons = $elements.querySelectorAll(\\'.btn_lang\\'); var translatingLayer = document.body.querySelector(\\'#translatingLayer\\'); var translateErrorLayer = document.body.querySelector(\\'#translateErrorLayer\\'); var kakaoWrap = document.body.querySelector(\\'#kakaoWrap\\'); function hideAllLayers() { translatingLayer.style.display = \"none\"; translateErrorLayer.style.display = \"none\"; document.body.style.overflow = \"\"; } ; function showTranslatingLayer() { hideAllLayers(); translatingLayer.style.display = \"block\"; document.body.style.overflow = \"hidden\"; } ; function showTranslateErrorLayer() { hideAllLayers(); translateErrorLayer.style.display = \"block\"; document.body.style.overflow = \"hidden\"; } ; accessibleLayer({ layer: $elements, btn: translateButton, inputs: [translateKakaoILink].concat(_toConsumableArray(translateLanguageButtons)) }); function accessibleLayer(options) { var layer = options.layer, btn = options.btn, inputs = options.inputs; var tid; var isMouseOn = false; function showLayer() { clearTimeout(tid); layer.classList.add(\\'layer_open\\'); btn.setAttribute(\\'aria-expanded\\', true); } function hideLayer() { layer.classList.remove(\\'layer_open\\'); btn.setAttribute(\\'aria-expanded\\', false); } function delayHideLayer() { tid = setTimeout(hideLayer, 1); } function checkMouseAndHideLayer() { if (!isMouseOn) delayHideLayer(); } layer.addEventListener(\\'mouseover\\', function () { isMouseOn = true; showLayer(); }); layer.addEventListener(\\'mouseleave\\', function () { isMouseOn = false; hideLayer(); }); btn.addEventListener(\\'focus\\', showLayer); btn.addEventListener(\\'blur\\', checkMouseAndHideLayer); inputs.forEach(function (input) { input.addEventListener(\\'focus\\', showLayer); input.addEventListener(\\'blur\\', checkMouseAndHideLayer); }); } function onTranslate(e) { var sourceLang = \"kr\"; var targetLang = e.currentTarget.name; showTranslatingLayer(); try { HarmonyTranslator.translate(sourceLang, targetLang, onTranslateSuccess, onTranslateError); } catch (error) { console.error(\\'\\xeb\\xb2\\x88\\xec\\x97\\xad \\xec\\x97\\x90\\xeb\\x9f\\xac:\\', error); } } function onTranslateSuccess(data) { var translateNotice = document.querySelector(\"#translateNotice\"); var targetLang = data.targetLang; switch (targetLang) { case \"en\": case \"id\": kakaoWrap.classList.add(\"lang_type1\"); kakaoWrap.classList.remove(\"lang_type2\"); kakaoWrap.classList.remove(\"lang_type3\"); break; case \"cn\": case \"jp\": kakaoWrap.classList.remove(\"lang_type1\"); kakaoWrap.classList.add(\"lang_type2\"); kakaoWrap.classList.remove(\"lang_type3\"); break; case \"vi\": kakaoWrap.classList.remove(\"lang_type1\"); kakaoWrap.classList.remove(\"lang_type2\"); kakaoWrap.classList.add(\"lang_type3\"); break; default: kakaoWrap.classList.remove(\"lang_type1\"); kakaoWrap.classList.remove(\"lang_type2\"); kakaoWrap.classList.remove(\"lang_type3\"); break; } if (targetLang == \"kr\") { translateNotice.querySelectorAll(\".notice_lang\").forEach(function (notice) { notice.style.display = \\'none\\'; }); translateNotice.style.display = \\'none\\'; } else { translateNotice.querySelectorAll(\".notice_lang:not(.notice_lang_\".concat(targetLang, \")\")).forEach(function (notice) { notice.style.display = \\'none\\'; }); translateNotice.querySelector(\".notice_lang.notice_lang_\".concat(targetLang)).style.display = \\'block\\'; translateNotice.style.display = \\'block\\'; } setTimeout(function () { hideAllLayers(); }, 500); } function onTranslateError(data, error) { showTranslateErrorLayer(); setTimeout(function () { hideAllLayers(); }, 2000); } translateLanguageButtons.forEach(function (btn) { btn.addEventListener(\\'click\\', onTranslate); }); })();</script>\\n  <script>\"use strict\"; (function () { var KAKAO_APP_KEY = \\'53e566aa17534bc816eb1b5d8f7415ee\\'; var newsId = \\'20201004215700006\\' || \\'AlpqqLPoP8\\'; var requestUrl = \"\".concat(location.protocol, \"//\").concat(location.host, \"/v/\").concat(newsId); var titleDecoder = document.createElement(\"DIV\"); titleDecoder.innerHTML = \\'13\\xec\\x9d\\xbc\\xeb\\xb6\\x80\\xed\\x84\\xb0 \\xeb\\xa7\\x88\\xec\\x8a\\xa4\\xed\\x81\\xac \\xec\\xb0\\xa9\\xec\\x9a\\xa9 \\xec\\x9d\\x98\\xeb\\xac\\xb4\\xed\\x99\\x94..\\xed\\x95\\x9c \\xeb\\x8b\\xac \\xea\\xb3\\x84\\xeb\\x8f\\x84 \\xed\\x9b\\x84 \\xea\\xb3\\xbc\\xed\\x83\\x9c\\xeb\\xa3\\x8c 10\\xeb\\xa7\\x8c \\xec\\x9b\\x90\\'; var title = titleDecoder.textContent; var KAKAO_LINK_OG_DATA = { shareType: \\'sendScrap\\', shareData: { requestUrl: requestUrl, templateId: 7952, installTalk: true, templateArgs: { \\'${EncodingUrl}\\': encodeURIComponent(requestUrl), \\'${webUrl}\\': requestUrl + \\'?f=p\\', \\'${mobileWebUrl}\\': requestUrl + \\'?f=m\\' } } }; var $element = document.body.querySelector(\".share_btn\"); var layerBtn = $element.firstElementChild; var layerContainer = layerBtn.nextElementSibling; var layerCloseTid = null; var testShare = new socialshareRenewal.Main(layerBtn, { moreViewContainer: layerContainer, action: \\'hover\\', link: requestUrl, prefix: title, service_name: \\'\\xeb\\x8b\\xa4\\xec\\x9d\\x8c\\xeb\\x89\\xb4\\xec\\x8a\\xa4\\', cafe: \\'http://scrap.cafe.daum.net/_dss_/scrap?folder_id=100000&source_location_code=10&target_location_code=1&data_id=\\' + newsId, kakaoAPI: { appkey: KAKAO_APP_KEY, kakaoLinkData: KAKAO_LINK_OG_DATA } }); function hideLayer() { layerCloseTid = setTimeout(function () { $element.classList.remove(\"layer_open\"); layerBtn.setAttribute(\\'aria-expanded\\', false); testShare.close(); }, 100); } function showLayer() { clearLayerTimeout(); $element.classList.add(\"layer_open\"); layerBtn.setAttribute(\\'aria-expanded\\', true); testShare.open(); } function clearLayerTimeout() { layerCloseTid && clearTimeout(layerCloseTid); } layerBtn.addEventListener(\"mouseenter\", showLayer); layerBtn.addEventListener(\"focus\", showLayer); layerBtn.addEventListener(\"mouseleave\", hideLayer); layerBtn.addEventListener(\"blur\", hideLayer); layerContainer.addEventListener(\"mouseenter\", clearLayerTimeout); layerContainer.addEventListener(\"mouseleave\", hideLayer); layerContainer.querySelectorAll(\"a\").forEach(function (el) { el.addEventListener(\"focus\", clearLayerTimeout); el.addEventListener(\"blur\", hideLayer); }); })();</script>\\n  <script>\"use strict\"; (function () { window.addEventListener(\\'load\\', initFontSizeUtil); function initFontSizeUtil() { var DEFAULT_FONTSIZE = 17; var FONT_COOKIE_NAME = \\'GS_font_size\\'; var $elements = document.body.querySelector(\\'.font_btn\\'); var $newsview = document.body.querySelector(\\'.news_view\\'); var $listFont = $elements.querySelector(\\'.list_font\\'); var fontSize = Cookies.get(FONT_COOKIE_NAME) || DEFAULT_FONTSIZE; var fontLayer = $elements; var fontBtn = $elements.querySelector(\\'.btn_font\\'); var radioEls = $elements.querySelectorAll(\\'.list_font input\\'); accessibleLayer({ layer: fontLayer, btn: fontBtn, inputs: radioEls }); function accessibleLayer(options) { var layer = options.layer, btn = options.btn, inputs = options.inputs; var tid; var isMouseOn = false; function showLayer() { clearTimeout(tid); layer.classList.add(\\'layer_open\\'); btn.setAttribute(\\'aria-expanded\\', true); } function hideLayer() { layer.classList.remove(\\'layer_open\\'); btn.setAttribute(\\'aria-expanded\\', false); } function delayHideLayer() { tid = setTimeout(hideLayer, 1); } function checkMouseAndHideLayer() { isMouseOn && delayHideLayer(); } layer.addEventListener(\\'mouseover\\', function () { isMouseOn = true; showLayer(); }); layer.addEventListener(\\'mouseleave\\', function () { isMouseOn = false; hideLayer(); }); btn.addEventListener(\\'focus\\', showLayer); btn.addEventListener(\\'blur\\', checkMouseAndHideLayer); inputs.forEach(function (input) { input.addEventListener(\\'focus\\', showLayer); input.addEventListener(\\'blur\\', checkMouseAndHideLayer); }); } accessibleInput({ options: $elements.querySelectorAll(\\'.ico_newsview\\'), inputs: radioEls }); function accessibleInput(opt) { var options = opt.options, inputs = opt.inputs; options.forEach(function (option) { option.addEventListener(\\'mouseover\\', function () { this.classList.add(\\'ico_focused\\'); }); option.addEventListener(\\'mouseleave\\', function () { this.classList.remove(\\'ico_focused\\'); }); }); inputs.forEach(function (input) { input.addEventListener(\\'focus\\', function () { this.nextElementSibling.querySelector(\\'span\\').classList.add(\\'ico_focused\\'); }); input.addEventListener(\\'blur\\', function () { this.nextElementSibling.querySelector(\\'span\\').classList.remove(\\'ico_focused\\'); }); }); } function setFontSize(fontSize) { $newsview.style.fontSize = \"\".concat(fontSize, \"px\"); document.body.querySelector(\"#inpFont\".concat(fontSize)).checked = true; $listFont.querySelectorAll(\\'label\\').forEach(function (labelEl) { return labelEl.classList.remove(\\'on\\'); }); $listFont.querySelector(\"label[for=inpFont\".concat(fontSize, \"]\")).classList.add(\\'on\\'); Cookies.set(FONT_COOKIE_NAME, \\'\\', { expires: -1 }); Cookies.set(FONT_COOKIE_NAME, fontSize, { domain: \\'.v.daum.net\\', expires: new Date(new Date() * 1 + 365 * 864e+5) }); } radioEls.forEach(function (el) { el.addEventListener(\\'change\\', function () { setFontSize(this.value); }); }); setFontSize(fontSize); } })();</script>\\n  <script>\"use strict\"; (function () { var printBtn = document.body.querySelector(\".btn_print\").parentNode; printBtn.addEventListener(\"click\", function (e) { e.preventDefault(); window.open(\\'?s=print_view\\', \\'newsPrint\\', \\'width=750,height=550,scrollbars=yes\\'); }); })();</script>\\n  <script>\"use strict\"; (function () { var likeButton = document.getElementById(\\'likeButton\\'); var props = { serviceId: \\'news\\', uid: \\'20201004215700006\\' }; new window.LikePC.LikeOnPC(likeButton, props); })();</script>\\n  <script>\"use strict\"; function cmRenderFailCallBack(arg1) { arg1.parentElement.removeChild(arg1); }</script>\\n  <script>\"use strict\"; document.addEventListener(\\'DOMContentLoaded\\', function () { var hadesRest = \"\".concat(Conf.api.hadesRest); var serviceNoticeId = \"3393\"; var apiUrl = hadesRest + \"/service_notice?id=\" + serviceNoticeId; var element = document.querySelector(\"#newsviewNotice\"); axios.get(apiUrl).then(function (response) { var _response$data$body$d = response.data.body.data, noticeTitle = _response$data$body$d.noticeTitle, noticeUrl = _response$data$body$d.noticeUrl; if (noticeTitle !== null) { element.innerHTML = \"<strong class=\\\\\"tit_notice\\\\\">\\\\uACF5\\\\uC9C0</strong><span class=\\\\\"txt_notice\\\\\"><a href=\\\\\"\".concat(noticeUrl, \"\\\\\" class=\\\\\"link_txt\\\\\">\").concat(noticeTitle, \"</a></span>\"); } else { element.parentNode.removeChild(element); } }).catch(function (error) { console.log(\"\\xeb\\x8c\\x93\\xea\\xb8\\x80 \\xea\\xb3\\xb5\\xec\\xa7\\x80 \\xec\\x98\\xa4\\xeb\\xa5\\x98: \" + error); element.parentNode.removeChild(element); }); });</script>\\n  <script src=\"//comment.daum.net/js/latest/alex.single.min.js\"></script>\\n  <script>\"use strict\"; (function () { window.excludeCorejs = false; window.alexConfig = { label: { emptyImage: \\'//i1.daumcdn.net/img-section/enter2013/liveviewer/pc_emot_co.gif\\' }, onLoad: function onLoad() { window.isLoadComment = true; } }; })();</script>\\n  <script>\"use strict\"; (function () { var popularNewsLayer = document.querySelector(\\'.aside_popular\\'); var tabs = document.querySelectorAll(\".tab_aside li a\"); var serviceId = \"news\"; var tabEngName = { \"\\xeb\\x89\\xb4\\xec\\x8a\\xa4\": \"news\", \"\\xec\\x97\\xb0\\xec\\x98\\x88\": \"entertain\", \"\\xec\\x8a\\xa4\\xed\\x8f\\xac\\xec\\xb8\\xa0\": \"sports\" }; var tabInfos = { \"news\": { el: tabs[0], korName: \"\\xeb\\x89\\xb4\\xec\\x8a\\xa4\", moreLink: \"https://news.daum.net/ranking/popular/all\" }, \"entertain\": { el: tabs[1], korName: \"\\xec\\x97\\xb0\\xec\\x98\\x88\", moreLink: \"https://entertain.daum.net/ranking/popular\" }, \"sports\": { el: tabs[2], korName: \"\\xec\\x8a\\xa4\\xed\\x8f\\xac\\xec\\xb8\\xa0\", moreLink: \"https://sports.daum.net/news/ranking\" } }; var activeTab = tabInfos[serviceId].el; var pageIndex = 1; getContents(tabInfos); tabs.forEach(function (tab) { tab.addEventListener(\"mouseover\", function (e) { return selectTab(e.target); }); tab.addEventListener(\"focus\", function (e) { return selectTab(e.target); }); }); function selectTab(tab) { if (activeTab !== tab) { var activeContents = activeTab.parentNode.querySelector(\".cont_aside\"); activeContents && activeContents.parentNode.removeChild(activeContents); activeTab.parentNode.classList.remove(\"on\"); tab.parentNode.classList.add(\"on\"); pageIndex = 1; changeContents(tab); activeTab = tab; } } function changeContents(tab) { var korName = tab.innerText; var engName = tabEngName[korName]; var moreLink = tabInfos[engName].moreLink; var contentsContainer = document.createElement(\"div\"); var contentsItems = renderedTenContentsOf(engName); contentsContainer.classList.add(\"cont_aside\"); contentsContainer.innerHTML = \"\\\\n <strong class=\\\\\"screen_out\\\\\">\".concat(korName, \"</strong>\\\\n <ol class=\\\\\"list_ranking\\\\\">\\\\n \").concat(contentsItems, \" \\\\n </ol>\\\\n <div class=\\\\\"util_aside\\\\\">\\\\n <button class=\\\\\"btn_slide btn_prev\\\\\"><span class=\\\\\"ico_newsview\\\\\">\\\\uC774\\\\uC804</span></button>\\\\n <button class=\\\\\"btn_slide btn_next\\\\\"><span class=\\\\\"ico_newsview\\\\\">\\\\uB2E4\\\\uC74C</span></button>\\\\n <a href=\").concat(moreLink, \" class=\\\\\"link_all\\\\\"><span class=\\\\\"txt_newsview\\\\\">\\\\uC804\\\\uCCB4 \\\\uBCF4\\\\uAE30</span><span class=\\\\\"ico_newsview\\\\\"></span></a>\\\\n </div>\\\\n \"); tab.parentNode.appendChild(contentsContainer); contentsContainer.querySelector(\".btn_prev\").addEventListener(\\'click\\', onClick); contentsContainer.querySelector(\".btn_next\").addEventListener(\\'click\\', onClick); function onClick() { var contentsItems = document.querySelector(\".cont_aside .list_ranking\"); var korName = activeTab.innerText; var engName = tabEngName[korName]; if (this.classList.contains(\"btn_prev\")) { pageIndex = pageIndex === 1 ? 3 : pageIndex - 1; } else { pageIndex = pageIndex === 3 ? 1 : pageIndex + 1; } contentsItems.innerHTML = renderedTenContentsOf(engName); } } function renderedTenContentsOf(engName) { return tabInfos[engName].contents.slice((pageIndex - 1) * 10, pageIndex * 10).map(function (item) { return \"\\\\n <li>\\\\n <em class=\\\\\"num_newsview num\".concat(item.index, \"\\\\\">\").concat(item.index, \"\\\\uC704</em>\\\\n <strong class=\\\\\"tit_g\\\\\"><a href=\\\\\"\").concat(item.pcLink, \"\\\\\" class=\\\\\"link_txt @\").concat(item.index, \"\\\\\">\").concat(item.title, \"</a></strong>\\\\n </li>\\\\n \"); }).join(\\'\\'); } function getContents(tabInfos) { var api = \"\".concat(Conf.api.hadesRest, \"/pc_popular_news?size=30\"); axios.get(api).then(function (response) { var popularNewsData = response.data.body.data; Object.keys(popularNewsData).forEach(function (serviceId) { tabInfos[serviceId].contents = popularNewsData[serviceId]; }); changeContents(activeTab); popularNewsLayer.classList.remove(\\'hide\\'); }).catch(function (error) { popularNewsLayer.parentNode.removeChild(popularNewsLayer); }); } })();</script>\\n  <script>\"use strict\"; (function () { var photoTvLayer = document.querySelector(\\'.aside_phototv\\'); var PHOTO_TPL = \\'<li>\\\\ <a class=\"link_cont\" href=\"<%= link %>\">\\\\ <span class=\"wrap_thumb\">\\\\ <img alt=\"<%= title %>\" class=\"thumb_g\" style=\"<%= thumbStyle %>\" src=\"<%= image %>\"/>\\\\ <span class=\"ico_phototv\">\\\\ <span class=\"ico_newsview ico_photo\">\\xed\\x8f\\xac\\xed\\x86\\xa0</span>\\\\ </span>\\\\ </span>\\\\ <strong class=\"tit_thumb\"><%= title %></strong>\\\\ </a>\\\\ </li>\\'; var TV_TPL = \\'<li>\\\\ <a class=\"link_cont\" href=\"<%= link %>\">\\\\ <span class=\"wrap_thumb\">\\\\ <img alt=\"<%= title %>\" class=\"thumb_g\" style=\"<%= thumbStyle %>\" src=\"<%= image %>\"/>\\\\ <span class=\"ico_phototv\">\\\\ <span class=\"ico_newsview ico_vod\">\\xec\\x98\\x81\\xec\\x83\\x81</span>\\\\ </span>\\\\ </span>\\\\ <strong class=\"tit_thumb\"><%= title %></strong>\\\\ </a>\\\\ </li>\\'; renderPhotoTV(); function renderPhotoTV() { var photoTvList = photoTvLayer.querySelector(\\'.list_phototv\\'); var hadesRest = \"\".concat(Conf.api.hadesRest), serviceId = \\'news\\', apiURL = serviceId === \\'news\\' ? \"\".concat(hadesRest, \"/pc_photo_tv\") : \"\".concat(hadesRest, \"/pc_entertain_photo_tv\"); var thumbStyle = serviceId === \\'news\\' ? \\'width: 144px; height: 140px;\\' : \\'width: 144px; height: 139px;\\'; axios.get(apiURL).then(function (res) { var data = res.data.body.data; if (_.isEmpty(data)) { removeLayer(); return; } photoTvList.innerHTML = data.map(function (_ref) { var link = _ref.link, title = _ref.title, image = _ref.image, label = _ref.label; if (label === \\'photo\\') { return _.template(PHOTO_TPL)({ link: link, title: title, image: image, thumbStyle: thumbStyle }); } else { /* \\'vod\\' */ return _.template(TV_TPL)({ link: link, title: title, image: image, thumbStyle: thumbStyle }); } }).join(\\'\\'); photoTvLayer.classList.remove(\\'hide\\'); }).catch(function (error) { console.error(\\'[\\xed\\x8f\\xac\\xed\\x86\\xa0&TV]:\\', error); removeLayer(); }); } function removeLayer() { photoTvLayer.parentNode.removeChild(photoTvLayer); } })();</script>\\n  <script>\"use strict\";try{ComponentsLoader.RenderingEngineConfig.set(\"pc_realtime_news\",{torosQuery:{category:\"news\",itemid:\"20201004215700006\"}})}catch(e){console.error(e)}</script>\\n  <script>\"use strict\"; window.daum_sfocus_adunit = \\'DAU-f6a75279b\\'; window.daum_sfocus_cp = \\'23\\' + \\'_pc_media_news\\'; window.daum_sfocus_channel = \\'harmony\\';</script>\\n  <script src=\"//keyword.ad.daum.net/script/load_sfocus.js\"></script>\\n  <script>\"use strict\"; (function () { var directLinkContainer = document.querySelector(\".direct_link\"); var directOpenBtn = directLinkContainer.querySelector(\".btn_fold\"); directOpenBtn.addEventListener(\\'click\\', function () { directLinkContainer.classList.toggle(\"direct_open\"); }); })();</script>\\n  <script>\"use strict\"; window.minidaum_options = { enableLogoutRetun: true, disableTracker: true };</script>\\n  <script src=\"https://go.daum.net/minidaum_pc.daum\"></script>\\n  <script>\"use strict\"; (function () { var channel = \\'harmony\\'; var cpId = \"23\"; var device = \"pc\"; var consumerId = \"media\"; var serviceId = \"news\"; document.querySelectorAll(\\'.kakao_ad_area\\').forEach(function (adArea) { adArea.setAttribute(\\'data-ad-param-channel\\', channel); adArea.setAttribute(\\'data-ad-param-cp\\', \"\".concat(cpId, \"_\").concat(device, \"_\").concat(consumerId, \"_\").concat(serviceId)); }); })();</script>\\n  <script src=\"https://t1.daumcdn.net/adfit/static/ad.min.js\"></script>\\n  <script>\"use strict\"; (function () { var isTvNews = \\'false\\' == \\'true\\'; var serviceId = \\'news\\'; var headMedia = document.querySelector(\".head_media\"), wrapMinidaum = document.getElementById(\"wrapMinidaum\"), headHeight = wrapMinidaum.offsetHeight + headMedia.offsetHeight, progressBar = document.getElementById(\"barProgress\"); var mAside = document.getElementById(\"mAside\"), kakaoWrap = document.getElementById(\"kakaoWrap\"), kakaoGnb = document.getElementById(\"kakaoGnb\"), mArticle = document.getElementById(\"mArticle\"), cmNews = document.querySelector(\".cmt_news\"), adFirst = document.querySelector(\".aside_ad:first-child\"), adLast = document.querySelector(\".aside_ad:last-child\"), realtimeAsideEl = document.getElementById(\\'realtime_aside\\'); /* \\xeb\\x82\\xa0\\xea\\xb0\\x9c \\xed\\x94\\xbd\\xec\\x8a\\xa4\\xeb\\x93\\x9c\\xec\\x9d\\xb8 \\xea\\xb2\\xbd\\xec\\x9a\\xb0 left \\xec\\x9c\\x84\\xec\\xb9\\x98\\xeb\\xa5\\xbc \\xec\\xa7\\x80\\xec\\xa0\\x95\\xed\\x95\\x98\\xea\\xb8\\xb0 \\xec\\x9c\\x84\\xed\\x95\\xb4 \\xed\\x95\\x98\\xeb\\x8b\\xa8 \\xec\\x8b\\xa4\\xec\\x8b\\x9c\\xea\\xb0\\x84 \\xea\\xb2\\x80\\xec\\x83\\x89\\xec\\x96\\xb4\\xec\\x9d\\x98 left \\xea\\xb0\\x92\\xec\\x9d\\x84 \\xec\\x9d\\xb4\\xec\\x9a\\xa9. \\xeb\\xa7\\x8c\\xec\\x95\\xbd \\xec\\x97\\x86\\xec\\x9c\\xbc\\xeb\\xa9\\xb4 \\xea\\xb3\\x84\\xec\\x82\\xb0\\xec\\x9d\\x84 \\xed\\x95\\x9c\\xeb\\x8b\\xa4. */ /* \\xec\\x84\\x9c\\xeb\\xb9\\x84\\xec\\x8a\\xa4\\xeb\\xb3\\x84 GNB \\xeb\\x98\\x90\\xeb\\x8a\\x94 \\xeb\\x82\\xa0\\xea\\xb0\\x9c \\xed\\x94\\x8c\\xeb\\xa1\\x9c\\xed\\x8c\\x85 */ if (isTvNews) { window.addEventListener(\"scroll\", _.throttle(function () { floatGnb(); }, 100)); floatGnb(); } else if (serviceId === \\'news\\') { window.addEventListener(\"resize\", _.throttle(floatWing, 100)); window.addEventListener(\"scroll\", _.throttle(function () { floatGnb(); floatWing(); }, 100)); floatGnb(); floatWing(); } else { window.addEventListener(\"scroll\", _.throttle(function () { floatGnb(); }, 100)); floatGnb(); } function floatGnb() { var scrollY = window.scrollY || window.pageYOffset; var currentScrollTop = scrollY; var documentHeight = document.body.offsetHeight; var windowHeight = window.innerHeight; if (currentScrollTop > headHeight) { var scrollPercent = 100 * currentScrollTop / (documentHeight - windowHeight); kakaoWrap.classList.add(\"header_fixed\"); progressBar.style.width = parseInt(scrollPercent, 10) + \"%\"; } else { kakaoWrap.classList.remove(\"header_fixed\"); } } function floatWing() { var scrollX = window.scrollX || window.pageXOffset; var cMainWidth = cMain.clientWidth, mArticleWidth = mArticle.clientWidth, mAsideWidth = mAside.clientWidth, asideGap = cMainWidth - mArticleWidth - mAsideWidth, cMainStyle = getComputedStyle(cMain); var leftOfRealtimeAside = null; if (realtimeAsideEl) { var clientLeftOfRealtimeAside = realtimeAsideEl.getBoundingClientRect().left; leftOfRealtimeAside = clientLeftOfRealtimeAside < 880 ? clientLeftOfRealtimeAside + scrollX : clientLeftOfRealtimeAside; } else { var cMainMarginLeft = parseInt(cMainStyle[\\'marginLeft\\'], 10); leftOfRealtimeAside = mArticleWidth + asideGap + cMainMarginLeft - scrollX; } if (mArticle.offsetHeight < mAside.offsetHeight) return; cmNews.style.minHeight = \\'250px\\'; var scrollY = window.scrollY || window.pageYOffset; var topPosition = scrollY - cMain.offsetTop - 8 - adFirst.clientHeight; if (topPosition > 0) { var articleHeight = mArticle.offsetHeight - cmNews.offsetHeight; var wingHeight = mAside.offsetHeight - adLast.offsetHeight; /* \\xec\\x8a\\xa4\\xed\\x81\\xac\\xeb\\xa1\\xa4\\xec\\x9d\\xb4 \\xeb\\x82\\xa0\\xea\\xb0\\x9c\\xec\\x98\\x81\\xec\\x97\\xad\\xec\\x9d\\x98 \\xeb\\xa7\\x8e\\xec\\x9d\\xb4 \\xeb\\xb3\\xb8 \\xeb\\x89\\xb4\\xec\\x8a\\xa4\\xeb\\xa5\\xbc \\xeb\\x84\\x98\\xec\\x96\\xb4\\xea\\xb0\\x94\\xec\\x9d\\x84 \\xeb\\x95\\x8c */ if (articleHeight > wingHeight + topPosition + 8) { mAside.style.position = \\'fixed\\'; mAside.style.top = kakaoGnb.clientHeight - adFirst.offsetHeight - 74 + \\'px\\'; mAside.style.left = leftOfRealtimeAside + \\'px\\'; } else { mAside.style.position = \\'relative\\'; mAside.style.top = articleHeight - wingHeight + \\'px\\'; mAside.style.left = \\'inherit\\'; } } else { mAside.style.position = \\'static\\'; mAside.style.top = \\'inherit\\'; mAside.style.left = \\'inherit\\'; } } ; })();</script>\\n  <script>\"use strict\"; (function () { var GALLERY_ICON_TEMPLATE = \\'<div class=\"direct_view\" style=\"top:<%= top %>px;width:<%= width %>px;margin-left:<%= left %>px\">\\\\ <a href=\"<%= url %>\" class=\"link_view\">\\\\ <span class=\"txt_g\"><%= title %></span>\\\\ <span class=\"ico_view\">\\\\ <span class=\"ico_newsview ico_gallery\">\\xea\\xb0\\xa4\\xeb\\x9f\\xac\\xeb\\xa6\\xac \\xec\\x9d\\xb4\\xeb\\x8f\\x99</span>\\\\ </span>\\\\ </a>\\\\ </div>\\'; var addIconOnFirstImage = function addIconOnFirstImage(figureEl, _ref) { var title = _ref.title, pcLink = _ref.pcLink; if (!title || !pcLink) { return; } var imgHeight = figureEl.clientHeight; var imgWidth = figureEl.clientWidth; var templateParams = { title: title, url: pcLink, top: imgHeight - 62, width: imgWidth, left: imgWidth / 2 * -1 }; var icon = document.createElement(\\'div\\'); figureEl.parentNode.appendChild(icon); icon.outerHTML = _.template(GALLERY_ICON_TEMPLATE)(templateParams); }; var addRelatedGalleryLinkToFirstImage = async function addRelatedGalleryLinkToFirstImage(docId, galleryId) { if (!galleryId) { return; } /* image\\xea\\xb0\\x80 \\xec\\xa1\\xb4\\xec\\x9e\\xac\\xed\\x95\\x98\\xea\\xb3\\xa0 \\xec\\x98\\x81\\xec\\x83\\x81\\xeb\\xb0\\x94\\xeb\\xa1\\x9c\\xeb\\xb3\\xb4\\xea\\xb8\\xb0\\xea\\xb0\\x80 \\xec\\x95\\x84\\xeb\\x8b\\x88\\xeb\\x9d\\xbc\\xeb\\xa9\\xb4 */ var imageEl = document.querySelector(\\'img[dmcf-mtype=\"image\"]\\'); if (imageEl && !imageEl.querySelector(\\'.direct_vod\\')) { try { var _ref2 = await axios.get(\"\".concat(Conf.api.hadesRest, \"/photo_gallery_link_info?docId=\").concat(docId, \"&galleryId=\").concat(parseInt(galleryId, 10))), data = _ref2.data.body.data; addIconOnFirstImage(imageEl, data); } catch (error) {} } }; addRelatedGalleryLinkToFirstImage(\\'AlpqqLPoP8\\', \\'\\'); })();</script>\\n  <script src=\"//search1.daumcdn.net/search/statics/common/js/g/search_dragselection.min.js\"></script>\\n  <script>\"use strict\"; (function () { var service_id = \"\"; switch (\"news\") { case \\'sports\\': service_id = \\'s\\'; break; case \\'entertain\\': service_id = \\'e\\'; break; default: service_id = \\'n\\'; } var s2Imps = \"{\\\\\"timestamp\\\\\":@@timestamp@@,\\\\\"to\\\\\":\\\\\"20201004215700006\\\\\",\\\\\"label\\\\\":\\\\\"mediadaum_v2_user_doc_read\\\\\",\\\\\"from\\\\\":\\\\\"@@userKey@@\\\\\",\\\\\"props\\\\\":{\\\\\"service_id\\\\\":\\\\\"\".concat(service_id, \"\\\\\",\\\\\"category\\\\\":\\\\\"\\xec\\x82\\xac\\xed\\x9a\\x8c\\\\\",\\\\\"view_from\\\\\":\\\\\"others\\\\\",\\\\\"url\\\\\":\\\\\"\").concat(location.href, \"\\\\\" @@mediadaum_v2_user_doc_read@@}}\"); /* todo: hades s2 \\xea\\xb7\\xb8\\xeb\\x9e\\x98\\xed\\x94\\x84 \\xea\\xb2\\x80\\xec\\xa6\\x9d \\xeb\\x81\\x9d\\xeb\\x82\\x98\\xeb\\xa9\\xb4 \\xec\\xa3\\xbc\\xec\\x84\\x9d \\xeb\\xb0\\xa9\\xec\\x8b\\x9d\\xec\\x9c\\xbc\\xeb\\xa1\\x9c \\xeb\\xb3\\x80\\xea\\xb2\\xbd axios.get(`${Conf.api.hadesProxy}/s2/insert?body=${encodeURIComponent(s2Imps)}`, { withCredentials: true }); */ setTimeout(function () { axios.get(\"https://api.v.daum.net/s2/insert?body=\".concat(encodeURIComponent(s2Imps)), { withCredentials: true }); }, 2000); })();</script>\\n  <script type=\"text/javascript\" src=\"//t1.daumcdn.net/tiara/js/v1/tiara.min.js\"></script>\\n  <script>\"use strict\"; (function () { if (!window.TiaraTracker) { return; } var isSendTracker = false; var startTime = new Date(); var pageName = \"pc_news\"; var daumTopCookie = Cookies.get(\\'DAUMTOP\\'); var tiaraTracker = TiaraTracker.getInstance().setSvcDomain(\"media.daum.net\").setPage(\"newsview\").trackPage(\"newsview\").setSection(\"society\").setEnableAlwaysImage(true); var pageMeta = { \"id\": \"20201004215700006\", \"type\": \"article\", \"name\": \"13\\\\uC77C\\\\uBD80\\\\uD130 \\\\uB9C8\\\\uC2A4\\\\uD06C \\\\uCC29\\\\uC6A9 \\\\uC758\\\\uBB34\\\\uD654..\\\\uD55C \\\\uB2EC \\\\uACC4\\\\uB3C4 \\\\uD6C4 \\\\uACFC\\\\uD0DC\\\\uB8CC 10\\\\uB9CC \\\\uC6D0\", \"category_id\": \"1067\", \"category\": \"society\", \"author\": \"\\\\uAE40\\\\uC7A5\\\\uD558\", \"author_id\": \"\", \"provider\": \"YTN\", \"provider_id\": \"23\", \"regdate\": \"2020-10-04 21:57:00\", \"plink\": \"https://media.daum.net/v/20201004215700006\", \"image\": \"https://t1.daumcdn.net/news/202010/04/YTN/20201004215808712mdqs.jpg\", \"harmony_consumer_id\": \"media\", \"media\": \"pcweb\" }; var customProps = { \"contentUniqueKey\": \"hamny-\".concat(pageMeta.id), \"docId\": \"AlpqqLPoP8\", \"harmony_consumer_id\": \"media\", \"media\": \"pcweb\", \"reg_dt\": \"2020-10-04 21:57:00\", \"reg_timestamp\": \"1601816220296\" }; var onPageShow = function onPageShow() { if (isSendTracker) return; tiaraTracker.actionKind(\"ViewContent\").pageMeta(pageMeta).customProps(customProps).track(); }; var onPageHide = function onPageHide() { if (isSendTracker) return; isSendTracker = true; var scrollHeight = document.body.scrollHeight; var scrollTop = window.scrollY; var scrollBottom = scrollHeight - scrollTop; var scrollInnerHeight = window.innerHeight; var scrollPercent = Math.round(scrollTop / (scrollHeight - scrollInnerHeight) * 100); var torosCustomProps = {}; var usage = { \"duration\": new Date().getTime() - startTime.getTime(), \"scroll_percent\": scrollPercent, \"scroll_height\": scrollHeight, \"scroll_top\": scrollTop, \"scroll_bottom\": scrollBottom, \"scroll_inner_height\": scrollInnerHeight }; if (daumTopCookie) { try { var daumTopObj = JSON.parse(daumTopCookie); if (daumTopObj.contents_unique_key === customProps.contentUniqueKey) { torosCustomProps = { \"toros_imp_id\": daumTopObj.impression_id, \"toros_file_hash_key\": daumTopObj.toros_file_hash_key, \"toros_user_id_type\": \"uuid\", \"toros_page_meta_id\": customProps.contentUniqueKey, \"toros_event_meta_id\": customProps.contentUniqueKey, \"toros_action_type\": \"dwelltime\" }; Cookies.remove(\\'DAUMTOP\\', { path: \\'/\\', domain: \\'.daum.net\\' }); } } catch (e) {} } tiaraTracker.trackUsage().actionKind(\"UsagePage\").pageMeta(pageMeta).usage(usage).customProps(_.assignIn(customProps, torosCustomProps)).track(); }; if (\"onpagehide\" in window) { window.addEventListener(\"pageshow\", function () { return onPageShow(); }, false); window.addEventListener(\"pagehide\", function () { return onPageHide(); }, false); } else { window.addEventListener(\"load\", function () { return onPageShow(); }, false); window.addEventListener(\"unload\", function () { return onPageHide(); }, false); } document.addEventListener(\"visibilitychange\", function () { document[\"hidden\"] ? onPageHide() : onPageShow(); }, false); document.addEventListener(\"mousedown\", function (event) { var target = event.target; var component = target.closest(\"[data-cloud]\"); var element = target.closest(\"a\") || target.closest(\"button\"); if (element && component && component.contains(element)) { var clickInfo = TiaraTracker.getClickInfo(event); if (!clickInfo) return; /* \\xeb\\xac\\xb4\\xec\\x8b\\x9c\\xed\\x95\\xb4\\xec\\x95\\xbc \\xed\\x95\\xa0 \\xed\\x81\\xb4\\xeb\\xa6\\xad \\xeb\\xb2\\x84\\xed\\x8a\\xbc\\xec\\x9d\\xb4\\xea\\xb1\\xb0\\xeb\\x82\\x98, \\xec\\x9e\\x90\\xeb\\x8f\\x99 \\xed\\x81\\xb4\\xeb\\xa6\\xad \\xed\\x95\\xad\\xeb\\xaa\\xa9\\xec\\x9d\\xb4 \\xec\\x84\\xa4\\xec\\xa0\\x95\\xeb\\x90\\x98\\xec\\x96\\xb4\\xec\\x9e\\x88\\xec\\xa7\\x80 \\xec\\x95\\x8a\\xec\\x9d\\x84 \\xea\\xb2\\xbd\\xec\\x9a\\xb0 null \\xeb\\xb0\\x98\\xed\\x99\\x98\\xed\\x95\\x98\\xea\\xb8\\xb0 \\xeb\\x96\\x84\\xeb\\xac\\xb8\\xec\\x97\\x90 \\xec\\xb2\\xb4\\xed\\x81\\xac */ var action = clickInfo.action; var actionName = action && action.name ? action.name : \"\"; var actionKind = action && action.kind ? action.kind : \"\"; var mergedCustomProps = _.assignIn(customProps, clickInfo.customProps); var tiaraLayer = target.closest(\"[data-tiara]\"); var img = element.querySelector(\"img\"); var ordnum = 0; Array.from((tiaraLayer || component).querySelectorAll(\"a, button\")).some(function (e, idx) { if (e == element) { ordnum = idx; } }); var clickMeta = { \"layer1\": pageName, \"layer2\": component.dataset.cloud, \"layer3\": tiaraLayer ? tiaraLayer.dataset.tiara : \"\", \"click_url\": element.href || \"\", \"ordnum\": ordnum, \"copy\": element.innerText, \"image\": img ? img.src : \"\", \"posX\": event.clientX, \"posY\": event.clientY }; tiaraTracker.trackEvent(actionName).pageMeta(pageMeta).actionKind(actionKind).customProps(mergedCustomProps).click(clickMeta).track(); } }); })();</script>\\n </body>\\n</html>'\n"
     ]
    }
   ],
   "source": [
    "res = requests.get(\"https://news.v.daum.net/v/20201004215700006\")\n",
    "print(res.content)"
   ]
  },
  {
   "cell_type": "code",
   "execution_count": 5,
   "metadata": {
    "scrolled": true
   },
   "outputs": [
    {
     "name": "stdout",
     "output_type": "stream",
     "text": [
      "<!DOCTYPE html>\n",
      "\n",
      "<html lang=\"ko\">\n",
      "<head data-cloud-area=\"head\">\n",
      "<meta charset=\"utf-8\"/>\n",
      "<meta content=\"IE=edge\" http-equiv=\"X-UA-Compatible\"/>\n",
      "<style>\n",
      "             @import url('//t1.daumcdn.net/harmony_static/cloud/page/0c3961ace6f472d6e26855ad7974b4176e3f857f.css');\n",
      "            @import url('//t1.daumcdn.net/harmony_static/cloud/2020/09/17/components.21fc0700278d03c33a95.css')\n",
      "        </style>\n",
      "<meta content=\"noindex\" name=\"robots\"/>\n",
      "<meta content=\"AlpqqLPoP8\" property=\"mccp:docId\"/>\n",
      "<meta content=\"다음 뉴스\" data-cloud=\"pc_html_head_meta\" property=\"og:site_name\"/>\n",
      "<meta content=\"13일부터 마스크 착용 의무화..한 달 계도 후 과태료 10만 원\" data-cloud=\"pc_html_head_meta\" property=\"og:title\"/>\n",
      "<meta content=\"20201004215700\" data-cloud=\"pc_html_head_meta\" property=\"og:regDate\"/>\n",
      "<meta content=\"오는 13일부터 마스크 착용이 의무화됩니다. 정부는 한 달 계도 기간을 둔 뒤 다음 달 13일부터는 위반 행위 단속에 나서 최고 10만 원의 과태료를 부과할 방침입니다. 중앙재난안전대책본부는 오늘 브리핑을 통해 이같이 밝히고 국민의 동참을 당부했습니다. 중대본에 따르면 마스크 착용을 의무화하는 행정명령은 거리두기 단계와 시설 위험도에 따라 다르게 적용\" data-cloud=\"pc_html_head_meta\" property=\"og:description\"/>\n",
      "<meta content=\"https://img1.daumcdn.net/thumb/S1200x630/?fname=https://t1.daumcdn.net/news/202010/04/YTN/20201004215808712mdqs.jpg\" data-cloud=\"pc_html_head_meta\" property=\"og:image\"/>\n",
      "<meta content=\"1200\" data-cloud=\"pc_html_head_meta\" property=\"og:image:width\"/>\n",
      "<meta content=\"630\" data-cloud=\"pc_html_head_meta\" property=\"og:image:height\"/>\n",
      "<meta content=\"article\" data-cloud=\"pc_html_head_meta\" property=\"og:type\"/>\n",
      "<meta content=\"https://news.v.daum.net/v/20201004215700006\" data-cloud=\"pc_html_head_meta\" property=\"og:url\"/>\n",
      "<meta content=\"daumapps://web?url=https%3A%2F%2Fnews.v.daum.net/v/20201004215700006\" data-cloud=\"pc_html_head_meta\" property=\"al:android:url\"/>\n",
      "<meta content=\"net.daum.android.daum\" data-cloud=\"pc_html_head_meta\" property=\"al:android:package\"/>\n",
      "<meta content=\"다음앱\" data-cloud=\"pc_html_head_meta\" property=\"al:android:app_name\"/>\n",
      "<meta content=\"daumapps://web?url=https%3A%2F%2Fnews.v.daum.net/v/20201004215700006\" data-cloud=\"pc_html_head_meta\" property=\"al:ios:url\"/>\n",
      "<meta content=\"365494029\" data-cloud=\"pc_html_head_meta\" property=\"al:ios:app_store_id\"/>\n",
      "<meta content=\"다음앱\" data-cloud=\"pc_html_head_meta\" property=\"al:ios:app_name\"/>\n",
      "<meta content=\"https://img1.daumcdn.net/thumb/S1200x630/?fname=https://t1.daumcdn.net/news/202010/04/YTN/20201004215808712mdqs.jpg\" data-cloud=\"pc_html_head_meta\" property=\"twitter:image\"/>\n",
      "<meta content=\"summary_large_image\" data-cloud=\"pc_html_head_meta\" property=\"twitter:card\"/>\n",
      "<meta content=\"daumapps://web?url=https%3A%2F%2Fnews.v.daum.net/v/20201004215700006\" data-cloud=\"pc_html_head_meta\" property=\"twitter:app:url:googleplay\"/>\n",
      "<meta content=\"net.daum.android.daum\" data-cloud=\"pc_html_head_meta\" property=\"twitter:app:id:googleplay\"/>\n",
      "<meta content=\"다음앱\" data-cloud=\"pc_html_head_meta\" property=\"twitter:app:name:googleplay\"/>\n",
      "<meta content=\"KR\" data-cloud=\"pc_html_head_meta\" property=\"twitter:app:country\"/>\n",
      "<meta content=\"daumapps://web?url=https%3A%2F%2Fnews.v.daum.net/v/20201004215700006\" data-cloud=\"pc_html_head_meta\" property=\"twitter:app:url:iphone\"/>\n",
      "<meta content=\"365494029\" data-cloud=\"pc_html_head_meta\" property=\"twitter:app:id:iphone\"/>\n",
      "<meta content=\"다음앱\" data-cloud=\"pc_html_head_meta\" property=\"twitter:app:name:iphone\"/>\n",
      "<meta content=\"daumapps://web?url=https%3A%2F%2Fnews.v.daum.net/v/20201004215700006\" data-cloud=\"pc_html_head_meta\" property=\"twitter:app:url:ipad\"/>\n",
      "<meta content=\"365494029\" data-cloud=\"pc_html_head_meta\" property=\"twitter:app:id:ipad\"/>\n",
      "<meta content=\"다음앱\" data-cloud=\"pc_html_head_meta\" property=\"twitter:app:name:ipad\"/>\n",
      "<meta content=\"news\" data-cloud=\"pc_html_head_meta\" property=\"dg:uoc:svc\"/>\n",
      "<meta content=\"AlpqqLPoP8\" data-cloud=\"pc_html_head_meta\" property=\"dg:uoc:uid\"/>\n",
      "<meta content=\"article\" data-cloud=\"pc_html_head_meta\" property=\"dg:uoc:sc\"/>\n",
      "<meta content=\"https://news.v.daum.net/v/20201004215700006\" data-cloud=\"pc_html_head_meta\" property=\"dg:uoc:pcUrl\"/>\n",
      "<meta content=\"https://news.v.daum.net/v/20201004215700006?f=m\" data-cloud=\"pc_html_head_meta\" property=\"dg:uoc:mUrl\"/>\n",
      "<meta content=\"news.daum.net\" data-cloud=\"pc_html_head_meta\" name=\"svcdomain\"/>\n",
      "<meta content=\"20201004215700\" data-cloud=\"pc_html_head_meta\" property=\"article:published_time\"/>\n",
      "<meta content=\"20201004215808\" data-cloud=\"pc_html_head_meta\" property=\"article:modified_time\"/>\n",
      "<meta content=\"https://news.v.daum.net/v/20201004215700006\" data-cloud=\"pc_html_head_meta\" name=\"plink\"/>\n",
      "<meta content=\"https://news.v.daum.net/v/20201004215700006\" data-cloud=\"pc_html_head_meta\" property=\"article:txid\"/>\n",
      "<meta content=\"YTN\" data-cloud=\"pc_html_head_meta\" name=\"article:media_name\"/>\n",
      "<meta content=\"다음 뉴스\" data-cloud=\"pc_html_head_meta\" name=\"article:service_name\"/>\n",
      "<meta content=\"https://news.v.daum.net/v/20201004215700006?f=m\" data-cloud=\"pc_html_head_meta\" property=\"article:mobile_url\"/>\n",
      "<meta content=\"https://news.v.daum.net/v/20201004215700006?f=m\" data-cloud=\"pc_html_head_meta\" property=\"article:mobile_view_url\"/>\n",
      "<meta content=\"https://news.v.daum.net/v/20201004215700006\" data-cloud=\"pc_html_head_meta\" property=\"article:pc_url\"/>\n",
      "<meta content=\"https://news.v.daum.net/v/20201004215700006\" data-cloud=\"pc_html_head_meta\" property=\"article:pc_view_url\"/>\n",
      "<meta content=\"https://v.kakao.com/v/20201004215700006\" data-cloud=\"pc_html_head_meta\" property=\"article:talk_channel_view_url\"/>\n",
      "<meta content=\"http://media.daum.net/\" data-cloud=\"pc_html_head_meta\" property=\"article:pc_service_home\"/>\n",
      "<meta content=\"http://m.media.daum.net/\" data-cloud=\"pc_html_head_meta\" property=\"article:mobile_service_home\"/>\n",
      "<meta content=\"always\" name=\"referrer\"/>\n",
      "<title>13일부터 마스크 착용 의무화..한 달 계도 후 과태료 10만 원</title>\n",
      "<link href=\"//m2.daumcdn.net/img-media/2010ci/Daum_favicon.ico\" rel=\"shortcut icon\"/>\n",
      "</head>\n",
      "<body class=\"\">\n",
      "<div id=\"kakaoIndex\"> <a href=\"#kakaoBody\">본문 바로가기</a> <a href=\"#kakaoGnb\">메뉴 바로가기</a>\n",
      "</div>\n",
      "<div class=\"newsview_media\" id=\"kakaoWrap\">\n",
      "<div data-cloud-area=\"header\" id=\"kakaoHead\" role=\"banner\">\n",
      "<div class=\"head_media\" data-cloud=\"pc_news_header_gnb\">\n",
      "<h1> <a class=\"link_daum\" href=\"https://www.daum.net\"> <img alt=\"Daum\" class=\"thumb_g\" height=\"19\" src=\"//t1.daumcdn.net/media/news/news2016/retina/logo_daum.jpg\" width=\"45\"/> </a> <a href=\"https://news.daum.net\" id=\"kakaoServiceLogo\"><span class=\"ir_wa\">뉴스</span></a> </h1> <strong class=\"screen_out\">관련서비스</strong>\n",
      "<ul id=\"kakaoRelServices\">\n",
      "<li><a class=\"link_services link_services1\" href=\"https://entertain.daum.net/\"><span class=\"ir_wa\">연예</span></a></li>\n",
      "<li><a class=\"link_services link_services2\" href=\"https://sports.daum.net/\"><span class=\"ir_wa\">스포츠</span></a></li>\n",
      "</ul>\n",
      "<h2 class=\"screen_out\">검색</h2>\n",
      "<div class=\"search_news\" id=\"search_news\">\n",
      "<form action=\"https://search.daum.net/search\" id=\"kakaoSearch\" method=\"get\" name=\"kakaoSearch\">\n",
      "<fieldset class=\"fld_inside\"> <legend class=\"screen_out\">검색어 입력폼</legend>\n",
      "<div class=\"box_searchbar\"> <label class=\"lab_search\" for=\"qVal\">통합검색</label>\n",
      "<input name=\"nil_profile\" type=\"hidden\" value=\"search\"/>\n",
      "<input name=\"nil_src\" type=\"hidden\" value=\"media\"/>\n",
      "<input name=\"DA\" type=\"hidden\" value=\"23A\"/>\n",
      "<input name=\"rtmaxcoll\" type=\"hidden\" value=\"NNS\"/>\n",
      "<input autocomplete=\"off\" class=\"tf_keyword\" id=\"qVal\" name=\"q\" spellcheck=\"false\" title=\"검색어 입력\" type=\"text\" value=\"\"/> <button class=\"btn_search\" id=\"kakaoBtnSearch\" type=\"submit\"><span class=\"ir_wa\">검색</span></button>\n",
      "</div>\n",
      "</fieldset>\n",
      "<div class=\"wrap_suggestBox\" id=\"wrap_suggestBox\">\n",
      "<div class=\"suggestBox box_sub\" id=\"suggestBox\">\n",
      "<div class=\"baseBox bg\" style=\"display: none\"></div>\n",
      "</div>\n",
      "</div>\n",
      "</form>\n",
      "</div>\n",
      "</div>\n",
      "<div data-cloud=\"pc_news_header_gnb\" id=\"kakaoGnb\" role=\"navigation\">\n",
      "<div class=\"inner_gnb\">\n",
      "<h2 class=\"screen_out\">뉴스 메인메뉴</h2>\n",
      "<ul class=\"gnb_comm\" data-category=\"society\">\n",
      "<li class=\"home\"><a class=\"link_gnb link_gnb1\" href=\"//news.daum.net/\"><span class=\"ir_wa\">홈</span><span class=\"bar_gnb\"><span class=\"inner_bar\"></span></span></a></li>\n",
      "<li class=\"society\"><a class=\"link_gnb link_gnb2\" href=\"//news.daum.net/society/\"><span class=\"ir_wa\">사회</span><span class=\"bar_gnb\"><span class=\"inner_bar\"></span></span></a></li>\n",
      "<li class=\"politics\"><a class=\"link_gnb link_gnb3\" href=\"//news.daum.net/politics/\"><span class=\"ir_wa\">정치</span><span class=\"bar_gnb\"><span class=\"inner_bar\"></span></span></a></li>\n",
      "<li class=\"economic\"><a class=\"link_gnb link_gnb4\" href=\"//news.daum.net/economic/\"><span class=\"ir_wa\">경제</span><span class=\"bar_gnb\"><span class=\"inner_bar\"></span></span></a></li>\n",
      "<li class=\"foreign\"><a class=\"link_gnb link_gnb5\" href=\"//news.daum.net/foreign/\"><span class=\"ir_wa\">국제</span><span class=\"bar_gnb\"><span class=\"inner_bar\"></span></span></a></li>\n",
      "<li class=\"culture\"><a class=\"link_gnb link_gnb6\" href=\"//news.daum.net/culture/\"><span class=\"ir_wa\">문화</span><span class=\"bar_gnb\"><span class=\"inner_bar\"></span></span></a></li>\n",
      "<li class=\"digital\"><a class=\"link_gnb link_gnb7\" href=\"//news.daum.net/digital/\"><span class=\"ir_wa\">IT</span><span class=\"bar_gnb\"><span class=\"inner_bar\"></span></span></a></li>\n",
      "<li class=\"popular\"><a class=\"link_gnb link_gnb8\" href=\"//news.daum.net/ranking/popular\"><span class=\"ir_wa\">랭킹</span><span class=\"bar_gnb\"><span class=\"inner_bar\"></span></span></a></li>\n",
      "<li class=\"series editorial\"><a class=\"link_gnb link_gnb9\" href=\"//news.daum.net/series\"><span class=\"ir_wa\">연재</span><span class=\"bar_gnb\"><span class=\"inner_bar\"></span></span></a></li>\n",
      "<li class=\"photo\"><a class=\"link_gnb link_gnb10\" href=\"//news.daum.net/photo\"><span class=\"ir_wa\">포토</span><span class=\"bar_gnb\"><span class=\"inner_bar\"></span></span></a></li>\n",
      "<li class=\"tv\"><a class=\"link_gnb link_gnb11\" href=\"//news.daum.net/tv\"><span class=\"ir_wa\">TV</span><span class=\"bar_gnb\"><span class=\"inner_bar\"></span></span></a></li>\n",
      "</ul>\n",
      "<div class=\"gnb_etc\">\n",
      "<ul class=\"gnb_with\">\n",
      "<li><a class=\"link_gnb link_gnb1\" href=\"//news.daum.net/1boon\"><span class=\"ir_wa\">1boon</span></a></li>\n",
      "<li><a class=\"link_gnb link_gnb2\" href=\"//gallery.v.daum.net/p/home\"><span class=\"ir_wa\">갤러리</span><span class=\"bar_gnb\"><span class=\"inner_bar\"></span></span></a></li>\n",
      "</ul>\n",
      "<div class=\"gnb_weather\"> <strong class=\"screen_out\">날씨 정보</strong>\n",
      "<div id=\"gnb_weather\">\n",
      "<ul class=\"list_weather\" data-nightyn=\"N\"></ul>\n",
      "</div>\n",
      "</div>\n",
      "</div>\n",
      "</div>\n",
      "</div>\n",
      "<div class=\"bar_progress\" data-cloud=\"pc_news_header_gnb\" id=\"barProgress\"></div>\n",
      "</div>\n",
      "<div id=\"dummyKakaoGnb\" style=\"height:137px; display:none;\"></div>\n",
      "<hr class=\"hide\"/>\n",
      "<div class=\"cont_view\" id=\"kakaoContent\" role=\"main\">\n",
      "<h2 class=\"screen_out\" id=\"kakaoBody\">사회</h2>\n",
      "<div data-cloud-area=\"title\" id=\"cSub\">\n",
      "<div class=\"head_view\" data-cloud=\"pc_article_title\"> <em class=\"info_cp\"> <a class=\"link_cp\" href=\"http://www.ytn.co.kr\" target=\"_blank\"> <img alt=\"YTN\" class=\"thumb_g\" src=\"https://t1.daumcdn.net/media/news/2020/cp/cp_ytn.gif\"/> </a> </em>\n",
      "<h3 class=\"tit_view\" data-translation=\"true\">13일부터 마스크 착용 의무화..한 달 계도 후 과태료 10만 원</h3> <span class=\"info_view\"> <span class=\"txt_info\">김장하</span> <span class=\"txt_info\">입력 <span class=\"num_date\">2020.10.04. 21:57</span></span> <span class=\"txt_info\">수정 <span class=\"num_date\">2020.10.04. 21:58</span></span> <button class=\"emph_g2 link_cmt\" id=\"alexCounter\">댓글 <span class=\"alex-count-area\">0</span>개</button> </span>\n",
      "<div class=\"util_view\">\n",
      "<div class=\"btn_util util_summary\"> <button aria-expanded=\"false\" class=\"btn_summary\" type=\"button\"><span class=\"ico_newsview\">자동요약</span></button>\n",
      "<div class=\"wrap_setlayer\">\n",
      "<div class=\"layer_util layer_summary\">\n",
      "<p>오는 13일부터 마스크 착용이 의무화됩니다.</p>\n",
      "<p>정부는 한 달 계도 기간을 둔 뒤 다음 달 13일부터는 위반 행위 단속에 나서 최고 10만 원의 과태료를 부과할 방침입니다.</p>\n",
      "<p>세면, 음식섭취, 의료행위, 수영장·목욕탕 등에 있을 때, 공연 등 얼굴이 보여야 하는 불가피한 상황도 과태료 부과 예외가 됩니다.</p>\n",
      "<p>정부는 11월 12일까지 30일간 계도 기간을 둔 뒤 11월 13일부터 적발되는 위반 행위는 10만 원 이하의 과태료를 부과할 계획입니다.</p> <span class=\"info_summary\"><span class=\"ico_newsview\"></span>기사 제목과 주요 문장을 기반으로 자동요약한 결과입니다. 전체 맥락을 이해하기 위해서는 본문 보기를 권장합니다.</span>\n",
      "</div>\n",
      "</div>\n",
      "</div>\n",
      "<div class=\"btn_util tts_btn\"> <button aria-expanded=\"false\" class=\"btn_set btn_tts\" type=\"button\"> <span class=\"ico_newsview ico_speak\">음성 기사 듣기</span> </button>\n",
      "<div class=\"wrap_setlayer\">\n",
      "<div class=\"layer_util layer_set layer_tts\"> <strong class=\"screen_out\">음성 기사 옵션 조절 레이어</strong>\n",
      "<ul class=\"list_set list_tts\">\n",
      "<li> <input class=\"screen_out\" id=\"ttsGenderMale\" name=\"ttsGender\" type=\"radio\" value=\"Male\"/> <label class=\"lab_set\" for=\"ttsGenderMale\"><span class=\"ico_newsview\"></span>남성</label> </li>\n",
      "<li> <input class=\"screen_out\" id=\"ttsGenderFemale\" name=\"ttsGender\" type=\"radio\" value=\"Female\"/> <label class=\"lab_set\" for=\"ttsGenderFemale\"><span class=\"ico_newsview\"></span>여성</label> </li>\n",
      "</ul>\n",
      "<ul class=\"list_set list_tts list_ttsspeed\">\n",
      "<li> <input class=\"screen_out\" id=\"ttsSpeedSlow\" name=\"ttsSpeed\" type=\"radio\" value=\"slow\"/> <label class=\"lab_set\" for=\"ttsSpeedSlow\"><span class=\"ico_newsview\"></span>느림</label> </li>\n",
      "<li> <input class=\"screen_out\" id=\"ttsSpeedNormal\" name=\"ttsSpeed\" type=\"radio\" value=\"normal\"/> <label class=\"lab_set\" for=\"ttsSpeedNormal\"><span class=\"ico_newsview\"></span>보통</label> </li>\n",
      "<li> <input class=\"screen_out\" id=\"ttsSpeedFast\" name=\"ttsSpeed\" type=\"radio\" value=\"fast\"/> <label class=\"lab_set\" for=\"ttsSpeedFast\"><span class=\"ico_newsview\"></span>빠름</label> </li>\n",
      "</ul>\n",
      "</div>\n",
      "</div>\n",
      "<audio id=\"ttsPlayer\" preload=\"none\" style=\"display:none\"></audio>\n",
      "</div>\n",
      "<div class=\"btn_util translate_btn\"> <button aria-expanded=\"false\" class=\"btn_set btn_translate #util #translate #set\" type=\"button\"><span class=\"ico_newsview\">번역 설정</span></button>\n",
      "<div class=\"wrap_translatelayer\">\n",
      "<div class=\"layer_util layer_translate\"> <strong class=\"tit_translate\">번역<span class=\"ico_newsview\">beta</span> </strong>\n",
      "<p class=\"desc_translate txt_newsview\">Translated by <a class=\"link_kakaoi #util #translate #kakaoi_link\" href=\"https://kakao.ai/\" target=\"_blank\">kakao i</a></p> <strong class=\"screen_out\">번역할 언어 선택</strong>\n",
      "<ul class=\"list_lang\">\n",
      "<li> <button class=\"btn_lang btn_en #util #translate #lang_en\" name=\"en\"> <span class=\"ico_newsview ico_flag\"></span> <strong class=\"ico_newsview tit_lang\">English</strong> </button> </li>\n",
      "<li> <button class=\"btn_lang btn_ch #util #translate #lang_cn\" name=\"cn\" type=\"button\"> <span class=\"ico_newsview ico_flag\"></span> <strong class=\"ico_newsview tit_lang\">简体中文</strong> </button> </li>\n",
      "<li> <button class=\"btn_lang btn_jp #util #translate #lang_jp\" name=\"jp\" type=\"button\"> <span class=\"ico_newsview ico_flag\"></span> <strong class=\"ico_newsview tit_lang\">日本語</strong> </button> </li>\n",
      "<li> <button class=\"btn_lang btn_ind #util #translate #lang_id\" name=\"id\" type=\"button\"> <span class=\"ico_newsview ico_flag\"></span> <strong class=\"ico_newsview tit_lang\">Bahasa Indonesia</strong> </button> </li>\n",
      "<li> <button class=\"btn_lang btn_viet #util #translate #lang_vi\" name=\"vi\" type=\"button\"> <span class=\"ico_newsview ico_flag\"></span> <strong class=\"ico_newsview tit_lang\">tiếng Việt</strong> </button> </li>\n",
      "<li> <button class=\"btn_lang btn_ko #util #translate #lang_kr\" name=\"kr\" type=\"button\"> <span class=\"ico_newsview ico_flag\"></span> <strong class=\"ico_newsview tit_lang\">한국어</strong> </button> </li>\n",
      "</ul>\n",
      "</div>\n",
      "</div>\n",
      "</div>\n",
      "<div class=\"btn_util share_btn\"> <button aria-expanded=\"false\" class=\"btn_set btn_share\" id=\"rSocialShareButton\"> <span class=\"ico_newsview\">공유</span> </button>\n",
      "<div id=\"rSocialShareLayerContainer\"></div>\n",
      "</div>\n",
      "<div class=\"font_btn btn_util\"> <button aria-expanded=\"false\" class=\"btn_set btn_font\" type=\"button\"> <span class=\"ico_newsview ico_font\">글씨크기 조절하기</span> </button>\n",
      "<div class=\"wrap_setlayer\">\n",
      "<div class=\"layer_util layer_set layer_font\"> <strong class=\"screen_out\">글자 크기 조절 레이어</strong>\n",
      "<ul class=\"list_set list_font\">\n",
      "<li> <input class=\"screen_out\" id=\"inpFont17\" name=\"inpFont\" type=\"radio\" value=\"17\"/> <label class=\"lab_set lab_size0\" for=\"inpFont17\"> <span class=\"ico_newsview\"></span> <span aria-hidden=\"true\">가나다라마바사</span> <span class=\"screen_out\">매우 작은 폰트</span> </label> </li>\n",
      "<li> <input class=\"screen_out\" id=\"inpFont18\" name=\"inpFont\" type=\"radio\" value=\"18\"/> <label class=\"lab_set lab_size1\" for=\"inpFont18\"> <span class=\"ico_newsview\"></span> <span aria-hidden=\"true\">가나다라마바사</span> <span class=\"screen_out\">작은 폰트</span> </label> </li>\n",
      "<li> <input class=\"screen_out\" id=\"inpFont19\" name=\"inpFont\" type=\"radio\" value=\"19\"/> <label class=\"lab_set lab_size2\" for=\"inpFont19\"> <span class=\"ico_newsview\"></span> <span aria-hidden=\"true\">가나다라마바사</span> <span class=\"screen_out\">보통 폰트</span> </label> </li>\n",
      "<li> <input class=\"screen_out\" id=\"inpFont20\" name=\"inpFont\" type=\"radio\" value=\"20\"/> <label class=\"lab_set lab_size3\" for=\"inpFont20\"> <span class=\"ico_newsview\"></span> <span aria-hidden=\"true\">가나다라마바사</span> <span class=\"screen_out\">큰 폰트</span> </label> </li>\n",
      "<li> <input class=\"screen_out\" id=\"inpFont21\" name=\"inpFont\" type=\"radio\" value=\"21\"/> <label class=\"lab_set lab_size4\" for=\"inpFont21\"> <span class=\"ico_newsview\"></span> <span aria-hidden=\"true\">가나다라마바사</span> <span class=\"screen_out\">매우 큰 폰트</span> </label> </li>\n",
      "</ul>\n",
      "</div>\n",
      "</div>\n",
      "</div>\n",
      "<div class=\"btn_util\"> <button class=\"btn_print\" type=\"button\"><span class=\"ico_newsview\">인쇄하기 새창열림</span></button>\n",
      "</div>\n",
      "</div>\n",
      "</div>\n",
      "</div>\n",
      "<div id=\"cMain\">\n",
      "<div id=\"mArticle\">\n",
      "<div data-cloud-area=\"article\">\n",
      "<div class=\"status_view\" data-cloud=\"pc_article_body\" id=\"translateNotice\" style=\"display:none;\"> <span class=\"notice_lang notice_lang_en\" style=\"display:none;\">The copyright belongs to the original writer of the content, and there may be errors in machine translation results.</span> <span class=\"notice_lang notice_lang_cn\" style=\"display:none;\">版权归内容原作者所有。机器翻译结果可能存在错误。</span> <span class=\"notice_lang notice_lang_jp\" style=\"display:none;\">原文の著作権は原著著作者にあり、機械翻訳の結果にエラーが含まれることがあります。</span> <span class=\"notice_lang notice_lang_id\" style=\"display:none;\">Hak cipta milik penulis asli dari konten, dan mungkin ditemukan kesalahan dalam hasil terjemahan mesin.</span> <span class=\"notice_lang notice_lang_vi\" style=\"display:none;\">Bản quyền thuộc về tác giả gốc của nội dung và có thể có lỗi trong kết quả dịch bằng máy.</span>\n",
      "</div>\n",
      "<div class=\"news_view\" data-cloud=\"pc_article_body\" style=\"font-size:17px\">\n",
      "<div class=\"article_view\" data-translation-body=\"true\" id=\"harmonyContainer\">\n",
      "<section dmcf-sid=\"Ar9cTnWOB7\">\n",
      "<figure class=\"figure_frm origin_fig\" dmcf-pid=\"ATZq9Ccp8A\" dmcf-ptype=\"figure\">\n",
      "<p class=\"link_figure\"><img class=\"thumb_g_article\" data-org-src=\"https://t1.daumcdn.net/news/202010/04/YTN/20201004215808712mdqs.jpg\" data-org-width=\"1280\" dmcf-mid=\"ApOemxpnTx\" dmcf-mtype=\"image\" height=\"auto\" src=\"https://img1.daumcdn.net/thumb/R658x0.q70/?fname=https://t1.daumcdn.net/news/202010/04/YTN/20201004215808712mdqs.jpg\" width=\"658\"/></p>\n",
      "</figure>\n",
      "<p dmcf-pid=\"A1y9MVrxj2\" dmcf-ptype=\"general\">오는 13일부터 마스크 착용이 의무화됩니다. </p>\n",
      "<p dmcf-pid=\"AKbTDJJyKs\" dmcf-ptype=\"general\">정부는 한 달 계도 기간을 둔 뒤 다음 달 13일부터는 위반 행위 단속에 나서 최고 10만 원의 과태료를 부과할 방침입니다. </p>\n",
      "<p dmcf-pid=\"AuGsnA7s8k\" dmcf-ptype=\"general\">중앙재난안전대책본부는 오늘 브리핑을 통해 이같이 밝히고 국민의 동참을 당부했습니다. </p>\n",
      "<p dmcf-pid=\"A9znQ2F79a\" dmcf-ptype=\"general\">중대본에 따르면 마스크 착용을 의무화하는 행정명령은 거리두기 단계와 시설 위험도에 따라 다르게 적용되는데 대중교통, 집회 시위장, 의료기관, 요양시설, 주야간 보호시설의 경우 거리두기와 무관하게 항상 시행됩니다. </p>\n",
      "<p dmcf-pid=\"AJgGq4k7kq\" dmcf-ptype=\"general\">다중이용시설은 사회적 거리두기 단계별로 집합이 제한되는 시설 사업주, 종사자, 이용자를 대상으로 단계적으로 적용됩니다. </p>\n",
      "<p dmcf-pid=\"AsHNxTwnXN\" dmcf-ptype=\"general\">착용이 인정되는 마스크는 KF94, KF80, 비말 차단 마스크, 수술용 마스크, 천 마스크, 일회용 마스크 등이고 망사형이나 밸브형 마스크, 스카프 등 옷가지로 얼굴을 가리는 건 인정되지 않습니다. </p>\n",
      "<p dmcf-pid=\"ASJe6ELWCo\" dmcf-ptype=\"general\">허용된 마스크를 썼다 해도 입과 코를 완전히 가리지 않으면 과태료가 부과될 수 있습니다. </p>\n",
      "<p dmcf-pid=\"ABim0BHtYt\" dmcf-ptype=\"general\">다만 만 14세 미만과 마스크 착용이 어려운 사람은 부과 대상에서 제외됩니다. </p>\n",
      "<p dmcf-pid=\"AB9utNMWkO\" dmcf-ptype=\"general\">세면, 음식섭취, 의료행위, 수영장·목욕탕 등에 있을 때, 공연 등 얼굴이 보여야 하는 불가피한 상황도 과태료 부과 예외가 됩니다. </p>\n",
      "<p dmcf-pid=\"Af11ZuHjik\" dmcf-ptype=\"general\">정부는 11월 12일까지 30일간 계도 기간을 둔 뒤 11월 13일부터 적발되는 위반 행위는 10만 원 이하의 과태료를 부과할 계획입니다. </p>\n",
      "<p dmcf-pid=\"Aky81eZJM5\" dmcf-ptype=\"general\">※ '당신의 제보가 뉴스가 됩니다' YTN은 여러분의 소중한 제보를 기다립니다. </p>\n",
      "<p dmcf-pid=\"AztPxFIjC0\" dmcf-ptype=\"general\">[카카오톡] YTN을 검색해 채널 추가 [전화] 02-398-8585 [메일] social@ytn.co.kr [온라인 제보] www.ytn.co.kr</p>\n",
      "</section>\n",
      "</div>\n",
      "</div>\n",
      "</div>\n",
      "<div class=\"foot_view\" data-cloud-area=\"addition\">\n",
      "<div class=\"copyright_view\" data-cloud=\"pc_like_and_copylight\"> <span class=\"txt_copyright\">저작권자(c) YTN &amp; YTN plus. 무단 전재-재배포 금지</span>\n",
      "<div class=\"btn_empathy\" id=\"likeButton\">\n",
      "<div class=\"empathy empathy_pc\" id=\"empathy_pc\">\n",
      "<div class=\"inner_empathy uoc-icon\"> <a class=\"img_empathy btn_empathy uoc-button\" href=\"#none\"> <span class=\"img_empathy ico_heart\"></span> <span class=\"txt_empathy uoc-text\" style=\"display:inline-block\">공감</span> <span class=\"num_empathy uoc-count\" style=\"display: none;\"></span> <span class=\"access_text screen_out\">공감하기</span> </a> <a class=\"img_empathy link_empathy uoc-best-button\" href=\"http://like.daum.net/best/daily\" target=\"_top\">베스트공감 &gt;</a>\n",
      "</div>\n",
      "</div>\n",
      "</div>\n",
      "</div>\n",
      "<div class=\"cp_view\" data-cloud=\"pc_related_news\"> <strong class=\"tit_cp\">YTN 주요 뉴스<span class=\"info_cp\">해당 언론사로 연결됩니다.</span></strong>\n",
      "<ul class=\"list_relate\">\n",
      "<li><a class=\"link_txt\" data-type=\"related\" href=\"https://www.ytn.co.kr/_ln/0101_202010041655184185\" target=\"_blank\" title=\"폼페이오 방한 연기...일본 '쿼드' 회의엔 예정대로 참석\">폼페이오 방한 연기...일본 '쿼드' 회의엔 예정대로 참석</a></li>\n",
      "<li><a class=\"link_txt\" data-type=\"related\" href=\"https://www.ytn.co.kr/_ln/0103_202010041635058443\" target=\"_blank\" title=\"액상형 전자담배 독성, 세포·동물흡입 시험에서도 확인\">액상형 전자담배 독성, 세포·동물흡입 시험에서도 확인</a></li>\n",
      "<li><a class=\"link_txt\" data-type=\"related\" href=\"https://www.ytn.co.kr/_ln/0103_202010032159119540\" target=\"_blank\" title=\"보수 단체들, 정부 규탄 시위...큰 충돌 없었다\">보수 단체들, 정부 규탄 시위...큰 충돌 없었다</a></li>\n",
      "<li><a class=\"link_txt\" data-type=\"related\" href=\"https://www.ytn.co.kr/_ln/0104_202010041301141741\" target=\"_blank\" title='\"中 전투기 200초면 타이완에...1996년 이후 최대 군사적 위기 직면\"'>\"中 전투기 200초면 타이완에...1996년 이후 최대 군사적 위기 직면\"</a></li>\n",
      "<li><a class=\"link_txt\" data-type=\"related\" href=\"https://www.ytn.co.kr/_ln/0104_202010041445013205\" target=\"_blank\" title=\"라이브 방송 중 전남편이 붙인 불에...中 여성 사망\">라이브 방송 중 전남편이 붙인 불에...中 여성 사망</a></li>\n",
      "<li><a class=\"link_txt\" data-type=\"rss\" href=\"https://www.ytn.co.kr/_ln/0101_202010170053332471\" target=\"_blank\" title=\"'김정은 의전' 꿰찬 현송월...김여정 역할 물러줬나\">'김정은 의전' 꿰찬 현송월...김여정 역할 물러줬나</a></li>\n",
      "<li><a class=\"link_txt\" data-type=\"rss\" href=\"https://www.ytn.co.kr/_ln/0104_202010170702242643\" target=\"_blank\" title=\"[속보] 日스가, 'A급전범 봉안' 야스쿠니신사 가을제사 공물 바쳐\">[속보] 日스가, 'A급전범 봉안' 야스쿠니신사 가을제사 공물 바쳐</a></li>\n",
      "<li><a class=\"link_txt\" data-type=\"rss\" href=\"https://www.ytn.co.kr/_ln/0102_202010170625407309\" target=\"_blank\" title=\"[팩트와이] 한국에서 떼돈 벌고 한국에는 세금 0원?\">[팩트와이] 한국에서 떼돈 벌고 한국에는 세금 0원?</a></li>\n",
      "<li><a class=\"link_txt\" data-type=\"rss\" href=\"https://www.ytn.co.kr/_ln/0104_202010170815310380\" target=\"_blank\" title=\"서아프리카 피랍 한국인 선원 2명, 50일 만에 석방\">서아프리카 피랍 한국인 선원 2명, 50일 만에 석방</a></li>\n",
      "</ul>\n",
      "</div>\n",
      "<div data-cloud=\"pc_article_bottom_ad\" id=\"alex-scroll-area\"></div>\n",
      "<ins class=\"kakao_ad_area recomm_ad\" data-ad-height=\"90\" data-ad-onfail=\"cmRenderFailCallBack\" data-ad-unit=\"DAN-1jezdswwiit7q\" data-ad-width=\"658\" data-cloud=\"pc_article_bottom_ad\" style=\"display:block; width: 658px; text-decoration: none; min-width: 658px;\"> </ins>\n",
      "<div class=\"cmt_news cmt_view\" data-cloud=\"pc_comment\">\n",
      "<div class=\"news_notice\" id=\"newsviewNotice\"></div>\n",
      "<div class=\"alex-area\" data-base-url=\"//comment.daum.net\" data-client-id=\"26BXAvKny5WF5Z09lr5k77Y8\" data-initial-limit=\"3\" data-is-mobile=\"false\" data-kakao-appkey=\"9076ba452fea1a434141d6b6a2c11a3c\" data-max-length=\"300\" data-page-limit=\"10\" data-post-id=\"@20201004215700006\" data-show-mask-alert=\"true\" data-sort=\"P\" data-use-attachment=\"false\" data-use-emoticon=\"true\" data-use-fold=\"true\" data-use-live-comment-mode=\"notify\" data-use-my=\"true\" data-use-official=\"true\" data-use-reply=\"true\" data-use-skin=\"newsView\" data-use-social-share=\"true\" id=\"alex-area\">\n",
      "</div>\n",
      "</div>\n",
      "</div>\n",
      "</div>\n",
      "<div data-cloud-area=\"aside\" id=\"mAside\">\n",
      "<ins class=\"kakao_ad_area aside_g aside_ad\" data-ad-height=\"250\" data-ad-type=\"D\" data-ad-unit=\"05d24\" data-ad-width=\"250\" data-cloud=\"pc_aside_top_ad\" style=\"display:block;width:250px;height:250px;\"> </ins>\n",
      "<div class=\"aside_g aside_popular hide\" data-cloud=\"pc_popular_news\">\n",
      "<h3 class=\"txt_newsview\">많이본 뉴스</h3>\n",
      "<ul class=\"tab_aside tab_media\">\n",
      "<li class=\"on\"> <a class=\"link_tab link_tab2\" href=\"#none\">뉴스</a> </li>\n",
      "<li class=\"\"> <a class=\"link_tab link_tab3\" href=\"#none\">연예</a> </li>\n",
      "<li class=\"\"> <a class=\"link_tab link_tab4\" href=\"#none\">스포츠</a> </li>\n",
      "</ul>\n",
      "</div>\n",
      "<div class=\"aside_g aside_phototv hide\" data-cloud=\"pc_news_photo_tv\">\n",
      "<h3 class=\"txt_newsview\">포토&amp;TV</h3>\n",
      "<div class=\"cont_aside\">\n",
      "<ul class=\"list_phototv\"></ul>\n",
      "</div>\n",
      "</div>\n",
      "<ins class=\"kakao_ad_area aside_g aside_ad\" data-ad-height=\"250\" data-ad-type=\"D\" data-ad-unit=\"0QH44\" data-ad-width=\"250\" data-cloud=\"pc_aside_bottom_ad\" style=\"display:block;width:250px;height:250px;\"> </ins>\n",
      "</div>\n",
      "</div>\n",
      "<div id=\"cEtc\">\n",
      "<div class=\"realtime_view\">\n",
      "<div class=\"inner_realtime\">\n",
      "<div data-cloud-area=\"etc\">\n",
      "<div data-cloud=\"pc_realtime_news\" data-cloud-key=\"TOROS_NEWS_PC\" data-cloud-ui=\"RealTimeNews\">\n",
      "</div>\n",
      "</div>\n",
      "<div class=\"realtime_aside\" data-cloud-area=\"etc-aside\" id=\"realtime_aside\">\n",
      "<div class=\"shopad_news aside_g aside_shopping\" data-cloud=\"pc_shopping_ad\" id=\"daum-sfocus-root\"></div>\n",
      "</div>\n",
      "</div>\n",
      "</div>\n",
      "<div data-cloud-area=\"etc-addition\">\n",
      "</div>\n",
      "</div>\n",
      "</div>\n",
      "<hr class=\"hide\"/>\n",
      "<div class=\"footer_comm\" data-cloud-area=\"footer\" id=\"kakaoFoot\" role=\"contentinfo\">\n",
      "<div class=\"inner_foot\" data-cloud=\"pc_news_footer\">\n",
      "<div class=\"direct_link\">\n",
      "<h2 class=\"tit_direct\">바로가기</h2>\n",
      "<div class=\"item_bundle\"> <a class=\"link_txt\" href=\"https://news.daum.net/\">뉴스홈</a> <a class=\"link_txt\" href=\"https://news.daum.net/society/\">사회</a> <a class=\"link_txt\" href=\"https://news.daum.net/politics/\">정치</a> <a class=\"link_txt\" href=\"https://news.daum.net/economic/\">경제</a> <a class=\"link_txt\" href=\"https://news.daum.net/foreign/\">국제</a> <a class=\"link_txt\" href=\"https://news.daum.net/culture/\">문화</a> <a class=\"link_txt\" href=\"https://news.daum.net/digital/\">IT</a> <a class=\"link_txt\" href=\"https://news.daum.net/photo/\">포토</a> <a class=\"link_txt\" href=\"http://news.daum.net/tv/\">TV</a>\n",
      "</div>\n",
      "<div class=\"item_bundle\"> <a class=\"link_txt\" href=\"https://news.daum.net/cp\">언론사별 뉴스</a>\n",
      "</div>\n",
      "<div class=\"item_bundle\"> <a class=\"link_txt\" href=\"https://news.daum.net/newsbox\">배열이력</a>\n",
      "</div>\n",
      "<div class=\"item_bundle\"> <a class=\"link_txt\" href=\"https://news.daum.net/breakingnews\">전체뉴스</a> <a class=\"link_txt\" href=\"https://news.daum.net/ranking/popular\">랭킹</a> <a class=\"link_txt\" href=\"https://news.daum.net/series\">연재</a> <a class=\"link_txt\" href=\"https://news.daum.net/1boon\">1boon</a>\n",
      "</div> <button class=\"btn_fold\" type=\"button\"><span class=\"ico_news\">바로가기 링크 더보기/접기</span></button>\n",
      "</div>\n",
      "<h2 class=\"screen_out\">서비스 이용정보</h2>\n",
      "<div class=\"footer_link\"> <a class=\"link_info\" href=\"https://news.daum.net/info/intro\">다음뉴스 소개</a> <span class=\"txt_dot\"> ・ </span> <a class=\"link_info\" href=\"https://news.daum.net/notice\">공지사항</a> <span class=\"txt_dot\"> ・ </span> <a class=\"link_info\" href=\"https://news.daum.net/info/bbsrule\">게시물 운영원칙</a> <span class=\"txt_dot\"> ・ </span> <a class=\"link_info\" href=\"http://policy.daum.net/info/info\">서비스 약관/정책</a> <span class=\"txt_dot\"> ・ </span> <a class=\"link_info\" href=\"https://with.kakao.com/media\">뉴스제휴</a> <span class=\"txt_dot\"> ・ </span> <a class=\"link_info\" href=\"https://business.kakao.com/\">비즈니스</a> <span class=\"txt_dot\"> ・ </span> <a class=\"link_info\" href=\"https://cs.daum.net/redbell/top.html\">권리침해신고</a> <span class=\"txt_dot\"> ・ </span> <a class=\"link_info\" href=\"https://cs.daum.net/faq/63.html\">다음뉴스 고객센터</a>\n",
      "</div>\n",
      "<div class=\"footer_link\"> <a class=\"link_info\" href=\"https://news.daum.net/info/newscenter24\">24시간 뉴스센터</a> <span class=\"txt_dot\"> ・ </span> <a class=\"link_info\" href=\"https://news.daum.net/info/edit\">서비스원칙</a> <span class=\"txt_dot\"> ・ </span> <a class=\"link_info\" href=\"https://news.daum.net/info/correct\">바로잡습니다</a> <span class=\"txt_dot\"> ・ </span> <span class=\"link_info\">기사배열책임자 : 손정아</span> <span class=\"txt_dot\"> ・ </span> <span class=\"link_info\">청소년보호책임자 : 이준목</span>\n",
      "</div>\n",
      "<div class=\"info_copyright\"> <strong class=\"info_warn\">위 내용에 대한 저작권 및 법적 책임은 자료제공사 또는 <br/>글쓴이에 있으며, Kakao의 입장과 다를 수 있습니다.</strong> <small class=\"txt_copyright\">Copyright © <strong class=\"txt_kakao\"><a class=\"link_kakao\" href=\"http://www.kakaocorp.com/\">Kakao Corp.</a></strong> All rights reserved.</small>\n",
      "</div>\n",
      "</div>\n",
      "</div>\n",
      "<div id=\"wrapMinidaum\"></div> <samp data-cloud-area=\"util\"> </samp>\n",
      "</div>\n",
      "<script src=\"//t1.daumcdn.net/harmony_static/cloud/2020/09/17/vendor.5f3285ceedc6f1b7143b.js\"></script>\n",
      "<script src=\"//t1.daumcdn.net/harmony_static/cloud/2020/09/17/common.02e51d37fbd4eb973bb8.js\"></script>\n",
      "<script src=\"//t1.daumcdn.net/harmony_static/cloud/2020/09/17/components.21fc0700278d03c33a95.js\"></script>\n",
      "<script src=\"//t1.daumcdn.net/kas/static/ba.min.js\"></script>\n",
      "<script src=\"//m1.daumcdn.net/svc/original/U03/cssjs/userAgent/userAgent-1.0.12.min.js\"></script>\n",
      "<script>\"use strict\"; function _instanceof(left, right) { if (right != null && typeof Symbol !== \"undefined\" && right[Symbol.hasInstance]) { return !!right[Symbol.hasInstance](left); } else { return left instanceof right; } } function _classCallCheck(instance, Constructor) { if (!_instanceof(instance, Constructor)) { throw new TypeError(\"Cannot call a class as a function\"); } } function _defineProperties(target, props) { for (var i = 0; i < props.length; i++) { var descriptor = props[i]; descriptor.enumerable = descriptor.enumerable || false; descriptor.configurable = true; if (\"value\" in descriptor) descriptor.writable = true; Object.defineProperty(target, descriptor.key, descriptor); } } function _createClass(Constructor, protoProps, staticProps) { if (protoProps) _defineProperties(Constructor.prototype, protoProps); if (staticProps) _defineProperties(Constructor, staticProps); return Constructor; } (function () { var weatherLayer = document.querySelector('.gnb_weather'); var weatherList = weatherLayer.querySelector('ul'); var weatherApiUrl = \"\".concat(Conf.api.hadesRest, \"/pc_weather\"); axios.get(weatherApiUrl).then(function (res) { var _res$data$body$data = res.data.body.data, isNightIconYn = _res$data$body$data.isNightIconYn, weatherData = _res$data$body$data.weatherData; weatherList.dataset.nightyn = isNightIconYn; weatherList.innerHTML = weatherData.map(function (_ref) { var weatherIconCode = _ref.weatherIconCode, specialRegionName = _ref.specialRegionName, temperature = _ref.temperature; return \"\\n <li>\\n <a href=\\\"http://search.daum.net/search?nil_suggest=btn&amp;w=tot&amp;DA=SBC&amp;q=\".concat(specialRegionName, \"%20\\uB0A0\\uC528\\\" class=\\\"link_cont\\\">\\n <span class=\\\"ico_weather ico_weather\").concat(weatherIconCode, \"\\\">\").concat(specialRegionName, \"</span> \\n <span class=\\\"txt_weather\\\">\").concat(specialRegionName, \"\\n <span class=\\\"num_heat\\\">\").concat(temperature, \"</span> \\n <span class=\\\"txt_heat\\\">\\u2103</span>\\n </span>\\n </a>\\n </li>\\n \"); }).join(''); var newsTicker = new NewsTicker(weatherList); }).catch(function (error) { removeWeatherLayer(); }); var NewsTicker = /*#__PURE__*/ function () { function NewsTicker(list) { _classCallCheck(this, NewsTicker); this.PAUSE_TIME = 4000; this.TRANSITION_TIME = 500; this.list = list; this.frameId = null; this.pause = this.pause.bind(this); this.start = this.start.bind(this); this.moveUp = this.moveUp.bind(this); this.init(); this.start(); this.list.style.marginTop = '0px'; } _createClass(NewsTicker, [{ key: \"start\", value: function start() { this.frameId = setInterval(this.moveUp, this.PAUSE_TIME); } }, { key: \"pause\", value: function pause() { clearInterval(this.frameId); } }, { key: \"moveUp\", value: function moveUp() { var list = this.list; var clone = list.firstElementChild.cloneNode(true); list.classList.add('slidein'); list.style.marginTop = '-30px'; setTimeout(function () { list.classList.remove('slidein'); list.style.marginTop = '0px'; list.removeChild(list.firstElementChild); list.appendChild(clone); }, this.TRANSITION_TIME); } }, { key: \"init\", value: function init() { var list = this.list; list.addEventListener('mouseenter', this.pause); list.addEventListener('mouseleave', this.start); } }]); return NewsTicker; }(); function removeWeatherLayer() { weatherLayer.parentNode.removeChild(weatherLayer); } })();</script>\n",
      "<script>\"use strict\"; (function () { var serviceParams = ''; var categoryName = serviceParams.indexOf('tv_news') > -1 ? 'tv' : 'society'; var gnb = document.querySelector('.gnb_comm'); var currentCategory = categoryName && gnb.querySelector(\".\".concat(categoryName)); currentCategory && currentCategory.setAttribute('class', \"\".concat(categoryName, \" on\")); })();</script>\n",
      "<script src=\"https://t1.daumcdn.net/cssjs/jquery/jquery-1.9.0.min.js\"></script>\n",
      "<script src=\"https://search1.daumcdn.net/search/suggest_pc/suggest-1.2.16.min.js\"></script>\n",
      "<script>\"use strict\"; (function ($) { var SUGGEST_APP_KEY = 'd7022f6ca2a04430ce1b97b922da58e8'; var searchLayer = document.getElementById('search_news'); var suggestInstance = new suggest.Suggest(document.getElementById(\"search_news\"), { inputEl: 'qVal', suggestBoxEl: 'suggestBox', autoFocus: 'NORMAL', suggestLimit: 10, isReverse: false, searchURL: 'https://search.daum.net/search', APIServer: { host: '//dapi.kakao.com/suggest/v2/pc.json', apiType: suggest.Suggest.APITYPE.DAPISUGGEST, appkey: SUGGEST_APP_KEY, queries: { 'mod': 'json', 'code': 'utf_in_out' } } }); /* 추천 검색어 마우스 클릭시 검색으로 보낸다. */ suggestInstance.on('click-item', function () { var kakaoSearch = document.getElementById('kakaoSearch'); kakaoSearch.querySelector(\"input[name='DA']\").value = '23B'; kakaoSearch.submit(); }); var queryInput = document.getElementById('qVal'); if (queryInput.addEventListener) { queryInput.addEventListener('focus', function (event) { event && event.preventDefault(); if (queryInput.value.length >= 0) { queryInput.parentNode.classList.add('search_on'); } }); queryInput.addEventListener('blur', function (event) { event && event.preventDefault(); if (queryInput.value.length === 0) { queryInput.parentNode.classList.remove('search_on'); } }); } else { /* ie */ queryInput.attachEvent('onfocus', function (event) { event && (event.preventDefault ? event.preventDefault() : event.returnValue = false); if (queryInput.value.length >= 0) { queryInput.parentNode.setAttribute('class', 'box_searchbar search_on'); } }); queryInput.attachEvent('onblur', function (event) { event && (event.preventDefault ? event.preventDefault() : event.returnValue = false); if (queryInput.value.length === 0) { queryInput.parentNode.setAttribute('class', 'box_searchbar'); } }); } })(jQuery);</script>\n",
      "<script src=\"//t1.daumcdn.net/daumtop_deco/socialshare/socialshare_nocss_pc-2.3.1.js\"></script>\n",
      "<script>\"use strict\"; (function () { var paragraphs = document.body.querySelectorAll(\".layer_summary p\"); var summaryLayer = document.body.querySelector('.util_summary'); var summaryButton = summaryLayer.querySelector('.btn_summary'); var summaryLayerStatus = false; function showLayer() { summaryLayer.classList.add('layer_open'); summaryButton.setAttribute('aria-expanded', true); window.addEventListener('click', checkLayer); } function hideLayer() { summaryLayerStatus = false; summaryLayer.classList.remove('layer_open'); summaryButton.setAttribute('aria-expanded', false); } function checkLayer(e) { if (summaryButton === e.target || summaryButton.children[0] === e.target) return false; hideLayer(); window.removeEventListener('click', checkLayer); } paragraphs.forEach(function (p) { return p.classList.add(\"desc_news\"); }); summaryButton.addEventListener('click', function (e) { summaryLayerStatus = !summaryLayerStatus; summaryLayerStatus ? showLayer() : hideLayer(); }); summaryLayer.addEventListener('focusin', function (e) { showLayer(); }); summaryLayer.addEventListener('focusout', function (e) { hideLayer(); }); })();</script>\n",
      "<script>\"use strict\"; function _slicedToArray(arr, i) { return _arrayWithHoles(arr) || _iterableToArrayLimit(arr, i) || _nonIterableRest(); } function _nonIterableRest() { throw new TypeError(\"Invalid attempt to destructure non-iterable instance\"); } function _iterableToArrayLimit(arr, i) { if (!(Symbol.iterator in Object(arr) || Object.prototype.toString.call(arr) === \"[object Arguments]\")) { return; } var _arr = []; var _n = true; var _d = false; var _e = undefined; try { for (var _i = arr[Symbol.iterator](), _s; !(_n = (_s = _i.next()).done); _n = true) { _arr.push(_s.value); if (i && _arr.length === i) break; } } catch (err) { _d = true; _e = err; } finally { try { if (!_n && _i[\"return\"] != null) _i[\"return\"](); } finally { if (_d) throw _e; } } return _arr; } function _arrayWithHoles(arr) { if (Array.isArray(arr)) return arr; } (function () { var ttsPlayerSrcMap = { slow_Male: \"http://k-v1.kakaocdn.net/dn/k6QUJ/btqJ92MZ5VZ/Y2vMjufUmeR9OMWXIivld1/original.m4a\", normal_Male: \"http://k-v1.kakaocdn.net/dn/g4oab/btqJ6dhdKXn/HmncZKznmSxaKZSLMIIcXk/original.m4a\", fast_Male: \"http://k-v1.kakaocdn.net/dn/g0zoL/btqJ8fZ99sB/v8S4Gnu4dRv6BZ0u2RCb70/original.m4a\", slow_Female: \"http://k-v1.kakaocdn.net/dn/dVK1tk/btqJZmsZeqi/PqK5NJE0Tmt5kpuiDNGzOk/original.m4a\", normal_Female: \"http://k-v1.kakaocdn.net/dn/rDlN1/btqJ3h5u5Hq/CwE7rYuCplj8FrjT4iq8f0/original.m4a\", fast_Female: \"http://k-v1.kakaocdn.net/dn/eEemsA/btqJ0n6aqXL/fMnk6XidZgZqJ86QDMNkv0/original.m4a\" }; var TTS_COOKIE_NAME = 'VIEW_TTS'; var $elements = document.body.querySelector('.tts_btn'); var ttsPlayer = $elements.querySelector('#ttsPlayer'); function ttsOptionsSourceKey() { var checkedSpeed = $elements.querySelector('input[name=ttsSpeed]:checked').value; var checkedGender = $elements.querySelector('input[name=ttsGender]:checked').value; return \"\".concat(checkedSpeed, \"_\").concat(checkedGender); } function ttsPlayerSrcSet() { var key = ttsOptionsSourceKey(); ttsPlayer.setAttribute('src', ttsPlayerSrcMap[key]); Cookies.set(TTS_COOKIE_NAME, '', { expires: -1 }); Cookies.set(TTS_COOKIE_NAME, key, { domain: '.v.daum.net', expires: new Date(new Date() * 1 + 365 * 864e+5) }); } var textLayer = $elements.querySelector('.ico_speak'); function ttsPlayerControl(control) { if (control == \"playOptions\") { ttsPlayerSrcSet(); ttsPlayer.load(); ttsPlayer.play(); textLayer.textContent = '음성 기사 정지'; } else if (control == \"play\") { ttsPlayer.load(); ttsPlayer.play(); textLayer.textContent = '음성 기사 정지'; } else { ttsPlayer[control](); textLayer.textContent = '음성 기사 듣기'; } } var btnTtsLayer = $elements; var btnTtsClick = $elements.querySelector('.btn_tts'); var ttsInputs = $elements.querySelectorAll('.list_tts input'); var subLayer = $elements.querySelector('.wrap_setlayer'); accessibleLayer({ layer: btnTtsLayer, btn: btnTtsClick, inputs: ttsInputs }); function accessibleLayer(options) { var layer = options.layer, btn = options.btn, inputs = options.inputs; var tid; var isMouseOn = false; function showLayer() { clearTimeout(tid); layer.classList.add('layer_open'); btn.setAttribute('aria-expanded', true); } function hideLayer() { layer.classList.remove('layer_open'); btn.setAttribute('aria-expanded', false); } function delayHideLayer() { tid = setTimeout(hideLayer, 1); } function checkMouseAndHideLayer() { if (!isMouseOn) delayHideLayer(); } layer.addEventListener('mouseover', function () { isMouseOn = true; showLayer(); }); layer.addEventListener('mouseleave', function () { isMouseOn = false; hideLayer(); }); btn.addEventListener('focus', showLayer); btn.addEventListener('blur', checkMouseAndHideLayer); inputs.forEach(function (input) { input.addEventListener('focus', showLayer); input.addEventListener('blur', checkMouseAndHideLayer); }); } accessibleInput({ options: $elements.querySelectorAll('.ico_newsview'), inputs: ttsInputs }); function accessibleInput(opt) { var options = opt.options, inputs = opt.inputs; options.forEach(function (option) { option.addEventListener('mouseover', function (event) { this.classList.add('ico_focused'); }); option.addEventListener('mouseleave', function (event) { this.classList.remove('ico_focused'); }); }); inputs.forEach(function (input) { input.addEventListener('focus', function () { this.nextElementSibling.querySelector('span').classList.add('ico_focused'); }); input.addEventListener('blur', function () { this.nextElementSibling.querySelector('span').classList.remove('ico_focused'); }); }); } btnTtsClick.addEventListener('click', function (event) { btnTtsLayer.classList.toggle('on'); if (btnTtsLayer.classList.contains('on')) { ttsPlayerControl('play'); } else { ttsPlayerControl('pause'); } }); ttsPlayer.addEventListener(\"ended\", function (event) { btnTtsLayer.classList.remove('on'); }); ttsInputs.forEach(function (input) { input.addEventListener('change', function (event) { btnTtsLayer.classList.add('on'); ttsPlayerControl('playOptions'); }); }); var ttsCookieValue = Cookies.get(TTS_COOKIE_NAME); if (typeof ttsCookieValue == \"undefined\" || ttsCookieValue.includes(\"undefined\")) { subLayer.querySelector('#ttsGenderMale').checked = true; subLayer.querySelector('#ttsSpeedNormal').checked = true; } else { var _ttsCookieValue$split = ttsCookieValue.split('_'), _ttsCookieValue$split2 = _slicedToArray(_ttsCookieValue$split, 2), speed = _ttsCookieValue$split2[0], gender = _ttsCookieValue$split2[1]; speed = 'ttsSpeed' + speed.charAt(0).toUpperCase() + speed.slice(1); gender = 'ttsGender' + gender; subLayer.querySelector('#' + gender).checked = true; subLayer.querySelector('#' + speed).checked = true; } btnTtsClick.className = \"btn_set btn_tts #util #tts #p_\" + ttsOptionsSourceKey(); ttsPlayerSrcSet(); })();</script>\n",
      "<script>\"use strict\"; (function () { var translatingLayers = document.createElement('DIV'); translatingLayers.innerHTML = \"\\n <div id=\\\"translatingLayer\\\" class=\\\"translate_layer\\\">\\n <div class=\\\"inner_translate_layer\\\">\\n <div class=\\\"layer_body\\\">\\n <strong class=\\\"tit_translate\\\">\\n \\uBC88\\uC5ED\\uC911 <span class=\\\"eng_tit\\\">Now in translation</span>\\n </strong>\\n </div>\\n </div>\\n </div>\\n\\n <div id=\\\"translateErrorLayer\\\" class=\\\"translate_layer\\\">\\n <div class=\\\"inner_translate_layer inner_error_layer\\\">\\n <div class=\\\"layer_body\\\">\\n <span class=\\\"ico_newsview ico_error\\\"></span>\\n <strong class=\\\"tit_translate\\\">\\n \\uC7A0\\uC2DC \\uD6C4 \\uB2E4\\uC2DC \\uC2DC\\uB3C4\\uD574 \\uC8FC\\uC138\\uC694 <span class=\\\"eng_tit\\\">Please try again in a moment</span>\\n </strong>\\n </div>\\n </div>\\n </div>\\n \"; document.body.querySelector(\"#kakaoWrap\").appendChild(translatingLayers); })();</script>\n",
      "<script>\"use strict\"; function _toConsumableArray(arr) { return _arrayWithoutHoles(arr) || _iterableToArray(arr) || _nonIterableSpread(); } function _nonIterableSpread() { throw new TypeError(\"Invalid attempt to spread non-iterable instance\"); } function _iterableToArray(iter) { if (Symbol.iterator in Object(iter) || Object.prototype.toString.call(iter) === \"[object Arguments]\") return Array.from(iter); } function _arrayWithoutHoles(arr) { if (Array.isArray(arr)) { for (var i = 0, arr2 = new Array(arr.length); i < arr.length; i++) { arr2[i] = arr[i]; } return arr2; } } var dmcfLanguage = 'ko'; (function () { var $elements = document.body.querySelector('.translate_btn'); var translateButtonLayer = $elements; var translateButton = $elements.querySelector('.btn_translate'); var translateKakaoILink = $elements.querySelector('.link_kakaoi'); var translateLanguageButtons = $elements.querySelectorAll('.btn_lang'); var translatingLayer = document.body.querySelector('#translatingLayer'); var translateErrorLayer = document.body.querySelector('#translateErrorLayer'); var kakaoWrap = document.body.querySelector('#kakaoWrap'); function hideAllLayers() { translatingLayer.style.display = \"none\"; translateErrorLayer.style.display = \"none\"; document.body.style.overflow = \"\"; } ; function showTranslatingLayer() { hideAllLayers(); translatingLayer.style.display = \"block\"; document.body.style.overflow = \"hidden\"; } ; function showTranslateErrorLayer() { hideAllLayers(); translateErrorLayer.style.display = \"block\"; document.body.style.overflow = \"hidden\"; } ; accessibleLayer({ layer: $elements, btn: translateButton, inputs: [translateKakaoILink].concat(_toConsumableArray(translateLanguageButtons)) }); function accessibleLayer(options) { var layer = options.layer, btn = options.btn, inputs = options.inputs; var tid; var isMouseOn = false; function showLayer() { clearTimeout(tid); layer.classList.add('layer_open'); btn.setAttribute('aria-expanded', true); } function hideLayer() { layer.classList.remove('layer_open'); btn.setAttribute('aria-expanded', false); } function delayHideLayer() { tid = setTimeout(hideLayer, 1); } function checkMouseAndHideLayer() { if (!isMouseOn) delayHideLayer(); } layer.addEventListener('mouseover', function () { isMouseOn = true; showLayer(); }); layer.addEventListener('mouseleave', function () { isMouseOn = false; hideLayer(); }); btn.addEventListener('focus', showLayer); btn.addEventListener('blur', checkMouseAndHideLayer); inputs.forEach(function (input) { input.addEventListener('focus', showLayer); input.addEventListener('blur', checkMouseAndHideLayer); }); } function onTranslate(e) { var sourceLang = \"kr\"; var targetLang = e.currentTarget.name; showTranslatingLayer(); try { HarmonyTranslator.translate(sourceLang, targetLang, onTranslateSuccess, onTranslateError); } catch (error) { console.error('번역 에러:', error); } } function onTranslateSuccess(data) { var translateNotice = document.querySelector(\"#translateNotice\"); var targetLang = data.targetLang; switch (targetLang) { case \"en\": case \"id\": kakaoWrap.classList.add(\"lang_type1\"); kakaoWrap.classList.remove(\"lang_type2\"); kakaoWrap.classList.remove(\"lang_type3\"); break; case \"cn\": case \"jp\": kakaoWrap.classList.remove(\"lang_type1\"); kakaoWrap.classList.add(\"lang_type2\"); kakaoWrap.classList.remove(\"lang_type3\"); break; case \"vi\": kakaoWrap.classList.remove(\"lang_type1\"); kakaoWrap.classList.remove(\"lang_type2\"); kakaoWrap.classList.add(\"lang_type3\"); break; default: kakaoWrap.classList.remove(\"lang_type1\"); kakaoWrap.classList.remove(\"lang_type2\"); kakaoWrap.classList.remove(\"lang_type3\"); break; } if (targetLang == \"kr\") { translateNotice.querySelectorAll(\".notice_lang\").forEach(function (notice) { notice.style.display = 'none'; }); translateNotice.style.display = 'none'; } else { translateNotice.querySelectorAll(\".notice_lang:not(.notice_lang_\".concat(targetLang, \")\")).forEach(function (notice) { notice.style.display = 'none'; }); translateNotice.querySelector(\".notice_lang.notice_lang_\".concat(targetLang)).style.display = 'block'; translateNotice.style.display = 'block'; } setTimeout(function () { hideAllLayers(); }, 500); } function onTranslateError(data, error) { showTranslateErrorLayer(); setTimeout(function () { hideAllLayers(); }, 2000); } translateLanguageButtons.forEach(function (btn) { btn.addEventListener('click', onTranslate); }); })();</script>\n",
      "<script>\"use strict\"; (function () { var KAKAO_APP_KEY = '53e566aa17534bc816eb1b5d8f7415ee'; var newsId = '20201004215700006' || 'AlpqqLPoP8'; var requestUrl = \"\".concat(location.protocol, \"//\").concat(location.host, \"/v/\").concat(newsId); var titleDecoder = document.createElement(\"DIV\"); titleDecoder.innerHTML = '13일부터 마스크 착용 의무화..한 달 계도 후 과태료 10만 원'; var title = titleDecoder.textContent; var KAKAO_LINK_OG_DATA = { shareType: 'sendScrap', shareData: { requestUrl: requestUrl, templateId: 7952, installTalk: true, templateArgs: { '${EncodingUrl}': encodeURIComponent(requestUrl), '${webUrl}': requestUrl + '?f=p', '${mobileWebUrl}': requestUrl + '?f=m' } } }; var $element = document.body.querySelector(\".share_btn\"); var layerBtn = $element.firstElementChild; var layerContainer = layerBtn.nextElementSibling; var layerCloseTid = null; var testShare = new socialshareRenewal.Main(layerBtn, { moreViewContainer: layerContainer, action: 'hover', link: requestUrl, prefix: title, service_name: '다음뉴스', cafe: 'http://scrap.cafe.daum.net/_dss_/scrap?folder_id=100000&source_location_code=10&target_location_code=1&data_id=' + newsId, kakaoAPI: { appkey: KAKAO_APP_KEY, kakaoLinkData: KAKAO_LINK_OG_DATA } }); function hideLayer() { layerCloseTid = setTimeout(function () { $element.classList.remove(\"layer_open\"); layerBtn.setAttribute('aria-expanded', false); testShare.close(); }, 100); } function showLayer() { clearLayerTimeout(); $element.classList.add(\"layer_open\"); layerBtn.setAttribute('aria-expanded', true); testShare.open(); } function clearLayerTimeout() { layerCloseTid && clearTimeout(layerCloseTid); } layerBtn.addEventListener(\"mouseenter\", showLayer); layerBtn.addEventListener(\"focus\", showLayer); layerBtn.addEventListener(\"mouseleave\", hideLayer); layerBtn.addEventListener(\"blur\", hideLayer); layerContainer.addEventListener(\"mouseenter\", clearLayerTimeout); layerContainer.addEventListener(\"mouseleave\", hideLayer); layerContainer.querySelectorAll(\"a\").forEach(function (el) { el.addEventListener(\"focus\", clearLayerTimeout); el.addEventListener(\"blur\", hideLayer); }); })();</script>\n",
      "<script>\"use strict\"; (function () { window.addEventListener('load', initFontSizeUtil); function initFontSizeUtil() { var DEFAULT_FONTSIZE = 17; var FONT_COOKIE_NAME = 'GS_font_size'; var $elements = document.body.querySelector('.font_btn'); var $newsview = document.body.querySelector('.news_view'); var $listFont = $elements.querySelector('.list_font'); var fontSize = Cookies.get(FONT_COOKIE_NAME) || DEFAULT_FONTSIZE; var fontLayer = $elements; var fontBtn = $elements.querySelector('.btn_font'); var radioEls = $elements.querySelectorAll('.list_font input'); accessibleLayer({ layer: fontLayer, btn: fontBtn, inputs: radioEls }); function accessibleLayer(options) { var layer = options.layer, btn = options.btn, inputs = options.inputs; var tid; var isMouseOn = false; function showLayer() { clearTimeout(tid); layer.classList.add('layer_open'); btn.setAttribute('aria-expanded', true); } function hideLayer() { layer.classList.remove('layer_open'); btn.setAttribute('aria-expanded', false); } function delayHideLayer() { tid = setTimeout(hideLayer, 1); } function checkMouseAndHideLayer() { isMouseOn && delayHideLayer(); } layer.addEventListener('mouseover', function () { isMouseOn = true; showLayer(); }); layer.addEventListener('mouseleave', function () { isMouseOn = false; hideLayer(); }); btn.addEventListener('focus', showLayer); btn.addEventListener('blur', checkMouseAndHideLayer); inputs.forEach(function (input) { input.addEventListener('focus', showLayer); input.addEventListener('blur', checkMouseAndHideLayer); }); } accessibleInput({ options: $elements.querySelectorAll('.ico_newsview'), inputs: radioEls }); function accessibleInput(opt) { var options = opt.options, inputs = opt.inputs; options.forEach(function (option) { option.addEventListener('mouseover', function () { this.classList.add('ico_focused'); }); option.addEventListener('mouseleave', function () { this.classList.remove('ico_focused'); }); }); inputs.forEach(function (input) { input.addEventListener('focus', function () { this.nextElementSibling.querySelector('span').classList.add('ico_focused'); }); input.addEventListener('blur', function () { this.nextElementSibling.querySelector('span').classList.remove('ico_focused'); }); }); } function setFontSize(fontSize) { $newsview.style.fontSize = \"\".concat(fontSize, \"px\"); document.body.querySelector(\"#inpFont\".concat(fontSize)).checked = true; $listFont.querySelectorAll('label').forEach(function (labelEl) { return labelEl.classList.remove('on'); }); $listFont.querySelector(\"label[for=inpFont\".concat(fontSize, \"]\")).classList.add('on'); Cookies.set(FONT_COOKIE_NAME, '', { expires: -1 }); Cookies.set(FONT_COOKIE_NAME, fontSize, { domain: '.v.daum.net', expires: new Date(new Date() * 1 + 365 * 864e+5) }); } radioEls.forEach(function (el) { el.addEventListener('change', function () { setFontSize(this.value); }); }); setFontSize(fontSize); } })();</script>\n",
      "<script>\"use strict\"; (function () { var printBtn = document.body.querySelector(\".btn_print\").parentNode; printBtn.addEventListener(\"click\", function (e) { e.preventDefault(); window.open('?s=print_view', 'newsPrint', 'width=750,height=550,scrollbars=yes'); }); })();</script>\n",
      "<script>\"use strict\"; (function () { var likeButton = document.getElementById('likeButton'); var props = { serviceId: 'news', uid: '20201004215700006' }; new window.LikePC.LikeOnPC(likeButton, props); })();</script>\n",
      "<script>\"use strict\"; function cmRenderFailCallBack(arg1) { arg1.parentElement.removeChild(arg1); }</script>\n",
      "<script>\"use strict\"; document.addEventListener('DOMContentLoaded', function () { var hadesRest = \"\".concat(Conf.api.hadesRest); var serviceNoticeId = \"3393\"; var apiUrl = hadesRest + \"/service_notice?id=\" + serviceNoticeId; var element = document.querySelector(\"#newsviewNotice\"); axios.get(apiUrl).then(function (response) { var _response$data$body$d = response.data.body.data, noticeTitle = _response$data$body$d.noticeTitle, noticeUrl = _response$data$body$d.noticeUrl; if (noticeTitle !== null) { element.innerHTML = \"<strong class=\\\"tit_notice\\\">\\uACF5\\uC9C0</strong><span class=\\\"txt_notice\\\"><a href=\\\"\".concat(noticeUrl, \"\\\" class=\\\"link_txt\\\">\").concat(noticeTitle, \"</a></span>\"); } else { element.parentNode.removeChild(element); } }).catch(function (error) { console.log(\"댓글 공지 오류: \" + error); element.parentNode.removeChild(element); }); });</script>\n",
      "<script src=\"//comment.daum.net/js/latest/alex.single.min.js\"></script>\n",
      "<script>\"use strict\"; (function () { window.excludeCorejs = false; window.alexConfig = { label: { emptyImage: '//i1.daumcdn.net/img-section/enter2013/liveviewer/pc_emot_co.gif' }, onLoad: function onLoad() { window.isLoadComment = true; } }; })();</script>\n",
      "<script>\"use strict\"; (function () { var popularNewsLayer = document.querySelector('.aside_popular'); var tabs = document.querySelectorAll(\".tab_aside li a\"); var serviceId = \"news\"; var tabEngName = { \"뉴스\": \"news\", \"연예\": \"entertain\", \"스포츠\": \"sports\" }; var tabInfos = { \"news\": { el: tabs[0], korName: \"뉴스\", moreLink: \"https://news.daum.net/ranking/popular/all\" }, \"entertain\": { el: tabs[1], korName: \"연예\", moreLink: \"https://entertain.daum.net/ranking/popular\" }, \"sports\": { el: tabs[2], korName: \"스포츠\", moreLink: \"https://sports.daum.net/news/ranking\" } }; var activeTab = tabInfos[serviceId].el; var pageIndex = 1; getContents(tabInfos); tabs.forEach(function (tab) { tab.addEventListener(\"mouseover\", function (e) { return selectTab(e.target); }); tab.addEventListener(\"focus\", function (e) { return selectTab(e.target); }); }); function selectTab(tab) { if (activeTab !== tab) { var activeContents = activeTab.parentNode.querySelector(\".cont_aside\"); activeContents && activeContents.parentNode.removeChild(activeContents); activeTab.parentNode.classList.remove(\"on\"); tab.parentNode.classList.add(\"on\"); pageIndex = 1; changeContents(tab); activeTab = tab; } } function changeContents(tab) { var korName = tab.innerText; var engName = tabEngName[korName]; var moreLink = tabInfos[engName].moreLink; var contentsContainer = document.createElement(\"div\"); var contentsItems = renderedTenContentsOf(engName); contentsContainer.classList.add(\"cont_aside\"); contentsContainer.innerHTML = \"\\n <strong class=\\\"screen_out\\\">\".concat(korName, \"</strong>\\n <ol class=\\\"list_ranking\\\">\\n \").concat(contentsItems, \" \\n </ol>\\n <div class=\\\"util_aside\\\">\\n <button class=\\\"btn_slide btn_prev\\\"><span class=\\\"ico_newsview\\\">\\uC774\\uC804</span></button>\\n <button class=\\\"btn_slide btn_next\\\"><span class=\\\"ico_newsview\\\">\\uB2E4\\uC74C</span></button>\\n <a href=\").concat(moreLink, \" class=\\\"link_all\\\"><span class=\\\"txt_newsview\\\">\\uC804\\uCCB4 \\uBCF4\\uAE30</span><span class=\\\"ico_newsview\\\"></span></a>\\n </div>\\n \"); tab.parentNode.appendChild(contentsContainer); contentsContainer.querySelector(\".btn_prev\").addEventListener('click', onClick); contentsContainer.querySelector(\".btn_next\").addEventListener('click', onClick); function onClick() { var contentsItems = document.querySelector(\".cont_aside .list_ranking\"); var korName = activeTab.innerText; var engName = tabEngName[korName]; if (this.classList.contains(\"btn_prev\")) { pageIndex = pageIndex === 1 ? 3 : pageIndex - 1; } else { pageIndex = pageIndex === 3 ? 1 : pageIndex + 1; } contentsItems.innerHTML = renderedTenContentsOf(engName); } } function renderedTenContentsOf(engName) { return tabInfos[engName].contents.slice((pageIndex - 1) * 10, pageIndex * 10).map(function (item) { return \"\\n <li>\\n <em class=\\\"num_newsview num\".concat(item.index, \"\\\">\").concat(item.index, \"\\uC704</em>\\n <strong class=\\\"tit_g\\\"><a href=\\\"\").concat(item.pcLink, \"\\\" class=\\\"link_txt @\").concat(item.index, \"\\\">\").concat(item.title, \"</a></strong>\\n </li>\\n \"); }).join(''); } function getContents(tabInfos) { var api = \"\".concat(Conf.api.hadesRest, \"/pc_popular_news?size=30\"); axios.get(api).then(function (response) { var popularNewsData = response.data.body.data; Object.keys(popularNewsData).forEach(function (serviceId) { tabInfos[serviceId].contents = popularNewsData[serviceId]; }); changeContents(activeTab); popularNewsLayer.classList.remove('hide'); }).catch(function (error) { popularNewsLayer.parentNode.removeChild(popularNewsLayer); }); } })();</script>\n",
      "<script>\"use strict\"; (function () { var photoTvLayer = document.querySelector('.aside_phototv'); var PHOTO_TPL = '<li>\\ <a class=\"link_cont\" href=\"<%= link %>\">\\ <span class=\"wrap_thumb\">\\ <img alt=\"<%= title %>\" class=\"thumb_g\" style=\"<%= thumbStyle %>\" src=\"<%= image %>\"/>\\ <span class=\"ico_phototv\">\\ <span class=\"ico_newsview ico_photo\">포토</span>\\ </span>\\ </span>\\ <strong class=\"tit_thumb\"><%= title %></strong>\\ </a>\\ </li>'; var TV_TPL = '<li>\\ <a class=\"link_cont\" href=\"<%= link %>\">\\ <span class=\"wrap_thumb\">\\ <img alt=\"<%= title %>\" class=\"thumb_g\" style=\"<%= thumbStyle %>\" src=\"<%= image %>\"/>\\ <span class=\"ico_phototv\">\\ <span class=\"ico_newsview ico_vod\">영상</span>\\ </span>\\ </span>\\ <strong class=\"tit_thumb\"><%= title %></strong>\\ </a>\\ </li>'; renderPhotoTV(); function renderPhotoTV() { var photoTvList = photoTvLayer.querySelector('.list_phototv'); var hadesRest = \"\".concat(Conf.api.hadesRest), serviceId = 'news', apiURL = serviceId === 'news' ? \"\".concat(hadesRest, \"/pc_photo_tv\") : \"\".concat(hadesRest, \"/pc_entertain_photo_tv\"); var thumbStyle = serviceId === 'news' ? 'width: 144px; height: 140px;' : 'width: 144px; height: 139px;'; axios.get(apiURL).then(function (res) { var data = res.data.body.data; if (_.isEmpty(data)) { removeLayer(); return; } photoTvList.innerHTML = data.map(function (_ref) { var link = _ref.link, title = _ref.title, image = _ref.image, label = _ref.label; if (label === 'photo') { return _.template(PHOTO_TPL)({ link: link, title: title, image: image, thumbStyle: thumbStyle }); } else { /* 'vod' */ return _.template(TV_TPL)({ link: link, title: title, image: image, thumbStyle: thumbStyle }); } }).join(''); photoTvLayer.classList.remove('hide'); }).catch(function (error) { console.error('[포토&TV]:', error); removeLayer(); }); } function removeLayer() { photoTvLayer.parentNode.removeChild(photoTvLayer); } })();</script>\n",
      "<script>\"use strict\";try{ComponentsLoader.RenderingEngineConfig.set(\"pc_realtime_news\",{torosQuery:{category:\"news\",itemid:\"20201004215700006\"}})}catch(e){console.error(e)}</script>\n",
      "<script>\"use strict\"; window.daum_sfocus_adunit = 'DAU-f6a75279b'; window.daum_sfocus_cp = '23' + '_pc_media_news'; window.daum_sfocus_channel = 'harmony';</script>\n",
      "<script src=\"//keyword.ad.daum.net/script/load_sfocus.js\"></script>\n",
      "<script>\"use strict\"; (function () { var directLinkContainer = document.querySelector(\".direct_link\"); var directOpenBtn = directLinkContainer.querySelector(\".btn_fold\"); directOpenBtn.addEventListener('click', function () { directLinkContainer.classList.toggle(\"direct_open\"); }); })();</script>\n",
      "<script>\"use strict\"; window.minidaum_options = { enableLogoutRetun: true, disableTracker: true };</script>\n",
      "<script src=\"https://go.daum.net/minidaum_pc.daum\"></script>\n",
      "<script>\"use strict\"; (function () { var channel = 'harmony'; var cpId = \"23\"; var device = \"pc\"; var consumerId = \"media\"; var serviceId = \"news\"; document.querySelectorAll('.kakao_ad_area').forEach(function (adArea) { adArea.setAttribute('data-ad-param-channel', channel); adArea.setAttribute('data-ad-param-cp', \"\".concat(cpId, \"_\").concat(device, \"_\").concat(consumerId, \"_\").concat(serviceId)); }); })();</script>\n",
      "<script src=\"https://t1.daumcdn.net/adfit/static/ad.min.js\"></script>\n",
      "<script>\"use strict\"; (function () { var isTvNews = 'false' == 'true'; var serviceId = 'news'; var headMedia = document.querySelector(\".head_media\"), wrapMinidaum = document.getElementById(\"wrapMinidaum\"), headHeight = wrapMinidaum.offsetHeight + headMedia.offsetHeight, progressBar = document.getElementById(\"barProgress\"); var mAside = document.getElementById(\"mAside\"), kakaoWrap = document.getElementById(\"kakaoWrap\"), kakaoGnb = document.getElementById(\"kakaoGnb\"), mArticle = document.getElementById(\"mArticle\"), cmNews = document.querySelector(\".cmt_news\"), adFirst = document.querySelector(\".aside_ad:first-child\"), adLast = document.querySelector(\".aside_ad:last-child\"), realtimeAsideEl = document.getElementById('realtime_aside'); /* 날개 픽스드인 경우 left 위치를 지정하기 위해 하단 실시간 검색어의 left 값을 이용. 만약 없으면 계산을 한다. */ /* 서비스별 GNB 또는 날개 플로팅 */ if (isTvNews) { window.addEventListener(\"scroll\", _.throttle(function () { floatGnb(); }, 100)); floatGnb(); } else if (serviceId === 'news') { window.addEventListener(\"resize\", _.throttle(floatWing, 100)); window.addEventListener(\"scroll\", _.throttle(function () { floatGnb(); floatWing(); }, 100)); floatGnb(); floatWing(); } else { window.addEventListener(\"scroll\", _.throttle(function () { floatGnb(); }, 100)); floatGnb(); } function floatGnb() { var scrollY = window.scrollY || window.pageYOffset; var currentScrollTop = scrollY; var documentHeight = document.body.offsetHeight; var windowHeight = window.innerHeight; if (currentScrollTop > headHeight) { var scrollPercent = 100 * currentScrollTop / (documentHeight - windowHeight); kakaoWrap.classList.add(\"header_fixed\"); progressBar.style.width = parseInt(scrollPercent, 10) + \"%\"; } else { kakaoWrap.classList.remove(\"header_fixed\"); } } function floatWing() { var scrollX = window.scrollX || window.pageXOffset; var cMainWidth = cMain.clientWidth, mArticleWidth = mArticle.clientWidth, mAsideWidth = mAside.clientWidth, asideGap = cMainWidth - mArticleWidth - mAsideWidth, cMainStyle = getComputedStyle(cMain); var leftOfRealtimeAside = null; if (realtimeAsideEl) { var clientLeftOfRealtimeAside = realtimeAsideEl.getBoundingClientRect().left; leftOfRealtimeAside = clientLeftOfRealtimeAside < 880 ? clientLeftOfRealtimeAside + scrollX : clientLeftOfRealtimeAside; } else { var cMainMarginLeft = parseInt(cMainStyle['marginLeft'], 10); leftOfRealtimeAside = mArticleWidth + asideGap + cMainMarginLeft - scrollX; } if (mArticle.offsetHeight < mAside.offsetHeight) return; cmNews.style.minHeight = '250px'; var scrollY = window.scrollY || window.pageYOffset; var topPosition = scrollY - cMain.offsetTop - 8 - adFirst.clientHeight; if (topPosition > 0) { var articleHeight = mArticle.offsetHeight - cmNews.offsetHeight; var wingHeight = mAside.offsetHeight - adLast.offsetHeight; /* 스크롤이 날개영역의 많이 본 뉴스를 넘어갔을 때 */ if (articleHeight > wingHeight + topPosition + 8) { mAside.style.position = 'fixed'; mAside.style.top = kakaoGnb.clientHeight - adFirst.offsetHeight - 74 + 'px'; mAside.style.left = leftOfRealtimeAside + 'px'; } else { mAside.style.position = 'relative'; mAside.style.top = articleHeight - wingHeight + 'px'; mAside.style.left = 'inherit'; } } else { mAside.style.position = 'static'; mAside.style.top = 'inherit'; mAside.style.left = 'inherit'; } } ; })();</script>\n",
      "<script>\"use strict\"; (function () { var GALLERY_ICON_TEMPLATE = '<div class=\"direct_view\" style=\"top:<%= top %>px;width:<%= width %>px;margin-left:<%= left %>px\">\\ <a href=\"<%= url %>\" class=\"link_view\">\\ <span class=\"txt_g\"><%= title %></span>\\ <span class=\"ico_view\">\\ <span class=\"ico_newsview ico_gallery\">갤러리 이동</span>\\ </span>\\ </a>\\ </div>'; var addIconOnFirstImage = function addIconOnFirstImage(figureEl, _ref) { var title = _ref.title, pcLink = _ref.pcLink; if (!title || !pcLink) { return; } var imgHeight = figureEl.clientHeight; var imgWidth = figureEl.clientWidth; var templateParams = { title: title, url: pcLink, top: imgHeight - 62, width: imgWidth, left: imgWidth / 2 * -1 }; var icon = document.createElement('div'); figureEl.parentNode.appendChild(icon); icon.outerHTML = _.template(GALLERY_ICON_TEMPLATE)(templateParams); }; var addRelatedGalleryLinkToFirstImage = async function addRelatedGalleryLinkToFirstImage(docId, galleryId) { if (!galleryId) { return; } /* image가 존재하고 영상바로보기가 아니라면 */ var imageEl = document.querySelector('img[dmcf-mtype=\"image\"]'); if (imageEl && !imageEl.querySelector('.direct_vod')) { try { var _ref2 = await axios.get(\"\".concat(Conf.api.hadesRest, \"/photo_gallery_link_info?docId=\").concat(docId, \"&galleryId=\").concat(parseInt(galleryId, 10))), data = _ref2.data.body.data; addIconOnFirstImage(imageEl, data); } catch (error) {} } }; addRelatedGalleryLinkToFirstImage('AlpqqLPoP8', ''); })();</script>\n",
      "<script src=\"//search1.daumcdn.net/search/statics/common/js/g/search_dragselection.min.js\"></script>\n",
      "<script>\"use strict\"; (function () { var service_id = \"\"; switch (\"news\") { case 'sports': service_id = 's'; break; case 'entertain': service_id = 'e'; break; default: service_id = 'n'; } var s2Imps = \"{\\\"timestamp\\\":@@timestamp@@,\\\"to\\\":\\\"20201004215700006\\\",\\\"label\\\":\\\"mediadaum_v2_user_doc_read\\\",\\\"from\\\":\\\"@@userKey@@\\\",\\\"props\\\":{\\\"service_id\\\":\\\"\".concat(service_id, \"\\\",\\\"category\\\":\\\"사회\\\",\\\"view_from\\\":\\\"others\\\",\\\"url\\\":\\\"\").concat(location.href, \"\\\" @@mediadaum_v2_user_doc_read@@}}\"); /* todo: hades s2 그래프 검증 끝나면 주석 방식으로 변경 axios.get(`${Conf.api.hadesProxy}/s2/insert?body=${encodeURIComponent(s2Imps)}`, { withCredentials: true }); */ setTimeout(function () { axios.get(\"https://api.v.daum.net/s2/insert?body=\".concat(encodeURIComponent(s2Imps)), { withCredentials: true }); }, 2000); })();</script>\n",
      "<script src=\"//t1.daumcdn.net/tiara/js/v1/tiara.min.js\" type=\"text/javascript\"></script>\n",
      "<script>\"use strict\"; (function () { if (!window.TiaraTracker) { return; } var isSendTracker = false; var startTime = new Date(); var pageName = \"pc_news\"; var daumTopCookie = Cookies.get('DAUMTOP'); var tiaraTracker = TiaraTracker.getInstance().setSvcDomain(\"media.daum.net\").setPage(\"newsview\").trackPage(\"newsview\").setSection(\"society\").setEnableAlwaysImage(true); var pageMeta = { \"id\": \"20201004215700006\", \"type\": \"article\", \"name\": \"13\\uC77C\\uBD80\\uD130 \\uB9C8\\uC2A4\\uD06C \\uCC29\\uC6A9 \\uC758\\uBB34\\uD654..\\uD55C \\uB2EC \\uACC4\\uB3C4 \\uD6C4 \\uACFC\\uD0DC\\uB8CC 10\\uB9CC \\uC6D0\", \"category_id\": \"1067\", \"category\": \"society\", \"author\": \"\\uAE40\\uC7A5\\uD558\", \"author_id\": \"\", \"provider\": \"YTN\", \"provider_id\": \"23\", \"regdate\": \"2020-10-04 21:57:00\", \"plink\": \"https://media.daum.net/v/20201004215700006\", \"image\": \"https://t1.daumcdn.net/news/202010/04/YTN/20201004215808712mdqs.jpg\", \"harmony_consumer_id\": \"media\", \"media\": \"pcweb\" }; var customProps = { \"contentUniqueKey\": \"hamny-\".concat(pageMeta.id), \"docId\": \"AlpqqLPoP8\", \"harmony_consumer_id\": \"media\", \"media\": \"pcweb\", \"reg_dt\": \"2020-10-04 21:57:00\", \"reg_timestamp\": \"1601816220296\" }; var onPageShow = function onPageShow() { if (isSendTracker) return; tiaraTracker.actionKind(\"ViewContent\").pageMeta(pageMeta).customProps(customProps).track(); }; var onPageHide = function onPageHide() { if (isSendTracker) return; isSendTracker = true; var scrollHeight = document.body.scrollHeight; var scrollTop = window.scrollY; var scrollBottom = scrollHeight - scrollTop; var scrollInnerHeight = window.innerHeight; var scrollPercent = Math.round(scrollTop / (scrollHeight - scrollInnerHeight) * 100); var torosCustomProps = {}; var usage = { \"duration\": new Date().getTime() - startTime.getTime(), \"scroll_percent\": scrollPercent, \"scroll_height\": scrollHeight, \"scroll_top\": scrollTop, \"scroll_bottom\": scrollBottom, \"scroll_inner_height\": scrollInnerHeight }; if (daumTopCookie) { try { var daumTopObj = JSON.parse(daumTopCookie); if (daumTopObj.contents_unique_key === customProps.contentUniqueKey) { torosCustomProps = { \"toros_imp_id\": daumTopObj.impression_id, \"toros_file_hash_key\": daumTopObj.toros_file_hash_key, \"toros_user_id_type\": \"uuid\", \"toros_page_meta_id\": customProps.contentUniqueKey, \"toros_event_meta_id\": customProps.contentUniqueKey, \"toros_action_type\": \"dwelltime\" }; Cookies.remove('DAUMTOP', { path: '/', domain: '.daum.net' }); } } catch (e) {} } tiaraTracker.trackUsage().actionKind(\"UsagePage\").pageMeta(pageMeta).usage(usage).customProps(_.assignIn(customProps, torosCustomProps)).track(); }; if (\"onpagehide\" in window) { window.addEventListener(\"pageshow\", function () { return onPageShow(); }, false); window.addEventListener(\"pagehide\", function () { return onPageHide(); }, false); } else { window.addEventListener(\"load\", function () { return onPageShow(); }, false); window.addEventListener(\"unload\", function () { return onPageHide(); }, false); } document.addEventListener(\"visibilitychange\", function () { document[\"hidden\"] ? onPageHide() : onPageShow(); }, false); document.addEventListener(\"mousedown\", function (event) { var target = event.target; var component = target.closest(\"[data-cloud]\"); var element = target.closest(\"a\") || target.closest(\"button\"); if (element && component && component.contains(element)) { var clickInfo = TiaraTracker.getClickInfo(event); if (!clickInfo) return; /* 무시해야 할 클릭 버튼이거나, 자동 클릭 항목이 설정되어있지 않을 경우 null 반환하기 떄문에 체크 */ var action = clickInfo.action; var actionName = action && action.name ? action.name : \"\"; var actionKind = action && action.kind ? action.kind : \"\"; var mergedCustomProps = _.assignIn(customProps, clickInfo.customProps); var tiaraLayer = target.closest(\"[data-tiara]\"); var img = element.querySelector(\"img\"); var ordnum = 0; Array.from((tiaraLayer || component).querySelectorAll(\"a, button\")).some(function (e, idx) { if (e == element) { ordnum = idx; } }); var clickMeta = { \"layer1\": pageName, \"layer2\": component.dataset.cloud, \"layer3\": tiaraLayer ? tiaraLayer.dataset.tiara : \"\", \"click_url\": element.href || \"\", \"ordnum\": ordnum, \"copy\": element.innerText, \"image\": img ? img.src : \"\", \"posX\": event.clientX, \"posY\": event.clientY }; tiaraTracker.trackEvent(actionName).pageMeta(pageMeta).actionKind(actionKind).customProps(mergedCustomProps).click(clickMeta).track(); } }); })();</script>\n",
      "</body>\n",
      "</html>\n"
     ]
    }
   ],
   "source": [
    "soup = bs(res.content, 'html.parser')\n",
    "print(soup)"
   ]
  },
  {
   "cell_type": "code",
   "execution_count": 6,
   "metadata": {},
   "outputs": [
    {
     "data": {
      "text/plain": [
       "<title>13일부터 마스크 착용 의무화..한 달 계도 후 과태료 10만 원</title>"
      ]
     },
     "execution_count": 6,
     "metadata": {},
     "output_type": "execute_result"
    }
   ],
   "source": [
    "# 필요한 데이터를 검색\n",
    "title = soup.find('title')\n",
    "title"
   ]
  },
  {
   "cell_type": "code",
   "execution_count": 7,
   "metadata": {},
   "outputs": [
    {
     "name": "stdout",
     "output_type": "stream",
     "text": [
      "13일부터 마스크 착용 의무화..한 달 계도 후 과태료 10만 원\n"
     ]
    }
   ],
   "source": [
    "# 필요한 데이터 값만 추출하여 출력\n",
    "print(title.text)"
   ]
  },
  {
   "cell_type": "code",
   "execution_count": 8,
   "metadata": {},
   "outputs": [
    {
     "data": {
      "text/plain": [
       "[<h2 class=\"screen_out\">검색</h2>,\n",
       " <h2 class=\"screen_out\">뉴스 메인메뉴</h2>,\n",
       " <h2 class=\"screen_out\" id=\"kakaoBody\">사회</h2>,\n",
       " <h2 class=\"tit_direct\">바로가기</h2>,\n",
       " <h2 class=\"screen_out\">서비스 이용정보</h2>]"
      ]
     },
     "execution_count": 8,
     "metadata": {},
     "output_type": "execute_result"
    }
   ],
   "source": [
    "h2s = soup.find_all('h2') # 해당 코드 내에서 h2라는 태그를 모두 검색하여 리스트 형태로 저장!\n",
    "h2s"
   ]
  },
  {
   "cell_type": "code",
   "execution_count": 10,
   "metadata": {},
   "outputs": [
    {
     "name": "stdout",
     "output_type": "stream",
     "text": [
      "['screen_out']\n",
      "['screen_out']\n",
      "['screen_out']\n",
      "['tit_direct']\n",
      "['screen_out']\n"
     ]
    }
   ],
   "source": [
    "for h2 in h2s:\n",
    "    print(h2.get('class')) # get을 통해 class라는 속성(attribute)의 값을 불러옴"
   ]
  },
  {
   "cell_type": "code",
   "execution_count": 11,
   "metadata": {},
   "outputs": [
    {
     "data": {
      "text/plain": [
       "[<h3 class=\"tit_view\" data-translation=\"true\">13일부터 마스크 착용 의무화..한 달 계도 후 과태료 10만 원</h3>]"
      ]
     },
     "execution_count": 11,
     "metadata": {},
     "output_type": "execute_result"
    }
   ],
   "source": [
    "soup.select(\"#cSub > div > h3\")"
   ]
  },
  {
   "cell_type": "code",
   "execution_count": 12,
   "metadata": {},
   "outputs": [
    {
     "data": {
      "text/plain": [
       "'13일부터 마스크 착용 의무화..한 달 계도 후 과태료 10만 원'"
      ]
     },
     "execution_count": 12,
     "metadata": {},
     "output_type": "execute_result"
    }
   ],
   "source": [
    "soup.select(\"#cSub > div > h3\")[0].text"
   ]
  },
  {
   "cell_type": "code",
   "execution_count": 1,
   "metadata": {},
   "outputs": [
    {
     "data": {
      "text/plain": [
       "<!DOCTYPE html>\n",
       "\n",
       "<html lang=\"ko\">\n",
       "<head>\n",
       "<meta charset=\"utf-8\"/>\n",
       "<meta content=\"IE=edge\" http-equiv=\"X-UA-Compatible\"/>\n",
       "<meta content=\"width=1200\" name=\"viewport\"/>\n",
       "<title>급상승검색어 : 네이버 데이터랩</title>\n",
       "<link href=\"https://ssl.pstatic.net/static.datalab/202010150900/css/datalab.css\" rel=\"stylesheet\" type=\"text/css\"/>\n",
       "<link href=\"https://ssl.pstatic.net/static.datalab/202010150900/css/graph.css\" rel=\"stylesheet\" type=\"text/css\"/>\n",
       "<link href=\"https://ssl.pstatic.net/static.datalab/202010150900/img/favicon/android_legacy_xxxhpdi_192x192.png\" rel=\"icon\" sizes=\"192x192\"/>\n",
       "<link href=\"https://ssl.pstatic.net/static.datalab/202010150900/img/favicon/android_legacy_xxhpdi_144x144.png\" rel=\"icon\" sizes=\"144x144\"/>\n",
       "<link href=\"https://ssl.pstatic.net/static.datalab/202010150900/img/favicon/android_legacy_xhdpi_96x96.png\" rel=\"icon\" sizes=\"96x96\"/>\n",
       "<link href=\"https://ssl.pstatic.net/static.datalab/202010150900/img/favicon/android_legacy_hdpi_72X72.png\" rel=\"icon\" sizes=\"72x72\"/>\n",
       "<link href=\"https://ssl.pstatic.net/static.datalab/202010150900/img/favicon/iOS_iPhone@3x_180X180.png\" rel=\"apple-touch-icon-precomposed\" sizes=\"180x180\"/>\n",
       "<link href=\"https://ssl.pstatic.net/static.datalab/202010150900/img/favicon/iOS_iPadPro@2x_167X167.png\" rel=\"apple-touch-icon-precomposed\" sizes=\"167x167\"/>\n",
       "<link href=\"https://ssl.pstatic.net/static.datalab/202010150900/img/favicon/iOS_iPad@2x_152X152.png\" rel=\"apple-touch-icon-precomposed\" sizes=\"152x152\"/>\n",
       "<link href=\"https://ssl.pstatic.net/static.datalab/202010150900/img/favicon/iOS_iPhone@2x_120X120.png\" rel=\"apple-touch-icon-precomposed\" sizes=\"120x120\"/>\n",
       "<meta content=\"네이버 데이터랩 : 급상승 검색어\" property=\"og:title\">\n",
       "<meta content=\"https://datalab.naver.com/realtimeList.naver\" property=\"og:url\">\n",
       "<meta content=\"https://ssl.pstatic.net/static.datalab/img2019/datalab_og_244x244.jpg\" property=\"og:image\">\n",
       "<meta content=\"검색 횟수가 급상승한 검색어의 순위를 다양한 옵션을 통해 자세히 제공합니다.\" property=\"og:description\"/>\n",
       "<meta content=\"검색 횟수가 급상승한 검색어의 순위를 다양한 옵션을 통해 자세히 제공합니다.\" name=\"description\"/>\n",
       "</meta></meta></meta></head>\n",
       "<!--[if lte IE 9]>\n",
       "<body class=\"pop_opened\">\n",
       "<![endif]-->\n",
       "<?if !IE?>\n",
       "<body>\n",
       "<?endif?>\n",
       "<div class=\"wrap\" id=\"wrap\">\n",
       "<div class=\"header\" id=\"header\">\n",
       "<div class=\"inner\">\n",
       "<div class=\"srch_wrap\">\n",
       "<a class=\"logo_area\" href=\"https://www.naver.com\" target=\"_blank\">\n",
       "<span class=\"sp_header_logo\"><span class=\"blind\">NAVER</span></span>\n",
       "</a>\n",
       "<h1 class=\"sta_area\">\n",
       "<a class=\"sp_sta\" href=\"/\"><span class=\"blind\">DataLab</span></a>\n",
       "</h1>\n",
       "</div>\n",
       "<div class=\"gnb_wrap\">\n",
       "<div id=\"gnb\"></div>\n",
       "</div>\n",
       "</div>\n",
       "<div class=\"lnb\" id=\"lnb\">\n",
       "<div class=\"lnb_innner\">\n",
       "<ul class=\"lnb_list\">\n",
       "<li class=\"list _home\">\n",
       "<a class=\"list_area\" href=\"/\">\n",
       "<span class=\"sp_lnb_list nav1\">\n",
       "<span class=\"blind\">데이터랩 홈</span>\n",
       "</span>\n",
       "</a>\n",
       "</li>\n",
       "<li class=\"list _keyword active\">\n",
       "<a class=\"list_area\" href=\"/keyword/realtimeList.naver\">\n",
       "<span class=\"sp_lnb_list nav2\">\n",
       "<span class=\"blind\">급상승검색어</span>\n",
       "</span>\n",
       "</a>\n",
       "</li>\n",
       "<li class=\"list _keyword\">\n",
       "<a class=\"list_area\" href=\"/keyword/trendSearch.naver\">\n",
       "<span class=\"sp_lnb_list nav3\">\n",
       "<span class=\"blind\">검색어트렌드</span>\n",
       "</span>\n",
       "</a>\n",
       "</li>\n",
       "<li class=\"list _shopping\">\n",
       "<a class=\"list_area\" href=\"/shoppingInsight/sCategory.naver\">\n",
       "<span class=\"sp_lnb_list nav4\">\n",
       "<span class=\"blind\">쇼핑인사이트</span>\n",
       "</span>\n",
       "</a>\n",
       "</li>\n",
       "<li class=\"list _local\">\n",
       "<a class=\"list_area\" href=\"/local/trend.naver\">\n",
       "<span class=\"sp_lnb_list nav5\">\n",
       "<span class=\"blind\">지역통계</span>\n",
       "</span>\n",
       "</a>\n",
       "</li>\n",
       "<li class=\"list _commentStat\">\n",
       "<a class=\"list_area\" href=\"/commentStat/news.naver\">\n",
       "<span class=\"sp_lnb_list nav6\">\n",
       "<span class=\"blind\">뉴스댓글통계</span>\n",
       "</span>\n",
       "</a>\n",
       "</li>\n",
       "</ul>\n",
       "</div>\n",
       "</div>\n",
       "</div>\n",
       "<div class=\"container\" id=\"container\" role=\"main\">\n",
       "<div class=\"content\" id=\"content\">\n",
       "<div class=\"section_keyword\">\n",
       "<div class=\"com_title title_keyword\">\n",
       "<h3 class=\"title\">급상승 검색어</h3>\n",
       "<em class=\"desc\">검색 횟수가 급상승한 검색어의 순위를 다양한 옵션을 통해 자세히 제공합니다.</em>\n",
       "<!-- [D] 'btn_guide' 클릭시 class=\"on\" 추가해주세요. -->\n",
       "<div class=\"guide_box\">\n",
       "<button class=\"btn_guide\" type=\"button\"><span class=\"blind\">급상승 검색어 옵션 조절 기능 안내</span></button>\n",
       "<div class=\"tooltip_guide\">\n",
       "<div class=\"tooltip_wrap\">\n",
       "<p class=\"tooltip_txt\">검색어 설정 기능은 검색어가 해당 주제에 어느 정도 관련성이 있는 지를 분석, 측정한 후, 사용자가 선택하는 옵션 단계에 따라 가중치를 가감하여 급상승검색어를 재정렬하는 기능입니다.\n",
       "                    관련도의 분석, 측정은 AI 기반 검색어 추천 로직에 의해 이루어지며 일부 검색어는 실제 주제 연관성과 다르게 측정되고 정렬될 수 있습니다. </p>\n",
       "<a class=\"btn_detail\" href=\"https://blog.naver.com/naver_diary/221694954271\" target=\"_blank\">자세히 보기</a>\n",
       "<button class=\"btn_close\" type=\"button\"><span class=\"blind\">안내 문구 닫기</span></button>\n",
       "</div>\n",
       "</div>\n",
       "</div>\n",
       "</div>\n",
       "<div class=\"selection_area\">\n",
       "<div class=\"selection_header\">\n",
       "<div class=\"selection_box\">\n",
       "<div class=\"box_wrap\">\n",
       "<strong class=\"title_txt\">집계 주기</strong>\n",
       "<div class=\"section_serch_area\">\n",
       "<div class=\"select_inbo _picker_component\" data-datetime=\"2020-10-24T13:54:00\" data-end=\"2020-10-24T13:54:00\" data-start=\"2020-01-16T06:00:00\">\n",
       "<div class=\"date_indo\" href=\"#\">\n",
       "<a class=\"date_btn _prev_day\" href=\"#\"><span class=\"blind\">이전 날짜로 가기</span></a>\n",
       "<a class=\"date_btn next _next_day btn_off\" href=\"#\"><span class=\"blind\">다음 날짜로 가기</span></a>\n",
       "<a class=\"date_box _date_trigger\" href=\"#\">\n",
       "<span class=\"date_txt _title_ymd\">2020.10.24. <em>(토)</em></span>\n",
       "<span class=\"date_ico\"><span class=\"blind\">달력</span></span>\n",
       "</a>\n",
       "<!-- [D] 캘린더 활성화 display:block 추가 부탁 드립니다 -->\n",
       "<div class=\"calendar\" id=\"_calendar\">\n",
       "<div class=\"layer_area _date_wrapper\" style=\"display:none\">\n",
       "<div class=\"calendar_area _leftMonth\">\n",
       "<div class=\"calendar_head\">\n",
       "<strong class=\"calendar-title _title_ym\">2017.02.</strong>\n",
       "<!--[D] 링크 비활성화 a 링크에 class=\"off\" 추가 -->\n",
       "<a class=\"calendar-btn-prev-mon _prev\" data-date=\"\" href=\"#\"><span class=\"btn_prev\">이전달</span></a>\n",
       "<a class=\"calendar-btn-next-mon _next\" data-date=\"\" href=\"#\"><span class=\"btn_next\">다음달</span></a>\n",
       "</div>\n",
       "<div class=\"calendar_body _calendar\"></div>\n",
       "</div>\n",
       "<div class=\"sub_area\">\n",
       "<a class=\"btn_today _today\" href=\"#\">오늘</a>\n",
       "<a class=\"btn_check _confirm\" href=\"#\">확인</a>\n",
       "</div>\n",
       "<div class=\"calendar_popup\">\n",
       "<div class=\"ly_cont\">\n",
       "<p class=\"cont_txt\">2020.01.16. 이전 데이터는<br/>아래의 버튼을 눌러 확인해주세요.</p>\n",
       "</div>\n",
       "<div class=\"ly_btn_bottom\">\n",
       "<a class=\"btn_data\" href=\"realtimeList.naver?datetime=2020-01-16T05:59:00\" target=\"_blank\"><span class=\"data_txt\">2020.01.16. 이전 데이터 조회</span></a>\n",
       "</div>\n",
       "<a class=\"btn_popup_close\" href=\"#none\"><span class=\"blind\">팝업닫기</span></a>\n",
       "</div>\n",
       "</div>\n",
       "</div>\n",
       "</div><!-- [D] 비활성화시 class=\"time_indo\" 에 v2를 입력해주세요 -->\n",
       "<div class=\"time_indo\" href=\"#\">\n",
       "<a class=\"time_btn _prev_tick\" href=\"#\"><span class=\"blind\">이전 시간으로 가기</span></a>\n",
       "<a class=\"time_btn next _next_tick btn_off\" href=\"#\"><span class=\"blind\">다음 시간으로 가기</span></a>\n",
       "<a class=\"time_box _time_trigger\" href=\"#\">\n",
       "<span class=\"time_txt _title_hms\">13:54</span>\n",
       "<span class=\"time_ico\"><span class=\"blind\">시간</span></span>\n",
       "</a>\n",
       "<!-- [D] 시간탬 활성화 display:block 추가 부탁 드립니다. -->\n",
       "<div class=\"layer_time _time_wrapper time_no_second\" id=\"u.c.layer.time\" style=\"display:none\">\n",
       "<div class=\"hour\">\n",
       "<!--[AU] data-max 에 입력가능 최대 숫자 설정-->\n",
       "<!-- [AU] scrollbar-box 클래스 위치 변경 -->\n",
       "<input class=\"time_input _tinput _hour\" data-max=\"23\" maxlength=\"2\" type=\"text\" value=\"14\"/><span class=\"blind\">시</span>\n",
       "<div class=\"time_scroll scrollbar-box _tlist _hour\" id=\"scrollbox\" style=\"overflow: hidden;\">\n",
       "<div class=\"scrollbar-content\" style=\"top: 0px; height: auto;\">\n",
       "<ul class=\"lst_time\">\n",
       "<li class=\"selected _item\"><a href=\"#\">00</a></li>\n",
       "<li class=\"_item\"><a href=\"#\">01</a></li>\n",
       "<li class=\"_item\"><a href=\"#\">02</a></li>\n",
       "<li class=\"_item\"><a href=\"#\">03</a></li>\n",
       "<li class=\"_item\"><a href=\"#\">04</a></li>\n",
       "<li class=\"_item\"><a href=\"#\">05</a></li>\n",
       "<li class=\"_item\"><a href=\"#\">06</a></li>\n",
       "<li class=\"_item\"><a href=\"#\">07</a></li>\n",
       "<li class=\"_item\"><a href=\"#\">08</a></li>\n",
       "<li class=\"_item\"><a href=\"#\">09</a></li>\n",
       "<li class=\"_item\"><a href=\"#\">10</a></li>\n",
       "<li class=\"_item\"><a href=\"#\">11</a></li>\n",
       "<li class=\"_item\"><a href=\"#\">12</a></li>\n",
       "<li class=\"_item\"><a href=\"#\">13</a></li>\n",
       "<li class=\"_item\"><a href=\"#\">14</a></li>\n",
       "<li class=\"_item\"><a href=\"#\">15</a></li>\n",
       "<li class=\"_item\"><a href=\"#\">16</a></li>\n",
       "<li class=\"_item\"><a href=\"#\">17</a></li>\n",
       "<li class=\"_item\"><a href=\"#\">18</a></li>\n",
       "<li class=\"_item\"><a href=\"#\">19</a></li>\n",
       "<li class=\"_item\"><a href=\"#\">20</a></li>\n",
       "<li class=\"_item\"><a href=\"#\">21</a></li>\n",
       "<li class=\"_item\"><a href=\"#\">22</a></li>\n",
       "<li class=\"_item\"><a href=\"#\">23</a></li>\n",
       "</ul>\n",
       "</div>\n",
       "<div class=\"iScrollVerticalScrollbar scrollbar-show\">\n",
       "<div class=\"scrollbar-button-up rollover\"></div>\n",
       "<div class=\"scrollbar-track rollover\" style=\"height: 202px;\">\n",
       "<div class=\"iScrollIndicator S21614895 rollover S84675399\" style=\"top: 0px; height: 61px;\"></div>\n",
       "</div>\n",
       "<div class=\"scrollbar-button-down rollover\"></div>\n",
       "</div>\n",
       "</div>\n",
       "</div>\n",
       "<div class=\"hour_minute\">:</div>\n",
       "<div class=\"minute\">\n",
       "<!--[AU] data-max 에 입력가능 최대 숫자 설정-->\n",
       "<input class=\"time_input _tinput _minute\" data-max=\"59\" maxlength=\"2\" type=\"text\" value=\"00\"/><span class=\"blind\">분</span>\n",
       "<div class=\"time_scroll scrollbar-box _tlist _minute\" id=\"scrollbox2\" style=\"overflow: hidden;\">\n",
       "<div class=\"scrollbar-content\" style=\"top: 0px; height: auto;\">\n",
       "<ul class=\"lst_time\">\n",
       "<li class=\"selected _item\"><a href=\"#\">00</a></li>\n",
       "<li class=\"_item\"><a href=\"#\">01</a></li>\n",
       "<li class=\"_item\"><a href=\"#\">02</a></li>\n",
       "<li class=\"_item\"><a href=\"#\">03</a></li>\n",
       "<li class=\"_item\"><a href=\"#\">04</a></li>\n",
       "<li class=\"_item\"><a href=\"#\">05</a></li>\n",
       "<li class=\"_item\"><a href=\"#\">06</a></li>\n",
       "<li class=\"_item\"><a href=\"#\">07</a></li>\n",
       "<li class=\"_item\"><a href=\"#\">08</a></li>\n",
       "<li class=\"_item\"><a href=\"#\">09</a></li>\n",
       "<li class=\"_item\"><a href=\"#\">10</a></li>\n",
       "<li class=\"_item\"><a href=\"#\">11</a></li>\n",
       "<li class=\"_item\"><a href=\"#\">12</a></li>\n",
       "<li class=\"_item\"><a href=\"#\">13</a></li>\n",
       "<li class=\"_item\"><a href=\"#\">14</a></li>\n",
       "<li class=\"_item\"><a href=\"#\">15</a></li>\n",
       "<li class=\"_item\"><a href=\"#\">16</a></li>\n",
       "<li class=\"_item\"><a href=\"#\">17</a></li>\n",
       "<li class=\"_item\"><a href=\"#\">18</a></li>\n",
       "<li class=\"_item\"><a href=\"#\">19</a></li>\n",
       "<li class=\"_item\"><a href=\"#\">20</a></li>\n",
       "<li class=\"_item\"><a href=\"#\">21</a></li>\n",
       "<li class=\"_item\"><a href=\"#\">22</a></li>\n",
       "<li class=\"_item\"><a href=\"#\">23</a></li>\n",
       "<li class=\"_item\"><a href=\"#\">24</a></li>\n",
       "<li class=\"_item\"><a href=\"#\">25</a></li>\n",
       "<li class=\"_item\"><a href=\"#\">26</a></li>\n",
       "<li class=\"_item\"><a href=\"#\">27</a></li>\n",
       "<li class=\"_item\"><a href=\"#\">28</a></li>\n",
       "<li class=\"_item\"><a href=\"#\">29</a></li>\n",
       "<li class=\"_item\"><a href=\"#\">30</a></li>\n",
       "<li class=\"_item\"><a href=\"#\">31</a></li>\n",
       "<li class=\"_item\"><a href=\"#\">32</a></li>\n",
       "<li class=\"_item\"><a href=\"#\">33</a></li>\n",
       "<li class=\"_item\"><a href=\"#\">34</a></li>\n",
       "<li class=\"_item\"><a href=\"#\">35</a></li>\n",
       "<li class=\"_item\"><a href=\"#\">36</a></li>\n",
       "<li class=\"_item\"><a href=\"#\">37</a></li>\n",
       "<li class=\"_item\"><a href=\"#\">38</a></li>\n",
       "<li class=\"_item\"><a href=\"#\">39</a></li>\n",
       "<li class=\"_item\"><a href=\"#\">40</a></li>\n",
       "<li class=\"_item\"><a href=\"#\">41</a></li>\n",
       "<li class=\"_item\"><a href=\"#\">42</a></li>\n",
       "<li class=\"_item\"><a href=\"#\">43</a></li>\n",
       "<li class=\"_item\"><a href=\"#\">44</a></li>\n",
       "<li class=\"_item\"><a href=\"#\">45</a></li>\n",
       "<li class=\"_item\"><a href=\"#\">46</a></li>\n",
       "<li class=\"_item\"><a href=\"#\">47</a></li>\n",
       "<li class=\"_item\"><a href=\"#\">48</a></li>\n",
       "<li class=\"_item\"><a href=\"#\">49</a></li>\n",
       "<li class=\"_item\"><a href=\"#\">50</a></li>\n",
       "<li class=\"_item\"><a href=\"#\">51</a></li>\n",
       "<li class=\"_item\"><a href=\"#\">52</a></li>\n",
       "<li class=\"_item\"><a href=\"#\">53</a></li>\n",
       "<li class=\"_item\"><a href=\"#\">54</a></li>\n",
       "<li class=\"_item\"><a href=\"#\">55</a></li>\n",
       "<li class=\"_item\"><a href=\"#\">56</a></li>\n",
       "<li class=\"_item\"><a href=\"#\">57</a></li>\n",
       "<li class=\"_item\"><a href=\"#\">58</a></li>\n",
       "<li class=\"_item\"><a href=\"#\">59</a></li>\n",
       "</ul>\n",
       "</div>\n",
       "<div class=\"iScrollVerticalScrollbar scrollbar-show\">\n",
       "<div class=\"scrollbar-button-up rollover\"></div>\n",
       "<div class=\"scrollbar-track rollover\" style=\"height: 202px;\">\n",
       "<div class=\"iScrollIndicator S6808276 rollover S39500592\" style=\"top: 0px; height: 25px;\"></div>\n",
       "</div>\n",
       "<div class=\"scrollbar-button-down rollover\"></div>\n",
       "</div>\n",
       "</div>\n",
       "</div>\n",
       "<div class=\"hour_minute v2\">:</div>\n",
       "<div class=\"sec\">\n",
       "<!--[AU] data-max 에 입력가능 최대 숫자 설정-->\n",
       "<input class=\"time_input _tinput _second\" data-max=\"30\" maxlength=\"2\" type=\"text\" value=\"00\"/><span class=\"blind\">초</span>\n",
       "<div class=\"time_scroll v2 scrollbar-box _tlist _second\" id=\"scrollbox3\" style=\"overflow: hidden;\">\n",
       "<div class=\"scrollbar-box\" style=\"width: 62px; height: 202px;\">\n",
       "<ul class=\"lst_time\">\n",
       "<li class=\"selected _item\" data-value=\"00\"><a href=\"#\">00</a></li>\n",
       "<li class=\"_item\" data-value=\"30\"><a href=\"#\">30</a></li>\n",
       "</ul>\n",
       "</div>\n",
       "</div>\n",
       "</div>\n",
       "<div class=\"sub_area v2\">\n",
       "<a class=\"btn_today _now\" href=\"#\">지금</a>\n",
       "<a class=\"btn_check _confirm\" href=\"#\">확인</a>\n",
       "</div>\n",
       "</div>\n",
       "</div> </div>\n",
       "</div>\n",
       "</div>\n",
       "</div>\n",
       "<div class=\"selection_box _age_filter\" data-age=\"all\">\n",
       "<div class=\"box_wrap\">\n",
       "<strong class=\"title_txt\">연령</strong>\n",
       "<div class=\"section_keyword_detail\">\n",
       "<div class=\"graph_tab_box\">\n",
       "<ul class=\"graph_tab_list\">\n",
       "<!-- [D] 선택된 li에 class=\"on\" 추가 -->\n",
       "<li class=\"\">\n",
       "<a href=\"#none\">10대</a>\n",
       "</li>\n",
       "<li class=\"\">\n",
       "<a href=\"#none\">20대</a>\n",
       "</li>\n",
       "<li class=\"\">\n",
       "<a href=\"#none\">30대</a>\n",
       "</li>\n",
       "<li class=\"\">\n",
       "<a href=\"#none\">40대</a>\n",
       "</li>\n",
       "<li class=\"\">\n",
       "<a href=\"#none\">50대 -</a>\n",
       "</li>\n",
       "<li class=\"on\">\n",
       "<a href=\"#none\">전체</a>\n",
       "</li>\n",
       "</ul>\n",
       "</div>\n",
       "</div>\n",
       "</div>\n",
       "</div>\n",
       "</div>\n",
       "<!-- 상세옵션 및 대표검색어,유사검색어 ranking -->\n",
       "<div class=\"selection_content\">\n",
       "<div class=\"field_option\">\n",
       "<div class=\"option_box\">\n",
       "<strong class=\"box_title\">상세 옵션</strong>\n",
       "<div class=\"box_content\">\n",
       "<!-- filter -->\n",
       "<div class=\"various_filter_area\">\n",
       "<ul class=\"filter_list\">\n",
       "<!--[D] 필터 주제에 따라 클래스 추가해주세요.\n",
       "                                이슈별 묶어보기: default\n",
       "                                이벤트・할인: item_event\n",
       "                                시사: item_actualities\n",
       "                                엔터: item_enter\n",
       "                                스포츠: item_sports\n",
       "                                -->\n",
       "<li class=\"filter_item _opt_filter\">\n",
       "<strong class=\"item_title\">이슈별 묶어보기</strong>\n",
       "<div class=\"item_graph_wrap\">\n",
       "<div class=\"item_graph\" role=\"radiogroup\">\n",
       "<!--[D] 활성화/비활성화시 aria-checked=true/false로 변경해주세요.-->\n",
       "<a aria-checked=\"false\" aria-label=\"0%\" class=\"level\" href=\"#\" role=\"radio\">\n",
       "<span class=\"blind\">1단계</span>\n",
       "</a>\n",
       "<a aria-checked=\"true\" aria-label=\"25%\" class=\"level\" href=\"#\" role=\"radio\">\n",
       "<span class=\"blind\">2단계</span>\n",
       "</a>\n",
       "<a aria-checked=\"false\" aria-label=\"50%\" class=\"level\" href=\"#\" role=\"radio\">\n",
       "<span class=\"blind\">3단계</span>\n",
       "</a>\n",
       "<a aria-checked=\"false\" aria-label=\"75%\" class=\"level\" href=\"#\" role=\"radio\">\n",
       "<span class=\"blind\">4단계</span>\n",
       "</a>\n",
       "<a aria-checked=\"false\" aria-label=\"100%\" class=\"level\" href=\"#\" role=\"radio\">\n",
       "<span class=\"blind\">5단계</span>\n",
       "</a>\n",
       "<div class=\"item_fill\" style=\"width: 25%;\"></div>\n",
       "</div>\n",
       "</div>\n",
       "</li>\n",
       "<li class=\"filter_item _opt_filter item_event\">\n",
       "<strong class=\"item_title\">이벤트・할인</strong>\n",
       "<div class=\"item_graph_wrap\">\n",
       "<div class=\"item_graph\" role=\"radiogroup\">\n",
       "<!--[D] 활성화/비활성화시 aria-checked=true/false로 변경해주세요.-->\n",
       "<a aria-checked=\"true\" aria-label=\"0%\" class=\"level\" href=\"#\" role=\"radio\">\n",
       "<span class=\"blind\">1단계</span>\n",
       "</a>\n",
       "<a aria-checked=\"false\" aria-label=\"25%\" class=\"level\" href=\"#\" role=\"radio\">\n",
       "<span class=\"blind\">2단계</span>\n",
       "</a>\n",
       "<a aria-checked=\"false\" aria-label=\"50%\" class=\"level\" href=\"#\" role=\"radio\">\n",
       "<span class=\"blind\">3단계</span>\n",
       "</a>\n",
       "<a aria-checked=\"false\" aria-label=\"75%\" class=\"level\" href=\"#\" role=\"radio\">\n",
       "<span class=\"blind\">4단계</span>\n",
       "</a>\n",
       "<a aria-checked=\"false\" aria-label=\"100%\" class=\"level\" href=\"#\" role=\"radio\">\n",
       "<span class=\"blind\">5단계</span>\n",
       "</a>\n",
       "<div class=\"item_fill\" style=\"width: 0%;\"></div>\n",
       "</div>\n",
       "</div>\n",
       "</li>\n",
       "<li class=\"filter_item _opt_filter item_actualities\">\n",
       "<strong class=\"item_title\">시사</strong>\n",
       "<div class=\"item_graph_wrap\">\n",
       "<div class=\"item_graph\" role=\"radiogroup\">\n",
       "<!--[D] 활성화/비활성화시 aria-checked=true/false로 변경해주세요.-->\n",
       "<a aria-checked=\"false\" aria-label=\"0%\" class=\"level\" href=\"#\" role=\"radio\">\n",
       "<span class=\"blind\">1단계</span>\n",
       "</a>\n",
       "<a aria-checked=\"false\" aria-label=\"25%\" class=\"level\" href=\"#\" role=\"radio\">\n",
       "<span class=\"blind\">2단계</span>\n",
       "</a>\n",
       "<a aria-checked=\"true\" aria-label=\"50%\" class=\"level\" href=\"#\" role=\"radio\">\n",
       "<span class=\"blind\">3단계</span>\n",
       "</a>\n",
       "<a aria-checked=\"false\" aria-label=\"75%\" class=\"level\" href=\"#\" role=\"radio\">\n",
       "<span class=\"blind\">4단계</span>\n",
       "</a>\n",
       "<a aria-checked=\"false\" aria-label=\"100%\" class=\"level\" href=\"#\" role=\"radio\">\n",
       "<span class=\"blind\">5단계</span>\n",
       "</a>\n",
       "<div class=\"item_fill\" style=\"width: 50%;\"></div>\n",
       "</div>\n",
       "</div>\n",
       "</li>\n",
       "<li class=\"filter_item _opt_filter item_enter\">\n",
       "<strong class=\"item_title\">엔터</strong>\n",
       "<div class=\"item_graph_wrap\">\n",
       "<div class=\"item_graph\" role=\"radiogroup\">\n",
       "<!--[D] 활성화/비활성화시 aria-checked=true/false로 변경해주세요.-->\n",
       "<a aria-checked=\"false\" aria-label=\"0%\" class=\"level\" href=\"#\" role=\"radio\">\n",
       "<span class=\"blind\">1단계</span>\n",
       "</a>\n",
       "<a aria-checked=\"false\" aria-label=\"25%\" class=\"level\" href=\"#\" role=\"radio\">\n",
       "<span class=\"blind\">2단계</span>\n",
       "</a>\n",
       "<a aria-checked=\"true\" aria-label=\"50%\" class=\"level\" href=\"#\" role=\"radio\">\n",
       "<span class=\"blind\">3단계</span>\n",
       "</a>\n",
       "<a aria-checked=\"false\" aria-label=\"75%\" class=\"level\" href=\"#\" role=\"radio\">\n",
       "<span class=\"blind\">4단계</span>\n",
       "</a>\n",
       "<a aria-checked=\"false\" aria-label=\"100%\" class=\"level\" href=\"#\" role=\"radio\">\n",
       "<span class=\"blind\">5단계</span>\n",
       "</a>\n",
       "<div class=\"item_fill\" style=\"width: 50%;\"></div>\n",
       "</div>\n",
       "</div>\n",
       "</li>\n",
       "<li class=\"filter_item _opt_filter item_sports\">\n",
       "<strong class=\"item_title\">스포츠</strong>\n",
       "<div class=\"item_graph_wrap\">\n",
       "<div class=\"item_graph\" role=\"radiogroup\">\n",
       "<!--[D] 활성화/비활성화시 aria-checked=true/false로 변경해주세요.-->\n",
       "<a aria-checked=\"false\" aria-label=\"0%\" class=\"level\" href=\"#\" role=\"radio\">\n",
       "<span class=\"blind\">1단계</span>\n",
       "</a>\n",
       "<a aria-checked=\"false\" aria-label=\"25%\" class=\"level\" href=\"#\" role=\"radio\">\n",
       "<span class=\"blind\">2단계</span>\n",
       "</a>\n",
       "<a aria-checked=\"true\" aria-label=\"50%\" class=\"level\" href=\"#\" role=\"radio\">\n",
       "<span class=\"blind\">3단계</span>\n",
       "</a>\n",
       "<a aria-checked=\"false\" aria-label=\"75%\" class=\"level\" href=\"#\" role=\"radio\">\n",
       "<span class=\"blind\">4단계</span>\n",
       "</a>\n",
       "<a aria-checked=\"false\" aria-label=\"100%\" class=\"level\" href=\"#\" role=\"radio\">\n",
       "<span class=\"blind\">5단계</span>\n",
       "</a>\n",
       "<div class=\"item_fill\" style=\"width: 50%;\"></div>\n",
       "</div>\n",
       "</div>\n",
       "</li>\n",
       "</ul>\n",
       "</div>\n",
       "</div>\n",
       "</div>\n",
       "<div class=\"option_box box_bottom\">\n",
       "<strong class=\"box_title\">과거 데이터 조회하기</strong>\n",
       "<div class=\"box_content\">\n",
       "<ul class=\"previous_data\">\n",
       "<li class=\"data_item\"><a href=\"realtimeList.naver?datetime=2018-10-10T05:59:30\" target=\"_blank\">2017.03.29. ~ 2018.10.10.</a></li>\n",
       "<li class=\"data_item\"><a href=\"realtimeList.naver?datetime=2019-11-28T05:59:00\" target=\"_blank\">2018.10.10. ~ 2019.11.28.</a></li>\n",
       "<li class=\"data_item\"><a href=\"realtimeList.naver?datetime=2020-01-16T05:59:00\" target=\"_blank\">2019.11.28. ~ 2020.01.16.</a></li>\n",
       "</ul>\n",
       "</div>\n",
       "</div>\n",
       "</div>\n",
       "<div class=\"field_list\">\n",
       "<div class=\"ranking_box\">\n",
       "<div class=\"list_group\">\n",
       "<ul class=\"ranking_list\">\n",
       "<li class=\"ranking_item\">\n",
       "<div class=\"item_box\">\n",
       "<span class=\"item_num\">1</span>\n",
       "<span class=\"item_title_wrap\">\n",
       "<span class=\"item_title\">장범준</span>\n",
       "</span>\n",
       "</div>\n",
       "</li>\n",
       "<li class=\"ranking_item\">\n",
       "<div class=\"item_box\">\n",
       "<span class=\"item_num\">2</span>\n",
       "<span class=\"item_title_wrap\">\n",
       "<span class=\"item_title\">히든싱어 장범준</span>\n",
       "<span class=\"item_title_sub\">\n",
       "                                    히든싱어, \n",
       "                                    히든싱어6, \n",
       "                                    히든싱어6 장범준\n",
       "                                </span>\n",
       "</span>\n",
       "</div>\n",
       "</li>\n",
       "<li class=\"ranking_item\">\n",
       "<div class=\"item_box\">\n",
       "<span class=\"item_num\">3</span>\n",
       "<span class=\"item_title_wrap\">\n",
       "<span class=\"item_title\">김한길</span>\n",
       "</span>\n",
       "</div>\n",
       "</li>\n",
       "<li class=\"ranking_item\">\n",
       "<div class=\"item_box\">\n",
       "<span class=\"item_num\">4</span>\n",
       "<span class=\"item_title_wrap\">\n",
       "<span class=\"item_title\">최명길</span>\n",
       "</span>\n",
       "</div>\n",
       "</li>\n",
       "<li class=\"ranking_item\">\n",
       "<div class=\"item_box\">\n",
       "<span class=\"item_num\">5</span>\n",
       "<span class=\"item_title_wrap\">\n",
       "<span class=\"item_title\">스윙스 탈락</span>\n",
       "</span>\n",
       "</div>\n",
       "</li>\n",
       "<li class=\"ranking_item\">\n",
       "<div class=\"item_box\">\n",
       "<span class=\"item_num\">6</span>\n",
       "<span class=\"item_title_wrap\">\n",
       "<span class=\"item_title\">에디슨모터스</span>\n",
       "</span>\n",
       "</div>\n",
       "</li>\n",
       "<li class=\"ranking_item\">\n",
       "<div class=\"item_box\">\n",
       "<span class=\"item_num\">7</span>\n",
       "<span class=\"item_title_wrap\">\n",
       "<span class=\"item_title\">서지혜</span>\n",
       "<span class=\"item_title_sub\">\n",
       "                                    서지혜 나이\n",
       "                                </span>\n",
       "</span>\n",
       "</div>\n",
       "</li>\n",
       "<li class=\"ranking_item\">\n",
       "<div class=\"item_box\">\n",
       "<span class=\"item_num\">8</span>\n",
       "<span class=\"item_title_wrap\">\n",
       "<span class=\"item_title\">최명길나이</span>\n",
       "<span class=\"item_title_sub\">\n",
       "                                    김한길최명길\n",
       "                                </span>\n",
       "</span>\n",
       "</div>\n",
       "</li>\n",
       "<li class=\"ranking_item\">\n",
       "<div class=\"item_box\">\n",
       "<span class=\"item_num\">9</span>\n",
       "<span class=\"item_title_wrap\">\n",
       "<span class=\"item_title\">서지혜 맥주</span>\n",
       "</span>\n",
       "</div>\n",
       "</li>\n",
       "<li class=\"ranking_item\">\n",
       "<div class=\"item_box\">\n",
       "<span class=\"item_num\">10</span>\n",
       "<span class=\"item_title_wrap\">\n",
       "<span class=\"item_title\">스윙스</span>\n",
       "<span class=\"item_title_sub\">\n",
       "                                    쇼미더머니9 스윙스\n",
       "                                </span>\n",
       "</span>\n",
       "</div>\n",
       "</li>\n",
       "</ul>\n",
       "<ul class=\"ranking_list\">\n",
       "<li class=\"ranking_item\">\n",
       "<div class=\"item_box\">\n",
       "<span class=\"item_num\">11</span>\n",
       "<span class=\"item_title_wrap\">\n",
       "<span class=\"item_title\">기믹</span>\n",
       "</span>\n",
       "</div>\n",
       "</li>\n",
       "<li class=\"ranking_item\">\n",
       "<div class=\"item_box\">\n",
       "<span class=\"item_num\">12</span>\n",
       "<span class=\"item_title_wrap\">\n",
       "<span class=\"item_title\">심지유</span>\n",
       "</span>\n",
       "</div>\n",
       "</li>\n",
       "<li class=\"ranking_item\">\n",
       "<div class=\"item_box\">\n",
       "<span class=\"item_num\">13</span>\n",
       "<span class=\"item_title_wrap\">\n",
       "<span class=\"item_title\">송지헌</span>\n",
       "</span>\n",
       "</div>\n",
       "</li>\n",
       "<li class=\"ranking_item\">\n",
       "<div class=\"item_box\">\n",
       "<span class=\"item_num\">14</span>\n",
       "<span class=\"item_title_wrap\">\n",
       "<span class=\"item_title\">비비</span>\n",
       "</span>\n",
       "</div>\n",
       "</li>\n",
       "<li class=\"ranking_item\">\n",
       "<div class=\"item_box\">\n",
       "<span class=\"item_num\">15</span>\n",
       "<span class=\"item_title_wrap\">\n",
       "<span class=\"item_title\">아쿠아맨</span>\n",
       "</span>\n",
       "</div>\n",
       "</li>\n",
       "<li class=\"ranking_item\">\n",
       "<div class=\"item_box\">\n",
       "<span class=\"item_num\">16</span>\n",
       "<span class=\"item_title_wrap\">\n",
       "<span class=\"item_title\">박성중</span>\n",
       "</span>\n",
       "</div>\n",
       "</li>\n",
       "<li class=\"ranking_item\">\n",
       "<div class=\"item_box\">\n",
       "<span class=\"item_num\">17</span>\n",
       "<span class=\"item_title_wrap\">\n",
       "<span class=\"item_title\">이원욱</span>\n",
       "</span>\n",
       "</div>\n",
       "</li>\n",
       "<li class=\"ranking_item\">\n",
       "<div class=\"item_box\">\n",
       "<span class=\"item_num\">18</span>\n",
       "<span class=\"item_title_wrap\">\n",
       "<span class=\"item_title\">이강인</span>\n",
       "</span>\n",
       "</div>\n",
       "</li>\n",
       "<li class=\"ranking_item\">\n",
       "<div class=\"item_box\">\n",
       "<span class=\"item_num\">19</span>\n",
       "<span class=\"item_title_wrap\">\n",
       "<span class=\"item_title\">인현왕후의 남자</span>\n",
       "</span>\n",
       "</div>\n",
       "</li>\n",
       "<li class=\"ranking_item\">\n",
       "<div class=\"item_box\">\n",
       "<span class=\"item_num\">20</span>\n",
       "<span class=\"item_title_wrap\">\n",
       "<span class=\"item_title\">화사 별</span>\n",
       "</span>\n",
       "</div>\n",
       "</li>\n",
       "</ul>\n",
       "</div>\n",
       "</div>\n",
       "</div>\n",
       "</div>\n",
       "<!-- //상세옵션 및 대표검색어,유사검색어 ranking -->\n",
       "</div>\n",
       "</div>\n",
       "</div>\n",
       "<div class=\"_data\" style=\"display:none\">\n",
       "<span class=\"_subject_server\"></span>\n",
       "<span class=\"_keyword_server\"></span>\n",
       "</div>\n",
       "</div>\n",
       "<div class=\"footer\" id=\"footer\">\n",
       "<div class=\"footer_inner\">\n",
       "<div class=\"footer_info\">\n",
       "<a href=\"https://policy.naver.com/rules/service.html\" target=\"_blank\">이용약관</a>\n",
       "<a href=\"https://policy.naver.com/rules/privacy.html\" target=\"_blank\"><strong>개인정보처리방침</strong></a>\n",
       "<a href=\"https://policy.naver.com/rules/disclaimer.html\" target=\"_blank\">책임의 한계와 법적고지</a>\n",
       "<a href=\"https://help.naver.com/support/service/main.nhn?serviceNo=14493\" target=\"_blank\">고객센터</a>\n",
       "</div>\n",
       "<div class=\"footer_copyright\">\n",
       "<a class=\"sp_footer_logo\" href=\"https://www.naver.com/\" target=\"_blank\"><span class=\"blind\">NAVER</span></a>\n",
       "<em class=\"copyright\">Copyright ©</em>\n",
       "<strong><a href=\"https://www.navercorp.com/ko/index.nhn\" target=\"_blank\">NAVER Corp.</a></strong> All Rights Reserved.\n",
       "            </div>\n",
       "</div>\n",
       "</div>\n",
       "</div>\n",
       "<!--[if lte IE 9]>\n",
       "<div class=\"com_browser_pop\" style=\"display:none\">\n",
       "    <div class=\"pop_dimmed\"></div>\n",
       "    <div class=\"pop_inner type_browser\">\n",
       "        <strong class=\"browser_title\">권장 브라우저 안내</strong>\n",
       "        <p class=\"browser_desc\">\n",
       "            해당 사이트에 최적화된 브라우저는 Internet Explorer10 이상입니다<br>\n",
       "            편리한 사이트 이용을 위하여 최신 브라우저로 업그레이드를 권장합니다\n",
       "        </p>\n",
       "        <div class=\"browser_list\">\n",
       "\t\t\t<span class=\"list ie\">\n",
       "\t\t\t\t<span class=\"title\">Internet Explore</span>\n",
       "\t\t\t</span>\n",
       "            <span class=\"list firefox\">\n",
       "\t\t\t\t<span class=\"title\">Firefox</span>\n",
       "\t\t\t</span>\n",
       "            <span class=\"list chrome\">\n",
       "\t\t\t\t<span class=\"title\">Google Chrome</span>\n",
       "\t\t\t</span>\n",
       "            <span class=\"list safari\">\n",
       "\t\t\t\t<span class=\"title\">Safari</span>\n",
       "\t\t\t</span>\n",
       "        </div>\n",
       "        <div class=\"browser_close_chk\">\n",
       "\t\t\t<span class=\"select_chk _old_browser_cookie\">\n",
       "\t\t\t\t<input type=\"checkbox\" id=\"item_browser\" class=\"chk\" checked=\"\">\n",
       "\t\t\t\t<label class=\"lbl\" for=\"item_browser\">이 메세지를 다시 표시하지 않습니다</label>\n",
       "\t\t\t</span>\n",
       "        </div>\n",
       "        <a href=\"#\" class=\"sp_btn_pop_close\">\n",
       "            <span class=\"blind\">권장 브라우저 안내 팝업 닫기</span>\n",
       "        </a>\n",
       "    </div>\n",
       "</div>\n",
       "<![endif]-->\n",
       "<script type=\"text/javascript\">\n",
       "(function() {\n",
       "    window.$DATALAB = (typeof $DATALAB != \"undefined\") ? $DATALAB : {};\n",
       "    window.$DATALAB.CONFIG = (typeof $DATALAB.CONFIG != \"undefined\") ? $DATALAB.CONFIG : {};\n",
       "\n",
       "    $DATALAB.CONFIG.request_url = \"'http://datalab.naver.com/keyword/realtimeList.naver\";\n",
       "    $DATALAB.CONFIG.realTimeOpenDate = \"2020-01-16T06:00\";\n",
       "\n",
       "    if(location.href.indexOf(\"dev\") > 0) {\n",
       "        window.lcs_SerName = \"alpha-lcs.naver.com\";\n",
       "    }\n",
       "})();\n",
       "</script>\n",
       "<script src=\"https://ssl.pstatic.net/static.datalab/202010150900/js/vendor.202010150900.js\" type=\"text/javascript\"></script>\n",
       "<script src=\"https://ssl.pstatic.net/static.datalab/202010150900/js/realtime_v3.202010150900.js\" type=\"text/javascript\"></script>\n",
       "</body>\n",
       "</html>"
      ]
     },
     "execution_count": 1,
     "metadata": {},
     "output_type": "execute_result"
    }
   ],
   "source": [
    "import requests\n",
    "from bs4 import BeautifulSoup\n",
    "headers = {\n",
    "    'accept': 'text/html,application/xhtml+xml,application/xml;q=0.9,image/avif,image/webp,image/apng,*/*;q=0.8,application/signed-exchange;v=b3;q=0.9',\n",
    "    'accept-encoding': 'gzip, deflate, br',\n",
    "    'accept-language': 'en-GB,en-US;q=0.9,en;q=0.8',\n",
    "    'cache-control': 'max-age=0',\n",
    "    'cookie': 'NNB=Y46PUJ2UF45V6; NRTK=ag#all_gr#1_ma#-2_si#0_en#0_sp#0',\n",
    "    'sec-fetch-dest': 'document',\n",
    "    'sec-fetch-mode': 'navigate',\n",
    "    'sec-fetch-site': 'none',\n",
    "    'sec-fetch-user': '?1',\n",
    "    'upgrade-insecure-requests': '1',\n",
    "    'user-agent': 'Mozilla/5.0 (Macintosh; Intel Mac OS X 10_15_7) AppleWebKit/537.36 (KHTML, like Gecko) Chrome/86.0.4240.111 Safari/537.36'\n",
    "}\n",
    "res = requests.get(\"https://datalab.naver.com/keyword/realtimeList.naver\",\n",
    "                   headers = headers)\n",
    "# BeautifulSoup를 이용해 파싱\n",
    "soup = BeautifulSoup(res.content, \"html.parser\")\n",
    "soup"
   ]
  },
  {
   "cell_type": "code",
   "execution_count": 14,
   "metadata": {},
   "outputs": [
    {
     "data": {
      "text/plain": [
       "[<span class=\"item_title\">장범준</span>,\n",
       " <span class=\"item_title\">히든싱어 장범준</span>,\n",
       " <span class=\"item_title\">김한길</span>,\n",
       " <span class=\"item_title\">최명길</span>,\n",
       " <span class=\"item_title\">스윙스 탈락</span>,\n",
       " <span class=\"item_title\">에디슨모터스</span>,\n",
       " <span class=\"item_title\">서지혜</span>,\n",
       " <span class=\"item_title\">최명길나이</span>,\n",
       " <span class=\"item_title\">서지혜 맥주</span>,\n",
       " <span class=\"item_title\">스윙스</span>,\n",
       " <span class=\"item_title\">기믹</span>,\n",
       " <span class=\"item_title\">심지유</span>,\n",
       " <span class=\"item_title\">송지헌</span>,\n",
       " <span class=\"item_title\">비비</span>,\n",
       " <span class=\"item_title\">아쿠아맨</span>,\n",
       " <span class=\"item_title\">박성중</span>,\n",
       " <span class=\"item_title\">이원욱</span>,\n",
       " <span class=\"item_title\">이강인</span>,\n",
       " <span class=\"item_title\">인현왕후의 남자</span>,\n",
       " <span class=\"item_title\">화사 별</span>]"
      ]
     },
     "execution_count": 14,
     "metadata": {},
     "output_type": "execute_result"
    }
   ],
   "source": [
    "rank_list = soup.select(\".ranking_list .item_title\")\n",
    "rank_list"
   ]
  },
  {
   "cell_type": "code",
   "execution_count": 15,
   "metadata": {},
   "outputs": [
    {
     "name": "stdout",
     "output_type": "stream",
     "text": [
      "장범준\n",
      "히든싱어 장범준\n",
      "김한길\n",
      "최명길\n",
      "스윙스 탈락\n",
      "에디슨모터스\n",
      "서지혜\n",
      "최명길나이\n",
      "서지혜 맥주\n",
      "스윙스\n",
      "기믹\n",
      "심지유\n",
      "송지헌\n",
      "비비\n",
      "아쿠아맨\n",
      "박성중\n",
      "이원욱\n",
      "이강인\n",
      "인현왕후의 남자\n",
      "화사 별\n"
     ]
    }
   ],
   "source": [
    "for rank in rank_list:\n",
    "    print(rank.text)"
   ]
  },
  {
   "cell_type": "code",
   "execution_count": 16,
   "metadata": {
    "scrolled": true
   },
   "outputs": [
    {
     "name": "stdout",
     "output_type": "stream",
     "text": [
      "장범준\n",
      "히든싱어 장범준\n",
      "김한길\n",
      "최명길\n",
      "스윙스 탈락\n",
      "에디슨모터스\n",
      "서지혜\n",
      "최명길나이\n",
      "서지혜 맥주\n",
      "스윙스\n",
      "기믹\n",
      "심지유\n",
      "송지헌\n",
      "비비\n",
      "아쿠아맨\n",
      "박성중\n",
      "이원욱\n",
      "이강인\n",
      "인현왕후의 남자\n",
      "화사 별\n"
     ]
    }
   ],
   "source": [
    "for rank in rank_list:\n",
    "    print(rank.text.strip())"
   ]
  },
  {
   "cell_type": "code",
   "execution_count": 19,
   "metadata": {},
   "outputs": [
    {
     "name": "stdout",
     "output_type": "stream",
     "text": [
      "1위 장범준\n",
      "2위 히든싱어 장범준\n",
      "3위 김한길\n",
      "4위 최명길\n",
      "5위 스윙스 탈락\n",
      "6위 에디슨모터스\n",
      "7위 서지혜\n",
      "8위 최명길나이\n",
      "9위 서지혜 맥주\n",
      "10위 스윙스\n",
      "11위 기믹\n",
      "12위 심지유\n",
      "13위 송지헌\n",
      "14위 비비\n",
      "15위 아쿠아맨\n",
      "16위 박성중\n",
      "17위 이원욱\n",
      "18위 이강인\n",
      "19위 인현왕후의 남자\n",
      "20위 화사 별\n"
     ]
    }
   ],
   "source": [
    "for (index, rank) in enumerate(rank_list):\n",
    "    print(str(index+1) + \"위\", rank.text)"
   ]
  },
  {
   "cell_type": "code",
   "execution_count": 20,
   "metadata": {},
   "outputs": [
    {
     "name": "stdout",
     "output_type": "stream",
     "text": [
      "['장범준']\n",
      "['히든싱어', '장범준']\n",
      "['김한길']\n",
      "['최명길']\n",
      "['스윙스', '탈락']\n",
      "['에디슨모터스']\n",
      "['서지혜']\n",
      "['최명길나이']\n",
      "['서지혜', '맥주']\n",
      "['스윙스']\n",
      "['기믹']\n",
      "['심지유']\n",
      "['송지헌']\n",
      "['비비']\n",
      "['아쿠아맨']\n",
      "['박성중']\n",
      "['이원욱']\n",
      "['이강인']\n",
      "['인현왕후의', '남자']\n",
      "['화사', '별']\n"
     ]
    }
   ],
   "source": [
    "for rank in rank_list:\n",
    "    print(rank.text.split())"
   ]
  },
  {
   "cell_type": "code",
   "execution_count": 13,
   "metadata": {},
   "outputs": [
    {
     "name": "stdout",
     "output_type": "stream",
     "text": [
      "['1', '장범준']\n",
      "['2', '히든싱어']\n",
      "['3', '김한길']\n",
      "['4', '최명길']\n",
      "['5', '스윙스']\n",
      "['6', '에디슨모터스']\n",
      "['7', '서지혜']\n",
      "['8', '최명길나이']\n",
      "['9', '서지혜']\n",
      "['10', '스윙스']\n",
      "['11', '기믹']\n",
      "['12', '심지유']\n",
      "['13', '송지헌']\n",
      "['14', '비비']\n",
      "['15', '아쿠아맨']\n",
      "['16', '박성중']\n",
      "['17', '이원욱']\n",
      "['18', '이강인']\n",
      "['19', '인현왕후의']\n",
      "['20', '화사']\n"
     ]
    }
   ],
   "source": [
    "for rank in rank_list:\n",
    "    rank = rank.text.split()\n",
    "    print(rank[0:2])"
   ]
  },
  {
   "cell_type": "code",
   "execution_count": 26,
   "metadata": {},
   "outputs": [
    {
     "name": "stdout",
     "output_type": "stream",
     "text": [
      "1 장범준\n",
      "2 히든싱어 장범준\n",
      "3 서지혜 맥주\n",
      "4 서지혜\n",
      "5 카이로스\n",
      "6 기믹\n",
      "7 김한길\n",
      "8 박수홍 부모님집\n",
      "9 심지유\n",
      "10 배정남\n",
      "11 비비\n",
      "12 아쿠아맨\n",
      "13 최명길\n",
      "14 인현왕후의 남자\n",
      "15 박성중\n",
      "16 박수홍 집\n",
      "17 화사 별\n",
      "18 배정남 할머니\n",
      "19 이원욱\n",
      "20 버스커버스커\n"
     ]
    }
   ],
   "source": [
    "import requests\n",
    "from bs4 import BeautifulSoup\n",
    "\n",
    "headers = {\n",
    "    'accept': 'text/html,application/xhtml+xml,application/xml;q=0.9,image/avif,image/webp,image/apng,*/*;q=0.8,application/signed-exchange;v=b3;q=0.9',\n",
    "    'accept-encoding': 'gzip, deflate, br',\n",
    "    'accept-language': 'en-GB,en-US;q=0.9,en;q=0.8',\n",
    "    'cache-control': 'max-age=0',\n",
    "    'cookie': 'NNB=Y46PUJ2UF45V6; NRTK=ag#all_gr#1_ma#-2_si#0_en#0_sp#0',\n",
    "    'sec-fetch-dest': 'document',\n",
    "    'sec-fetch-mode': 'navigate',\n",
    "    'sec-fetch-site': 'none',\n",
    "    'sec-fetch-user': '?1',\n",
    "    'upgrade-insecure-requests': '1',\n",
    "    'user-agent': 'Mozilla/5.0 (Macintosh; Intel Mac OS X 10_15_7) AppleWebKit/537.36 (KHTML, like Gecko) Chrome/86.0.4240.111 Safari/537.36'\n",
    "}\n",
    "\n",
    "raw = requests.get(\"https://datalab.naver.com/keyword/realtimeList.naver\",\n",
    "                   headers = headers)\n",
    "html = BeautifulSoup(raw.content, \"html.parser\")\n",
    "\n",
    "ranking = html.select(\".ranking_item\")\n",
    "\n",
    "for rank in ranking:\n",
    "    num = rank.select_one(\".item_num\").text.strip()\n",
    "    title = rank.select_one(\".item_title\").text.strip()\n",
    "\n",
    "    print(num, title)"
   ]
  },
  {
   "cell_type": "code",
   "execution_count": 27,
   "metadata": {
    "scrolled": true
   },
   "outputs": [
    {
     "name": "stdout",
     "output_type": "stream",
     "text": [
      "Collecting selenium\n",
      "  Using cached selenium-3.141.0-py2.py3-none-any.whl (904 kB)\n",
      "Requirement already satisfied: urllib3 in /opt/anaconda3/lib/python3.8/site-packages (from selenium) (1.25.9)\n",
      "Installing collected packages: selenium\n",
      "Successfully installed selenium-3.141.0\n",
      "Note: you may need to restart the kernel to use updated packages.\n"
     ]
    }
   ],
   "source": [
    "pip install selenium"
   ]
  },
  {
   "cell_type": "code",
   "execution_count": 9,
   "metadata": {},
   "outputs": [
    {
     "name": "stdout",
     "output_type": "stream",
     "text": [
      "[{'rank': 1, 'value': '장범준'}, {'rank': 2, 'value': '히든싱어 장범준'}, {'rank': 3, 'value': '서지혜 맥주'}, {'rank': 4, 'value': '서지혜'}, {'rank': 5, 'value': '아쿠아맨'}, {'rank': 6, 'value': '기믹'}, {'rank': 7, 'value': '김연경'}, {'rank': 8, 'value': '배정남'}, {'rank': 9, 'value': '심지유'}, {'rank': 10, 'value': '라리가'}, {'rank': 11, 'value': '양준혁 박현선'}, {'rank': 12, 'value': '비비'}, {'rank': 13, 'value': '이재영'}, {'rank': 14, 'value': '이다영'}, {'rank': 15, 'value': '송창식'}, {'rank': 16, 'value': '인현왕후의 남자'}, {'rank': 17, 'value': '양준혁'}, {'rank': 18, 'value': '화사 별'}, {'rank': 19, 'value': '나를 사랑한 스파이'}, {'rank': 20, 'value': '항체치료제'}]\n",
      "----------------------------------------------------------------------------------------------------\n",
      "실시간 급상승 검색어 1위는 \"장범준\"입니다.\n"
     ]
    }
   ],
   "source": [
    "from selenium import webdriver\n",
    "from bs4 import BeautifulSoup\n",
    "\n",
    "driver = webdriver.Chrome('./chromedriver')\n",
    "\n",
    "# 페이지가 모두 로드될 때까지 3초 기다려주는 코드\n",
    "driver.implicitly_wait(3)\n",
    "\n",
    "# 셀레니움을 통해 실제 크롬창에서 접속한 것과 동일하게 해당 URL 내용을 가져옴\n",
    "driver.get('https://datalab.naver.com/keyword/realtimeList.naver')\n",
    "\n",
    "# 소스를 읽어 BeautifulSoup을 이용해 파싱\n",
    "html = driver.page_source\n",
    "soup = BeautifulSoup(html, 'html.parser')\n",
    "\n",
    "driver.close()\n",
    "\n",
    "# 그 다음은 이전에 requests와 BeautifulSoup을 이용했던 코드와 동일하게 처리\n",
    "rank_list = soup.select(\".ranking_list .item_title\")\n",
    "rank_result_list = [] # 결과값을 담을 빈 리스트 생성\n",
    "for (index, rank) in enumerate(rank_list):\n",
    "    # 우리가 이용하기 쉬운 데이터 형태로 만들어 주기 위해 Dictionary 형태로 구성\n",
    "    rank_result_list += [{\"rank\": index+1, \"value\": rank.text}]\n",
    "    \n",
    "# 결과값이 의도한대로 잘 들어갔는지 출력하여 확인\n",
    "print(rank_result_list)\n",
    "print(\"-\"*100)\n",
    "# 그리고 마음껏 사용!!!\n",
    "print(f'실시간 급상승 검색어 {rank_result_list[0][\"rank\"]}위는 \"{rank_result_list[0][\"value\"]}\"입니다.')"
   ]
  },
  {
   "cell_type": "code",
   "execution_count": null,
   "metadata": {},
   "outputs": [],
   "source": []
  }
 ],
 "metadata": {
  "kernelspec": {
   "display_name": "Python 3",
   "language": "python",
   "name": "python3"
  },
  "language_info": {
   "codemirror_mode": {
    "name": "ipython",
    "version": 3
   },
   "file_extension": ".py",
   "mimetype": "text/x-python",
   "name": "python",
   "nbconvert_exporter": "python",
   "pygments_lexer": "ipython3",
   "version": "3.8.3"
  }
 },
 "nbformat": 4,
 "nbformat_minor": 4
}
