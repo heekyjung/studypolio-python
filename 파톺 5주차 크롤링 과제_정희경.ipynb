{
 "cells": [
  {
   "cell_type": "markdown",
   "metadata": {},
   "source": [
    "# 과제. BeautifulSoup을 이용하여 아래의 세 기사의 제목과 언론사를 크롤링해주세요!\n",
    "* for문을 이용하여 url 각각의 기사제목과 언론사를 가져와주세요\n",
    "* 가져온 정보를 아래와 같이 DataFrame으로 만들어 주세요"
   ]
  },
  {
   "cell_type": "markdown",
   "metadata": {},
   "source": [
    "|title|company|url|\n",
    "|------|---|---|\n",
    "|13일부터 마스크 착용 의무화..한 달 계도 후 과태료 10만 원|YTN|https://news.v.daum.net/v/20201004215700006|\n",
    "|\"사망 10대와 같은 곳서 같은 백신 접종한 32명, 이상반응 없어\"|연합뉴스|https://news.v.daum.net/v/20201020153505519|\n",
    "|지하수에 사는 '골룸 가물치'야, 넌 어디서 왔니|한겨레|https://news.v.daum.net/v/20201020153609574|\n",
    "\n"
   ]
  },
  {
   "cell_type": "code",
   "execution_count": 1,
   "metadata": {},
   "outputs": [],
   "source": [
    "crawl_url = [\"https://news.v.daum.net/v/20201004215700006\", \"https://news.v.daum.net/v/20201020153505519\", \"https://news.v.daum.net/v/20201020153609574\"]"
   ]
  },
  {
   "cell_type": "code",
   "execution_count": 2,
   "metadata": {},
   "outputs": [],
   "source": [
    "import requests\n",
    "from bs4 import BeautifulSoup as bs\n",
    "from urllib.request import urlretrieve\n",
    "import ssl\n",
    "ssl._create_default_https_context = ssl._create_unverified_context"
   ]
  },
  {
   "cell_type": "code",
   "execution_count": 3,
   "metadata": {},
   "outputs": [],
   "source": [
    "title_list = []\n",
    "company_list = []\n",
    "\n",
    "for c in crawl_url:\n",
    "    res = requests.get(c)\n",
    "    soup = bs(res.text, \"html.parser\")\n",
    "    \n",
    "    title = soup.select_one(\"h3.tit_view\").text.strip()\n",
    "    company = soup.select_one(\"strong.tit_cp\").text.strip()\n",
    "    \n",
    "    title_list.append(title)\n",
    "    company_list.append(company[:-20])\n",
    "    # company_list.append(company.split(' ')[0]) "
   ]
  },
  {
   "cell_type": "code",
   "execution_count": 4,
   "metadata": {},
   "outputs": [
    {
     "name": "stdout",
     "output_type": "stream",
     "text": [
      "https://news.v.daum.net/v/20201004215700006\n",
      "https://news.v.daum.net/v/20201020153505519\n",
      "https://news.v.daum.net/v/20201020153609574\n"
     ]
    }
   ],
   "source": [
    "for c in crawl_url:\n",
    "    print(c)"
   ]
  },
  {
   "cell_type": "code",
   "execution_count": 5,
   "metadata": {},
   "outputs": [],
   "source": [
    "import pandas as pd"
   ]
  },
  {
   "cell_type": "code",
   "execution_count": 6,
   "metadata": {},
   "outputs": [],
   "source": [
    "df = pd.DataFrame({'title': title_list,\n",
    "                   'company': company_list,\n",
    "                   'url': crawl_url})"
   ]
  },
  {
   "cell_type": "code",
   "execution_count": 7,
   "metadata": {},
   "outputs": [
    {
     "data": {
      "text/html": [
       "<div>\n",
       "<style scoped>\n",
       "    .dataframe tbody tr th:only-of-type {\n",
       "        vertical-align: middle;\n",
       "    }\n",
       "\n",
       "    .dataframe tbody tr th {\n",
       "        vertical-align: top;\n",
       "    }\n",
       "\n",
       "    .dataframe thead th {\n",
       "        text-align: right;\n",
       "    }\n",
       "</style>\n",
       "<table border=\"1\" class=\"dataframe\">\n",
       "  <thead>\n",
       "    <tr style=\"text-align: right;\">\n",
       "      <th></th>\n",
       "      <th>title</th>\n",
       "      <th>company</th>\n",
       "      <th>url</th>\n",
       "    </tr>\n",
       "  </thead>\n",
       "  <tbody>\n",
       "    <tr>\n",
       "      <th>0</th>\n",
       "      <td>13일부터 마스크 착용 의무화..한 달 계도 후 과태료 10만 원</td>\n",
       "      <td>YTN</td>\n",
       "      <td>https://news.v.daum.net/v/20201004215700006</td>\n",
       "    </tr>\n",
       "    <tr>\n",
       "      <th>1</th>\n",
       "      <td>\"사망 10대와 같은 곳서 같은 백신 접종한 32명, 이상반응 없어\"</td>\n",
       "      <td>연합뉴스</td>\n",
       "      <td>https://news.v.daum.net/v/20201020153505519</td>\n",
       "    </tr>\n",
       "    <tr>\n",
       "      <th>2</th>\n",
       "      <td>지하수에 사는 '골룸 가물치'야, 넌 어디서 왔니</td>\n",
       "      <td>한겨레</td>\n",
       "      <td>https://news.v.daum.net/v/20201020153609574</td>\n",
       "    </tr>\n",
       "  </tbody>\n",
       "</table>\n",
       "</div>"
      ],
      "text/plain": [
       "                                    title company  \\\n",
       "0    13일부터 마스크 착용 의무화..한 달 계도 후 과태료 10만 원     YTN   \n",
       "1  \"사망 10대와 같은 곳서 같은 백신 접종한 32명, 이상반응 없어\"    연합뉴스   \n",
       "2             지하수에 사는 '골룸 가물치'야, 넌 어디서 왔니     한겨레   \n",
       "\n",
       "                                           url  \n",
       "0  https://news.v.daum.net/v/20201004215700006  \n",
       "1  https://news.v.daum.net/v/20201020153505519  \n",
       "2  https://news.v.daum.net/v/20201020153609574  "
      ]
     },
     "execution_count": 7,
     "metadata": {},
     "output_type": "execute_result"
    }
   ],
   "source": [
    "df"
   ]
  },
  {
   "cell_type": "code",
   "execution_count": 8,
   "metadata": {},
   "outputs": [],
   "source": [
    "def make_clickable(val):\n",
    "    return '<a href=\"{}\">{}</a>'.format(val, val)"
   ]
  },
  {
   "cell_type": "code",
   "execution_count": 9,
   "metadata": {},
   "outputs": [],
   "source": [
    "df = df.style.format({'url': make_clickable})"
   ]
  },
  {
   "cell_type": "code",
   "execution_count": 10,
   "metadata": {},
   "outputs": [
    {
     "data": {
      "text/html": [
       "<style  type=\"text/css\" >\n",
       "</style><table id=\"T_50a6eeb0_1477_11eb_beb5_14c21302c0ca\" ><thead>    <tr>        <th class=\"blank level0\" ></th>        <th class=\"col_heading level0 col0\" >title</th>        <th class=\"col_heading level0 col1\" >company</th>        <th class=\"col_heading level0 col2\" >url</th>    </tr></thead><tbody>\n",
       "                <tr>\n",
       "                        <th id=\"T_50a6eeb0_1477_11eb_beb5_14c21302c0calevel0_row0\" class=\"row_heading level0 row0\" >0</th>\n",
       "                        <td id=\"T_50a6eeb0_1477_11eb_beb5_14c21302c0carow0_col0\" class=\"data row0 col0\" >13일부터 마스크 착용 의무화..한 달 계도 후 과태료 10만 원</td>\n",
       "                        <td id=\"T_50a6eeb0_1477_11eb_beb5_14c21302c0carow0_col1\" class=\"data row0 col1\" >YTN</td>\n",
       "                        <td id=\"T_50a6eeb0_1477_11eb_beb5_14c21302c0carow0_col2\" class=\"data row0 col2\" ><a href=\"https://news.v.daum.net/v/20201004215700006\">https://news.v.daum.net/v/20201004215700006</a></td>\n",
       "            </tr>\n",
       "            <tr>\n",
       "                        <th id=\"T_50a6eeb0_1477_11eb_beb5_14c21302c0calevel0_row1\" class=\"row_heading level0 row1\" >1</th>\n",
       "                        <td id=\"T_50a6eeb0_1477_11eb_beb5_14c21302c0carow1_col0\" class=\"data row1 col0\" >\"사망 10대와 같은 곳서 같은 백신 접종한 32명, 이상반응 없어\"</td>\n",
       "                        <td id=\"T_50a6eeb0_1477_11eb_beb5_14c21302c0carow1_col1\" class=\"data row1 col1\" >연합뉴스</td>\n",
       "                        <td id=\"T_50a6eeb0_1477_11eb_beb5_14c21302c0carow1_col2\" class=\"data row1 col2\" ><a href=\"https://news.v.daum.net/v/20201020153505519\">https://news.v.daum.net/v/20201020153505519</a></td>\n",
       "            </tr>\n",
       "            <tr>\n",
       "                        <th id=\"T_50a6eeb0_1477_11eb_beb5_14c21302c0calevel0_row2\" class=\"row_heading level0 row2\" >2</th>\n",
       "                        <td id=\"T_50a6eeb0_1477_11eb_beb5_14c21302c0carow2_col0\" class=\"data row2 col0\" >지하수에 사는 '골룸 가물치'야, 넌 어디서 왔니</td>\n",
       "                        <td id=\"T_50a6eeb0_1477_11eb_beb5_14c21302c0carow2_col1\" class=\"data row2 col1\" >한겨레</td>\n",
       "                        <td id=\"T_50a6eeb0_1477_11eb_beb5_14c21302c0carow2_col2\" class=\"data row2 col2\" ><a href=\"https://news.v.daum.net/v/20201020153609574\">https://news.v.daum.net/v/20201020153609574</a></td>\n",
       "            </tr>\n",
       "    </tbody></table>"
      ],
      "text/plain": [
       "<pandas.io.formats.style.Styler at 0x7fcc724c9df0>"
      ]
     },
     "execution_count": 10,
     "metadata": {},
     "output_type": "execute_result"
    }
   ],
   "source": [
    "df"
   ]
  }
 ],
 "metadata": {
  "kernelspec": {
   "display_name": "Python 3",
   "language": "python",
   "name": "python3"
  },
  "language_info": {
   "codemirror_mode": {
    "name": "ipython",
    "version": 3
   },
   "file_extension": ".py",
   "mimetype": "text/x-python",
   "name": "python",
   "nbconvert_exporter": "python",
   "pygments_lexer": "ipython3",
   "version": "3.8.3"
  }
 },
 "nbformat": 4,
 "nbformat_minor": 4
}
