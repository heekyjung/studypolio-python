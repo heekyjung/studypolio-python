{
 "cells": [
  {
   "cell_type": "code",
   "execution_count": 1,
   "metadata": {},
   "outputs": [],
   "source": [
    "import requests\n",
    "from bs4 import BeautifulSoup as bs\n",
    "\n",
    "# requests를 이용해 원하는 웹페이지의 소스코드를 불러옴 \n",
    "res = requests.get(\"https://news.google.com/covid19/map?hl=ko&mid=%2Fm%2F02j71&gl=KR&ceid=KR%3Ako\")\n",
    "# print(res.content)\n",
    "\n",
    "# BeautifulSoup를 이용해 파싱\n",
    "soup = bs(res.content, 'html.parser')\n",
    "\n",
    "# 우리가 필요한 정보 부분을 선택 (.은 class, #은 id)\n",
    "covid_list = soup.select(\"tr.sgXwHf.wdLSAe\")"
   ]
  },
  {
   "cell_type": "code",
   "execution_count": 4,
   "metadata": {},
   "outputs": [
    {
     "data": {
      "text/plain": [
       "41"
      ]
     },
     "execution_count": 4,
     "metadata": {},
     "output_type": "execute_result"
    }
   ],
   "source": [
    "# 불러온 리스트의 개수 확인 (왜 41개일까? 그럼 더 불러오려면 어떻게 해야할까?)\n",
    "len(covid_list)"
   ]
  },
  {
   "cell_type": "code",
   "execution_count": 5,
   "metadata": {},
   "outputs": [
    {
     "name": "stdout",
     "output_type": "stream",
     "text": [
      "<tr class=\"sgXwHf wdLSAe ROuVee\" data-id=\"/m/02j71\" jsaction=\"click:KoQL8\" jslog=\"110767; track:click\"><th class=\"l3HOY\" role=\"rowheader\" scope=\"row\"><div class=\"TWa0lb\"><img alt=\"\" class=\"oIC36d\" loading=\"lazy\" src=\"https://www.gstatic.com/images/icons/material/system_gm/1x/language_googblue_24dp.png\"/><div class=\"pcAJd\">전 세계</div></div></th><td class=\"l3HOY\">38,971,792</td><td aria-label=\"데이터 없음\" class=\"l3HOY\"><span class=\"EtcnFb\">데이터 없음</span></td><td class=\"l3HOY\"><img alt=\"60일 동향 차트\" aria-label=\"60일 동향 차트\" class=\"nBjBX\" loading=\"lazy\" src=\"//www.gstatic.com/covid-trends/images/NC60/_m_02j71.svg\"/></td><td class=\"l3HOY\">5,012</td><td class=\"l3HOY\">1,098,982</td></tr>\n"
     ]
    }
   ],
   "source": [
    "# 불러온 리스트 출력 (이쁘지 않다. 잘 못알아보겠다.)\n",
    "print(covid_list[0])"
   ]
  },
  {
   "cell_type": "code",
   "execution_count": 6,
   "metadata": {},
   "outputs": [
    {
     "name": "stdout",
     "output_type": "stream",
     "text": [
      "<tr class=\"sgXwHf wdLSAe ROuVee\" data-id=\"/m/02j71\" jsaction=\"click:KoQL8\" jslog=\"110767; track:click\">\n",
      " <th class=\"l3HOY\" role=\"rowheader\" scope=\"row\">\n",
      "  <div class=\"TWa0lb\">\n",
      "   <img alt=\"\" class=\"oIC36d\" loading=\"lazy\" src=\"https://www.gstatic.com/images/icons/material/system_gm/1x/language_googblue_24dp.png\"/>\n",
      "   <div class=\"pcAJd\">\n",
      "    전 세계\n",
      "   </div>\n",
      "  </div>\n",
      " </th>\n",
      " <td class=\"l3HOY\">\n",
      "  38,971,792\n",
      " </td>\n",
      " <td aria-label=\"데이터 없음\" class=\"l3HOY\">\n",
      "  <span class=\"EtcnFb\">\n",
      "   데이터 없음\n",
      "  </span>\n",
      " </td>\n",
      " <td class=\"l3HOY\">\n",
      "  <img alt=\"60일 동향 차트\" aria-label=\"60일 동향 차트\" class=\"nBjBX\" loading=\"lazy\" src=\"//www.gstatic.com/covid-trends/images/NC60/_m_02j71.svg\"/>\n",
      " </td>\n",
      " <td class=\"l3HOY\">\n",
      "  5,012\n",
      " </td>\n",
      " <td class=\"l3HOY\">\n",
      "  1,098,982\n",
      " </td>\n",
      "</tr>\n",
      "\n"
     ]
    }
   ],
   "source": [
    "# 이쁘게 출력!\n",
    "print(covid_list[0].prettify())"
   ]
  },
  {
   "cell_type": "code",
   "execution_count": 7,
   "metadata": {},
   "outputs": [
    {
     "name": "stdout",
     "output_type": "stream",
     "text": [
      "전 세계\n"
     ]
    }
   ],
   "source": [
    "# 위치 부분 text출력\n",
    "print(covid_list[0].find('div').text)"
   ]
  },
  {
   "cell_type": "code",
   "execution_count": 8,
   "metadata": {},
   "outputs": [
    {
     "name": "stdout",
     "output_type": "stream",
     "text": [
      "38,971,792\n",
      "데이터 없음\n",
      "\n",
      "5,012\n",
      "1,098,982\n"
     ]
    }
   ],
   "source": [
    "# 가져오고 싶은 데이터들을 확인\n",
    "for td in covid_list[0].find_all('td'):\n",
    "    print(td.text)"
   ]
  },
  {
   "cell_type": "code",
   "execution_count": 9,
   "metadata": {},
   "outputs": [
    {
     "name": "stdout",
     "output_type": "stream",
     "text": [
      "|위치: 전 세계 | 총 확진자 수: 38,971,792 | 신규확진자(1일*): 데이터 없음 | 백만 명당 확진자 수: 5,012 | 사망: 1,098,982 |\n"
     ]
    }
   ],
   "source": [
    "# 아하 td에서 3번째(index=2)부분은 그래프라서 text가 없구나 \n",
    "# 그렇다면 이 부분은 제외하고 나머지 정보만 변수에 할당하자\n",
    "loc = covid_list[0].find('div').text\n",
    "tds = covid_list[0].find_all('td')\n",
    "total = tds[0].text\n",
    "new = tds[1].text\n",
    "confirmed_per_mil = tds[3].text\n",
    "death = tds[4].text\n",
    "\n",
    "# print(f\"|위치: {loc} | 총 확진자 수: {total} | 신규확진자(1일*): {new.strip()} | 백만 명당 확진자 수: {confirmed_per_mil} | 사망: {death} |\")\n",
    "# 한 줄로 너무 길어 보기가 불편하다면 \\를 사용해서 줄을 나눠서 쓸 수 있다\n",
    "print(f\"|위치: {loc} | 총 확진자 수: {total} | 신규확진자(1일*): {new.strip()} \\\n",
    "| 백만 명당 확진자 수: {confirmed_per_mil} | 사망: {death} |\")"
   ]
  },
  {
   "cell_type": "code",
   "execution_count": 10,
   "metadata": {},
   "outputs": [
    {
     "name": "stdout",
     "output_type": "stream",
     "text": [
      "[  0] 위치: 전 세계 총 확진자 수: 38,971,792 | 신규확진자(1일*): 데이터 없음     | 백만 명당 확진자 수: 5,012 | 사망: 1,098,982 \n",
      "[  1] 위치: 미국 총 확진자 수: 8,017,117 | 신규확진자(1일*): 59,713     | 백만 명당 확진자 수: 24,327 | 사망: 217,546 \n",
      "[  2] 위치: 인도 총 확진자 수: 7,370,468 | 신규확진자(1일*): 63,371     | 백만 명당 확진자 수: 5,417 | 사망: 112,161 \n",
      "[  3] 위치: 브라질 총 확진자 수: 5,169,386 | 신규확진자(1일*): 28,523     | 백만 명당 확진자 수: 24,460 | 사망: 152,460 \n",
      "[  4] 위치: 러시아 총 확진자 수: 1,346,380 | 신규확진자(1일*): 13,556     | 백만 명당 확진자 수: 9,175 | 사망: 23,350 \n",
      "[  5] 위치: 아르헨티나 총 확진자 수: 949,063 | 신규확진자(1일*): 17,096     | 백만 명당 확진자 수: 21,119 | 사망: 25,342 \n",
      "[  6] 위치: 콜롬비아 총 확진자 수: 936,982 | 신규확진자(1일*): 6,823     | 백만 명당 확진자 수: 18,969 | 사망: 28,457 \n",
      "[  7] 위치: 스페인 총 확진자 수: 921,374 | 신규확진자(1일*): 13,318     | 백만 명당 확진자 수: 19,562 | 사망: 33,553 \n",
      "[  8] 위치: 페루 총 확진자 수: 859,740 | 신규확진자(1일*): 5,766     | 백만 명당 확진자 수: 26,757 | 사망: 33,577 \n",
      "[  9] 위치: 멕시코 총 확진자 수: 834,910 | 신규확진자(1일*): 5,514     | 백만 명당 확진자 수: 6,596 | 사망: 85,285 \n",
      "[ 10] 위치: 프랑스 총 확진자 수: 818,707 | 신규확진자(1일*): 30,590     | 백만 명당 확진자 수: 12,206 | 사망: 32,876 \n",
      "[ 11] 위치: 남아프리카 공화국 총 확진자 수: 698,184 | 신규확진자(1일*): 1,770     | 백만 명당 확진자 수: 11,879 | 사망: 18,309 \n",
      "[ 12] 위치: 영국 총 확진자 수: 673,622 | 신규확진자(1일*): 18,978     | 백만 명당 확진자 수: 10,139 | 사망: 43,293 \n",
      "[ 13] 위치: 이란 총 확진자 수: 517,835 | 신규확진자(1일*): 4,616     | 백만 명당 확진자 수: 6,214 | 사망: 29,605 \n",
      "[ 14] 위치: 칠레 총 확진자 수: 486,496 | 신규확진자(1일*): 1,124     | 백만 명당 확진자 수: 25,461 | 사망: 13,434 \n",
      "[ 15] 위치: 이라크 총 확진자 수: 416,802 | 신규확진자(1일*): 3,587     | 백만 명당 확진자 수: 10,652 | 사망: 10,086 \n",
      "[ 16] 위치: 방글라데시 총 확진자 수: 384,559 | 신규확진자(1일*): 1,600     | 백만 명당 확진자 수: 2,284 | 사망: 5,608 \n",
      "[ 17] 위치: 이탈리아 총 확진자 수: 381,602 | 신규확진자(1일*): 8,803     | 백만 명당 확진자 수: 6,334 | 사망: 36,372 \n",
      "[ 18] 위치: 독일 총 확진자 수: 352,107 | 신규확진자(1일*): 7,620     | 백만 명당 확진자 수: 4,235 | 사망: 9,739 \n",
      "[ 19] 위치: 인도네시아 총 확진자 수: 349,160 | 신규확진자(1일*): 4,411     | 백만 명당 확진자 수: 1,308 | 사망: 12,268 \n",
      "[ 20] 위치: 필리핀 총 확진자 수: 348,698 | 신규확진자(1일*): 2,162     | 백만 명당 확진자 수: 3,214 | 사망: 6,497 \n",
      "[ 21] 위치: 터키 총 확진자 수: 342,143 | 신규확진자(1일*): 1,693     | 백만 명당 확진자 수: 4,115 | 사망: 9,080 \n",
      "[ 22] 위치: 사우디아라비아 총 확진자 수: 341,062 | 신규확진자(1일*): 472     | 백만 명당 확진자 수: 9,967 | 사망: 5,127 \n",
      "[ 23] 위치: 파키스탄 총 확진자 수: 321,877 | 신규확진자(1일*): 659     | 백만 명당 확진자 수: 1,469 | 사망: 6,621 \n",
      "[ 24] 위치: 이스라엘 총 확진자 수: 300,201 | 신규확진자(1일*): 1,701     | 백만 명당 확진자 수: 32,702 | 사망: 2,127 \n",
      "[ 25] 위치: 우크라이나 총 확진자 수: 289,022 | 신규확진자(1일*): 5,260     | 백만 명당 확진자 수: 6,901 | 사망: 5,443 \n",
      "[ 26] 위치: 네덜란드 총 확진자 수: 203,954 | 신규확진자(1일*): 7,791     | 백만 명당 확진자 수: 11,687 | 사망: 6,692 \n",
      "[ 27] 위치: 벨기에 총 확진자 수: 191,959 | 신규확진자(1일*): 10,448     | 백만 명당 확진자 수: 16,657 | 사망: 10,327 \n",
      "[ 28] 위치: 캐나다 총 확진자 수: 191,732 | 신규확진자(1일*): 2,345     | 백만 명당 확진자 수: 5,048 | 사망: 9,699 \n",
      "[ 29] 위치: 루마니아 총 확진자 수: 168,490 | 신규확진자(1일*): 4,013     | 백만 명당 확진자 수: 8,683 | 사망: 5,674 \n",
      "[ 30] 위치: 모로코 총 확진자 수: 163,650 | 신규확진자(1일*): 3,317     | 백만 명당 확진자 수: 4,564 | 사망: 2,772 \n",
      "[ 31] 위치: 에콰도르 총 확진자 수: 150,360 | 신규확진자(1일*): 1,277     | 백만 명당 확진자 수: 8,613 | 사망: 12,306 \n",
      "[ 32] 위치: 폴란드 총 확진자 수: 149,903 | 신규확진자(1일*): 8,099     | 백만 명당 확진자 수: 3,906 | 사망: 3,308 \n",
      "[ 33] 위치: 체코 총 확진자 수: 149,010 | 신규확진자(1일*): 9,720     | 백만 명당 확진자 수: 13,934 | 사망: 1,230 \n",
      "[ 34] 위치: 볼리비아 총 확진자 수: 139,319 | 신규확진자(1일*): 178     | 백만 명당 확진자 수: 12,146 | 사망: 8,407 \n",
      "[ 35] 위치: 카타르 총 확진자 수: 128,803 | 신규확진자(1일*): 200     | 백만 명당 확진자 수: 46,884 | 사망: 222 \n",
      "[ 36] 위치: 파나마 총 확진자 수: 122,883 | 신규확진자(1일*): 755     | 백만 명당 확진자 수: 29,127 | 사망: 2,529 \n",
      "[ 37] 위치: 네팔 총 확진자 수: 121,745 | 신규확진자(1일*): 3,749     | 백만 명당 확진자 수: 4,059 | 사망: 694 \n",
      "[ 38] 위치: 도미니카 공화국 총 확진자 수: 120,066 | 신규확진자(1일*): 404     | 백만 명당 확진자 수: 11,591 | 사망: 2,189 \n",
      "[ 39] 위치: 쿠웨이트 총 확진자 수: 114,015 | 신규확진자(1일*): 746     | 백만 명당 확진자 수: 25,795 | 사망: 684 \n",
      "[ 40] 위치: 아랍에미리트 총 확진자 수: 111,437 | 신규확진자(1일*): 1,398     | 백만 명당 확진자 수: 11,267 | 사망: 452 \n"
     ]
    }
   ],
   "source": [
    "# 필요한 정보를 출력하는 함수\n",
    "def printInfo(index, loc, tds):\n",
    "    total = tds[0].text\n",
    "    new = tds[1].text\n",
    "    confirmed_per_mil = tds[3].text\n",
    "    death = tds[4].text\n",
    "    \n",
    "    print(f\"[{index:>3}] 위치: {loc} 총 확진자 수: {total} | 신규확진자(1일*): {new} \\\n",
    "    | 백만 명당 확진자 수: {confirmed_per_mil} | 사망: {death} \")\n",
    "    \n",
    "# 전체 리스트에서 각 정보를 출력\n",
    "for index, covid_info in enumerate(covid_list):\n",
    "    loc = covid_info.find('div').text\n",
    "    tds = covid_info.find_all('td')\n",
    "    printInfo(index, loc, tds)"
   ]
  },
  {
   "cell_type": "code",
   "execution_count": null,
   "metadata": {},
   "outputs": [],
   "source": []
  }
 ],
 "metadata": {
  "kernelspec": {
   "display_name": "Python 3",
   "language": "python",
   "name": "python3"
  },
  "language_info": {
   "codemirror_mode": {
    "name": "ipython",
    "version": 3
   },
   "file_extension": ".py",
   "mimetype": "text/x-python",
   "name": "python",
   "nbconvert_exporter": "python",
   "pygments_lexer": "ipython3",
   "version": "3.8.3"
  }
 },
 "nbformat": 4,
 "nbformat_minor": 4
}
