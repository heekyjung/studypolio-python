{
 "cells": [
  {
   "cell_type": "markdown",
   "metadata": {},
   "source": [
    "# 컬렉션(Collections)\n",
    "1. [컬렉션(Collections)](#1)\n",
    "2. [리스트(List)](#2)\n",
    "3. [튜플(Tuple)](#3)\n",
    "4. [딕셔너리(Dictionary)](#4)\n",
    " 1. [딕셔너리 생성](#4-1)\n",
    " 2. [딕셔너리 키(Key)](#4-2)\n",
    " 3. [딕셔너리 값](#4-3)\n",
    "5. [셋(Set)](#5)\n",
    " 1. [셋의 특징](#5-1)\n",
    " 2. [셋으로 중복 제거하기](#5-2)\n",
    " 3. [교집합, 합집합, 차집합 구하기](#5-3)"
   ]
  },
  {
   "cell_type": "markdown",
   "metadata": {},
   "source": [
    "## 1. 컬렉션(Collections)<a name=\"1\"></a>\n",
    "- 파이썬의 컨데이너 데이터 타입\n",
    "- 여러 종류가 있으며, 일반적으로 많이 사용되는 <b>리스트, 튜플, 딕셔너리, 셋</b> 등은 built-in 형태여서 다른 모듈을 추가하지 않고도 사용 가능함"
   ]
  },
  {
   "cell_type": "markdown",
   "metadata": {},
   "source": [
    "---\n",
    "## 2. 리스트(List)<a name=\"2\"></a>\n",
    "- 리스트도 컬렉션 중에 하나이나, 사용빈도가 다른 것들에 비해 많아 다른 문서로 다룸\n",
    "- [리스트 기초](https://github.com/heekyjung/studypolio-python/blob/main/01_파이썬_문법_기초/02_리스트.ipynb)\n",
    "- [리스트 상세](https://github.com/heekyjung/studypolio-python/blob/main/04_파이썬_문법_심화/01_리스트_상세.ipynb)"
   ]
  },
  {
   "cell_type": "markdown",
   "metadata": {},
   "source": [
    "---\n",
    "## 3. 튜플(Tuple)<a name=\"3\"></a>\n",
    "- 리스트와 매우 비슷한 형태\n",
    "\n",
    "||튜플|리스트|\n",
    "|:---:|:---:|:---:|\n",
    "|<b>표현 방식</b>|`()`|`[]`|\n",
    "|<b>수정 가능성</b>|수정 불가(Immutable)|수정 가능(Mutable)|"
   ]
  },
  {
   "cell_type": "code",
   "execution_count": 1,
   "metadata": {
    "scrolled": true
   },
   "outputs": [
    {
     "name": "stdout",
     "output_type": "stream",
     "text": [
      "(1, 2, 3)\n"
     ]
    }
   ],
   "source": [
    "tu = (1, 2, 3)\n",
    "print(tu)"
   ]
  },
  {
   "cell_type": "markdown",
   "metadata": {},
   "source": [
    "- 수정이 불가능하므로, 특정 Index에 값을 새로 할당할 수 없음\n",
    "```python\n",
    "tu[0] = 5 # 오류 발생!\n",
    "```\n",
    "\n",
    "- 이러한 특성으로 인해, 함수에서 여러 개의 리턴값을 가질 때 튜플 형태로 표현됨"
   ]
  },
  {
   "cell_type": "code",
   "execution_count": 2,
   "metadata": {},
   "outputs": [
    {
     "name": "stdout",
     "output_type": "stream",
     "text": [
      "(8, 15)\n",
      "8\n"
     ]
    }
   ],
   "source": [
    "def add_and_mul(a, b):\n",
    "    return a+b, a*b\n",
    "\n",
    "result = add_and_mul(3, 5)\n",
    "print(result)\n",
    "print(result[0])"
   ]
  },
  {
   "cell_type": "markdown",
   "metadata": {},
   "source": [
    "```python\n",
    "result[0] = 10 # 리턴값에 다른 값을 할당하려면 오류 발생!\n",
    "```"
   ]
  },
  {
   "cell_type": "markdown",
   "metadata": {},
   "source": [
    "---\n",
    "## 4. 딕셔너리(Dictionary)<a name=\"4\"></a>\n",
    "### A. 딕셔너리 생성<a name=\"4-1\"></a>\n",
    "1. 직접 `{key1:value1, key2:value2 ... }` 형태로 딕셔너리를 생성\n",
    "2. 딕셔너리 constructor를 이용하여 생성"
   ]
  },
  {
   "cell_type": "code",
   "execution_count": 3,
   "metadata": {},
   "outputs": [
    {
     "name": "stdout",
     "output_type": "stream",
     "text": [
      "{'a': 1, 'b': 2, 'c': 3}\n",
      "{'a': 1, 'b': 2, 'c': 3}\n"
     ]
    }
   ],
   "source": [
    "# 1. 직접 생성\n",
    "tel = {'a': 1, 'b': 2, 'c': 3}\n",
    "print(tel)\n",
    "\n",
    "# 2. 딕셔너리 constructor로 생성\n",
    "tel = dict(a=1, b=2, c=3)\n",
    "print(tel)"
   ]
  },
  {
   "cell_type": "markdown",
   "metadata": {},
   "source": [
    "#### 딕셔너리 생성할 때의 주의 사항\n",
    "- 똑같은 key값을 넣으면, 한 개를 제외한 나머지는 무시됨"
   ]
  },
  {
   "cell_type": "code",
   "execution_count": 4,
   "metadata": {},
   "outputs": [
    {
     "name": "stdout",
     "output_type": "stream",
     "text": [
      "01033334444\n",
      "{'ethan': '01033334444'}\n"
     ]
    }
   ],
   "source": [
    "tel = {'ethan': '01011112222', 'ethan': '01033334444'}\n",
    "print(tel['ethan'])\n",
    "print(tel)"
   ]
  },
  {
   "cell_type": "markdown",
   "metadata": {},
   "source": [
    "### B. 딕셔너리 키(Key)<a name=\"4-2\"></a>\n",
    "<b>`keys()`</b>: 해당 딕셔너리에 포함된 키(Key)들을 `dict_keys` 형태로 추출"
   ]
  },
  {
   "cell_type": "code",
   "execution_count": 5,
   "metadata": {},
   "outputs": [
    {
     "name": "stdout",
     "output_type": "stream",
     "text": [
      "dict_keys(['ethan', 'guido', 'chaser'])\n"
     ]
    }
   ],
   "source": [
    "tel = {'ethan': '1234', 'guido': '1111', 'chaser': '4885'}\n",
    "print(tel.keys())"
   ]
  },
  {
   "cell_type": "markdown",
   "metadata": {},
   "source": [
    "#### `dict_keys`란?\n",
    "- 파이썬 2.X는 `keys()` 함수가 리스트 형식으로 값을 리턴\n",
    "- 파이썬 3.0부터 효율적인 메모리 사용을 위해 `dict_keys`라는 객체 형태로 리턴\n",
    "- `keys()`로 반환된 값은 <b>1) for문을 사용</b>하거나, <b>2) 리스트 형태로 형변환(casting)</b>하여 사용 가능"
   ]
  },
  {
   "cell_type": "code",
   "execution_count": 6,
   "metadata": {},
   "outputs": [
    {
     "name": "stdout",
     "output_type": "stream",
     "text": [
      "dict_keys(['ethan', 'guido', 'chaser'])\n",
      "------------------------------\n",
      "ethan\n",
      "guido\n",
      "chaser\n",
      "------------------------------\n",
      "['ethan', 'guido', 'chaser']\n"
     ]
    }
   ],
   "source": [
    "keys = tel.keys()\n",
    "print(keys)\n",
    "\n",
    "print(\"-\"*30)\n",
    "\n",
    "for key in keys:\n",
    "    print(key)\n",
    "\n",
    "print(\"-\"*30)\n",
    "\n",
    "keys = list(keys)\n",
    "print(keys)"
   ]
  },
  {
   "cell_type": "markdown",
   "metadata": {},
   "source": [
    "#### `in`: 딕셔너리 안의 특정 키의 유무 확인"
   ]
  },
  {
   "cell_type": "code",
   "execution_count": 7,
   "metadata": {},
   "outputs": [
    {
     "name": "stdout",
     "output_type": "stream",
     "text": [
      "True\n",
      "False\n"
     ]
    }
   ],
   "source": [
    "print('ethan' in tel)\n",
    "print('daniel' in tel)"
   ]
  },
  {
   "cell_type": "markdown",
   "metadata": {},
   "source": [
    "### C. 딕셔너리 값<a name=\"4-3\"></a>\n",
    "<b>`get()`</b>: 딕셔너리의 값을 가져옴"
   ]
  },
  {
   "cell_type": "code",
   "execution_count": 8,
   "metadata": {
    "scrolled": true
   },
   "outputs": [
    {
     "name": "stdout",
     "output_type": "stream",
     "text": [
      "1234\n",
      "None\n"
     ]
    }
   ],
   "source": [
    "print(tel.get('ethan'))\n",
    "print(tel.get('daniel'))"
   ]
  },
  {
   "cell_type": "markdown",
   "metadata": {},
   "source": [
    "`get()`을 이용해 값이 없는 경우에 디폴트 값을 지정해 줄 수도 있음"
   ]
  },
  {
   "cell_type": "code",
   "execution_count": 9,
   "metadata": {},
   "outputs": [
    {
     "name": "stdout",
     "output_type": "stream",
     "text": [
      "1234\n",
      "N/A\n"
     ]
    }
   ],
   "source": [
    "print(tel.get('ethan', 'N/A'))\n",
    "print(tel.get('daniel', 'N/A'))"
   ]
  },
  {
   "cell_type": "markdown",
   "metadata": {},
   "source": [
    "---\n",
    "## 5. 셋(Set)<a name=\"5\"></a>\n",
    "집합의 형태를 쉽게 처리하기 위한 데이터타입\n",
    "- 딕셔너리와 비슷하게 생겼으나 키(Key)가 없는 형태"
   ]
  },
  {
   "cell_type": "code",
   "execution_count": 10,
   "metadata": {},
   "outputs": [
    {
     "name": "stdout",
     "output_type": "stream",
     "text": [
      "{1, 2, 3}\n"
     ]
    },
    {
     "data": {
      "text/plain": [
       "set"
      ]
     },
     "execution_count": 10,
     "metadata": {},
     "output_type": "execute_result"
    }
   ],
   "source": [
    "a = {1, 2, 3}\n",
    "print(a)\n",
    "type(a)"
   ]
  },
  {
   "cell_type": "markdown",
   "metadata": {},
   "source": [
    "### A. 셋의 특징<a name=\"5-1\"></a>\n",
    "#### 1. 중복을 허용하지 않는다.\n",
    "- 중복을 제거하는데 사용 가능"
   ]
  },
  {
   "cell_type": "code",
   "execution_count": 11,
   "metadata": {
    "scrolled": false
   },
   "outputs": [
    {
     "name": "stdout",
     "output_type": "stream",
     "text": [
      "{1, 2, 3}\n"
     ]
    }
   ],
   "source": [
    "a = {1, 2, 1, 3}\n",
    "print(a)"
   ]
  },
  {
   "cell_type": "markdown",
   "metadata": {},
   "source": [
    "#### 2. 순서가 없다.\n",
    "- 순서가 없기 때문에 index로 접근할 수 없음\n",
    "```python\n",
    "a = {1, 2, 3}\n",
    "print(a[0]) # 에러 발생!: 'set' object is not subscriptable\n",
    "```"
   ]
  },
  {
   "cell_type": "markdown",
   "metadata": {},
   "source": [
    "### B. 셋으로 중복 제거하기: 셋(Set) feat. 형변환(Casting)<a name=\"5-2\"></a>"
   ]
  },
  {
   "cell_type": "code",
   "execution_count": 12,
   "metadata": {
    "scrolled": true
   },
   "outputs": [
    {
     "name": "stdout",
     "output_type": "stream",
     "text": [
      "[1, 2, 2, 2, 2, 2, 2, 2, 2, 2, 2]\n",
      "[1, 2, 2, 2, 2, 2, 2, 2, 2, 2]\n"
     ]
    }
   ],
   "source": [
    "a = [1, 2, 2, 2, 2, 2, 2, 2, 2, 2, 2]\n",
    "print(a)\n",
    "a.remove(2)\n",
    "print(a)"
   ]
  },
  {
   "cell_type": "code",
   "execution_count": 13,
   "metadata": {},
   "outputs": [
    {
     "name": "stdout",
     "output_type": "stream",
     "text": [
      "{1, 2}\n",
      "[1, 2]\n"
     ]
    }
   ],
   "source": [
    "a = [1, 2, 2, 2, 2, 2, 2, 2, 2, 2, 2]\n",
    "a = set(a)\n",
    "print(a)\n",
    "a = list(a)\n",
    "print(a)"
   ]
  },
  {
   "cell_type": "markdown",
   "metadata": {},
   "source": [
    "### C. 교집합, 합집합, 차집합 구하기<a name=\"5-3\"></a>"
   ]
  },
  {
   "cell_type": "code",
   "execution_count": 14,
   "metadata": {},
   "outputs": [],
   "source": [
    "a = {1, 2, 3}\n",
    "b = {2, 3, 5}"
   ]
  },
  {
   "cell_type": "markdown",
   "metadata": {},
   "source": [
    "#### 1) 교집합"
   ]
  },
  {
   "cell_type": "code",
   "execution_count": 15,
   "metadata": {},
   "outputs": [
    {
     "name": "stdout",
     "output_type": "stream",
     "text": [
      "{2, 3}\n"
     ]
    }
   ],
   "source": [
    "print(a & b)"
   ]
  },
  {
   "cell_type": "markdown",
   "metadata": {},
   "source": [
    "#### 2) 합집합"
   ]
  },
  {
   "cell_type": "code",
   "execution_count": 16,
   "metadata": {},
   "outputs": [
    {
     "name": "stdout",
     "output_type": "stream",
     "text": [
      "{1, 2, 3, 5}\n"
     ]
    }
   ],
   "source": [
    "print(a | b)"
   ]
  },
  {
   "cell_type": "markdown",
   "metadata": {},
   "source": [
    "#### 3) 차집합"
   ]
  },
  {
   "cell_type": "code",
   "execution_count": 17,
   "metadata": {},
   "outputs": [
    {
     "name": "stdout",
     "output_type": "stream",
     "text": [
      "{1}\n",
      "{5}\n"
     ]
    }
   ],
   "source": [
    "print(a - b)\n",
    "print(b - a)"
   ]
  }
 ],
 "metadata": {
  "kernelspec": {
   "display_name": "Python 3",
   "language": "python",
   "name": "python3"
  },
  "language_info": {
   "codemirror_mode": {
    "name": "ipython",
    "version": 3
   },
   "file_extension": ".py",
   "mimetype": "text/x-python",
   "name": "python",
   "nbconvert_exporter": "python",
   "pygments_lexer": "ipython3",
   "version": "3.8.3"
  }
 },
 "nbformat": 4,
 "nbformat_minor": 4
}
