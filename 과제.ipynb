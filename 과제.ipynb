{
 "cells": [
  {
   "cell_type": "markdown",
   "metadata": {},
   "source": [
    "# 가운데 글자 가져오기\n",
    "https://programmers.co.kr/learn/courses/30/lessons/12903<br>\n",
    "단어 s의 가운데 글자를 반환하는 함수, solution을 만들어 보세요. 단어의 길이가 짝수라면 가운데 두글자를 반환하면 됩니다.\n",
    "- 제한사항\n",
    " - s는 길이가 1 이상, 100이하인 스트링입니다.\n",
    "- 입출력 예\n",
    " - s: 'abcde', return: 'c'\n",
    " - s: 'qwer', return: 'we'"
   ]
  },
  {
   "cell_type": "code",
   "execution_count": 1,
   "metadata": {},
   "outputs": [],
   "source": [
    "def solution(s):\n",
    "    a = len(s) / 2\n",
    "    if len(s) % 2 == 0:\n",
    "        return s[a-1:a+1]\n",
    "    else:\n",
    "        return s[a]"
   ]
  },
  {
   "cell_type": "code",
   "execution_count": 1,
   "metadata": {},
   "outputs": [],
   "source": [
    "def solution(s):\n",
    "    return s[(len(s)-1)//2:len(s)//2+1]\n",
    "\n",
    "# (1, 2) (2, 3), (4, 5) 순으로 2로 나눴을 때 몫이 같은데,\n",
    "# 슬라이싱할 때 앞 부분은 이 순서보다 하나씩 앞으로 땡겨짐: (3, 4), (5, 6)\n",
    "# 그러므로 앞 부분은 숫자를 1씩 빼서 나누기 전에 미리 앞으로 당겨주자\n",
    "# 3   [1:2]   \n",
    "# 4   [1:3]\n",
    "# 5   [2:3]\n",
    "# 6   [2:4]\n",
    "# 7   [3:4]\n",
    "# 슬라이싱 뒷 부분은 몫보다 하나씩 크므로 그대로 1씩 더해주면 됨"
   ]
  },
  {
   "cell_type": "markdown",
   "metadata": {},
   "source": [
    "# 서울에서 김서방 찾기\n",
    "https://programmers.co.kr/learn/courses/30/lessons/12919<br>\n",
    "String형 배열 seoul의 element중 Kim의 위치 x를 찾아, 김서방은 x에 있다는 String을 반환하는 함수, solution을 완성하세요. seoul에 Kim은 오직 한 번만 나타나며 잘못된 값이 입력되는 경우는 없습니다.\n",
    "- 제한사항\n",
    " - seoul은 길이 1 이상, 1000 이하인 배열입니다.\n",
    " - seoul의 원소는 길이 1 이상, 20 이하인 문자열입니다.\n",
    " - Kim은 반드시 seoul 안에 포함되어 있습니다.\n",
    "- 입출력 예\n",
    " - seoul: ['Jane', 'Kim'], return: '김서방은 1에 있다.'"
   ]
  },
  {
   "cell_type": "code",
   "execution_count": 2,
   "metadata": {},
   "outputs": [],
   "source": [
    "def solution(seoul):\n",
    "    return '김서방은 %d에 있다' % seoul.index('Kim')"
   ]
  },
  {
   "cell_type": "markdown",
   "metadata": {},
   "source": [
    "# 핸드폰 번호 가리기\n",
    "https://programmers.co.kr/learn/courses/30/lessons/12948<br>\n",
    "프로그래머스 모바일은 개인정보 보호를 위해 고지서를 보낼 때 고객들의 전화번호의 일부를 가립니다.<br>\n",
    "전화번호가 문자열 phone_number로 주어졌을 때, 전화번호의 뒷 4자리를 제외한 나머지 숫자를 전부 *으로 가린 문자열을 리턴하는 함수, solution을 완성해주세요.\n",
    "- 제한 조건\n",
    " - s는 길이 4 이상, 20이하인 문자열입니다\n",
    "- 입출력 예\n",
    " - phone_number: '01033334444', return: `'*******4444'`\n",
    " - phone_number: '027778888', return: `'*****8888'`"
   ]
  },
  {
   "cell_type": "code",
   "execution_count": 1,
   "metadata": {},
   "outputs": [],
   "source": [
    "def solution(phone_number):\n",
    "    aster = len(phone_number) - 4\n",
    "    answer = ''\n",
    "    for a in range(aster):\n",
    "        answer = answer + '*'\n",
    "    answer = answer + phone_number[-4:]\n",
    "    return answer"
   ]
  },
  {
   "cell_type": "code",
   "execution_count": 1,
   "metadata": {},
   "outputs": [],
   "source": [
    "def solution(phone_number):\n",
    "    return '*'*(len(phone_number)-4) + phone_number[-4:]"
   ]
  },
  {
   "cell_type": "code",
   "execution_count": null,
   "metadata": {},
   "outputs": [],
   "source": []
  }
 ],
 "metadata": {
  "kernelspec": {
   "display_name": "Python 3",
   "language": "python",
   "name": "python3"
  },
  "language_info": {
   "codemirror_mode": {
    "name": "ipython",
    "version": 3
   },
   "file_extension": ".py",
   "mimetype": "text/x-python",
   "name": "python",
   "nbconvert_exporter": "python",
   "pygments_lexer": "ipython3",
   "version": "3.8.3"
  }
 },
 "nbformat": 4,
 "nbformat_minor": 4
}
