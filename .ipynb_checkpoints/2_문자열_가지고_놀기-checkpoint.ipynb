{
 "cells": [
  {
   "cell_type": "markdown",
   "metadata": {},
   "source": [
    "# 문자열(String) 가지고 놀기\n",
    "1. [문자열 합치기](#1)\n",
    "2. [문자열 반복](#2)\n",
    "3. [문자열 바꾸기 (Replace)](#3)\n",
    "4. [문자열 나누기 (Split)](#4)\n",
    "5. [공백 지우기](#5)\n",
    "6. [대문자/소문자로 바꾸기](#6)\n",
    "7. [](#7)"
   ]
  },
  {
   "cell_type": "code",
   "execution_count": null,
   "metadata": {},
   "outputs": [],
   "source": []
  }
 ],
 "metadata": {
  "kernelspec": {
   "display_name": "Python 3",
   "language": "python",
   "name": "python3"
  },
  "language_info": {
   "codemirror_mode": {
    "name": "ipython",
    "version": 3
   },
   "file_extension": ".py",
   "mimetype": "text/x-python",
   "name": "python",
   "nbconvert_exporter": "python",
   "pygments_lexer": "ipython3",
   "version": "3.8.3"
  }
 },
 "nbformat": 4,
 "nbformat_minor": 4
}
