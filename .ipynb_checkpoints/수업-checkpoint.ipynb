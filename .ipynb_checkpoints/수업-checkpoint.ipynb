{
 "cells": [
  {
   "cell_type": "code",
   "execution_count": 1,
   "metadata": {},
   "outputs": [
    {
     "name": "stdout",
     "output_type": "stream",
     "text": [
      "--------------------------------------------------\n",
      "86.0\n"
     ]
    }
   ],
   "source": [
    "# 섭씨 온도를 화씨 온도로 변환하는 함수\n",
    "def convert_temp(c):\n",
    "    return (c * 9/5) + 32\n",
    "\n",
    "convert_temp(30)\n",
    "print('-' * 50)\n",
    "print(convert_temp(30))"
   ]
  },
  {
   "cell_type": "code",
   "execution_count": 2,
   "metadata": {},
   "outputs": [
    {
     "name": "stdout",
     "output_type": "stream",
     "text": [
      "--------------------------------------------------\n",
      "(8, 15)\n"
     ]
    }
   ],
   "source": [
    "# 두 수를 더하는 함수\n",
    "def add(a, b):\n",
    "    return a + b\n",
    "\n",
    "# 두 수를 곱하는 함수\n",
    "def mul(a, b):\n",
    "    return a * b\n",
    "\n",
    "# 두 수를 더한 값과 곱한 값을 같이 리턴하는 함수\n",
    "def add_and_mul(a, b):\n",
    "    return add(a, b), mul(a, b)\n",
    "\n",
    "print('-'*50)\n",
    "print(add_and_mul(3, 5))"
   ]
  },
  {
   "cell_type": "code",
   "execution_count": 3,
   "metadata": {},
   "outputs": [
    {
     "name": "stdout",
     "output_type": "stream",
     "text": [
      "--------------------------------------------------\n",
      "(3, 0)\n"
     ]
    }
   ],
   "source": [
    "def add_and_mul(a, b=0):\n",
    "    return add(a, b), mul(a, b)\n",
    "\n",
    "print('-'*50)\n",
    "print(add_and_mul(3))"
   ]
  },
  {
   "cell_type": "code",
   "execution_count": 4,
   "metadata": {},
   "outputs": [
    {
     "name": "stdout",
     "output_type": "stream",
     "text": [
      "[1, 2, 3, 4]\n"
     ]
    }
   ],
   "source": [
    "a = [1, 2, 3]\n",
    "a.append(4)\n",
    "print(a)"
   ]
  },
  {
   "cell_type": "code",
   "execution_count": 5,
   "metadata": {},
   "outputs": [
    {
     "name": "stdout",
     "output_type": "stream",
     "text": [
      "[1, 0, 2, 3]\n"
     ]
    }
   ],
   "source": [
    "a = [1, 2, 3]\n",
    "a.insert(1, 0)\n",
    "print(a)"
   ]
  },
  {
   "cell_type": "code",
   "execution_count": 6,
   "metadata": {},
   "outputs": [
    {
     "name": "stdout",
     "output_type": "stream",
     "text": [
      "오름차순 정렬: [1, 2, 3, 4, 5, 6]\n",
      "------------------------------\n",
      "내림차순 정렬: [6, 5, 4, 3, 2, 1]\n"
     ]
    }
   ],
   "source": [
    "a = [1, 4, 2, 6, 5, 3]\n",
    "a.sort()\n",
    "print(f'오름차순 정렬: {a}')\n",
    "print('-'*30)\n",
    "a.sort(reverse=True)\n",
    "print(f'내림차순 정렬: {a}')"
   ]
  },
  {
   "cell_type": "code",
   "execution_count": 7,
   "metadata": {},
   "outputs": [
    {
     "name": "stdout",
     "output_type": "stream",
     "text": [
      "[1, 2, 3]\n",
      "[1, 2]\n",
      "[1]\n",
      "[]\n"
     ]
    }
   ],
   "source": [
    "a = []\n",
    "a.append(1)\n",
    "a.append(2)\n",
    "a.append(3)\n",
    "print(a)\n",
    "a.pop()\n",
    "print(a)\n",
    "a.pop()\n",
    "print(a)\n",
    "a.pop()\n",
    "print(a)"
   ]
  },
  {
   "cell_type": "code",
   "execution_count": 9,
   "metadata": {},
   "outputs": [
    {
     "name": "stdout",
     "output_type": "stream",
     "text": [
      "deque([1, 2, 3])\n",
      "------------------------------\n",
      "deque([1])\n",
      "deque([1, 2])\n",
      "deque([1, 2, 3])\n",
      "deque([2, 3])\n",
      "deque([3])\n",
      "deque([])\n"
     ]
    }
   ],
   "source": [
    "from collections import deque\n",
    "queue = deque([1, 2, 3])\n",
    "print(queue)\n",
    "print('-'*30)\n",
    "queue = deque([])\n",
    "queue.append(1)\n",
    "print(queue)\n",
    "queue.append(2)\n",
    "print(queue)\n",
    "queue.append(3)\n",
    "print(queue)\n",
    "\n",
    "queue.popleft()\n",
    "print(queue)\n",
    "queue.popleft()\n",
    "print(queue)\n",
    "queue.popleft()\n",
    "print(queue)"
   ]
  },
  {
   "cell_type": "code",
   "execution_count": 10,
   "metadata": {},
   "outputs": [
    {
     "name": "stdout",
     "output_type": "stream",
     "text": [
      "01033334444\n",
      "{'ethan': '01033334444'}\n"
     ]
    }
   ],
   "source": [
    "tel = {'ethan': '01011112222', 'ethan': '01033334444'}\n",
    "print(tel['ethan'])\n",
    "print(tel)"
   ]
  },
  {
   "cell_type": "code",
   "execution_count": 11,
   "metadata": {},
   "outputs": [
    {
     "name": "stdout",
     "output_type": "stream",
     "text": [
      "dict_keys(['ethan', 'guido', 'chaser'])\n"
     ]
    }
   ],
   "source": [
    "tel = {'ethan': '1234', 'guido': '1111', 'chaser': '4885'}\n",
    "print(tel.keys())"
   ]
  },
  {
   "cell_type": "code",
   "execution_count": 12,
   "metadata": {},
   "outputs": [
    {
     "name": "stdout",
     "output_type": "stream",
     "text": [
      "1111\n"
     ]
    }
   ],
   "source": [
    "tel = {'ethan': 1234, 'guido': 1111, 'chaser': 4885}\n",
    "print(tel['guido'])"
   ]
  },
  {
   "cell_type": "code",
   "execution_count": 13,
   "metadata": {},
   "outputs": [
    {
     "ename": "SyntaxError",
     "evalue": "leading zeros in decimal integer literals are not permitted; use an 0o prefix for octal integers (<ipython-input-13-05ecfa01a5db>, line 1)",
     "output_type": "error",
     "traceback": [
      "\u001b[0;36m  File \u001b[0;32m\"<ipython-input-13-05ecfa01a5db>\"\u001b[0;36m, line \u001b[0;32m1\u001b[0m\n\u001b[0;31m    tel = {'ethan': 010}\u001b[0m\n\u001b[0m                      ^\u001b[0m\n\u001b[0;31mSyntaxError\u001b[0m\u001b[0;31m:\u001b[0m leading zeros in decimal integer literals are not permitted; use an 0o prefix for octal integers\n"
     ]
    }
   ],
   "source": [
    "tel = {'ethan': 010}"
   ]
  },
  {
   "cell_type": "code",
   "execution_count": 14,
   "metadata": {},
   "outputs": [
    {
     "ename": "SyntaxError",
     "evalue": "invalid syntax (<ipython-input-14-797471aa0af1>, line 1)",
     "output_type": "error",
     "traceback": [
      "\u001b[0;36m  File \u001b[0;32m\"<ipython-input-14-797471aa0af1>\"\u001b[0;36m, line \u001b[0;32m1\u001b[0m\n\u001b[0;31m    tel = {'ethan': 1011112222.d2}\u001b[0m\n\u001b[0m                               ^\u001b[0m\n\u001b[0;31mSyntaxError\u001b[0m\u001b[0;31m:\u001b[0m invalid syntax\n"
     ]
    }
   ],
   "source": [
    "tel = {'ethan': 1011112222.d2}"
   ]
  },
  {
   "cell_type": "code",
   "execution_count": 15,
   "metadata": {},
   "outputs": [
    {
     "name": "stdout",
     "output_type": "stream",
     "text": [
      "dict_keys(['ethan', 'guido', 'chaser'])\n",
      "------------------------------\n",
      "ethan\n",
      "guido\n",
      "chaser\n"
     ]
    }
   ],
   "source": [
    "tel = {'ethan': '1234', 'guido': '1111', 'chaser': '4885'}\n",
    "print(tel.keys())\n",
    "print('-'*30)\n",
    "keys = tel.keys()\n",
    "for key in keys:\n",
    "    print(key)"
   ]
  },
  {
   "cell_type": "code",
   "execution_count": 16,
   "metadata": {},
   "outputs": [
    {
     "name": "stdout",
     "output_type": "stream",
     "text": [
      "dict_keys(['ethan', 'guido', 'chaser'])\n"
     ]
    }
   ],
   "source": [
    "print(keys)"
   ]
  },
  {
   "cell_type": "code",
   "execution_count": 17,
   "metadata": {},
   "outputs": [
    {
     "name": "stdout",
     "output_type": "stream",
     "text": [
      "['ethan', 'guido', 'chaser']\n"
     ]
    }
   ],
   "source": [
    "keys = list(keys)\n",
    "print(keys)"
   ]
  },
  {
   "cell_type": "code",
   "execution_count": 18,
   "metadata": {},
   "outputs": [
    {
     "name": "stdout",
     "output_type": "stream",
     "text": [
      "{1, 2}\n",
      "[1, 2]\n"
     ]
    }
   ],
   "source": [
    "a = [1, 2, 2, 2, 2, 2, 2, 2]\n",
    "a = set(a)\n",
    "print(a)\n",
    "a = list(a)\n",
    "print(a)"
   ]
  },
  {
   "cell_type": "code",
   "execution_count": 6,
   "metadata": {},
   "outputs": [
    {
     "name": "stdout",
     "output_type": "stream",
     "text": [
      "Hello Ethan\n",
      "------------------------------\n",
      "0001\n",
      "0012\n",
      "0123\n",
      "------------------------------\n",
      "3.14\n"
     ]
    }
   ],
   "source": [
    "print('Hello {}'.format('Ethan'))\n",
    "print('-'*30)\n",
    "print('{:04d}'.format(1))\n",
    "print('{:04d}'.format(12))\n",
    "print('{:04d}'.format(123))\n",
    "print('-'*30)\n",
    "print('{:.2f}'.format(3.14159265359))"
   ]
  },
  {
   "cell_type": "code",
   "execution_count": 7,
   "metadata": {},
   "outputs": [
    {
     "name": "stdout",
     "output_type": "stream",
     "text": [
      "Hello Ethan\n",
      "------------------------------\n",
      "0001\n",
      "0012\n",
      "0123\n",
      "------------------------------\n",
      "3.14\n"
     ]
    }
   ],
   "source": [
    "print(f'Hello {\"Ethan\"}')\n",
    "print('-'*30)\n",
    "print(f'{1:04d}')\n",
    "print(f'{12:04d}')\n",
    "print(f'{123:04d}')\n",
    "print('-'*30)\n",
    "print(f'{3.14159265359:.2f}')"
   ]
  },
  {
   "cell_type": "code",
   "execution_count": 11,
   "metadata": {},
   "outputs": [
    {
     "name": "stdout",
     "output_type": "stream",
     "text": [
      "Split result:  ['Apple', ' Banana', ' Cake', ' Donut']\n",
      "Split result:  ['Apple', 'Banana', 'Cake', 'Donut']\n",
      "Split result:  ['Apple', 'Banana', 'Cake', 'Donut']\n",
      "Split & Upper result:  ['APPLE', 'BANANA', 'CAKE', 'DONUT']\n"
     ]
    }
   ],
   "source": [
    "a = \"Apple, Banana, Cake, Donut\"\n",
    "b = a.split(\",\")\n",
    "print('Split result: ', b)\n",
    "c = [c.strip() for c in b]\n",
    "print('Split result: ', c)\n",
    "c = [shala.strip() for shala in b]\n",
    "print('Split result: ', c)\n",
    "c = [c.strip().upper() for c in b]\n",
    "print('Split & Upper result: ', c)"
   ]
  },
  {
   "cell_type": "code",
   "execution_count": 2,
   "metadata": {},
   "outputs": [
    {
     "name": "stdout",
     "output_type": "stream",
     "text": [
      "['3rd', 'apple', 'banana']\n",
      "['3', 'apple']\n"
     ]
    }
   ],
   "source": [
    "a = ['apple', 'banana', '3rd']\n",
    "a.sort()\n",
    "print(a)#스트링끼리는 sort가 되는데\n",
    "b = ['apple', '3'] #이렇게 타입 섞여있으면 sort가 안 된다.\n",
    "b.sort()\n",
    "print(b)"
   ]
  },
  {
   "cell_type": "code",
   "execution_count": 2,
   "metadata": {},
   "outputs": [
    {
     "name": "stdout",
     "output_type": "stream",
     "text": [
      "{1, 2, 3}\n",
      "{2, 3, 4}\n"
     ]
    }
   ],
   "source": [
    "a = {1, 2, 3, 1}\n",
    "print(a)\n",
    "b = {2, 3, 4}\n",
    "print(b)"
   ]
  },
  {
   "cell_type": "code",
   "execution_count": 5,
   "metadata": {},
   "outputs": [
    {
     "name": "stdout",
     "output_type": "stream",
     "text": [
      "Jack's bmi = 27.68\n",
      "John's bmi = 24.69\n"
     ]
    }
   ],
   "source": [
    "def calc_bmi(height, weight):\n",
    "    # 키는 입력받을 때 cm단위로 입력받지만, 계산을 위해 m단위로 변경해줌\n",
    "    height = height * 0.01\n",
    "    return weight / (height**2)\n",
    "\n",
    "person_1_name = 'Jack'\n",
    "person_1_height = 170\n",
    "person_1_weight = 80\n",
    "\n",
    "person_2_name = 'John'\n",
    "person_2_height = 180\n",
    "person_2_weight = 80\n",
    "\n",
    "person_1_bmi = calc_bmi(person_1_height, person_1_weight)\n",
    "person_2_bmi = calc_bmi(person_2_height, person_2_weight)\n",
    "\n",
    "print(\"{}'s bmi = {:.2f}\".format(person_1_name, person_1_bmi))\n",
    "print(\"{}'s bmi = {:.2f}\".format(person_2_name, person_2_bmi))"
   ]
  },
  {
   "cell_type": "code",
   "execution_count": 9,
   "metadata": {},
   "outputs": [
    {
     "name": "stdout",
     "output_type": "stream",
     "text": [
      "Jack's bmi = 27.68\n",
      "John's bmi = 24.69\n"
     ]
    }
   ],
   "source": [
    "class Person:\n",
    "    def __init__(self, name1, height1, weight1):\n",
    "        self.name = name1\n",
    "        self.height = height1\n",
    "        self.weight = weight1\n",
    "    \n",
    "    def bmi(self):\n",
    "        # 키는 입력받을 때 cm단위로 입력받지만, 계산을 위해 m단위로 변경해줌\n",
    "        height = self.height * 0.01\n",
    "        return self.weight / (height ** 2)\n",
    "    \n",
    "    def print_bmi(self):\n",
    "        print(\"{}'s bmi = {:.2f}\".format(self.name, self.bmi()))\n",
    "\n",
    "\n",
    "person_1 = Person('Jack', 170, 80)\n",
    "person_2 = Person('John', 180, 80)\n",
    "\n",
    "person_1.print_bmi()\n",
    "person_2.print_bmi()"
   ]
  },
  {
   "cell_type": "code",
   "execution_count": 12,
   "metadata": {},
   "outputs": [
    {
     "name": "stdout",
     "output_type": "stream",
     "text": [
      "Jack's bmi = 27.68\n",
      "John's bmi = 24.69\n"
     ]
    }
   ],
   "source": [
    "class Person:\n",
    "    def __init__(self, name1, height1, weight1):\n",
    "        self.name = name1\n",
    "        self.height = height1\n",
    "        self.weight = weight1\n",
    "    \n",
    "    def bmi(self):\n",
    "        # 키는 입력받을 때 cm단위로 입력받지만, 계산을 위해 m단위로 변경해줌\n",
    "        height = self.height * 0.01\n",
    "        return self.weight / (height ** 2)\n",
    "    \n",
    "    def print_bmi(self):\n",
    "        print(\"{}'s bmi = {:.2f}\".format(self.name, self.bmi()))\n",
    "\n",
    "\n",
    "person_1 = Person('Jack', 170, 80)\n",
    "person_2 = Person('John', 180, 80)\n",
    "\n",
    "person_1.print_bmi()\n",
    "person_2.print_bmi()"
   ]
  },
  {
   "cell_type": "code",
   "execution_count": 29,
   "metadata": {},
   "outputs": [
    {
     "name": "stdout",
     "output_type": "stream",
     "text": [
      "메서드 <__main__.klass object at 0x7f94a362b640>\n"
     ]
    }
   ],
   "source": [
    "class Klass:\n",
    "    def mhe(self):\n",
    "        print('메서드', self)\n",
    "        \n",
    "klass().mhe()"
   ]
  },
  {
   "cell_type": "code",
   "execution_count": 24,
   "metadata": {},
   "outputs": [
    {
     "name": "stdout",
     "output_type": "stream",
     "text": [
      "저의 이름은 천지이고, 28살 남자입니다.\n",
      "저의 이름은 로지이고, 25살 여자입니다.\n",
      "저의 이름은 태민이고, 28살 남자입니다.\n",
      "저의 이름은 준호이고, 31살 남자입니다.\n"
     ]
    }
   ],
   "source": [
    "class Person:\n",
    "    def __init__(self, a, b, c):\n",
    "        self.name = a\n",
    "        self.age = b\n",
    "        self.sex = c\n",
    "    \n",
    "    def intro(self):\n",
    "        print('저의 이름은 {}이고, {:2d}살 {}입니다.'.format(self.name, self.age, self.sex))\n",
    "\n",
    "p1 = Person('천지', 28, '남자')\n",
    "p2 = Person('로지', 25, '여자')\n",
    "p3 = Person('태민', 28, '남자')\n",
    "p4 = Person('준호', 31, '남자')\n",
    "\n",
    "p1.intro()\n",
    "p2.intro()\n",
    "p3.intro()\n",
    "p4.intro()"
   ]
  },
  {
   "cell_type": "code",
   "execution_count": 26,
   "metadata": {},
   "outputs": [
    {
     "name": "stdout",
     "output_type": "stream",
     "text": [
      "흰밥에 고사리, 계란, 시금치를 섞어 만든 비빔밥이 완성되었습니다!\n"
     ]
    }
   ],
   "source": [
    "class BibimBob:\n",
    "    def __init__(self, rice, j1, j2, j3):\n",
    "        self.rice = rice\n",
    "        self.j1 = j1\n",
    "        self.j2 = j2\n",
    "        self.j3 = j3\n",
    "    def print_all_j(self):\n",
    "        print(f'밥은 {self.rice}!')\n",
    "        print(f'재료1은 {self.j1}!')\n",
    "        print(f'재료2은 {self.j1}!')\n",
    "        print(f'재료3은 {self.j1}!')\n",
    "    def mix(self):\n",
    "        print(f'{self.rice}에 {self.j1}, {self.j2}, {self.j3}를 섞어 만든 비빔밥이 완성되었습니다!')\n",
    "    \n",
    "\n",
    "B = BibimBob('흰밥', '고사리', '계란', '시금치')\n",
    "B.mix()"
   ]
  },
  {
   "cell_type": "code",
   "execution_count": 28,
   "metadata": {},
   "outputs": [
    {
     "name": "stdout",
     "output_type": "stream",
     "text": [
      "출석체크한 사람들 => ['로지', '형식', '시완', '광희']\n"
     ]
    }
   ],
   "source": [
    "class Chulseok:\n",
    "    def __init__(self, saramdul):\n",
    "        self.saramdul = saramdul\n",
    "    def print_saramdul(self):\n",
    "        print(f'출석체크한 사람들 => {self.saramdul}')\n",
    "    \n",
    "c = Chulseok(['로지', '형식', '시완', '광희'])\n",
    "c.print_saramdul()"
   ]
  },
  {
   "cell_type": "code",
   "execution_count": 30,
   "metadata": {},
   "outputs": [
    {
     "name": "stdout",
     "output_type": "stream",
     "text": [
      "30은 15과(와) 2를 곱한 값입니다!\n"
     ]
    }
   ],
   "source": [
    "class multiple:\n",
    "    def __init__(self, n1, n2):\n",
    "        self.n1 = n1\n",
    "        self.n2 = n2\n",
    "    \n",
    "    def mul(self):\n",
    "        return self.n1 * self.n2\n",
    "    \n",
    "    def print_mul(self):\n",
    "        print(f'{self.mul()}은 {self.n1}과(와) {self.n2}를 곱한 값입니다!')\n",
    "\n",
    "a = multiple(15, 2)\n",
    "a.print_mul()"
   ]
  },
  {
   "cell_type": "code",
   "execution_count": 33,
   "metadata": {},
   "outputs": [
    {
     "name": "stdout",
     "output_type": "stream",
     "text": [
      "15은 15과(와) 1를 곱한 값입니다!\n",
      "30은 15과(와) 2를 곱한 값입니다!\n",
      "45은 15과(와) 3를 곱한 값입니다!\n",
      "60은 15과(와) 4를 곱한 값입니다!\n",
      "75은 15과(와) 5를 곱한 값입니다!\n",
      "90은 15과(와) 6를 곱한 값입니다!\n",
      "105은 15과(와) 7를 곱한 값입니다!\n",
      "120은 15과(와) 8를 곱한 값입니다!\n"
     ]
    }
   ],
   "source": [
    "for i in range(1, 9):\n",
    "    m = multiple(15, i)\n",
    "    m.print_mul()"
   ]
  },
  {
   "cell_type": "code",
   "execution_count": 36,
   "metadata": {},
   "outputs": [],
   "source": [
    "class Multiple: \n",
    "    def mul(self, n1, n2):\n",
    "        print(f'{n1*n2} = {n1} * {n2}')\n",
    "        "
   ]
  },
  {
   "cell_type": "code",
   "execution_count": 37,
   "metadata": {},
   "outputs": [
    {
     "name": "stdout",
     "output_type": "stream",
     "text": [
      "30 = 15 * 2\n"
     ]
    }
   ],
   "source": [
    "m = Multiple()\n",
    "m.mul(15, 2)"
   ]
  },
  {
   "cell_type": "code",
   "execution_count": 38,
   "metadata": {},
   "outputs": [
    {
     "name": "stdout",
     "output_type": "stream",
     "text": [
      "15 = 15 * 1\n",
      "30 = 15 * 2\n",
      "45 = 15 * 3\n"
     ]
    }
   ],
   "source": [
    "for i in range(1, 4):\n",
    "    m.mul(15, i)"
   ]
  },
  {
   "cell_type": "code",
   "execution_count": null,
   "metadata": {},
   "outputs": [],
   "source": [
    "import requests\n",
    "from bs4 import BeautifulSoup"
   ]
  }
 ],
 "metadata": {
  "kernelspec": {
   "display_name": "Python 3",
   "language": "python",
   "name": "python3"
  },
  "language_info": {
   "codemirror_mode": {
    "name": "ipython",
    "version": 3
   },
   "file_extension": ".py",
   "mimetype": "text/x-python",
   "name": "python",
   "nbconvert_exporter": "python",
   "pygments_lexer": "ipython3",
   "version": "3.8.3"
  }
 },
 "nbformat": 4,
 "nbformat_minor": 4
}
