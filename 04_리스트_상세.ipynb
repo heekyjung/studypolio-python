{
 "cells": [
  {
   "cell_type": "markdown",
   "metadata": {},
   "source": [
    "# 리스트(List) 상세\n",
    "1. [추가(append)](#1)\n",
    "2. [삽입(insert)](#2)\n",
    "3. [정렬(sort)](#3)\n",
    "4. [리스트로 구현하는 자료구조](#4) (Stack & Queue feat. pop() & popleft()"
   ]
  },
  {
   "cell_type": "markdown",
   "metadata": {},
   "source": [
    "## 1. 추가(`append`)<a name=\"1\"></a>\n",
    "<b>`append()` 함수</b>: 리스트 맨 마지마에 값을 추가"
   ]
  },
  {
   "cell_type": "code",
   "execution_count": 1,
   "metadata": {},
   "outputs": [
    {
     "name": "stdout",
     "output_type": "stream",
     "text": [
      "[1, 2, 3, 4]\n"
     ]
    }
   ],
   "source": [
    "a = [1, 2, 3]\n",
    "a.append(4)\n",
    "print(a)"
   ]
  },
  {
   "cell_type": "markdown",
   "metadata": {},
   "source": [
    "---\n",
    "## 2. 삽입(`insert`)<a name=\"2\"></a>\n",
    "<b>`insert()` 함수</b>: 원하는 위치에 값을 삽입"
   ]
  },
  {
   "cell_type": "code",
   "execution_count": 3,
   "metadata": {},
   "outputs": [
    {
     "name": "stdout",
     "output_type": "stream",
     "text": [
      "[1, 0, 2, 3]\n"
     ]
    }
   ],
   "source": [
    "a = [1, 2, 3]\n",
    "a.insert(1, 0) # (1)리스트의 index=1의 위치에 (2) 0이라는 값을 삽입\n",
    "print(a)"
   ]
  },
  {
   "cell_type": "markdown",
   "metadata": {},
   "source": [
    "---\n",
    "## 3. 정렬(`sort`)<a name=\"3\"></a>\n",
    "<b>`sort()` 함수</b>: 순서대로 정렬"
   ]
  },
  {
   "cell_type": "code",
   "execution_count": 4,
   "metadata": {},
   "outputs": [
    {
     "name": "stdout",
     "output_type": "stream",
     "text": [
      "오름차순 정렬: [1, 2, 3, 4, 5, 6]\n",
      "------------------------------\n",
      "내림차순 정렬: [6, 5, 4, 3, 2, 1]\n"
     ]
    }
   ],
   "source": [
    "a = [1, 4, 2, 6, 5, 3]\n",
    "a.sort()\n",
    "print(f\"오름차순 정렬: {a}\")\n",
    "\n",
    "print(\"-\"*30)\n",
    "a.sort(reverse=True)\n",
    "print(f\"내림차순 정렬: {a}\")"
   ]
  },
  {
   "cell_type": "markdown",
   "metadata": {},
   "source": [
    "---\n",
    "## 4. 리스트로 구현하는 자료구조<a name=\"4\"></a><br>(Stack & Queue feat. `pop()` & `popleft()`)\n",
    "\n",
    "### (1) Stack(스택)\n",
    "- FILO(First In, Last Out 구조): 가장 처음 들어간 건 가장 나중에 나올 수 있는 구조\n",
    "- 리스트의 `append()`와 `pop()` 함수를 사용하면 스택 구조를 구현 가능"
   ]
  },
  {
   "cell_type": "code",
   "execution_count": 8,
   "metadata": {},
   "outputs": [
    {
     "name": "stdout",
     "output_type": "stream",
     "text": [
      "[1, 2, 3]\n",
      "[1, 2]\n",
      "[1]\n",
      "[]\n"
     ]
    }
   ],
   "source": [
    "a = []\n",
    "a.append(1)\n",
    "a.append(2)\n",
    "a.append(3)\n",
    "print(a)\n",
    "\n",
    "a.pop()\n",
    "print(a)\n",
    "\n",
    "a.pop()\n",
    "print(a)\n",
    "\n",
    "a.pop()\n",
    "print(a)"
   ]
  },
  {
   "cell_type": "markdown",
   "metadata": {},
   "source": [
    "### (2) Queue(큐)\n",
    "- FIFO(First In, First Out 구조): 맨 처음 들어간 것이 가장 처음 나오는 구조\n",
    "- 리스트의 `insert()`와 `pop()` 함수로 큐 형태를 구현 가능\n",
    " - 하지만 이 방식은 `append()`와 `pop()`으로 스택을 만드는 구조와 달리 느리게 동작하므로, 이럴 때에는 파이썬에서 준비해둔 모듈을 사용해 구현하면 된다.\n",
    " - `collections.deque`의 `append()`와 `popleft()` 함수로 큐 구조를 구현할 수 있다."
   ]
  },
  {
   "cell_type": "code",
   "execution_count": 9,
   "metadata": {},
   "outputs": [
    {
     "name": "stdout",
     "output_type": "stream",
     "text": [
      "deque([1, 2, 3])\n",
      "------------------------------\n"
     ]
    }
   ],
   "source": [
    "from collections import deque\n",
    "queue = deque([1, 2, 3])\n",
    "print(queue)\n",
    "print(\"-\"*30)\n",
    "\n",
    "queue = deque([])\n",
    "queue.append(1)"
   ]
  },
  {
   "cell_type": "code",
   "execution_count": null,
   "metadata": {},
   "outputs": [],
   "source": []
  }
 ],
 "metadata": {
  "kernelspec": {
   "display_name": "Python 3",
   "language": "python",
   "name": "python3"
  },
  "language_info": {
   "codemirror_mode": {
    "name": "ipython",
    "version": 3
   },
   "file_extension": ".py",
   "mimetype": "text/x-python",
   "name": "python",
   "nbconvert_exporter": "python",
   "pygments_lexer": "ipython3",
   "version": "3.8.3"
  }
 },
 "nbformat": 4,
 "nbformat_minor": 4
}
