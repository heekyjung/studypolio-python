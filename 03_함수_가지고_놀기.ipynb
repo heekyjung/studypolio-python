{
 "cells": [
  {
   "cell_type": "markdown",
   "metadata": {},
   "source": [
    "# 함수 가지고 놀기\n",
    "1. [온도 변환 함수 만들기](#1)\n",
    "2. [함수의 호출](#2)\n",
    "3. [Jupyter Notebook](#3)\n",
    "4. [여러 개의 인풋과 아웃풋이 있는 함수](#4)\n",
    "5. [함수 인풋(매개변수)에 기본값 설정하기](#5)\n",
    "6. [함수 설명 적기](#6)"
   ]
  },
  {
   "cell_type": "markdown",
   "metadata": {},
   "source": [
    "## 1. 온도 변환 함수 만들기<a name=\"1\"></a>\n",
    "#### 섭씨, 화씨 사이의 공식\n",
    "```python\n",
    "(0°C * 9/5) + 32 = 32°F\n",
    "```"
   ]
  },
  {
   "cell_type": "code",
   "execution_count": 1,
   "metadata": {},
   "outputs": [],
   "source": [
    "# 섭씨 온도를 화씨 온도로 변환하는 함수\n",
    "def convert_temp(c):\n",
    "    return (c * 9/5) + 32"
   ]
  },
  {
   "cell_type": "markdown",
   "metadata": {},
   "source": [
    "---\n",
    "## 2. 함수의 호출<a name=\"2\"></a>\n",
    "만든 함수는 함수명(인풋) 형태로 호출해서 사용한다."
   ]
  },
  {
   "cell_type": "code",
   "execution_count": 2,
   "metadata": {},
   "outputs": [
    {
     "data": {
      "text/plain": [
       "32.0"
      ]
     },
     "execution_count": 2,
     "metadata": {},
     "output_type": "execute_result"
    }
   ],
   "source": [
    "convert_temp(0)"
   ]
  },
  {
   "cell_type": "code",
   "execution_count": 3,
   "metadata": {},
   "outputs": [
    {
     "data": {
      "text/plain": [
       "84.2"
      ]
     },
     "execution_count": 3,
     "metadata": {},
     "output_type": "execute_result"
    }
   ],
   "source": [
    "convert_temp(29)"
   ]
  },
  {
   "cell_type": "markdown",
   "metadata": {},
   "source": [
    "---\n",
    "## 3. Jupyter Notebook<a name=\"3\"></a>"
   ]
  },
  {
   "cell_type": "code",
   "execution_count": 4,
   "metadata": {},
   "outputs": [
    {
     "name": "stdout",
     "output_type": "stream",
     "text": [
      "--------------------------------------------------\n",
      "86.0\n"
     ]
    }
   ],
   "source": [
    "convert_temp(30) # 결과 값은 계산해서 리턴했지만 출력해주지 않으므로 표기되지 않는다.\n",
    "print(\"-\"*50)\n",
    "print(convert_temp(30)) # 출력(print)해주었으므로 실행시키면 결과값을 볼 수 있다."
   ]
  },
  {
   "cell_type": "markdown",
   "metadata": {},
   "source": [
    "---\n",
    "## 4. 여러 개의 인풋과 아웃풋이 있는 함수<a name=\"4\"></a>\n",
    "### (1) 더하기를 함수로 만들면"
   ]
  },
  {
   "cell_type": "code",
   "execution_count": 5,
   "metadata": {},
   "outputs": [],
   "source": [
    "# 두 수를 더하는 함수\n",
    "def add(a, b):\n",
    "    return a+b"
   ]
  },
  {
   "cell_type": "markdown",
   "metadata": {},
   "source": [
    "### (2) 곱하기를 함수로 만들면"
   ]
  },
  {
   "cell_type": "code",
   "execution_count": 6,
   "metadata": {},
   "outputs": [],
   "source": [
    "# 두 수를 곱하는 함수\n",
    "def mul(a, b):\n",
    "    return a*b"
   ]
  },
  {
   "cell_type": "markdown",
   "metadata": {},
   "source": [
    "### (3) `add` 함수와 `mul` 함수 합치기"
   ]
  },
  {
   "cell_type": "code",
   "execution_count": 7,
   "metadata": {},
   "outputs": [
    {
     "name": "stdout",
     "output_type": "stream",
     "text": [
      "--------------------------------------------------\n",
      "(8, 15)\n"
     ]
    }
   ],
   "source": [
    "# 두 수를 더한 값과 곱한 값을 같이 리턴하는 함수\n",
    "def add_and_mul(a, b):\n",
    "    return add(a, b), mul(a, b)\n",
    "\n",
    "print(\"-\"*50)\n",
    "print(add_and_mul(3, 5))"
   ]
  },
  {
   "cell_type": "markdown",
   "metadata": {},
   "source": [
    "↑ 튜플 형태로 출력됨"
   ]
  },
  {
   "cell_type": "markdown",
   "metadata": {},
   "source": [
    "---\n",
    "## 5. 함수 인풋(매개변수)에 기본값 설정하기<a name=\"5\"></a>\n",
    "- 함수의 인풋(매개변수)에는 디폴트값을 설정할 수 있다.\n",
    "- 기본값으로 설정한 위치에 값이 없다면 디폴트값이 함수 내에서 사용된다."
   ]
  },
  {
   "cell_type": "code",
   "execution_count": 8,
   "metadata": {
    "scrolled": true
   },
   "outputs": [
    {
     "name": "stdout",
     "output_type": "stream",
     "text": [
      "(3, 0)\n"
     ]
    }
   ],
   "source": [
    "# 두 수를 더한 값과 곱한 값을 같이 리턴하는 함수\n",
    "def add_and_mul(a, b=0):\n",
    "    return add(a, b), mul(a, b)\n",
    "\n",
    "print(add_and_mul(3))"
   ]
  },
  {
   "cell_type": "markdown",
   "metadata": {},
   "source": [
    "---\n",
    "## 6. 함수 설명 적기<a name=\"6\"></a>"
   ]
  },
  {
   "cell_type": "code",
   "execution_count": 9,
   "metadata": {},
   "outputs": [
    {
     "name": "stdout",
     "output_type": "stream",
     "text": [
      "['APPLE', 'BANANA', 'CAKE', 'DONUT']\n"
     ]
    }
   ],
   "source": [
    "a = \"Apple, Banana, Cake, Donut\"\n",
    "b = a.split(\",\")\n",
    "\n",
    "c = [c.strip().upper() for c in b] # List Comprehension\n",
    "print(c)"
   ]
  },
  {
   "cell_type": "code",
   "execution_count": 10,
   "metadata": {},
   "outputs": [],
   "source": [
    "def strip_and_upper(string_list): # 함수 형태로 표현\n",
    "    \"\"\"\n",
    "    문자열 리스트 안의 모든 원소들의 공백을 제거하고 대문자로 변환하는 함수\n",
    "    \"\"\"\n",
    "    result = []\n",
    "    for string in string_list:\n",
    "        result += [string.strip().upper()]\n",
    "        \n",
    "    return result"
   ]
  },
  {
   "cell_type": "markdown",
   "metadata": {},
   "source": [
    "```python\n",
    "\"\"\"\n",
    "주석이기도 하지만,\n",
    "함수가 시작하는 부분에 작성하면 내장함수 help()를 통해 나타나는 함수의 설명이 됨\n",
    "\"\"\"\n",
    "```"
   ]
  },
  {
   "cell_type": "code",
   "execution_count": 11,
   "metadata": {},
   "outputs": [
    {
     "name": "stdout",
     "output_type": "stream",
     "text": [
      "Help on function strip_and_upper in module __main__:\n",
      "\n",
      "strip_and_upper(string_list)\n",
      "    문자열 리스트 안의 모든 원소들의 공백을 제거하고 대문자로 변환하는 함수\n",
      "\n"
     ]
    }
   ],
   "source": [
    "help(strip_and_upper)"
   ]
  },
  {
   "cell_type": "code",
   "execution_count": 12,
   "metadata": {},
   "outputs": [
    {
     "data": {
      "text/plain": [
       "['APPLE', 'BANANA', 'CAKE', 'DONUT']"
      ]
     },
     "execution_count": 12,
     "metadata": {},
     "output_type": "execute_result"
    }
   ],
   "source": [
    "strip_and_upper(b)"
   ]
  }
 ],
 "metadata": {
  "kernelspec": {
   "display_name": "Python 3",
   "language": "python",
   "name": "python3"
  },
  "language_info": {
   "codemirror_mode": {
    "name": "ipython",
    "version": 3
   },
   "file_extension": ".py",
   "mimetype": "text/x-python",
   "name": "python",
   "nbconvert_exporter": "python",
   "pygments_lexer": "ipython3",
   "version": "3.8.3"
  }
 },
 "nbformat": 4,
 "nbformat_minor": 4
}
